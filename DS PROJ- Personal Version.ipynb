{
  "nbformat": 4,
  "nbformat_minor": 0,
  "metadata": {
    "colab": {
      "name": "DS PROJ.ipynb",
      "version": "0.3.2",
      "provenance": [],
      "toc_visible": true,
      "include_colab_link": true
    },
    "kernelspec": {
      "name": "python3",
      "display_name": "Python 3"
    },
    "accelerator": "TPU"
  },
  "cells": [
    {
      "cell_type": "markdown",
      "metadata": {
        "id": "view-in-github",
        "colab_type": "text"
      },
      "source": [
        "<a href=\"https://colab.research.google.com/github/nchaudh03/AML-HCDR/blob/master/DS%20PROJ-%20Personal%20Version.ipynb\" target=\"_parent\"><img src=\"https://colab.research.google.com/assets/colab-badge.svg\" alt=\"Open In Colab\"/></a>"
      ]
    },
    {
      "metadata": {
        "ExecuteTime": {
          "end_time": "2019-04-03T21:30:55.658692Z",
          "start_time": "2019-04-03T21:30:49.483581Z"
        },
        "id": "E9WKlA7z0IxJ",
        "colab_type": "code",
        "colab": {}
      },
      "cell_type": "code",
      "source": [
        "import pandas as pd\n",
        "import os\n",
        "from sklearn.compose import ColumnTransformer\n",
        "from sklearn.pipeline import Pipeline, FeatureUnion, _fit_transform_one, _transform_one\n",
        "from sklearn.preprocessing import OneHotEncoder, Imputer,StandardScaler\n",
        "from sklearn.linear_model import LogisticRegression\n",
        "from sklearn.decomposition import PCA\n",
        "from sklearn.impute import SimpleImputer\n",
        "from sklearn.base import TransformerMixin\n",
        "from sklearn.externals.joblib import Parallel, delayed\n",
        "from sklearn.model_selection import train_test_split\n",
        "from sklearn.ensemble import RandomForestClassifier\n",
        "from scipy import sparse\n",
        "import numpy as np\n",
        "import matplotlib.pyplot as plt\n",
        "from sklearn.metrics import roc_curve, auc, roc_auc_score\n",
        "from sklearn.feature_selection import SelectFromModel\n",
        "from sklearn.svm import LinearSVC\n",
        "from sklearn.ensemble import RandomForestClassifier\n",
        "\n",
        "\n",
        "\n",
        "#os.chdir(r'C:\\Users\\naimesh.chaudhari\\Downloads')\n",
        "#df  = pd.read_csv('previous_application.csv')"
      ],
      "execution_count": 0,
      "outputs": []
    },
    {
      "metadata": {
        "id": "GakPWTW00TCZ",
        "colab_type": "code",
        "outputId": "ae3e83e8-d83b-485b-9d13-32bb33be7b0a",
        "colab": {
          "base_uri": "https://localhost:8080/",
          "height": 122
        }
      },
      "cell_type": "code",
      "source": [
        "from google.colab import drive\n",
        "drive.mount('/content/drive')\n"
      ],
      "execution_count": 0,
      "outputs": [
        {
          "output_type": "stream",
          "text": [
            "Go to this URL in a browser: https://accounts.google.com/o/oauth2/auth?client_id=947318989803-6bn6qk8qdgf4n4g3pfee6491hc0brc4i.apps.googleusercontent.com&redirect_uri=urn%3Aietf%3Awg%3Aoauth%3A2.0%3Aoob&scope=email%20https%3A%2F%2Fwww.googleapis.com%2Fauth%2Fdocs.test%20https%3A%2F%2Fwww.googleapis.com%2Fauth%2Fdrive%20https%3A%2F%2Fwww.googleapis.com%2Fauth%2Fdrive.photos.readonly%20https%3A%2F%2Fwww.googleapis.com%2Fauth%2Fpeopleapi.readonly&response_type=code\n",
            "\n",
            "Enter your authorization code:\n",
            "··········\n",
            "Mounted at /content/drive\n"
          ],
          "name": "stdout"
        }
      ]
    },
    {
      "metadata": {
        "id": "oii2S8FS7Rmd",
        "colab_type": "code",
        "colab": {}
      },
      "cell_type": "code",
      "source": [
        "def Setupkaggle():\n",
        "  #Kaggle Setup for Google Drive\n",
        "  !mkdir .kaggle\n",
        "  with open(r'/content/drive/My Drive/kaggle.json') as file:\n",
        "    data = json.load(file)\n",
        "  with open('/content/.kaggle/kaggle.json', 'w') as file:\n",
        "      json.dump(data, file)\n",
        "  !chmod 600 /content/.kaggle/kaggle.json\n",
        "  !cp /content/.kaggle/kaggle.json ~/.kaggle/kaggle.json"
      ],
      "execution_count": 0,
      "outputs": []
    },
    {
      "metadata": {
        "ExecuteTime": {
          "end_time": "2019-04-03T22:21:06.877860Z",
          "start_time": "2019-04-03T22:21:06.854828Z"
        },
        "id": "Le1uclEI0IxM",
        "colab_type": "code",
        "colab": {}
      },
      "cell_type": "code",
      "source": [
        "class ColumnExtractor(TransformerMixin):\n",
        "    def __init__(self, typ = \"num\",group = \"\" ):\n",
        "        self.typ = typ\n",
        "        self.group = group\n",
        "    def fit(self, X, y=None):\n",
        "        return self\n",
        "    def transform (self,X):\n",
        "        cat  = []\n",
        "        num = []\n",
        "        Xs  = X\n",
        "        for col in X.columns:\n",
        "            if Xs[col].dtypes == 'object':\n",
        "                cat.append(col)\n",
        "            else:\n",
        "                num.append(col)\n",
        "        if self.group != \"\":\n",
        "            if self.group in num:\n",
        "                cat.append(self.group)\n",
        "            else:\n",
        "                num.append(self.group)\n",
        "        if self.typ == 'num':\n",
        "            final = Xs[num]\n",
        "        else:\n",
        "            final = Xs[cat]\n",
        "        return final\n",
        "    "
      ],
      "execution_count": 0,
      "outputs": []
    },
    {
      "metadata": {
        "ExecuteTime": {
          "end_time": "2019-04-03T21:31:00.488857Z",
          "start_time": "2019-04-03T21:31:00.475798Z"
        },
        "id": "SaV3gtNr0IxN",
        "colab_type": "code",
        "colab": {}
      },
      "cell_type": "code",
      "source": [
        "class NumericAggeregator(TransformerMixin):\n",
        "    def __init__(self,group=\"\",drop=\"\"):\n",
        "        self.group = group\n",
        "        self.drop = drop\n",
        "    def fit(self, X, y=None):\n",
        "        return self\n",
        "    def transform(self, X):\n",
        "        Xs = X\n",
        "        for tst in self.drop:\n",
        "          if tst in Xs.columns:\n",
        "            Xs = Xs.drop(tst,axis = 1)\n",
        "        Xs = Xs.groupby(self.group).agg([np.sum, np.mean,max,min,count])  \n",
        "        Xs.columns = Xs.columns.map('_'.join)\n",
        "        return Xs\n",
        "   "
      ],
      "execution_count": 0,
      "outputs": []
    },
    {
      "metadata": {
        "ExecuteTime": {
          "end_time": "2019-04-03T21:31:02.138071Z",
          "start_time": "2019-04-03T21:31:02.127041Z"
        },
        "id": "_3gixvKg0IxP",
        "colab_type": "code",
        "colab": {}
      },
      "cell_type": "code",
      "source": [
        "#might need an encoder class before an aggeregator class\n",
        "class CatAggeregator(TransformerMixin):\n",
        "    def __init__(self, group=\"\",drop=\"\"):\n",
        "        self.group = group\n",
        "        self.drop = drop\n",
        "    def fit(self, X, y=None):\n",
        "        return self\n",
        "    def transform(self, X):\n",
        "        Xs  = X\n",
        "        for tst in self.drop:\n",
        "          if tst in Xs.columns:\n",
        "            Xs = Xs.drop(tst,axis = 1)\n",
        "        Xs = Xs.groupby(self.group).agg([np.mean])  \n",
        "        Xs.columns = Xs.columns.map('_'.join)\n",
        "        return Xs"
      ],
      "execution_count": 0,
      "outputs": []
    },
    {
      "metadata": {
        "ExecuteTime": {
          "end_time": "2019-04-03T21:31:03.786160Z",
          "start_time": "2019-04-03T21:31:03.747886Z"
        },
        "id": "ZpxLwH-d0IxQ",
        "colab_type": "code",
        "colab": {}
      },
      "cell_type": "code",
      "source": [
        "\n",
        "class PandasFeatureUnion(FeatureUnion):\n",
        "    def fit_transform(self, X, y=None, **fit_params):\n",
        "        self._validate_transformers()\n",
        "        result = Parallel(n_jobs=self.n_jobs)(\n",
        "            delayed(_fit_transform_one)(\n",
        "                transformer=trans,\n",
        "                X=X,\n",
        "                y=y,\n",
        "                weight=weight,\n",
        "                **fit_params)\n",
        "            for name, trans, weight in self._iter())\n",
        "\n",
        "        if not result:\n",
        "            # All transformers are None\n",
        "            return np.zeros((X.shape[0], 0))\n",
        "        Xs, transformers = zip(*result)\n",
        "        self._update_transformer_list(transformers)\n",
        "        if any(sparse.issparse(f) for f in Xs):\n",
        "            Xs = sparse.hstack(Xs).tocsr()\n",
        "        else:\n",
        "            Xs = self.merge_dataframes_by_column(Xs)\n",
        "        return Xs\n",
        "\n",
        "    def merge_dataframes_by_column(self, Xs):\n",
        "        return pd.concat(Xs, axis=\"columns\", copy=False)\n",
        "\n",
        "    def transform(self, X):\n",
        "        Xs = Parallel(n_jobs=self.n_jobs)(\n",
        "            delayed(_transform_one)(\n",
        "                transformer=trans,\n",
        "                X=X,\n",
        "                y=None,\n",
        "                weight=weight)\n",
        "            for name, trans, weight in self._iter())\n",
        "        if not Xs:\n",
        "            # All transformers are None\n",
        "            return np.zeros((X.shape[0], 0))\n",
        "        if any(sparse.issparse(f) for f in Xs):\n",
        "            Xs = sparse.hstack(Xs).tocsr()\n",
        "        else:\n",
        "            Xs = self.merge_dataframes_by_column(Xs)\n",
        "        return Xs"
      ],
      "execution_count": 0,
      "outputs": []
    },
    {
      "metadata": {
        "ExecuteTime": {
          "end_time": "2019-04-03T21:31:05.392564Z",
          "start_time": "2019-04-03T21:31:05.376500Z"
        },
        "id": "xV62uqfd0IxS",
        "colab_type": "code",
        "colab": {}
      },
      "cell_type": "code",
      "source": [
        "class dfSimpleImputer(TransformerMixin):\n",
        "    def __init__(self, missing_values=np.nan,strategy='constant'):\n",
        "        self.missing_values = missing_values\n",
        "        self.strategy  = strategy\n",
        "    def fit(self, X):\n",
        "        self.imp = SimpleImputer(missing_values=np.nan, strategy='constant').fit(X)\n",
        "        return self\n",
        "    def transform(self , X):\n",
        "        dat = self.imp.transform(X)\n",
        "        final = pd.DataFrame(dat, columns = X.columns)\n",
        "        return final\n",
        "    def fit_transform(self, X, y= None):\n",
        "        self.imp = SimpleImputer(missing_values=np.nan, strategy='constant').fit(X)\n",
        "        dat = self.imp.transform(X)\n",
        "        final = pd.DataFrame(dat, columns = X.columns)\n",
        "        return final\n",
        "        "
      ],
      "execution_count": 0,
      "outputs": []
    },
    {
      "metadata": {
        "ExecuteTime": {
          "end_time": "2019-04-03T22:14:19.301717Z",
          "start_time": "2019-04-03T22:14:19.287672Z"
        },
        "id": "g--5q9HL0IxT",
        "colab_type": "code",
        "colab": {}
      },
      "cell_type": "code",
      "source": [
        "class dfOneHotEncoder(TransformerMixin):\n",
        "    def __init__(self, key = \"\", ind = \"\"):\n",
        "        self.key = key\n",
        "        self.ind = ind\n",
        "    def fit(self, X):\n",
        "        if self.key != \"\":\n",
        "          self.ind = X[self.key]\n",
        "          X.drop(self.key, inplace = True, axis = 1)\n",
        "        self.imp = OneHotEncoder(handle_unknown = 'ignore').fit(X)\n",
        "        return self\n",
        "    \n",
        "    def transform(self , X):\n",
        "        if self.key != \"\":\n",
        "          self.ind = X[self.key]\n",
        "          X.drop(self.key, inplace = True, axis = 1)\n",
        "        dat = self.imp.transform(X).toarray()\n",
        "        final = pd.DataFrame(dat, columns = self.imp.get_feature_names())\n",
        "        if self.key != \"\":\n",
        "          final[self.key] = self.ind\n",
        "        return final\n",
        "    \n",
        "    def fit_transform(self, X, y= None ):\n",
        "        if self.key != \"\":\n",
        "          self.ind = X[self.key]\n",
        "          X.drop(self.key, inplace = True, axis = 1)\n",
        "        self.imp = OneHotEncoder(handle_unknown = 'ignore').fit(X)\n",
        "        dat = self.imp.transform(X).toarray()\n",
        "        final = pd.DataFrame(dat, columns = self.imp.get_feature_names())\n",
        "        if self.key != \"\":\n",
        "          final[self.key] = self.ind\n",
        "        return final\n",
        "        "
      ],
      "execution_count": 0,
      "outputs": []
    },
    {
      "metadata": {
        "id": "p_rVzA70eI4Q",
        "colab_type": "code",
        "colab": {}
      },
      "cell_type": "code",
      "source": [
        "class dfStandardScaler(TransformerMixin):\n",
        "    def fit(self, X, y=None):\n",
        "        self.imp = StandardScaler().fit(X)\n",
        "        return self\n",
        "    def transform(self, X):\n",
        "        dat = self.imp.transform(X)\n",
        "        final = pd.DataFrame(dat, columns = X.columns)\n",
        "        return final\n",
        "    def fit_transform(self, X, y=None):\n",
        "        self.imp = StandardScaler().fit(X)\n",
        "        dat = self.imp.transform(X)\n",
        "        final = pd.DataFrame(dat, columns = X.columns, index = X.index)\n",
        "        return final"
      ],
      "execution_count": 0,
      "outputs": []
    },
    {
      "metadata": {
        "id": "0fGPCFUMdhJA",
        "colab_type": "code",
        "colab": {}
      },
      "cell_type": "code",
      "source": [
        "def Agg_Pipe(filename = \"\", grp = \"\", drp = \"\"):\n",
        "  fl = pd.read_csv(r'/content/drive/My Drive/HCDR Project/' + filename)\n",
        "  Npipe = Pipeline([('cl,', ColumnExtractor(typ  = 'num',group = grp)),\n",
        "                          ('imp',dfSimpleImputer(missing_values=np.nan, strategy='constant')),\n",
        "                          ('agg', NumericAggeregator(group = grp,drop = drp)),\n",
        "                          ('scl',dfStandardScaler())])\n",
        "  \n",
        "  \n",
        "  if filename != 'installments_payments.csv':\n",
        "    \n",
        "    Cpipe = Pipeline([('cl,', ColumnExtractor(typ  = 'cat', group =grp )),\n",
        "                            ('imp',dfSimpleImputer(missing_values=np.nan, strategy='constant')),\n",
        "                            ('encode', dfOneHotEncoder(key =grp )),\n",
        "                            ('agg', CatAggeregator(group = grp, drop = drp))])\n",
        "    combined_features = PandasFeatureUnion([(\"num\", Npipe),\n",
        "                                                 (\"cat\", Cpipe)])\n",
        "\n",
        "    data = combined_features.fit_transform(fl)\n",
        "    data[grp] = data.index\n",
        "  \n",
        "  \n",
        "  else :\n",
        "    combined_features = PandasFeatureUnion([(\"num\", Npipe)])\n",
        "    data = combined_features.fit_transform(fl)\n",
        "    data[grp] = data.index\n",
        "  \n",
        "  \n",
        "  return data\n",
        "\n",
        "\n",
        "\n"
      ],
      "execution_count": 0,
      "outputs": []
    },
    {
      "metadata": {
        "id": "oXLPn74udzsB",
        "colab_type": "code",
        "colab": {}
      },
      "cell_type": "code",
      "source": [
        "def combineSuppoutFiles():\n",
        "  pos = Agg_Pipe('POS_CASH_balance.csv',grp = 'SK_ID_CURR',drp = ['SK_ID_PREV'])\n",
        "  Pv = Agg_Pipe('previous_application.csv',grp = 'SK_ID_CURR',drp = ['SK_ID_PREV'])\n",
        "  cc = Agg_Pipe('credit_card_balance.csv',grp= 'SK_ID_CURR',drp= ['SK_ID_PREV'])\n",
        "  ip = Agg_Pipe('installments_payments.csv',grp= 'SK_ID_CURR',drp = ['SK_ID_PREV'])\n",
        "  bu = Agg_Pipe('bureau.csv',grp = 'SK_ID_CURR',drp= ['SK_ID_BUREAU','SK_ID_PREV'])\n",
        "\n",
        "  ctr = 1\n",
        "  filetojoin = [pos ,Pv,cc,ip,bu]\n",
        "  for f in filetojoin:\n",
        "    if ctr == 1:\n",
        "      final = pos\n",
        "    else:\n",
        "      final = final.merge(f, how = 'left', on = 'SK_ID_CURR')\n",
        "    ctr += 1\n",
        "\n",
        "\n",
        "  final.fillna(0,inplace = True)\n",
        "  return final"
      ],
      "execution_count": 0,
      "outputs": []
    },
    {
      "metadata": {
        "id": "9nYY_MhzY1F5",
        "colab_type": "code",
        "colab": {}
      },
      "cell_type": "code",
      "source": [
        "def submission(model , final, combined_features):\n",
        "  #Sub pipeline\n",
        "    test = pd.read_csv(r'/content/drive/My Drive/HCDR Project/application_test.csv')\n",
        "    test_ids = test['SK_ID_CURR']\n",
        "    test.drop(['SK_ID_CURR'], inplace = True, axis = 1)\n",
        "    tst = combined_features.transform(test)\n",
        "    tst['SK_ID_CURR'] = test_ids\n",
        "    #merging final\n",
        "    tst = tst.merge(final, how  = 'left', on = 'SK_ID_CURR')\n",
        "    tst.drop(['SK_ID_CURR'], axis = 1, inplace = True)\n",
        "    tst.fillna(0, inplace = True)\n",
        "    pred = model.predict_proba(tst)[:,1]\n",
        "    sub = pd.DataFrame(test_ids)\n",
        "    sub['TARGET'] = pred\n",
        "    sub.columns = ['SK_ID_CURR','TARGET']\n",
        "    sub.to_csv('submission.csv', index = False)\n",
        "\n",
        "  \n",
        "#submission(model, final,combined_features )\n",
        "#!kaggle competitions submit -c home-credit-default-risk -f submission.csv -m \"Logistic Weighted\"\n",
        "#!kaggle competitions submissions home-credit-default-risk  \n",
        "\n",
        "\n",
        "\n",
        "def roc(pred, y):\n",
        "  fpr, tpr,_=roc_curve(pred,y,drop_intermediate=False)\n",
        "  plt.figure()\n",
        "  plt.plot(fpr, tpr, color='red', lw=2, label='ROC curve')\n",
        "  plt.plot([0, 1], [0, 1], color='blue', lw=2, linestyle='--')\n",
        "  plt.xlabel('FPR')\n",
        "  plt.ylabel('TPR')\n",
        "  plt.title('ROC curve')\n",
        "  plt.show()\n",
        "  roc_auc_score(pred,y)\n",
        "  "
      ],
      "execution_count": 0,
      "outputs": []
    },
    {
      "metadata": {
        "id": "Zaw6MHiCZ_GH",
        "colab_type": "code",
        "colab": {}
      },
      "cell_type": "code",
      "source": [
        ""
      ],
      "execution_count": 0,
      "outputs": []
    },
    {
      "metadata": {
        "id": "SsXxGoz_Dogr",
        "colab_type": "code",
        "colab": {}
      },
      "cell_type": "code",
      "source": [
        "#train pipeline\n",
        "\n",
        "Npipe_prevapp = Pipeline([('cl,', ColumnExtractor(typ  = 'num',group ='')),\n",
        "                          ('imp',dfSimpleImputer(missing_values=np.nan, strategy='constant')),\n",
        "                          ('scl',dfStandardScaler())])\n",
        "\n",
        "\n",
        "\n",
        "Cpipe_prevapp = Pipeline([('cl,', ColumnExtractor(typ  = 'cat', group ='' )),\n",
        "                          ('imp',dfSimpleImputer(missing_values=np.nan, strategy='constant')),\n",
        "                          ('encode', dfOneHotEncoder())])\n",
        "\n",
        "\n",
        "combined_features = PandasFeatureUnion([(\"num\", Npipe_prevapp),\n",
        "                                        (\"cat\", Cpipe_prevapp)])\n"
      ],
      "execution_count": 0,
      "outputs": []
    },
    {
      "metadata": {
        "id": "kafJ38cUVzt8",
        "colab_type": "code",
        "colab": {}
      },
      "cell_type": "code",
      "source": [
        "#train pipeline\n",
        "final = combineSuppoutFiles()\n",
        "train = pd.read_csv(r'/content/drive/My Drive/HCDR Project/application_train.csv')\n",
        "Y = train['TARGET']\n",
        "\n",
        "train, test, Y, test_y = train_test_split(train, Y, test_size=0.33, random_state=42,stratify=Y)\n",
        "\n",
        "\n",
        "\n",
        "train_ids = train['SK_ID_CURR']\n",
        "train.drop(['TARGET','SK_ID_CURR'], inplace = True, axis = 1)\n",
        "\n",
        "train = combined_features.fit_transform(train)\n",
        "\n",
        "train['SK_ID_CURR'] = train_ids\n",
        "\n",
        "#merging app prev \n",
        "train = train.merge(final, how  = 'left', on = 'SK_ID_CURR')\n",
        "train.drop(['SK_ID_CURR'], axis = 1, inplace = True)\n",
        "train.fillna(0, inplace = True)\n"
      ],
      "execution_count": 0,
      "outputs": []
    },
    {
      "metadata": {
        "id": "_ybgShkbAR74",
        "colab_type": "code",
        "outputId": "3a5c8324-b9c0-4ff8-b715-c411518e3af3",
        "colab": {
          "base_uri": "https://localhost:8080/",
          "height": 34
        }
      },
      "cell_type": "code",
      "source": [
        "#test pipeline\n",
        "#test = pd.read_csv(r'/content/drive/My Drive/HCDR Project/application_test.csv')\n",
        "#test_y\n",
        "test_ids = test['SK_ID_CURR']\n",
        "test.drop(['SK_ID_CURR','TARGET'], inplace = True, axis = 1)\n",
        "test = combined_features.transform(test)\n",
        "test['SK_ID_CURR'] = test_ids\n",
        "test = test.merge(final, how  = 'left', on = 'SK_ID_CURR')\n",
        "test.drop(['SK_ID_CURR'], axis = 1, inplace = True)\n",
        "test.fillna(0, inplace = True)\n",
        "test.shape"
      ],
      "execution_count": 0,
      "outputs": [
        {
          "output_type": "execute_result",
          "data": {
            "text/plain": [
              "(101479, 682)"
            ]
          },
          "metadata": {
            "tags": []
          },
          "execution_count": 16
        }
      ]
    },
    {
      "metadata": {
        "id": "ZaeuMNL70OHX",
        "colab_type": "code",
        "outputId": "88dcca68-7994-4501-95a7-cd8faf1b3d67",
        "colab": {
          "base_uri": "https://localhost:8080/",
          "height": 136
        }
      },
      "cell_type": "code",
      "source": [
        "from sklearn.ensemble import GradientBoostingClassifier\n",
        "\n",
        "#LinearSVC(C=0.01, penalty=\"l1\", dual=False)\n",
        "\n",
        "#finalPipe = Pipeline([('fs', SelectFromModel(RandomForestClassifier(n_estimators = 10, n_jobs = -1)))\n",
        "#                     ,('mdl',GradientBoostingClassifier(class_weight = 'balanced') )])\n",
        "\n",
        "finalPipe = Pipeline([('mdl',GradientBoostingClassifier(n_iter_no_change= 5,\n",
        "                                                        validation_fraction = .10,\n",
        "                                                       max_features = 'auto',\n",
        "                                                       random_state = 42,\n",
        "                                                       max_depth = 8,\n",
        "                                                       verbose = 1\n",
        "                                                       ))])\n",
        "\n",
        "\n",
        "mdl = finalPipe.fit(train,Y)\n",
        "\n",
        "\n",
        "\n"
      ],
      "execution_count": 0,
      "outputs": [
        {
          "output_type": "stream",
          "text": [
            "      Iter       Train Loss   Remaining Time \n",
            "         1           0.5466          163.98m\n",
            "         2           0.5353          163.23m\n",
            "         3           0.5259          162.51m\n",
            "         4           0.5189          158.95m\n",
            "         5           0.5122          157.95m\n",
            "         6           0.5062          154.79m\n"
          ],
          "name": "stdout"
        }
      ]
    },
    {
      "metadata": {
        "id": "J8hjslibYhDd",
        "colab_type": "code",
        "colab": {}
      },
      "cell_type": "code",
      "source": [
        "#roc(mdl.predict(test),test_y)\n",
        "#submission(mdl, final, combined_features)\n",
        "#import json\n",
        "#Setupkaggle()\n",
        "#!kaggle competitions submit -c home-credit-default-risk -f submission.csv -m \"GBM\"\n",
        "#!kaggle competitions submissions home-credit-default-risk  "
      ],
      "execution_count": 0,
      "outputs": []
    },
    {
      "metadata": {
        "id": "Pj1in40bZnCO",
        "colab_type": "code",
        "outputId": "d40ddfe8-2713-4d6c-df29-b2af7172e8ff",
        "colab": {
          "base_uri": "https://localhost:8080/",
          "height": 34
        }
      },
      "cell_type": "code",
      "source": [
        "import tensorflow as tf\n",
        "from tensorflow.keras.callbacks import EarlyStopping\n",
        "from keras import backend as K\n",
        "from sklearn.utils import class_weight\n",
        "\n",
        "def sensitivity(y_true, y_pred):\n",
        "    true_positives = K.sum(K.round(K.clip(y_true * y_pred, 0, 1)))\n",
        "    possible_positives = K.sum(K.round(K.clip(y_true, 0, 1)))\n",
        "    return true_positives / (possible_positives + K.epsilon())\n",
        "\n",
        "def specificity(y_true, y_pred):\n",
        "    true_negatives = K.sum(K.round(K.clip((1-y_true) * (1-y_pred), 0, 1)))\n",
        "    possible_negatives = K.sum(K.round(K.clip(1-y_true, 0, 1)))\n",
        "    return true_negatives / (possible_negatives + K.epsilon())"
      ],
      "execution_count": 0,
      "outputs": [
        {
          "output_type": "stream",
          "text": [
            "Using TensorFlow backend.\n"
          ],
          "name": "stderr"
        }
      ]
    },
    {
      "metadata": {
        "id": "0xIl2k-SYai_",
        "colab_type": "code",
        "outputId": "b1e40c55-678f-4838-f282-1e254e193ce9",
        "colab": {
          "base_uri": "https://localhost:8080/",
          "height": 411
        }
      },
      "cell_type": "code",
      "source": [
        "#loss  = categorical_crossentropy,binary_crossentropy\n",
        "#optimizer = rmsprop, sgd, adam, \n",
        "#activation = softmax, relu , sigmoid\n",
        "\n",
        "weights = class_weight.compute_class_weight('balanced',\n",
        "                                           np.unique(Y),\n",
        "                                           Y)\n",
        "model = tf.keras.models.Sequential([\n",
        "    # tf.keras.layers.Dense(500,  activation='relu')\n",
        "    #,tf.keras.layers.Dropout(.20)\n",
        "   # tf.keras.layers.Dense(100,  activation='relu')\n",
        "   # ,tf.keras.layers.Dropout(.60)\n",
        "   # ,tf.keras.layers.Dense(80,  activation='relu')\n",
        "   # ,tf.keras.layers.Dropout(.50)   \n",
        "    #tf.keras.layers.Dense(64,  activation='relu')\n",
        "    #,tf.keras.layers.Dropout(.30)\n",
        "    tf.keras.layers.Dense(32,  activation='relu')\n",
        "    ,tf.keras.layers.Dropout(.30)\n",
        "    ,tf.keras.layers.Dense(16,  activation='relu')\n",
        "    ,tf.keras.layers.Dropout(.30)\n",
        "    ,tf.keras.layers.Dense(1,  activation='sigmoid')\n",
        "])\n",
        "\n",
        "model.compile(optimizer='adam',\n",
        "loss='binary_crossentropy',\n",
        "metrics=['accuracy',sensitivity,specificity])\n",
        "\n",
        "X_train, X_val, Y_train, Y_val = train_test_split(trn, Y, test_size=0.10, random_state=42,stratify=Y)\n",
        "model.fit(np.array(X_train) ,np.array(Y_train)\n",
        "          ,batch_size=2000\n",
        "          ,epochs=10\n",
        "          ,validation_data = (np.array(X_val),np.array(Y_val))\n",
        "          ,callbacks=[es], class_weight=weights)\n"
      ],
      "execution_count": 0,
      "outputs": [
        {
          "output_type": "stream",
          "text": [
            "Train on 206032 samples, validate on 20604 samples\n",
            "Epoch 1/10\n",
            "206032/206032 [==============================] - 8s 41us/sample - loss: 0.4025 - acc: 0.8614 - sensitivity: 0.0705 - specificity: 0.9314 - val_loss: 0.2653 - val_acc: 0.9192 - val_sensitivity: 0.0000e+00 - val_specificity: 0.9999\n",
            "Epoch 2/10\n",
            "206032/206032 [==============================] - 8s 38us/sample - loss: 0.2962 - acc: 0.9180 - sensitivity: 0.0019 - specificity: 0.9985 - val_loss: 0.2557 - val_acc: 0.9193 - val_sensitivity: 0.0000e+00 - val_specificity: 1.0000\n",
            "Epoch 3/10\n",
            "206032/206032 [==============================] - 8s 38us/sample - loss: 0.2844 - acc: 0.9189 - sensitivity: 7.5393e-04 - specificity: 0.9996 - val_loss: 0.2550 - val_acc: 0.9193 - val_sensitivity: 0.0000e+00 - val_specificity: 1.0000\n",
            "Epoch 4/10\n",
            "206032/206032 [==============================] - 8s 38us/sample - loss: 0.2795 - acc: 0.9191 - sensitivity: 6.1909e-04 - specificity: 0.9997 - val_loss: 0.2533 - val_acc: 0.9193 - val_sensitivity: 0.0000e+00 - val_specificity: 1.0000\n",
            "Epoch 5/10\n",
            "206032/206032 [==============================] - 8s 38us/sample - loss: 0.2769 - acc: 0.9191 - sensitivity: 5.9537e-04 - specificity: 0.9998 - val_loss: 0.2534 - val_acc: 0.9193 - val_sensitivity: 0.0000e+00 - val_specificity: 1.0000\n",
            "Epoch 6/10\n",
            "206032/206032 [==============================] - 8s 38us/sample - loss: 0.2763 - acc: 0.9192 - sensitivity: 2.9827e-04 - specificity: 0.9999 - val_loss: 0.2523 - val_acc: 0.9193 - val_sensitivity: 0.0000e+00 - val_specificity: 1.0000\n",
            "Epoch 7/10\n",
            "206032/206032 [==============================] - 8s 38us/sample - loss: 0.2728 - acc: 0.9192 - sensitivity: 2.7987e-04 - specificity: 0.9999 - val_loss: 0.2519 - val_acc: 0.9193 - val_sensitivity: 0.0000e+00 - val_specificity: 1.0000\n",
            "Epoch 8/10\n",
            "206032/206032 [==============================] - 8s 38us/sample - loss: 0.2723 - acc: 0.9192 - sensitivity: 3.6211e-04 - specificity: 0.9999 - val_loss: 0.2516 - val_acc: 0.9193 - val_sensitivity: 0.0000e+00 - val_specificity: 1.0000\n",
            "Epoch 9/10\n",
            "206032/206032 [==============================] - 8s 38us/sample - loss: 0.2716 - acc: 0.9192 - sensitivity: 3.6623e-04 - specificity: 0.9999 - val_loss: 0.2516 - val_acc: 0.9193 - val_sensitivity: 0.0000e+00 - val_specificity: 1.0000\n",
            "Epoch 10/10\n",
            "206032/206032 [==============================] - 8s 38us/sample - loss: 0.2698 - acc: 0.9193 - sensitivity: 3.5401e-04 - specificity: 1.0000 - val_loss: 0.2508 - val_acc: 0.9193 - val_sensitivity: 0.0000e+00 - val_specificity: 1.0000\n"
          ],
          "name": "stdout"
        },
        {
          "output_type": "execute_result",
          "data": {
            "text/plain": [
              "<tensorflow.python.keras.callbacks.History at 0x7f6820cca278>"
            ]
          },
          "metadata": {
            "tags": []
          },
          "execution_count": 57
        }
      ]
    },
    {
      "metadata": {
        "id": "EXsDrwYJhFgZ",
        "colab_type": "text"
      },
      "cell_type": "markdown",
      "source": [
        ""
      ]
    },
    {
      "metadata": {
        "id": "jpF7a2GFaexx",
        "colab_type": "code",
        "colab": {}
      },
      "cell_type": "code",
      "source": [
        "#import json\n",
        "#Setupkaggle()\n",
        "\n",
        "#Kaggle Setup (make sure kaggle.json is in your google drive home dir)\n",
        "#!pip install kaggle\n",
        "#Setupkaggle():\n",
        "#!kaggle competitions files home-credit-default-risk\n",
        "#!kaggle competitions submit -c home-credit-default-risk -f submission.csv -m \"Logistic Weighted\"\n",
        "#!kaggle competitions submissions home-credit-default-risk"
      ],
      "execution_count": 0,
      "outputs": []
    },
    {
      "metadata": {
        "id": "C2QJ9_RzblAu",
        "colab_type": "code",
        "colab": {}
      },
      "cell_type": "code",
      "source": [
        ""
      ],
      "execution_count": 0,
      "outputs": []
    }
  ]
}