{
  "nbformat": 4,
  "nbformat_minor": 0,
  "metadata": {
    "colab": {
      "name": "HCDR Notebook.ipynb",
      "version": "0.3.2",
      "provenance": [],
      "include_colab_link": true
    },
    "kernelspec": {
      "display_name": "Python 3",
      "language": "python",
      "name": "python3"
    }
  },
  "cells": [
    {
      "cell_type": "markdown",
      "metadata": {
        "id": "view-in-github",
        "colab_type": "text"
      },
      "source": [
        "<a href=\"https://colab.research.google.com/github/nchaudh03/AML-HCDR/blob/master/HCDR_Notebook.ipynb\" target=\"_parent\"><img src=\"https://colab.research.google.com/assets/colab-badge.svg\" alt=\"Open In Colab\"/></a>"
      ]
    },
    {
      "metadata": {
        "id": "y76idxdvc0SH",
        "colab_type": "text"
      },
      "cell_type": "markdown",
      "source": [
        "# HCDR Notebook"
      ]
    },
    {
      "metadata": {
        "id": "dANhUHYsc0SI",
        "colab_type": "text"
      },
      "cell_type": "markdown",
      "source": [
        "The course project is based on the [Home Credit Default Risk (HCDR)  Kaggle Competition](https://www.kaggle.com/c/home-credit-default-risk/). The goal of the competition is to predict whether or not a client will repay a loan. In order to make sure that people who struggle to get loans due to insufficient or non-existent credit histories have a positive loan experience, Home Credit makes use of a variety of alternative data--including telco and transactional information--to predict their clients' repayment abilities."
      ]
    },
    {
      "metadata": {
        "id": "6eUocFnLc0SI",
        "colab_type": "text"
      },
      "cell_type": "markdown",
      "source": [
        "Home Credit is a non-banking financial institution, founded in 1997 in the Czech Republic.\n",
        "\n",
        "The company operates in 14 countries (including United States, Russia, Kazahstan, Belarus, China, India) and focuses on lending primarily to people with little or no credit history which will either not obtain loans or became victims of untrustworthly lenders.\n",
        "\n",
        "Home Credit group has over 29 million customers, total assests of 21 billions Euro, over 160 millions loans, with the majority in Asia and and almost half of them in China (as of 19-05-2018).\n",
        "\n",
        "While Home Credit is currently using various statistical and machine learning methods to make these predictions, they're challenging Kagglers to help them unlock the full potential of their data. Doing so will ensure that clients capable of repayment are not rejected and that loans are given with a principal, maturity, and repayment calendar that will empower their clients to be successful.\n",
        "\n",
        "There are 7 different sources of data:\n",
        "\n",
        "* __application_train/application_test:__ the main training and testing data with information about each loan application at Home Credit. Every loan has its own row and is identified by the feature SK_ID_CURR. The training application data comes with the TARGET indicating __0: the loan was repaid__ or __1: the loan was not repaid__. The target variable defines if the client had payment difficulties meaning he/she had late payment more than X days on at least one of the first Y installments of the loan. Such case is marked as 1 while other all other cases as 0.\n",
        "* __bureau:__ data concerning client's previous credits from other financial institutions. Each previous credit has its own row in bureau, but one loan in the application data can have multiple previous credits.\n",
        "* __bureau_balance:__ monthly data about the previous credits in bureau. Each row is one month of a previous credit, and a single previous credit can have multiple rows, one for each month of the credit length.\n",
        "* __previous_application:__ previous applications for loans at Home Credit of clients who have loans in the application data. Each current loan in the application data can have multiple previous loans. Each previous application has one row and is identified by the feature SK_ID_PREV.\n",
        "* __POS_CASH_BALANCE:__ monthly data about previous point of sale or cash loans clients have had with Home Credit. Each row is one month of a previous point of sale or cash loan, and a single previous loan can have many rows.\n",
        "* credit_card_balance: monthly data about previous credit cards clients have had with Home Credit. Each row is one month of a credit card balance, and a single credit card can have many rows.\n",
        "* __installments_payment:__ payment history for previous loans at Home Credit. There is one row for every made payment and one row for every missed payment."
      ]
    },
    {
      "metadata": {
        "id": "KfNZV02Yc0SJ",
        "colab_type": "text"
      },
      "cell_type": "markdown",
      "source": [
        "![alt](home_credit.png \"Home credit\")"
      ]
    },
    {
      "metadata": {
        "id": "I8jJuCuEc0SJ",
        "colab_type": "text"
      },
      "cell_type": "markdown",
      "source": [
        "## Imports"
      ]
    },
    {
      "metadata": {
        "id": "w4Umb6Sbc0SK",
        "colab_type": "code",
        "colab": {}
      },
      "cell_type": "code",
      "source": [
        "import numpy as np\n",
        "import pandas as pd \n",
        "from sklearn.preprocessing import LabelEncoder\n",
        "import os\n",
        "import matplotlib.pyplot as plt\n",
        "import seaborn as sns\n",
        "from sklearn.linear_model import LogisticRegression\n",
        "from sklearn.model_selection import train_test_split\n",
        "from sklearn.model_selection import ShuffleSplit\n",
        "from sklearn.model_selection import cross_val_score\n",
        "from sklearn.model_selection import GridSearchCV\n",
        "from sklearn.impute import SimpleImputer\n",
        "from sklearn.preprocessing import MinMaxScaler\n",
        "import warnings\n",
        "warnings.filterwarnings('ignore')"
      ],
      "execution_count": 0,
      "outputs": []
    },
    {
      "metadata": {
        "id": "MPX8Pu21c0SL",
        "colab_type": "text"
      },
      "cell_type": "markdown",
      "source": [
        "### Application train"
      ]
    },
    {
      "metadata": {
        "id": "U1OgVsDuc0SM",
        "colab_type": "code",
        "colab": {},
        "outputId": "3fa37785-358a-4b6e-fd22-d2e67e811fe0"
      },
      "cell_type": "code",
      "source": [
        "app_train = pd.read_csv('datasets/application_train.csv')\n",
        "print('Training data shape: ', app_train.shape)\n",
        "app_train.head()"
      ],
      "execution_count": 0,
      "outputs": [
        {
          "output_type": "stream",
          "text": [
            "Training data shape:  (307511, 122)\n"
          ],
          "name": "stdout"
        },
        {
          "output_type": "execute_result",
          "data": {
            "text/html": [
              "<div>\n",
              "<style scoped>\n",
              "    .dataframe tbody tr th:only-of-type {\n",
              "        vertical-align: middle;\n",
              "    }\n",
              "\n",
              "    .dataframe tbody tr th {\n",
              "        vertical-align: top;\n",
              "    }\n",
              "\n",
              "    .dataframe thead th {\n",
              "        text-align: right;\n",
              "    }\n",
              "</style>\n",
              "<table border=\"1\" class=\"dataframe\">\n",
              "  <thead>\n",
              "    <tr style=\"text-align: right;\">\n",
              "      <th></th>\n",
              "      <th>SK_ID_CURR</th>\n",
              "      <th>TARGET</th>\n",
              "      <th>NAME_CONTRACT_TYPE</th>\n",
              "      <th>CODE_GENDER</th>\n",
              "      <th>FLAG_OWN_CAR</th>\n",
              "      <th>FLAG_OWN_REALTY</th>\n",
              "      <th>CNT_CHILDREN</th>\n",
              "      <th>AMT_INCOME_TOTAL</th>\n",
              "      <th>AMT_CREDIT</th>\n",
              "      <th>AMT_ANNUITY</th>\n",
              "      <th>...</th>\n",
              "      <th>FLAG_DOCUMENT_18</th>\n",
              "      <th>FLAG_DOCUMENT_19</th>\n",
              "      <th>FLAG_DOCUMENT_20</th>\n",
              "      <th>FLAG_DOCUMENT_21</th>\n",
              "      <th>AMT_REQ_CREDIT_BUREAU_HOUR</th>\n",
              "      <th>AMT_REQ_CREDIT_BUREAU_DAY</th>\n",
              "      <th>AMT_REQ_CREDIT_BUREAU_WEEK</th>\n",
              "      <th>AMT_REQ_CREDIT_BUREAU_MON</th>\n",
              "      <th>AMT_REQ_CREDIT_BUREAU_QRT</th>\n",
              "      <th>AMT_REQ_CREDIT_BUREAU_YEAR</th>\n",
              "    </tr>\n",
              "  </thead>\n",
              "  <tbody>\n",
              "    <tr>\n",
              "      <th>0</th>\n",
              "      <td>100002</td>\n",
              "      <td>1</td>\n",
              "      <td>Cash loans</td>\n",
              "      <td>M</td>\n",
              "      <td>N</td>\n",
              "      <td>Y</td>\n",
              "      <td>0</td>\n",
              "      <td>202500.0</td>\n",
              "      <td>406597.5</td>\n",
              "      <td>24700.5</td>\n",
              "      <td>...</td>\n",
              "      <td>0</td>\n",
              "      <td>0</td>\n",
              "      <td>0</td>\n",
              "      <td>0</td>\n",
              "      <td>0.0</td>\n",
              "      <td>0.0</td>\n",
              "      <td>0.0</td>\n",
              "      <td>0.0</td>\n",
              "      <td>0.0</td>\n",
              "      <td>1.0</td>\n",
              "    </tr>\n",
              "    <tr>\n",
              "      <th>1</th>\n",
              "      <td>100003</td>\n",
              "      <td>0</td>\n",
              "      <td>Cash loans</td>\n",
              "      <td>F</td>\n",
              "      <td>N</td>\n",
              "      <td>N</td>\n",
              "      <td>0</td>\n",
              "      <td>270000.0</td>\n",
              "      <td>1293502.5</td>\n",
              "      <td>35698.5</td>\n",
              "      <td>...</td>\n",
              "      <td>0</td>\n",
              "      <td>0</td>\n",
              "      <td>0</td>\n",
              "      <td>0</td>\n",
              "      <td>0.0</td>\n",
              "      <td>0.0</td>\n",
              "      <td>0.0</td>\n",
              "      <td>0.0</td>\n",
              "      <td>0.0</td>\n",
              "      <td>0.0</td>\n",
              "    </tr>\n",
              "    <tr>\n",
              "      <th>2</th>\n",
              "      <td>100004</td>\n",
              "      <td>0</td>\n",
              "      <td>Revolving loans</td>\n",
              "      <td>M</td>\n",
              "      <td>Y</td>\n",
              "      <td>Y</td>\n",
              "      <td>0</td>\n",
              "      <td>67500.0</td>\n",
              "      <td>135000.0</td>\n",
              "      <td>6750.0</td>\n",
              "      <td>...</td>\n",
              "      <td>0</td>\n",
              "      <td>0</td>\n",
              "      <td>0</td>\n",
              "      <td>0</td>\n",
              "      <td>0.0</td>\n",
              "      <td>0.0</td>\n",
              "      <td>0.0</td>\n",
              "      <td>0.0</td>\n",
              "      <td>0.0</td>\n",
              "      <td>0.0</td>\n",
              "    </tr>\n",
              "    <tr>\n",
              "      <th>3</th>\n",
              "      <td>100006</td>\n",
              "      <td>0</td>\n",
              "      <td>Cash loans</td>\n",
              "      <td>F</td>\n",
              "      <td>N</td>\n",
              "      <td>Y</td>\n",
              "      <td>0</td>\n",
              "      <td>135000.0</td>\n",
              "      <td>312682.5</td>\n",
              "      <td>29686.5</td>\n",
              "      <td>...</td>\n",
              "      <td>0</td>\n",
              "      <td>0</td>\n",
              "      <td>0</td>\n",
              "      <td>0</td>\n",
              "      <td>NaN</td>\n",
              "      <td>NaN</td>\n",
              "      <td>NaN</td>\n",
              "      <td>NaN</td>\n",
              "      <td>NaN</td>\n",
              "      <td>NaN</td>\n",
              "    </tr>\n",
              "    <tr>\n",
              "      <th>4</th>\n",
              "      <td>100007</td>\n",
              "      <td>0</td>\n",
              "      <td>Cash loans</td>\n",
              "      <td>M</td>\n",
              "      <td>N</td>\n",
              "      <td>Y</td>\n",
              "      <td>0</td>\n",
              "      <td>121500.0</td>\n",
              "      <td>513000.0</td>\n",
              "      <td>21865.5</td>\n",
              "      <td>...</td>\n",
              "      <td>0</td>\n",
              "      <td>0</td>\n",
              "      <td>0</td>\n",
              "      <td>0</td>\n",
              "      <td>0.0</td>\n",
              "      <td>0.0</td>\n",
              "      <td>0.0</td>\n",
              "      <td>0.0</td>\n",
              "      <td>0.0</td>\n",
              "      <td>0.0</td>\n",
              "    </tr>\n",
              "  </tbody>\n",
              "</table>\n",
              "<p>5 rows × 122 columns</p>\n",
              "</div>"
            ],
            "text/plain": [
              "   SK_ID_CURR  TARGET NAME_CONTRACT_TYPE CODE_GENDER FLAG_OWN_CAR  \\\n",
              "0      100002       1         Cash loans           M            N   \n",
              "1      100003       0         Cash loans           F            N   \n",
              "2      100004       0    Revolving loans           M            Y   \n",
              "3      100006       0         Cash loans           F            N   \n",
              "4      100007       0         Cash loans           M            N   \n",
              "\n",
              "  FLAG_OWN_REALTY  CNT_CHILDREN  AMT_INCOME_TOTAL  AMT_CREDIT  AMT_ANNUITY  \\\n",
              "0               Y             0          202500.0    406597.5      24700.5   \n",
              "1               N             0          270000.0   1293502.5      35698.5   \n",
              "2               Y             0           67500.0    135000.0       6750.0   \n",
              "3               Y             0          135000.0    312682.5      29686.5   \n",
              "4               Y             0          121500.0    513000.0      21865.5   \n",
              "\n",
              "              ...              FLAG_DOCUMENT_18 FLAG_DOCUMENT_19  \\\n",
              "0             ...                             0                0   \n",
              "1             ...                             0                0   \n",
              "2             ...                             0                0   \n",
              "3             ...                             0                0   \n",
              "4             ...                             0                0   \n",
              "\n",
              "  FLAG_DOCUMENT_20 FLAG_DOCUMENT_21 AMT_REQ_CREDIT_BUREAU_HOUR  \\\n",
              "0                0                0                        0.0   \n",
              "1                0                0                        0.0   \n",
              "2                0                0                        0.0   \n",
              "3                0                0                        NaN   \n",
              "4                0                0                        0.0   \n",
              "\n",
              "  AMT_REQ_CREDIT_BUREAU_DAY  AMT_REQ_CREDIT_BUREAU_WEEK  \\\n",
              "0                       0.0                         0.0   \n",
              "1                       0.0                         0.0   \n",
              "2                       0.0                         0.0   \n",
              "3                       NaN                         NaN   \n",
              "4                       0.0                         0.0   \n",
              "\n",
              "   AMT_REQ_CREDIT_BUREAU_MON  AMT_REQ_CREDIT_BUREAU_QRT  \\\n",
              "0                        0.0                        0.0   \n",
              "1                        0.0                        0.0   \n",
              "2                        0.0                        0.0   \n",
              "3                        NaN                        NaN   \n",
              "4                        0.0                        0.0   \n",
              "\n",
              "   AMT_REQ_CREDIT_BUREAU_YEAR  \n",
              "0                         1.0  \n",
              "1                         0.0  \n",
              "2                         0.0  \n",
              "3                         NaN  \n",
              "4                         0.0  \n",
              "\n",
              "[5 rows x 122 columns]"
            ]
          },
          "metadata": {
            "tags": []
          },
          "execution_count": 44
        }
      ]
    },
    {
      "metadata": {
        "id": "Vki9fNgvc0SO",
        "colab_type": "text"
      },
      "cell_type": "markdown",
      "source": [
        "### Application train"
      ]
    },
    {
      "metadata": {
        "id": "y31kYl1Wc0SP",
        "colab_type": "code",
        "colab": {},
        "outputId": "1893e803-05f1-4085-85d3-6f288dc51323"
      },
      "cell_type": "code",
      "source": [
        "app_test = pd.read_csv('datasets/application_test.csv')\n",
        "print('Test data shape: ', app_test.shape)\n",
        "app_test.head()"
      ],
      "execution_count": 0,
      "outputs": [
        {
          "output_type": "stream",
          "text": [
            "Test data shape:  (48744, 121)\n"
          ],
          "name": "stdout"
        },
        {
          "output_type": "execute_result",
          "data": {
            "text/html": [
              "<div>\n",
              "<style scoped>\n",
              "    .dataframe tbody tr th:only-of-type {\n",
              "        vertical-align: middle;\n",
              "    }\n",
              "\n",
              "    .dataframe tbody tr th {\n",
              "        vertical-align: top;\n",
              "    }\n",
              "\n",
              "    .dataframe thead th {\n",
              "        text-align: right;\n",
              "    }\n",
              "</style>\n",
              "<table border=\"1\" class=\"dataframe\">\n",
              "  <thead>\n",
              "    <tr style=\"text-align: right;\">\n",
              "      <th></th>\n",
              "      <th>SK_ID_CURR</th>\n",
              "      <th>NAME_CONTRACT_TYPE</th>\n",
              "      <th>CODE_GENDER</th>\n",
              "      <th>FLAG_OWN_CAR</th>\n",
              "      <th>FLAG_OWN_REALTY</th>\n",
              "      <th>CNT_CHILDREN</th>\n",
              "      <th>AMT_INCOME_TOTAL</th>\n",
              "      <th>AMT_CREDIT</th>\n",
              "      <th>AMT_ANNUITY</th>\n",
              "      <th>AMT_GOODS_PRICE</th>\n",
              "      <th>...</th>\n",
              "      <th>FLAG_DOCUMENT_18</th>\n",
              "      <th>FLAG_DOCUMENT_19</th>\n",
              "      <th>FLAG_DOCUMENT_20</th>\n",
              "      <th>FLAG_DOCUMENT_21</th>\n",
              "      <th>AMT_REQ_CREDIT_BUREAU_HOUR</th>\n",
              "      <th>AMT_REQ_CREDIT_BUREAU_DAY</th>\n",
              "      <th>AMT_REQ_CREDIT_BUREAU_WEEK</th>\n",
              "      <th>AMT_REQ_CREDIT_BUREAU_MON</th>\n",
              "      <th>AMT_REQ_CREDIT_BUREAU_QRT</th>\n",
              "      <th>AMT_REQ_CREDIT_BUREAU_YEAR</th>\n",
              "    </tr>\n",
              "  </thead>\n",
              "  <tbody>\n",
              "    <tr>\n",
              "      <th>0</th>\n",
              "      <td>100001</td>\n",
              "      <td>Cash loans</td>\n",
              "      <td>F</td>\n",
              "      <td>N</td>\n",
              "      <td>Y</td>\n",
              "      <td>0</td>\n",
              "      <td>135000.0</td>\n",
              "      <td>568800.0</td>\n",
              "      <td>20560.5</td>\n",
              "      <td>450000.0</td>\n",
              "      <td>...</td>\n",
              "      <td>0</td>\n",
              "      <td>0</td>\n",
              "      <td>0</td>\n",
              "      <td>0</td>\n",
              "      <td>0.0</td>\n",
              "      <td>0.0</td>\n",
              "      <td>0.0</td>\n",
              "      <td>0.0</td>\n",
              "      <td>0.0</td>\n",
              "      <td>0.0</td>\n",
              "    </tr>\n",
              "    <tr>\n",
              "      <th>1</th>\n",
              "      <td>100005</td>\n",
              "      <td>Cash loans</td>\n",
              "      <td>M</td>\n",
              "      <td>N</td>\n",
              "      <td>Y</td>\n",
              "      <td>0</td>\n",
              "      <td>99000.0</td>\n",
              "      <td>222768.0</td>\n",
              "      <td>17370.0</td>\n",
              "      <td>180000.0</td>\n",
              "      <td>...</td>\n",
              "      <td>0</td>\n",
              "      <td>0</td>\n",
              "      <td>0</td>\n",
              "      <td>0</td>\n",
              "      <td>0.0</td>\n",
              "      <td>0.0</td>\n",
              "      <td>0.0</td>\n",
              "      <td>0.0</td>\n",
              "      <td>0.0</td>\n",
              "      <td>3.0</td>\n",
              "    </tr>\n",
              "    <tr>\n",
              "      <th>2</th>\n",
              "      <td>100013</td>\n",
              "      <td>Cash loans</td>\n",
              "      <td>M</td>\n",
              "      <td>Y</td>\n",
              "      <td>Y</td>\n",
              "      <td>0</td>\n",
              "      <td>202500.0</td>\n",
              "      <td>663264.0</td>\n",
              "      <td>69777.0</td>\n",
              "      <td>630000.0</td>\n",
              "      <td>...</td>\n",
              "      <td>0</td>\n",
              "      <td>0</td>\n",
              "      <td>0</td>\n",
              "      <td>0</td>\n",
              "      <td>0.0</td>\n",
              "      <td>0.0</td>\n",
              "      <td>0.0</td>\n",
              "      <td>0.0</td>\n",
              "      <td>1.0</td>\n",
              "      <td>4.0</td>\n",
              "    </tr>\n",
              "    <tr>\n",
              "      <th>3</th>\n",
              "      <td>100028</td>\n",
              "      <td>Cash loans</td>\n",
              "      <td>F</td>\n",
              "      <td>N</td>\n",
              "      <td>Y</td>\n",
              "      <td>2</td>\n",
              "      <td>315000.0</td>\n",
              "      <td>1575000.0</td>\n",
              "      <td>49018.5</td>\n",
              "      <td>1575000.0</td>\n",
              "      <td>...</td>\n",
              "      <td>0</td>\n",
              "      <td>0</td>\n",
              "      <td>0</td>\n",
              "      <td>0</td>\n",
              "      <td>0.0</td>\n",
              "      <td>0.0</td>\n",
              "      <td>0.0</td>\n",
              "      <td>0.0</td>\n",
              "      <td>0.0</td>\n",
              "      <td>3.0</td>\n",
              "    </tr>\n",
              "    <tr>\n",
              "      <th>4</th>\n",
              "      <td>100038</td>\n",
              "      <td>Cash loans</td>\n",
              "      <td>M</td>\n",
              "      <td>Y</td>\n",
              "      <td>N</td>\n",
              "      <td>1</td>\n",
              "      <td>180000.0</td>\n",
              "      <td>625500.0</td>\n",
              "      <td>32067.0</td>\n",
              "      <td>625500.0</td>\n",
              "      <td>...</td>\n",
              "      <td>0</td>\n",
              "      <td>0</td>\n",
              "      <td>0</td>\n",
              "      <td>0</td>\n",
              "      <td>NaN</td>\n",
              "      <td>NaN</td>\n",
              "      <td>NaN</td>\n",
              "      <td>NaN</td>\n",
              "      <td>NaN</td>\n",
              "      <td>NaN</td>\n",
              "    </tr>\n",
              "  </tbody>\n",
              "</table>\n",
              "<p>5 rows × 121 columns</p>\n",
              "</div>"
            ],
            "text/plain": [
              "   SK_ID_CURR NAME_CONTRACT_TYPE CODE_GENDER FLAG_OWN_CAR FLAG_OWN_REALTY  \\\n",
              "0      100001         Cash loans           F            N               Y   \n",
              "1      100005         Cash loans           M            N               Y   \n",
              "2      100013         Cash loans           M            Y               Y   \n",
              "3      100028         Cash loans           F            N               Y   \n",
              "4      100038         Cash loans           M            Y               N   \n",
              "\n",
              "   CNT_CHILDREN  AMT_INCOME_TOTAL  AMT_CREDIT  AMT_ANNUITY  AMT_GOODS_PRICE  \\\n",
              "0             0          135000.0    568800.0      20560.5         450000.0   \n",
              "1             0           99000.0    222768.0      17370.0         180000.0   \n",
              "2             0          202500.0    663264.0      69777.0         630000.0   \n",
              "3             2          315000.0   1575000.0      49018.5        1575000.0   \n",
              "4             1          180000.0    625500.0      32067.0         625500.0   \n",
              "\n",
              "              ...             FLAG_DOCUMENT_18 FLAG_DOCUMENT_19  \\\n",
              "0             ...                            0                0   \n",
              "1             ...                            0                0   \n",
              "2             ...                            0                0   \n",
              "3             ...                            0                0   \n",
              "4             ...                            0                0   \n",
              "\n",
              "  FLAG_DOCUMENT_20 FLAG_DOCUMENT_21 AMT_REQ_CREDIT_BUREAU_HOUR  \\\n",
              "0                0                0                        0.0   \n",
              "1                0                0                        0.0   \n",
              "2                0                0                        0.0   \n",
              "3                0                0                        0.0   \n",
              "4                0                0                        NaN   \n",
              "\n",
              "   AMT_REQ_CREDIT_BUREAU_DAY  AMT_REQ_CREDIT_BUREAU_WEEK  \\\n",
              "0                        0.0                         0.0   \n",
              "1                        0.0                         0.0   \n",
              "2                        0.0                         0.0   \n",
              "3                        0.0                         0.0   \n",
              "4                        NaN                         NaN   \n",
              "\n",
              "   AMT_REQ_CREDIT_BUREAU_MON  AMT_REQ_CREDIT_BUREAU_QRT  \\\n",
              "0                        0.0                        0.0   \n",
              "1                        0.0                        0.0   \n",
              "2                        0.0                        1.0   \n",
              "3                        0.0                        0.0   \n",
              "4                        NaN                        NaN   \n",
              "\n",
              "   AMT_REQ_CREDIT_BUREAU_YEAR  \n",
              "0                         0.0  \n",
              "1                         3.0  \n",
              "2                         4.0  \n",
              "3                         3.0  \n",
              "4                         NaN  \n",
              "\n",
              "[5 rows x 121 columns]"
            ]
          },
          "metadata": {
            "tags": []
          },
          "execution_count": 45
        }
      ]
    },
    {
      "metadata": {
        "id": "YdKg2pazc0SR",
        "colab_type": "text"
      },
      "cell_type": "markdown",
      "source": [
        "The application dataset has the most information about the client: Gender, income, family status, education ..."
      ]
    },
    {
      "metadata": {
        "id": "FgjJmk1Xc0SR",
        "colab_type": "text"
      },
      "cell_type": "markdown",
      "source": [
        "### The Other datasets"
      ]
    },
    {
      "metadata": {
        "id": "teF7bzTAc0SR",
        "colab_type": "code",
        "colab": {}
      },
      "cell_type": "code",
      "source": [
        "bureau = pd.read_csv(\"datasets/bureau.csv\")\n",
        "bureau_balance = pd.read_csv(\"datasets/bureau_balance.csv\")\n",
        "credit_card_balance = pd.read_csv(\"datasets/credit_card_balance.csv\")\n",
        "installments_payments = pd.read_csv(\"datasets/installments_payments.csv\")\n",
        "previous_application = pd.read_csv(\"datasets/previous_application.csv\")\n",
        "POS_CASH_balance = pd.read_csv(\"datasets/POS_CASH_balance.csv\")"
      ],
      "execution_count": 0,
      "outputs": []
    },
    {
      "metadata": {
        "id": "KMBzjL05c0ST",
        "colab_type": "code",
        "colab": {},
        "outputId": "efabda48-0684-486a-85ec-99f6fc0bd9c8"
      },
      "cell_type": "code",
      "source": [
        "print(\"bureau -  rows:\",bureau.shape[0],\" columns:\", bureau.shape[1])\n",
        "print(\"bureau_balance -  rows:\",bureau_balance.shape[0],\" columns:\", bureau_balance.shape[1])\n",
        "print(\"credit_card_balance -  rows:\",credit_card_balance.shape[0],\" columns:\", credit_card_balance.shape[1])\n",
        "print(\"installments_payments -  rows:\",installments_payments.shape[0],\" columns:\", installments_payments.shape[1])\n",
        "print(\"previous_application -  rows:\",previous_application.shape[0],\" columns:\", previous_application.shape[1])\n",
        "print(\"POS_CASH_balance -  rows:\",POS_CASH_balance.shape[0],\" columns:\", POS_CASH_balance.shape[1])"
      ],
      "execution_count": 0,
      "outputs": [
        {
          "output_type": "stream",
          "text": [
            "bureau -  rows: 1716428  columns: 17\n",
            "bureau_balance -  rows: 27299925  columns: 3\n",
            "credit_card_balance -  rows: 3840312  columns: 23\n",
            "installments_payments -  rows: 13605401  columns: 8\n",
            "previous_application -  rows: 1670214  columns: 37\n",
            "POS_CASH_balance -  rows: 10001358  columns: 8\n"
          ],
          "name": "stdout"
        }
      ]
    },
    {
      "metadata": {
        "id": "_kJbZTeKc0SV",
        "colab_type": "text"
      },
      "cell_type": "markdown",
      "source": [
        "* __Bureau__"
      ]
    },
    {
      "metadata": {
        "scrolled": true,
        "id": "0_MOvK3ic0SV",
        "colab_type": "code",
        "colab": {},
        "outputId": "5317c8ab-68ff-4faa-fa7d-4add32ae1a53"
      },
      "cell_type": "code",
      "source": [
        "bureau.head()"
      ],
      "execution_count": 0,
      "outputs": [
        {
          "output_type": "execute_result",
          "data": {
            "text/html": [
              "<div>\n",
              "<style scoped>\n",
              "    .dataframe tbody tr th:only-of-type {\n",
              "        vertical-align: middle;\n",
              "    }\n",
              "\n",
              "    .dataframe tbody tr th {\n",
              "        vertical-align: top;\n",
              "    }\n",
              "\n",
              "    .dataframe thead th {\n",
              "        text-align: right;\n",
              "    }\n",
              "</style>\n",
              "<table border=\"1\" class=\"dataframe\">\n",
              "  <thead>\n",
              "    <tr style=\"text-align: right;\">\n",
              "      <th></th>\n",
              "      <th>SK_ID_CURR</th>\n",
              "      <th>SK_ID_BUREAU</th>\n",
              "      <th>CREDIT_ACTIVE</th>\n",
              "      <th>CREDIT_CURRENCY</th>\n",
              "      <th>DAYS_CREDIT</th>\n",
              "      <th>CREDIT_DAY_OVERDUE</th>\n",
              "      <th>DAYS_CREDIT_ENDDATE</th>\n",
              "      <th>DAYS_ENDDATE_FACT</th>\n",
              "      <th>AMT_CREDIT_MAX_OVERDUE</th>\n",
              "      <th>CNT_CREDIT_PROLONG</th>\n",
              "      <th>AMT_CREDIT_SUM</th>\n",
              "      <th>AMT_CREDIT_SUM_DEBT</th>\n",
              "      <th>AMT_CREDIT_SUM_LIMIT</th>\n",
              "      <th>AMT_CREDIT_SUM_OVERDUE</th>\n",
              "      <th>CREDIT_TYPE</th>\n",
              "      <th>DAYS_CREDIT_UPDATE</th>\n",
              "      <th>AMT_ANNUITY</th>\n",
              "    </tr>\n",
              "  </thead>\n",
              "  <tbody>\n",
              "    <tr>\n",
              "      <th>0</th>\n",
              "      <td>215354</td>\n",
              "      <td>5714462</td>\n",
              "      <td>Closed</td>\n",
              "      <td>currency 1</td>\n",
              "      <td>-497</td>\n",
              "      <td>0</td>\n",
              "      <td>-153.0</td>\n",
              "      <td>-153.0</td>\n",
              "      <td>NaN</td>\n",
              "      <td>0</td>\n",
              "      <td>91323.0</td>\n",
              "      <td>0.0</td>\n",
              "      <td>NaN</td>\n",
              "      <td>0.0</td>\n",
              "      <td>Consumer credit</td>\n",
              "      <td>-131</td>\n",
              "      <td>NaN</td>\n",
              "    </tr>\n",
              "    <tr>\n",
              "      <th>1</th>\n",
              "      <td>215354</td>\n",
              "      <td>5714463</td>\n",
              "      <td>Active</td>\n",
              "      <td>currency 1</td>\n",
              "      <td>-208</td>\n",
              "      <td>0</td>\n",
              "      <td>1075.0</td>\n",
              "      <td>NaN</td>\n",
              "      <td>NaN</td>\n",
              "      <td>0</td>\n",
              "      <td>225000.0</td>\n",
              "      <td>171342.0</td>\n",
              "      <td>NaN</td>\n",
              "      <td>0.0</td>\n",
              "      <td>Credit card</td>\n",
              "      <td>-20</td>\n",
              "      <td>NaN</td>\n",
              "    </tr>\n",
              "    <tr>\n",
              "      <th>2</th>\n",
              "      <td>215354</td>\n",
              "      <td>5714464</td>\n",
              "      <td>Active</td>\n",
              "      <td>currency 1</td>\n",
              "      <td>-203</td>\n",
              "      <td>0</td>\n",
              "      <td>528.0</td>\n",
              "      <td>NaN</td>\n",
              "      <td>NaN</td>\n",
              "      <td>0</td>\n",
              "      <td>464323.5</td>\n",
              "      <td>NaN</td>\n",
              "      <td>NaN</td>\n",
              "      <td>0.0</td>\n",
              "      <td>Consumer credit</td>\n",
              "      <td>-16</td>\n",
              "      <td>NaN</td>\n",
              "    </tr>\n",
              "    <tr>\n",
              "      <th>3</th>\n",
              "      <td>215354</td>\n",
              "      <td>5714465</td>\n",
              "      <td>Active</td>\n",
              "      <td>currency 1</td>\n",
              "      <td>-203</td>\n",
              "      <td>0</td>\n",
              "      <td>NaN</td>\n",
              "      <td>NaN</td>\n",
              "      <td>NaN</td>\n",
              "      <td>0</td>\n",
              "      <td>90000.0</td>\n",
              "      <td>NaN</td>\n",
              "      <td>NaN</td>\n",
              "      <td>0.0</td>\n",
              "      <td>Credit card</td>\n",
              "      <td>-16</td>\n",
              "      <td>NaN</td>\n",
              "    </tr>\n",
              "    <tr>\n",
              "      <th>4</th>\n",
              "      <td>215354</td>\n",
              "      <td>5714466</td>\n",
              "      <td>Active</td>\n",
              "      <td>currency 1</td>\n",
              "      <td>-629</td>\n",
              "      <td>0</td>\n",
              "      <td>1197.0</td>\n",
              "      <td>NaN</td>\n",
              "      <td>77674.5</td>\n",
              "      <td>0</td>\n",
              "      <td>2700000.0</td>\n",
              "      <td>NaN</td>\n",
              "      <td>NaN</td>\n",
              "      <td>0.0</td>\n",
              "      <td>Consumer credit</td>\n",
              "      <td>-21</td>\n",
              "      <td>NaN</td>\n",
              "    </tr>\n",
              "  </tbody>\n",
              "</table>\n",
              "</div>"
            ],
            "text/plain": [
              "   SK_ID_CURR  SK_ID_BUREAU CREDIT_ACTIVE CREDIT_CURRENCY  DAYS_CREDIT  \\\n",
              "0      215354       5714462        Closed      currency 1         -497   \n",
              "1      215354       5714463        Active      currency 1         -208   \n",
              "2      215354       5714464        Active      currency 1         -203   \n",
              "3      215354       5714465        Active      currency 1         -203   \n",
              "4      215354       5714466        Active      currency 1         -629   \n",
              "\n",
              "   CREDIT_DAY_OVERDUE  DAYS_CREDIT_ENDDATE  DAYS_ENDDATE_FACT  \\\n",
              "0                   0               -153.0             -153.0   \n",
              "1                   0               1075.0                NaN   \n",
              "2                   0                528.0                NaN   \n",
              "3                   0                  NaN                NaN   \n",
              "4                   0               1197.0                NaN   \n",
              "\n",
              "   AMT_CREDIT_MAX_OVERDUE  CNT_CREDIT_PROLONG  AMT_CREDIT_SUM  \\\n",
              "0                     NaN                   0         91323.0   \n",
              "1                     NaN                   0        225000.0   \n",
              "2                     NaN                   0        464323.5   \n",
              "3                     NaN                   0         90000.0   \n",
              "4                 77674.5                   0       2700000.0   \n",
              "\n",
              "   AMT_CREDIT_SUM_DEBT  AMT_CREDIT_SUM_LIMIT  AMT_CREDIT_SUM_OVERDUE  \\\n",
              "0                  0.0                   NaN                     0.0   \n",
              "1             171342.0                   NaN                     0.0   \n",
              "2                  NaN                   NaN                     0.0   \n",
              "3                  NaN                   NaN                     0.0   \n",
              "4                  NaN                   NaN                     0.0   \n",
              "\n",
              "       CREDIT_TYPE  DAYS_CREDIT_UPDATE  AMT_ANNUITY  \n",
              "0  Consumer credit                -131          NaN  \n",
              "1      Credit card                 -20          NaN  \n",
              "2  Consumer credit                 -16          NaN  \n",
              "3      Credit card                 -16          NaN  \n",
              "4  Consumer credit                 -21          NaN  "
            ]
          },
          "metadata": {
            "tags": []
          },
          "execution_count": 48
        }
      ]
    },
    {
      "metadata": {
        "id": "QXPVKSkQc0SX",
        "colab_type": "text"
      },
      "cell_type": "markdown",
      "source": [
        "* __Bureau Balance__"
      ]
    },
    {
      "metadata": {
        "scrolled": true,
        "id": "9tUr3IyTc0SY",
        "colab_type": "code",
        "colab": {},
        "outputId": "44dad06f-3e80-4f8d-fce2-12782c22622d"
      },
      "cell_type": "code",
      "source": [
        "bureau_balance.head()"
      ],
      "execution_count": 0,
      "outputs": [
        {
          "output_type": "execute_result",
          "data": {
            "text/html": [
              "<div>\n",
              "<style scoped>\n",
              "    .dataframe tbody tr th:only-of-type {\n",
              "        vertical-align: middle;\n",
              "    }\n",
              "\n",
              "    .dataframe tbody tr th {\n",
              "        vertical-align: top;\n",
              "    }\n",
              "\n",
              "    .dataframe thead th {\n",
              "        text-align: right;\n",
              "    }\n",
              "</style>\n",
              "<table border=\"1\" class=\"dataframe\">\n",
              "  <thead>\n",
              "    <tr style=\"text-align: right;\">\n",
              "      <th></th>\n",
              "      <th>SK_ID_BUREAU</th>\n",
              "      <th>MONTHS_BALANCE</th>\n",
              "      <th>STATUS</th>\n",
              "    </tr>\n",
              "  </thead>\n",
              "  <tbody>\n",
              "    <tr>\n",
              "      <th>0</th>\n",
              "      <td>5715448</td>\n",
              "      <td>0</td>\n",
              "      <td>C</td>\n",
              "    </tr>\n",
              "    <tr>\n",
              "      <th>1</th>\n",
              "      <td>5715448</td>\n",
              "      <td>-1</td>\n",
              "      <td>C</td>\n",
              "    </tr>\n",
              "    <tr>\n",
              "      <th>2</th>\n",
              "      <td>5715448</td>\n",
              "      <td>-2</td>\n",
              "      <td>C</td>\n",
              "    </tr>\n",
              "    <tr>\n",
              "      <th>3</th>\n",
              "      <td>5715448</td>\n",
              "      <td>-3</td>\n",
              "      <td>C</td>\n",
              "    </tr>\n",
              "    <tr>\n",
              "      <th>4</th>\n",
              "      <td>5715448</td>\n",
              "      <td>-4</td>\n",
              "      <td>C</td>\n",
              "    </tr>\n",
              "  </tbody>\n",
              "</table>\n",
              "</div>"
            ],
            "text/plain": [
              "   SK_ID_BUREAU  MONTHS_BALANCE STATUS\n",
              "0       5715448               0      C\n",
              "1       5715448              -1      C\n",
              "2       5715448              -2      C\n",
              "3       5715448              -3      C\n",
              "4       5715448              -4      C"
            ]
          },
          "metadata": {
            "tags": []
          },
          "execution_count": 49
        }
      ]
    },
    {
      "metadata": {
        "id": "QM9x7-VNc0Sb",
        "colab_type": "text"
      },
      "cell_type": "markdown",
      "source": [
        "* __Credit card balance__"
      ]
    },
    {
      "metadata": {
        "scrolled": true,
        "id": "3BQhLlExc0Sb",
        "colab_type": "code",
        "colab": {},
        "outputId": "15433691-0d56-4d25-d800-7e5d3dfa2c93"
      },
      "cell_type": "code",
      "source": [
        "credit_card_balance.head()"
      ],
      "execution_count": 0,
      "outputs": [
        {
          "output_type": "execute_result",
          "data": {
            "text/html": [
              "<div>\n",
              "<style scoped>\n",
              "    .dataframe tbody tr th:only-of-type {\n",
              "        vertical-align: middle;\n",
              "    }\n",
              "\n",
              "    .dataframe tbody tr th {\n",
              "        vertical-align: top;\n",
              "    }\n",
              "\n",
              "    .dataframe thead th {\n",
              "        text-align: right;\n",
              "    }\n",
              "</style>\n",
              "<table border=\"1\" class=\"dataframe\">\n",
              "  <thead>\n",
              "    <tr style=\"text-align: right;\">\n",
              "      <th></th>\n",
              "      <th>SK_ID_PREV</th>\n",
              "      <th>SK_ID_CURR</th>\n",
              "      <th>MONTHS_BALANCE</th>\n",
              "      <th>AMT_BALANCE</th>\n",
              "      <th>AMT_CREDIT_LIMIT_ACTUAL</th>\n",
              "      <th>AMT_DRAWINGS_ATM_CURRENT</th>\n",
              "      <th>AMT_DRAWINGS_CURRENT</th>\n",
              "      <th>AMT_DRAWINGS_OTHER_CURRENT</th>\n",
              "      <th>AMT_DRAWINGS_POS_CURRENT</th>\n",
              "      <th>AMT_INST_MIN_REGULARITY</th>\n",
              "      <th>...</th>\n",
              "      <th>AMT_RECIVABLE</th>\n",
              "      <th>AMT_TOTAL_RECEIVABLE</th>\n",
              "      <th>CNT_DRAWINGS_ATM_CURRENT</th>\n",
              "      <th>CNT_DRAWINGS_CURRENT</th>\n",
              "      <th>CNT_DRAWINGS_OTHER_CURRENT</th>\n",
              "      <th>CNT_DRAWINGS_POS_CURRENT</th>\n",
              "      <th>CNT_INSTALMENT_MATURE_CUM</th>\n",
              "      <th>NAME_CONTRACT_STATUS</th>\n",
              "      <th>SK_DPD</th>\n",
              "      <th>SK_DPD_DEF</th>\n",
              "    </tr>\n",
              "  </thead>\n",
              "  <tbody>\n",
              "    <tr>\n",
              "      <th>0</th>\n",
              "      <td>2562384</td>\n",
              "      <td>378907</td>\n",
              "      <td>-6</td>\n",
              "      <td>56.970</td>\n",
              "      <td>135000</td>\n",
              "      <td>0.0</td>\n",
              "      <td>877.5</td>\n",
              "      <td>0.0</td>\n",
              "      <td>877.5</td>\n",
              "      <td>1700.325</td>\n",
              "      <td>...</td>\n",
              "      <td>0.000</td>\n",
              "      <td>0.000</td>\n",
              "      <td>0.0</td>\n",
              "      <td>1</td>\n",
              "      <td>0.0</td>\n",
              "      <td>1.0</td>\n",
              "      <td>35.0</td>\n",
              "      <td>Active</td>\n",
              "      <td>0</td>\n",
              "      <td>0</td>\n",
              "    </tr>\n",
              "    <tr>\n",
              "      <th>1</th>\n",
              "      <td>2582071</td>\n",
              "      <td>363914</td>\n",
              "      <td>-1</td>\n",
              "      <td>63975.555</td>\n",
              "      <td>45000</td>\n",
              "      <td>2250.0</td>\n",
              "      <td>2250.0</td>\n",
              "      <td>0.0</td>\n",
              "      <td>0.0</td>\n",
              "      <td>2250.000</td>\n",
              "      <td>...</td>\n",
              "      <td>64875.555</td>\n",
              "      <td>64875.555</td>\n",
              "      <td>1.0</td>\n",
              "      <td>1</td>\n",
              "      <td>0.0</td>\n",
              "      <td>0.0</td>\n",
              "      <td>69.0</td>\n",
              "      <td>Active</td>\n",
              "      <td>0</td>\n",
              "      <td>0</td>\n",
              "    </tr>\n",
              "    <tr>\n",
              "      <th>2</th>\n",
              "      <td>1740877</td>\n",
              "      <td>371185</td>\n",
              "      <td>-7</td>\n",
              "      <td>31815.225</td>\n",
              "      <td>450000</td>\n",
              "      <td>0.0</td>\n",
              "      <td>0.0</td>\n",
              "      <td>0.0</td>\n",
              "      <td>0.0</td>\n",
              "      <td>2250.000</td>\n",
              "      <td>...</td>\n",
              "      <td>31460.085</td>\n",
              "      <td>31460.085</td>\n",
              "      <td>0.0</td>\n",
              "      <td>0</td>\n",
              "      <td>0.0</td>\n",
              "      <td>0.0</td>\n",
              "      <td>30.0</td>\n",
              "      <td>Active</td>\n",
              "      <td>0</td>\n",
              "      <td>0</td>\n",
              "    </tr>\n",
              "    <tr>\n",
              "      <th>3</th>\n",
              "      <td>1389973</td>\n",
              "      <td>337855</td>\n",
              "      <td>-4</td>\n",
              "      <td>236572.110</td>\n",
              "      <td>225000</td>\n",
              "      <td>2250.0</td>\n",
              "      <td>2250.0</td>\n",
              "      <td>0.0</td>\n",
              "      <td>0.0</td>\n",
              "      <td>11795.760</td>\n",
              "      <td>...</td>\n",
              "      <td>233048.970</td>\n",
              "      <td>233048.970</td>\n",
              "      <td>1.0</td>\n",
              "      <td>1</td>\n",
              "      <td>0.0</td>\n",
              "      <td>0.0</td>\n",
              "      <td>10.0</td>\n",
              "      <td>Active</td>\n",
              "      <td>0</td>\n",
              "      <td>0</td>\n",
              "    </tr>\n",
              "    <tr>\n",
              "      <th>4</th>\n",
              "      <td>1891521</td>\n",
              "      <td>126868</td>\n",
              "      <td>-1</td>\n",
              "      <td>453919.455</td>\n",
              "      <td>450000</td>\n",
              "      <td>0.0</td>\n",
              "      <td>11547.0</td>\n",
              "      <td>0.0</td>\n",
              "      <td>11547.0</td>\n",
              "      <td>22924.890</td>\n",
              "      <td>...</td>\n",
              "      <td>453919.455</td>\n",
              "      <td>453919.455</td>\n",
              "      <td>0.0</td>\n",
              "      <td>1</td>\n",
              "      <td>0.0</td>\n",
              "      <td>1.0</td>\n",
              "      <td>101.0</td>\n",
              "      <td>Active</td>\n",
              "      <td>0</td>\n",
              "      <td>0</td>\n",
              "    </tr>\n",
              "  </tbody>\n",
              "</table>\n",
              "<p>5 rows × 23 columns</p>\n",
              "</div>"
            ],
            "text/plain": [
              "   SK_ID_PREV  SK_ID_CURR  MONTHS_BALANCE  AMT_BALANCE  \\\n",
              "0     2562384      378907              -6       56.970   \n",
              "1     2582071      363914              -1    63975.555   \n",
              "2     1740877      371185              -7    31815.225   \n",
              "3     1389973      337855              -4   236572.110   \n",
              "4     1891521      126868              -1   453919.455   \n",
              "\n",
              "   AMT_CREDIT_LIMIT_ACTUAL  AMT_DRAWINGS_ATM_CURRENT  AMT_DRAWINGS_CURRENT  \\\n",
              "0                   135000                       0.0                 877.5   \n",
              "1                    45000                    2250.0                2250.0   \n",
              "2                   450000                       0.0                   0.0   \n",
              "3                   225000                    2250.0                2250.0   \n",
              "4                   450000                       0.0               11547.0   \n",
              "\n",
              "   AMT_DRAWINGS_OTHER_CURRENT  AMT_DRAWINGS_POS_CURRENT  \\\n",
              "0                         0.0                     877.5   \n",
              "1                         0.0                       0.0   \n",
              "2                         0.0                       0.0   \n",
              "3                         0.0                       0.0   \n",
              "4                         0.0                   11547.0   \n",
              "\n",
              "   AMT_INST_MIN_REGULARITY     ...      AMT_RECIVABLE  AMT_TOTAL_RECEIVABLE  \\\n",
              "0                 1700.325     ...              0.000                 0.000   \n",
              "1                 2250.000     ...          64875.555             64875.555   \n",
              "2                 2250.000     ...          31460.085             31460.085   \n",
              "3                11795.760     ...         233048.970            233048.970   \n",
              "4                22924.890     ...         453919.455            453919.455   \n",
              "\n",
              "   CNT_DRAWINGS_ATM_CURRENT  CNT_DRAWINGS_CURRENT  CNT_DRAWINGS_OTHER_CURRENT  \\\n",
              "0                       0.0                     1                         0.0   \n",
              "1                       1.0                     1                         0.0   \n",
              "2                       0.0                     0                         0.0   \n",
              "3                       1.0                     1                         0.0   \n",
              "4                       0.0                     1                         0.0   \n",
              "\n",
              "   CNT_DRAWINGS_POS_CURRENT  CNT_INSTALMENT_MATURE_CUM  NAME_CONTRACT_STATUS  \\\n",
              "0                       1.0                       35.0                Active   \n",
              "1                       0.0                       69.0                Active   \n",
              "2                       0.0                       30.0                Active   \n",
              "3                       0.0                       10.0                Active   \n",
              "4                       1.0                      101.0                Active   \n",
              "\n",
              "   SK_DPD  SK_DPD_DEF  \n",
              "0       0           0  \n",
              "1       0           0  \n",
              "2       0           0  \n",
              "3       0           0  \n",
              "4       0           0  \n",
              "\n",
              "[5 rows x 23 columns]"
            ]
          },
          "metadata": {
            "tags": []
          },
          "execution_count": 50
        }
      ]
    },
    {
      "metadata": {
        "id": "cR7bc1xMc0Se",
        "colab_type": "text"
      },
      "cell_type": "markdown",
      "source": [
        "* __Installment payments__"
      ]
    },
    {
      "metadata": {
        "scrolled": true,
        "id": "HIc_j_ztc0Se",
        "colab_type": "code",
        "colab": {},
        "outputId": "18c476b8-7c3d-492a-ae97-875ad2515a98"
      },
      "cell_type": "code",
      "source": [
        "installments_payments.head()"
      ],
      "execution_count": 0,
      "outputs": [
        {
          "output_type": "execute_result",
          "data": {
            "text/html": [
              "<div>\n",
              "<style scoped>\n",
              "    .dataframe tbody tr th:only-of-type {\n",
              "        vertical-align: middle;\n",
              "    }\n",
              "\n",
              "    .dataframe tbody tr th {\n",
              "        vertical-align: top;\n",
              "    }\n",
              "\n",
              "    .dataframe thead th {\n",
              "        text-align: right;\n",
              "    }\n",
              "</style>\n",
              "<table border=\"1\" class=\"dataframe\">\n",
              "  <thead>\n",
              "    <tr style=\"text-align: right;\">\n",
              "      <th></th>\n",
              "      <th>SK_ID_PREV</th>\n",
              "      <th>SK_ID_CURR</th>\n",
              "      <th>NUM_INSTALMENT_VERSION</th>\n",
              "      <th>NUM_INSTALMENT_NUMBER</th>\n",
              "      <th>DAYS_INSTALMENT</th>\n",
              "      <th>DAYS_ENTRY_PAYMENT</th>\n",
              "      <th>AMT_INSTALMENT</th>\n",
              "      <th>AMT_PAYMENT</th>\n",
              "    </tr>\n",
              "  </thead>\n",
              "  <tbody>\n",
              "    <tr>\n",
              "      <th>0</th>\n",
              "      <td>1054186</td>\n",
              "      <td>161674</td>\n",
              "      <td>1.0</td>\n",
              "      <td>6</td>\n",
              "      <td>-1180.0</td>\n",
              "      <td>-1187.0</td>\n",
              "      <td>6948.360</td>\n",
              "      <td>6948.360</td>\n",
              "    </tr>\n",
              "    <tr>\n",
              "      <th>1</th>\n",
              "      <td>1330831</td>\n",
              "      <td>151639</td>\n",
              "      <td>0.0</td>\n",
              "      <td>34</td>\n",
              "      <td>-2156.0</td>\n",
              "      <td>-2156.0</td>\n",
              "      <td>1716.525</td>\n",
              "      <td>1716.525</td>\n",
              "    </tr>\n",
              "    <tr>\n",
              "      <th>2</th>\n",
              "      <td>2085231</td>\n",
              "      <td>193053</td>\n",
              "      <td>2.0</td>\n",
              "      <td>1</td>\n",
              "      <td>-63.0</td>\n",
              "      <td>-63.0</td>\n",
              "      <td>25425.000</td>\n",
              "      <td>25425.000</td>\n",
              "    </tr>\n",
              "    <tr>\n",
              "      <th>3</th>\n",
              "      <td>2452527</td>\n",
              "      <td>199697</td>\n",
              "      <td>1.0</td>\n",
              "      <td>3</td>\n",
              "      <td>-2418.0</td>\n",
              "      <td>-2426.0</td>\n",
              "      <td>24350.130</td>\n",
              "      <td>24350.130</td>\n",
              "    </tr>\n",
              "    <tr>\n",
              "      <th>4</th>\n",
              "      <td>2714724</td>\n",
              "      <td>167756</td>\n",
              "      <td>1.0</td>\n",
              "      <td>2</td>\n",
              "      <td>-1383.0</td>\n",
              "      <td>-1366.0</td>\n",
              "      <td>2165.040</td>\n",
              "      <td>2160.585</td>\n",
              "    </tr>\n",
              "  </tbody>\n",
              "</table>\n",
              "</div>"
            ],
            "text/plain": [
              "   SK_ID_PREV  SK_ID_CURR  NUM_INSTALMENT_VERSION  NUM_INSTALMENT_NUMBER  \\\n",
              "0     1054186      161674                     1.0                      6   \n",
              "1     1330831      151639                     0.0                     34   \n",
              "2     2085231      193053                     2.0                      1   \n",
              "3     2452527      199697                     1.0                      3   \n",
              "4     2714724      167756                     1.0                      2   \n",
              "\n",
              "   DAYS_INSTALMENT  DAYS_ENTRY_PAYMENT  AMT_INSTALMENT  AMT_PAYMENT  \n",
              "0          -1180.0             -1187.0        6948.360     6948.360  \n",
              "1          -2156.0             -2156.0        1716.525     1716.525  \n",
              "2            -63.0               -63.0       25425.000    25425.000  \n",
              "3          -2418.0             -2426.0       24350.130    24350.130  \n",
              "4          -1383.0             -1366.0        2165.040     2160.585  "
            ]
          },
          "metadata": {
            "tags": []
          },
          "execution_count": 51
        }
      ]
    },
    {
      "metadata": {
        "id": "LtvDVW8-c0Sg",
        "colab_type": "text"
      },
      "cell_type": "markdown",
      "source": [
        "* __Previous application__"
      ]
    },
    {
      "metadata": {
        "scrolled": true,
        "id": "2L18Trilc0Sh",
        "colab_type": "code",
        "colab": {},
        "outputId": "1d403f9d-8352-4c16-bf96-842fc3585dbf"
      },
      "cell_type": "code",
      "source": [
        "previous_application.head()"
      ],
      "execution_count": 0,
      "outputs": [
        {
          "output_type": "execute_result",
          "data": {
            "text/html": [
              "<div>\n",
              "<style scoped>\n",
              "    .dataframe tbody tr th:only-of-type {\n",
              "        vertical-align: middle;\n",
              "    }\n",
              "\n",
              "    .dataframe tbody tr th {\n",
              "        vertical-align: top;\n",
              "    }\n",
              "\n",
              "    .dataframe thead th {\n",
              "        text-align: right;\n",
              "    }\n",
              "</style>\n",
              "<table border=\"1\" class=\"dataframe\">\n",
              "  <thead>\n",
              "    <tr style=\"text-align: right;\">\n",
              "      <th></th>\n",
              "      <th>SK_ID_PREV</th>\n",
              "      <th>SK_ID_CURR</th>\n",
              "      <th>NAME_CONTRACT_TYPE</th>\n",
              "      <th>AMT_ANNUITY</th>\n",
              "      <th>AMT_APPLICATION</th>\n",
              "      <th>AMT_CREDIT</th>\n",
              "      <th>AMT_DOWN_PAYMENT</th>\n",
              "      <th>AMT_GOODS_PRICE</th>\n",
              "      <th>WEEKDAY_APPR_PROCESS_START</th>\n",
              "      <th>HOUR_APPR_PROCESS_START</th>\n",
              "      <th>...</th>\n",
              "      <th>NAME_SELLER_INDUSTRY</th>\n",
              "      <th>CNT_PAYMENT</th>\n",
              "      <th>NAME_YIELD_GROUP</th>\n",
              "      <th>PRODUCT_COMBINATION</th>\n",
              "      <th>DAYS_FIRST_DRAWING</th>\n",
              "      <th>DAYS_FIRST_DUE</th>\n",
              "      <th>DAYS_LAST_DUE_1ST_VERSION</th>\n",
              "      <th>DAYS_LAST_DUE</th>\n",
              "      <th>DAYS_TERMINATION</th>\n",
              "      <th>NFLAG_INSURED_ON_APPROVAL</th>\n",
              "    </tr>\n",
              "  </thead>\n",
              "  <tbody>\n",
              "    <tr>\n",
              "      <th>0</th>\n",
              "      <td>2030495</td>\n",
              "      <td>271877</td>\n",
              "      <td>Consumer loans</td>\n",
              "      <td>1730.430</td>\n",
              "      <td>17145.0</td>\n",
              "      <td>17145.0</td>\n",
              "      <td>0.0</td>\n",
              "      <td>17145.0</td>\n",
              "      <td>SATURDAY</td>\n",
              "      <td>15</td>\n",
              "      <td>...</td>\n",
              "      <td>Connectivity</td>\n",
              "      <td>12.0</td>\n",
              "      <td>middle</td>\n",
              "      <td>POS mobile with interest</td>\n",
              "      <td>365243.0</td>\n",
              "      <td>-42.0</td>\n",
              "      <td>300.0</td>\n",
              "      <td>-42.0</td>\n",
              "      <td>-37.0</td>\n",
              "      <td>0.0</td>\n",
              "    </tr>\n",
              "    <tr>\n",
              "      <th>1</th>\n",
              "      <td>2802425</td>\n",
              "      <td>108129</td>\n",
              "      <td>Cash loans</td>\n",
              "      <td>25188.615</td>\n",
              "      <td>607500.0</td>\n",
              "      <td>679671.0</td>\n",
              "      <td>NaN</td>\n",
              "      <td>607500.0</td>\n",
              "      <td>THURSDAY</td>\n",
              "      <td>11</td>\n",
              "      <td>...</td>\n",
              "      <td>XNA</td>\n",
              "      <td>36.0</td>\n",
              "      <td>low_action</td>\n",
              "      <td>Cash X-Sell: low</td>\n",
              "      <td>365243.0</td>\n",
              "      <td>-134.0</td>\n",
              "      <td>916.0</td>\n",
              "      <td>365243.0</td>\n",
              "      <td>365243.0</td>\n",
              "      <td>1.0</td>\n",
              "    </tr>\n",
              "    <tr>\n",
              "      <th>2</th>\n",
              "      <td>2523466</td>\n",
              "      <td>122040</td>\n",
              "      <td>Cash loans</td>\n",
              "      <td>15060.735</td>\n",
              "      <td>112500.0</td>\n",
              "      <td>136444.5</td>\n",
              "      <td>NaN</td>\n",
              "      <td>112500.0</td>\n",
              "      <td>TUESDAY</td>\n",
              "      <td>11</td>\n",
              "      <td>...</td>\n",
              "      <td>XNA</td>\n",
              "      <td>12.0</td>\n",
              "      <td>high</td>\n",
              "      <td>Cash X-Sell: high</td>\n",
              "      <td>365243.0</td>\n",
              "      <td>-271.0</td>\n",
              "      <td>59.0</td>\n",
              "      <td>365243.0</td>\n",
              "      <td>365243.0</td>\n",
              "      <td>1.0</td>\n",
              "    </tr>\n",
              "    <tr>\n",
              "      <th>3</th>\n",
              "      <td>2819243</td>\n",
              "      <td>176158</td>\n",
              "      <td>Cash loans</td>\n",
              "      <td>47041.335</td>\n",
              "      <td>450000.0</td>\n",
              "      <td>470790.0</td>\n",
              "      <td>NaN</td>\n",
              "      <td>450000.0</td>\n",
              "      <td>MONDAY</td>\n",
              "      <td>7</td>\n",
              "      <td>...</td>\n",
              "      <td>XNA</td>\n",
              "      <td>12.0</td>\n",
              "      <td>middle</td>\n",
              "      <td>Cash X-Sell: middle</td>\n",
              "      <td>365243.0</td>\n",
              "      <td>-482.0</td>\n",
              "      <td>-152.0</td>\n",
              "      <td>-182.0</td>\n",
              "      <td>-177.0</td>\n",
              "      <td>1.0</td>\n",
              "    </tr>\n",
              "    <tr>\n",
              "      <th>4</th>\n",
              "      <td>1784265</td>\n",
              "      <td>202054</td>\n",
              "      <td>Cash loans</td>\n",
              "      <td>31924.395</td>\n",
              "      <td>337500.0</td>\n",
              "      <td>404055.0</td>\n",
              "      <td>NaN</td>\n",
              "      <td>337500.0</td>\n",
              "      <td>THURSDAY</td>\n",
              "      <td>9</td>\n",
              "      <td>...</td>\n",
              "      <td>XNA</td>\n",
              "      <td>24.0</td>\n",
              "      <td>high</td>\n",
              "      <td>Cash Street: high</td>\n",
              "      <td>NaN</td>\n",
              "      <td>NaN</td>\n",
              "      <td>NaN</td>\n",
              "      <td>NaN</td>\n",
              "      <td>NaN</td>\n",
              "      <td>NaN</td>\n",
              "    </tr>\n",
              "  </tbody>\n",
              "</table>\n",
              "<p>5 rows × 37 columns</p>\n",
              "</div>"
            ],
            "text/plain": [
              "   SK_ID_PREV  SK_ID_CURR NAME_CONTRACT_TYPE  AMT_ANNUITY  AMT_APPLICATION  \\\n",
              "0     2030495      271877     Consumer loans     1730.430          17145.0   \n",
              "1     2802425      108129         Cash loans    25188.615         607500.0   \n",
              "2     2523466      122040         Cash loans    15060.735         112500.0   \n",
              "3     2819243      176158         Cash loans    47041.335         450000.0   \n",
              "4     1784265      202054         Cash loans    31924.395         337500.0   \n",
              "\n",
              "   AMT_CREDIT  AMT_DOWN_PAYMENT  AMT_GOODS_PRICE WEEKDAY_APPR_PROCESS_START  \\\n",
              "0     17145.0               0.0          17145.0                   SATURDAY   \n",
              "1    679671.0               NaN         607500.0                   THURSDAY   \n",
              "2    136444.5               NaN         112500.0                    TUESDAY   \n",
              "3    470790.0               NaN         450000.0                     MONDAY   \n",
              "4    404055.0               NaN         337500.0                   THURSDAY   \n",
              "\n",
              "   HOUR_APPR_PROCESS_START            ...            NAME_SELLER_INDUSTRY  \\\n",
              "0                       15            ...                    Connectivity   \n",
              "1                       11            ...                             XNA   \n",
              "2                       11            ...                             XNA   \n",
              "3                        7            ...                             XNA   \n",
              "4                        9            ...                             XNA   \n",
              "\n",
              "   CNT_PAYMENT  NAME_YIELD_GROUP       PRODUCT_COMBINATION  \\\n",
              "0         12.0            middle  POS mobile with interest   \n",
              "1         36.0        low_action          Cash X-Sell: low   \n",
              "2         12.0              high         Cash X-Sell: high   \n",
              "3         12.0            middle       Cash X-Sell: middle   \n",
              "4         24.0              high         Cash Street: high   \n",
              "\n",
              "   DAYS_FIRST_DRAWING DAYS_FIRST_DUE DAYS_LAST_DUE_1ST_VERSION  DAYS_LAST_DUE  \\\n",
              "0            365243.0          -42.0                     300.0          -42.0   \n",
              "1            365243.0         -134.0                     916.0       365243.0   \n",
              "2            365243.0         -271.0                      59.0       365243.0   \n",
              "3            365243.0         -482.0                    -152.0         -182.0   \n",
              "4                 NaN            NaN                       NaN            NaN   \n",
              "\n",
              "  DAYS_TERMINATION NFLAG_INSURED_ON_APPROVAL  \n",
              "0            -37.0                       0.0  \n",
              "1         365243.0                       1.0  \n",
              "2         365243.0                       1.0  \n",
              "3           -177.0                       1.0  \n",
              "4              NaN                       NaN  \n",
              "\n",
              "[5 rows x 37 columns]"
            ]
          },
          "metadata": {
            "tags": []
          },
          "execution_count": 52
        }
      ]
    },
    {
      "metadata": {
        "id": "vqmA6-1oc0Sj",
        "colab_type": "text"
      },
      "cell_type": "markdown",
      "source": [
        "* __POS_CASH_balance__"
      ]
    },
    {
      "metadata": {
        "scrolled": true,
        "id": "_hWouUIwc0Sk",
        "colab_type": "code",
        "colab": {},
        "outputId": "eab71c27-9a0c-4fa0-eff7-1f6b44abe049"
      },
      "cell_type": "code",
      "source": [
        "POS_CASH_balance.head()"
      ],
      "execution_count": 0,
      "outputs": [
        {
          "output_type": "execute_result",
          "data": {
            "text/html": [
              "<div>\n",
              "<style scoped>\n",
              "    .dataframe tbody tr th:only-of-type {\n",
              "        vertical-align: middle;\n",
              "    }\n",
              "\n",
              "    .dataframe tbody tr th {\n",
              "        vertical-align: top;\n",
              "    }\n",
              "\n",
              "    .dataframe thead th {\n",
              "        text-align: right;\n",
              "    }\n",
              "</style>\n",
              "<table border=\"1\" class=\"dataframe\">\n",
              "  <thead>\n",
              "    <tr style=\"text-align: right;\">\n",
              "      <th></th>\n",
              "      <th>SK_ID_PREV</th>\n",
              "      <th>SK_ID_CURR</th>\n",
              "      <th>MONTHS_BALANCE</th>\n",
              "      <th>CNT_INSTALMENT</th>\n",
              "      <th>CNT_INSTALMENT_FUTURE</th>\n",
              "      <th>NAME_CONTRACT_STATUS</th>\n",
              "      <th>SK_DPD</th>\n",
              "      <th>SK_DPD_DEF</th>\n",
              "    </tr>\n",
              "  </thead>\n",
              "  <tbody>\n",
              "    <tr>\n",
              "      <th>0</th>\n",
              "      <td>1803195</td>\n",
              "      <td>182943</td>\n",
              "      <td>-31</td>\n",
              "      <td>48.0</td>\n",
              "      <td>45.0</td>\n",
              "      <td>Active</td>\n",
              "      <td>0</td>\n",
              "      <td>0</td>\n",
              "    </tr>\n",
              "    <tr>\n",
              "      <th>1</th>\n",
              "      <td>1715348</td>\n",
              "      <td>367990</td>\n",
              "      <td>-33</td>\n",
              "      <td>36.0</td>\n",
              "      <td>35.0</td>\n",
              "      <td>Active</td>\n",
              "      <td>0</td>\n",
              "      <td>0</td>\n",
              "    </tr>\n",
              "    <tr>\n",
              "      <th>2</th>\n",
              "      <td>1784872</td>\n",
              "      <td>397406</td>\n",
              "      <td>-32</td>\n",
              "      <td>12.0</td>\n",
              "      <td>9.0</td>\n",
              "      <td>Active</td>\n",
              "      <td>0</td>\n",
              "      <td>0</td>\n",
              "    </tr>\n",
              "    <tr>\n",
              "      <th>3</th>\n",
              "      <td>1903291</td>\n",
              "      <td>269225</td>\n",
              "      <td>-35</td>\n",
              "      <td>48.0</td>\n",
              "      <td>42.0</td>\n",
              "      <td>Active</td>\n",
              "      <td>0</td>\n",
              "      <td>0</td>\n",
              "    </tr>\n",
              "    <tr>\n",
              "      <th>4</th>\n",
              "      <td>2341044</td>\n",
              "      <td>334279</td>\n",
              "      <td>-35</td>\n",
              "      <td>36.0</td>\n",
              "      <td>35.0</td>\n",
              "      <td>Active</td>\n",
              "      <td>0</td>\n",
              "      <td>0</td>\n",
              "    </tr>\n",
              "  </tbody>\n",
              "</table>\n",
              "</div>"
            ],
            "text/plain": [
              "   SK_ID_PREV  SK_ID_CURR  MONTHS_BALANCE  CNT_INSTALMENT  \\\n",
              "0     1803195      182943             -31            48.0   \n",
              "1     1715348      367990             -33            36.0   \n",
              "2     1784872      397406             -32            12.0   \n",
              "3     1903291      269225             -35            48.0   \n",
              "4     2341044      334279             -35            36.0   \n",
              "\n",
              "   CNT_INSTALMENT_FUTURE NAME_CONTRACT_STATUS  SK_DPD  SK_DPD_DEF  \n",
              "0                   45.0               Active       0           0  \n",
              "1                   35.0               Active       0           0  \n",
              "2                    9.0               Active       0           0  \n",
              "3                   42.0               Active       0           0  \n",
              "4                   35.0               Active       0           0  "
            ]
          },
          "metadata": {
            "tags": []
          },
          "execution_count": 53
        }
      ]
    },
    {
      "metadata": {
        "id": "MNvYKwtMc0Sl",
        "colab_type": "text"
      },
      "cell_type": "markdown",
      "source": [
        "# Exploratory Data Analysis"
      ]
    },
    {
      "metadata": {
        "id": "TE2YhABEc0Sm",
        "colab_type": "text"
      },
      "cell_type": "markdown",
      "source": [
        "## Missing data for application train"
      ]
    },
    {
      "metadata": {
        "id": "cFhf5B2fc0Sm",
        "colab_type": "code",
        "colab": {},
        "outputId": "d66ef472-1b87-40a8-d9ae-542b93ed8534"
      },
      "cell_type": "code",
      "source": [
        "total = app_train.isnull().sum().sort_values(ascending = False)\n",
        "percent = (app_train.isnull().sum()/app_train.isnull().count()*100).sort_values(ascending = False).round(2)\n",
        "missing_application_train_data  = pd.concat([total, percent], axis=1, keys=['Total', 'Percent'])\n",
        "missing_application_train_data.head(20)"
      ],
      "execution_count": 0,
      "outputs": [
        {
          "output_type": "execute_result",
          "data": {
            "text/html": [
              "<div>\n",
              "<style scoped>\n",
              "    .dataframe tbody tr th:only-of-type {\n",
              "        vertical-align: middle;\n",
              "    }\n",
              "\n",
              "    .dataframe tbody tr th {\n",
              "        vertical-align: top;\n",
              "    }\n",
              "\n",
              "    .dataframe thead th {\n",
              "        text-align: right;\n",
              "    }\n",
              "</style>\n",
              "<table border=\"1\" class=\"dataframe\">\n",
              "  <thead>\n",
              "    <tr style=\"text-align: right;\">\n",
              "      <th></th>\n",
              "      <th>Total</th>\n",
              "      <th>Percent</th>\n",
              "    </tr>\n",
              "  </thead>\n",
              "  <tbody>\n",
              "    <tr>\n",
              "      <th>COMMONAREA_MEDI</th>\n",
              "      <td>214865</td>\n",
              "      <td>69.87</td>\n",
              "    </tr>\n",
              "    <tr>\n",
              "      <th>COMMONAREA_AVG</th>\n",
              "      <td>214865</td>\n",
              "      <td>69.87</td>\n",
              "    </tr>\n",
              "    <tr>\n",
              "      <th>COMMONAREA_MODE</th>\n",
              "      <td>214865</td>\n",
              "      <td>69.87</td>\n",
              "    </tr>\n",
              "    <tr>\n",
              "      <th>NONLIVINGAPARTMENTS_MODE</th>\n",
              "      <td>213514</td>\n",
              "      <td>69.43</td>\n",
              "    </tr>\n",
              "    <tr>\n",
              "      <th>NONLIVINGAPARTMENTS_MEDI</th>\n",
              "      <td>213514</td>\n",
              "      <td>69.43</td>\n",
              "    </tr>\n",
              "    <tr>\n",
              "      <th>NONLIVINGAPARTMENTS_AVG</th>\n",
              "      <td>213514</td>\n",
              "      <td>69.43</td>\n",
              "    </tr>\n",
              "    <tr>\n",
              "      <th>FONDKAPREMONT_MODE</th>\n",
              "      <td>210295</td>\n",
              "      <td>68.39</td>\n",
              "    </tr>\n",
              "    <tr>\n",
              "      <th>LIVINGAPARTMENTS_MEDI</th>\n",
              "      <td>210199</td>\n",
              "      <td>68.35</td>\n",
              "    </tr>\n",
              "    <tr>\n",
              "      <th>LIVINGAPARTMENTS_MODE</th>\n",
              "      <td>210199</td>\n",
              "      <td>68.35</td>\n",
              "    </tr>\n",
              "    <tr>\n",
              "      <th>LIVINGAPARTMENTS_AVG</th>\n",
              "      <td>210199</td>\n",
              "      <td>68.35</td>\n",
              "    </tr>\n",
              "    <tr>\n",
              "      <th>FLOORSMIN_MEDI</th>\n",
              "      <td>208642</td>\n",
              "      <td>67.85</td>\n",
              "    </tr>\n",
              "    <tr>\n",
              "      <th>FLOORSMIN_MODE</th>\n",
              "      <td>208642</td>\n",
              "      <td>67.85</td>\n",
              "    </tr>\n",
              "    <tr>\n",
              "      <th>FLOORSMIN_AVG</th>\n",
              "      <td>208642</td>\n",
              "      <td>67.85</td>\n",
              "    </tr>\n",
              "    <tr>\n",
              "      <th>YEARS_BUILD_MEDI</th>\n",
              "      <td>204488</td>\n",
              "      <td>66.50</td>\n",
              "    </tr>\n",
              "    <tr>\n",
              "      <th>YEARS_BUILD_AVG</th>\n",
              "      <td>204488</td>\n",
              "      <td>66.50</td>\n",
              "    </tr>\n",
              "    <tr>\n",
              "      <th>YEARS_BUILD_MODE</th>\n",
              "      <td>204488</td>\n",
              "      <td>66.50</td>\n",
              "    </tr>\n",
              "    <tr>\n",
              "      <th>OWN_CAR_AGE</th>\n",
              "      <td>202929</td>\n",
              "      <td>65.99</td>\n",
              "    </tr>\n",
              "    <tr>\n",
              "      <th>LANDAREA_MODE</th>\n",
              "      <td>182590</td>\n",
              "      <td>59.38</td>\n",
              "    </tr>\n",
              "    <tr>\n",
              "      <th>LANDAREA_AVG</th>\n",
              "      <td>182590</td>\n",
              "      <td>59.38</td>\n",
              "    </tr>\n",
              "    <tr>\n",
              "      <th>LANDAREA_MEDI</th>\n",
              "      <td>182590</td>\n",
              "      <td>59.38</td>\n",
              "    </tr>\n",
              "  </tbody>\n",
              "</table>\n",
              "</div>"
            ],
            "text/plain": [
              "                           Total  Percent\n",
              "COMMONAREA_MEDI           214865    69.87\n",
              "COMMONAREA_AVG            214865    69.87\n",
              "COMMONAREA_MODE           214865    69.87\n",
              "NONLIVINGAPARTMENTS_MODE  213514    69.43\n",
              "NONLIVINGAPARTMENTS_MEDI  213514    69.43\n",
              "NONLIVINGAPARTMENTS_AVG   213514    69.43\n",
              "FONDKAPREMONT_MODE        210295    68.39\n",
              "LIVINGAPARTMENTS_MEDI     210199    68.35\n",
              "LIVINGAPARTMENTS_MODE     210199    68.35\n",
              "LIVINGAPARTMENTS_AVG      210199    68.35\n",
              "FLOORSMIN_MEDI            208642    67.85\n",
              "FLOORSMIN_MODE            208642    67.85\n",
              "FLOORSMIN_AVG             208642    67.85\n",
              "YEARS_BUILD_MEDI          204488    66.50\n",
              "YEARS_BUILD_AVG           204488    66.50\n",
              "YEARS_BUILD_MODE          204488    66.50\n",
              "OWN_CAR_AGE               202929    65.99\n",
              "LANDAREA_MODE             182590    59.38\n",
              "LANDAREA_AVG              182590    59.38\n",
              "LANDAREA_MEDI             182590    59.38"
            ]
          },
          "metadata": {
            "tags": []
          },
          "execution_count": 54
        }
      ]
    },
    {
      "metadata": {
        "id": "xH2nWNvrc0So",
        "colab_type": "text"
      },
      "cell_type": "markdown",
      "source": [
        "## Distribution of the target column "
      ]
    },
    {
      "metadata": {
        "id": "AglB6S-Bc0So",
        "colab_type": "code",
        "colab": {},
        "outputId": "0a8fc85e-fe79-40ac-d5d3-fb4014b99abe"
      },
      "cell_type": "code",
      "source": [
        "app_train['TARGET'].astype(int).plot.hist();"
      ],
      "execution_count": 0,
      "outputs": [
        {
          "output_type": "display_data",
          "data": {
            "image/png": "[encoded data removed]",
            "text/plain": [
              "<Figure size 432x288 with 1 Axes>"
            ]
          },
          "metadata": {
            "tags": [],
            "needs_background": "light"
          }
        }
      ]
    },
    {
      "metadata": {
        "id": "xM5GoWAoc0Sq",
        "colab_type": "text"
      },
      "cell_type": "markdown",
      "source": [
        "## Correlation with  the target column "
      ]
    },
    {
      "metadata": {
        "id": "JaQvNFOhc0Sr",
        "colab_type": "code",
        "colab": {},
        "outputId": "7780f86b-89c9-4ced-ef32-38e900b64c01"
      },
      "cell_type": "code",
      "source": [
        "correlations = app_train.corr()['TARGET'].sort_values()\n",
        "print('Most Positive Correlations:\\n', correlations.tail(15))\n",
        "print('\\nMost Negative Correlations:\\n', correlations.head(15))"
      ],
      "execution_count": 0,
      "outputs": [
        {
          "output_type": "stream",
          "text": [
            "Most Positive Correlations:\n",
            " DEF_60_CNT_SOCIAL_CIRCLE       0.031276\n",
            "DEF_30_CNT_SOCIAL_CIRCLE       0.032248\n",
            "LIVE_CITY_NOT_WORK_CITY        0.032518\n",
            "OWN_CAR_AGE                    0.037612\n",
            "DAYS_REGISTRATION              0.041975\n",
            "FLAG_DOCUMENT_3                0.044346\n",
            "REG_CITY_NOT_LIVE_CITY         0.044395\n",
            "FLAG_EMP_PHONE                 0.045982\n",
            "REG_CITY_NOT_WORK_CITY         0.050994\n",
            "DAYS_ID_PUBLISH                0.051457\n",
            "DAYS_LAST_PHONE_CHANGE         0.055218\n",
            "REGION_RATING_CLIENT           0.058899\n",
            "REGION_RATING_CLIENT_W_CITY    0.060893\n",
            "DAYS_BIRTH                     0.078239\n",
            "TARGET                         1.000000\n",
            "Name: TARGET, dtype: float64\n",
            "\n",
            "Most Negative Correlations:\n",
            " EXT_SOURCE_3                 -0.178919\n",
            "EXT_SOURCE_2                 -0.160472\n",
            "EXT_SOURCE_1                 -0.155317\n",
            "DAYS_EMPLOYED                -0.044932\n",
            "FLOORSMAX_AVG                -0.044003\n",
            "FLOORSMAX_MEDI               -0.043768\n",
            "FLOORSMAX_MODE               -0.043226\n",
            "AMT_GOODS_PRICE              -0.039645\n",
            "REGION_POPULATION_RELATIVE   -0.037227\n",
            "ELEVATORS_AVG                -0.034199\n",
            "ELEVATORS_MEDI               -0.033863\n",
            "FLOORSMIN_AVG                -0.033614\n",
            "FLOORSMIN_MEDI               -0.033394\n",
            "LIVINGAREA_AVG               -0.032997\n",
            "LIVINGAREA_MEDI              -0.032739\n",
            "Name: TARGET, dtype: float64\n"
          ],
          "name": "stdout"
        }
      ]
    },
    {
      "metadata": {
        "id": "XeuNqp-5c0St",
        "colab_type": "text"
      },
      "cell_type": "markdown",
      "source": [
        "## Applicants Age "
      ]
    },
    {
      "metadata": {
        "id": "h3cVsKKkc0St",
        "colab_type": "code",
        "colab": {},
        "outputId": "67e9a313-df6f-4d0a-b5d8-30a4226e33e1"
      },
      "cell_type": "code",
      "source": [
        "plt.hist(app_train['DAYS_BIRTH'] / -365, edgecolor = 'k', bins = 25)\n",
        "plt.title('Age of Client'); plt.xlabel('Age (years)'); plt.ylabel('Count');"
      ],
      "execution_count": 0,
      "outputs": [
        {
          "output_type": "display_data",
          "data": {
            "image/png": "[encoded data removed]",
            "text/plain": [
              "<Figure size 432x288 with 1 Axes>"
            ]
          },
          "metadata": {
            "tags": [],
            "needs_background": "light"
          }
        }
      ]
    },
    {
      "metadata": {
        "id": "uaSLllHkc0Sv",
        "colab_type": "text"
      },
      "cell_type": "markdown",
      "source": [
        "## Applicants occupations"
      ]
    },
    {
      "metadata": {
        "id": "jzIMchhLc0Sw",
        "colab_type": "code",
        "colab": {},
        "outputId": "88f75bc1-d1d2-4ac4-d77e-ebd0be2354d7"
      },
      "cell_type": "code",
      "source": [
        "sns.countplot(x='OCCUPATION_TYPE', data=app_train);\n",
        "plt.title('Applicants Occupation');\n",
        "plt.xticks(rotation=90);"
      ],
      "execution_count": 0,
      "outputs": [
        {
          "output_type": "display_data",
          "data": {
            "image/png": "[encoded data removed]",
            "text/plain": [
              "<Figure size 432x288 with 1 Axes>"
            ]
          },
          "metadata": {
            "tags": [],
            "needs_background": "light"
          }
        }
      ]
    },
    {
      "metadata": {
        "id": "LCbs-FKFc0Sy",
        "colab_type": "text"
      },
      "cell_type": "markdown",
      "source": [
        "# Encoding Categorical Variables"
      ]
    },
    {
      "metadata": {
        "id": "eD2n_OTYc0Sy",
        "colab_type": "text"
      },
      "cell_type": "markdown",
      "source": [
        " For any categorical variable (dtype == object) with 2 unique categories, we will use label encoding, and for any categorical variable with more than 2 unique categories, we will use one-hot encoding."
      ]
    },
    {
      "metadata": {
        "id": "8W7ZIsJMc0Sy",
        "colab_type": "code",
        "colab": {},
        "outputId": "e213b17f-6568-45ca-b60f-962f8a1e9a23"
      },
      "cell_type": "code",
      "source": [
        "le = LabelEncoder()\n",
        "le_count = 0\n",
        "\n",
        "# Iterate through the columns\n",
        "for col in app_train:\n",
        "    if app_train[col].dtype == 'object':\n",
        "        # If 2 or fewer unique categories\n",
        "        if len(list(app_train[col].unique())) <= 2:\n",
        "            # Train on the training data\n",
        "            le.fit(app_train[col])\n",
        "            # Transform both training and testing data\n",
        "            app_train[col] = le.transform(app_train[col])\n",
        "            app_test[col] = le.transform(app_test[col])\n",
        "            \n",
        "            # Keep track of how many columns were label encoded\n",
        "            le_count += 1\n",
        "            \n",
        "print('%d columns were label encoded.' % le_count)\n"
      ],
      "execution_count": 0,
      "outputs": [
        {
          "output_type": "stream",
          "text": [
            "3 columns were label encoded.\n"
          ],
          "name": "stdout"
        }
      ]
    },
    {
      "metadata": {
        "id": "52QJRe8Vc0S0",
        "colab_type": "code",
        "colab": {},
        "outputId": "2424cfd9-9ab1-42e8-80ee-24d1cfd3e9a1"
      },
      "cell_type": "code",
      "source": [
        "app_train = pd.get_dummies(app_train)\n",
        "app_test = pd.get_dummies(app_test)\n",
        "\n",
        "print('Training Features shape: ', app_train.shape)\n",
        "print('Testing Features shape: ', app_test.shape)"
      ],
      "execution_count": 0,
      "outputs": [
        {
          "output_type": "stream",
          "text": [
            "Training Features shape:  (307511, 243)\n",
            "Testing Features shape:  (48744, 239)\n"
          ],
          "name": "stdout"
        }
      ]
    },
    {
      "metadata": {
        "id": "f0DDXoPwc0S2",
        "colab_type": "text"
      },
      "cell_type": "markdown",
      "source": [
        "There need to be the same features (columns) in both the training and testing data. One-hot encoding has created more columns in the training data because there were some categorical variables with categories not represented in the testing data. To remove the columns in the training data that are not in the testing data, we need to align the dataframes. First we extract the target column from the training data (because this is not in the testing data but we need to keep this information). When we do the align, we must make sure to set axis = 1 to align the dataframes based on the columns and not on the rows!"
      ]
    },
    {
      "metadata": {
        "id": "4YWpX35fc0S2",
        "colab_type": "code",
        "colab": {},
        "outputId": "5949f5d0-2c14-4e90-b0a2-d282cfab643b"
      },
      "cell_type": "code",
      "source": [
        "train_labels = app_train['TARGET']\n",
        "\n",
        "# Align the training and testing data, keep only columns present in both dataframes\n",
        "app_train, app_test = app_train.align(app_test, join = 'inner', axis = 1)\n",
        "\n",
        "# Add the target back in\n",
        "app_train['TARGET'] = train_labels\n",
        "\n",
        "print('Training Features shape: ', app_train.shape)\n",
        "print('Testing Features shape: ', app_test.shape)"
      ],
      "execution_count": 0,
      "outputs": [
        {
          "output_type": "stream",
          "text": [
            "Training Features shape:  (307511, 240)\n",
            "Testing Features shape:  (48744, 239)\n"
          ],
          "name": "stdout"
        }
      ]
    },
    {
      "metadata": {
        "id": "_2uXLxlWc0S5",
        "colab_type": "text"
      },
      "cell_type": "markdown",
      "source": [
        "# Baseline Model\n",
        "\n",
        "To get a baseline, we will use all of the features after encoding the categorical variables.\n",
        "The baseline model is a logistic regression model"
      ]
    },
    {
      "metadata": {
        "id": "IKkBcuf7c0S5",
        "colab_type": "code",
        "colab": {}
      },
      "cell_type": "code",
      "source": [
        "np.random.seed(42)\n",
        "# Drop the target from the training data\n",
        "if 'TARGET' in app_train:\n",
        "    train = app_train.drop(columns = ['TARGET'])\n",
        "else:\n",
        "    train = app_train.copy()\n",
        "x_train, x_test, y_train, y_test = train_test_split(train, train_labels, test_size=.2, shuffle=True, random_state=42)"
      ],
      "execution_count": 0,
      "outputs": []
    },
    {
      "metadata": {
        "id": "GvDzktTyc0S-",
        "colab_type": "text"
      },
      "cell_type": "markdown",
      "source": [
        "## Imputing missing values"
      ]
    },
    {
      "metadata": {
        "id": "tnVS5Ro1c0S-",
        "colab_type": "text"
      },
      "cell_type": "markdown",
      "source": [
        "We preprocess the data by filling in the missing values (imputation) and normalizing the range of the features (feature scaling). The following code performs both of these preprocessing steps."
      ]
    },
    {
      "metadata": {
        "id": "NCVhJLPFc0S-",
        "colab_type": "code",
        "colab": {},
        "outputId": "4d51d53d-56e8-4ed6-82b4-93b176f171bb"
      },
      "cell_type": "code",
      "source": [
        "test = app_test.copy()\n",
        "imputer = SimpleImputer(strategy = 'median')\n",
        "# Scale each feature to 0-1\n",
        "scaler = MinMaxScaler(feature_range = (0, 1))\n",
        "# Fit on the training data\n",
        "imputer.fit(x_train)\n",
        "\n",
        "# Transform both training and testing data\n",
        "x_train = imputer.transform(x_train)\n",
        "x_test = imputer.transform(x_test)\n",
        "test = imputer.transform(app_test)\n",
        "\n",
        "# Repeat with the scaler\n",
        "scaler.fit(x_train)\n",
        "x_train= scaler.transform(x_train)\n",
        "x_test= scaler.transform(x_test)\n",
        "test = scaler.transform(test)\n",
        "print('x_train data shape: ', x_train.shape)\n",
        "print('x_test data shape: ', x_test.shape)\n",
        "print('Test data shape: ', test.shape)"
      ],
      "execution_count": 0,
      "outputs": [
        {
          "output_type": "stream",
          "text": [
            "x_train data shape:  (246008, 239)\n",
            "x_test data shape:  (61503, 239)\n",
            "Test data shape:  (48744, 239)\n"
          ],
          "name": "stdout"
        }
      ]
    },
    {
      "metadata": {
        "id": "A6X3xQImc0TC",
        "colab_type": "code",
        "colab": {}
      },
      "cell_type": "code",
      "source": [
        "def pct(x):\n",
        "    return round(100*x,3)\n",
        "results = pd.DataFrame(columns=[\"ExpID\", \"Cross fold train accuracy\", \"Test Accuracy\", \"Experiment description\"])"
      ],
      "execution_count": 0,
      "outputs": []
    },
    {
      "metadata": {
        "id": "iv7O0qpkc0TE",
        "colab_type": "code",
        "colab": {},
        "outputId": "068ab838-9eb4-45c3-8a95-e53f885d6358"
      },
      "cell_type": "code",
      "source": [
        "log_reg = LogisticRegression()\n",
        "log_reg_model= log_reg.fit(x_train, y_train)\n",
        "cv = ShuffleSplit(n_splits=30, test_size=0.3, random_state=0)\n",
        "logit_scores = cross_val_score(log_reg_model, x_train, y_train, cv=cv)\n",
        "log_reg_pred = log_reg_model.predict_proba(test)[:, 1]\n",
        "logit_score_train = logit_scores.mean()\n",
        "logit_score_test  = log_reg.score(x_test, y_test)\n",
        "print(logit_scores)\n",
        "results.loc[0] = [\"Baseline\", pct(logit_score_train), np.round(pct(logit_score_test),5),\"Untuned LogisticRegression\"]\n",
        "results"
      ],
      "execution_count": 0,
      "outputs": [
        {
          "output_type": "stream",
          "text": [
            "[0.91839085 0.91925802 0.91967806 0.91844505 0.91669715 0.918567\n",
            " 0.91776757 0.91928512 0.91900058 0.91943417 0.91784887 0.91822826\n",
            " 0.918567   0.91913608 0.91959676 0.91994905 0.91858055 0.91898703\n",
            " 0.91895993 0.91738818 0.918567   0.91889219 0.91959676 0.91937997\n",
            " 0.91912253 0.92069428 0.91710364 0.91822826 0.91885154 0.91943417]\n"
          ],
          "name": "stdout"
        },
        {
          "output_type": "execute_result",
          "data": {
            "text/html": [
              "<div>\n",
              "<style scoped>\n",
              "    .dataframe tbody tr th:only-of-type {\n",
              "        vertical-align: middle;\n",
              "    }\n",
              "\n",
              "    .dataframe tbody tr th {\n",
              "        vertical-align: top;\n",
              "    }\n",
              "\n",
              "    .dataframe thead th {\n",
              "        text-align: right;\n",
              "    }\n",
              "</style>\n",
              "<table border=\"1\" class=\"dataframe\">\n",
              "  <thead>\n",
              "    <tr style=\"text-align: right;\">\n",
              "      <th></th>\n",
              "      <th>ExpID</th>\n",
              "      <th>Cross fold train accuracy</th>\n",
              "      <th>Test Accuracy</th>\n",
              "      <th>Experiment description</th>\n",
              "    </tr>\n",
              "  </thead>\n",
              "  <tbody>\n",
              "    <tr>\n",
              "      <th>0</th>\n",
              "      <td>Baseline</td>\n",
              "      <td>91.879</td>\n",
              "      <td>91.927</td>\n",
              "      <td>Untuned LogisticRegression</td>\n",
              "    </tr>\n",
              "  </tbody>\n",
              "</table>\n",
              "</div>"
            ],
            "text/plain": [
              "      ExpID  Cross fold train accuracy  Test Accuracy  \\\n",
              "0  Baseline                     91.879         91.927   \n",
              "\n",
              "       Experiment description  \n",
              "0  Untuned LogisticRegression  "
            ]
          },
          "metadata": {
            "tags": []
          },
          "execution_count": 68
        }
      ]
    },
    {
      "metadata": {
        "id": "yy_XQsjJc0TG",
        "colab_type": "code",
        "colab": {},
        "outputId": "4278b5bc-e693-46d3-fa49-8e263ef46111"
      },
      "cell_type": "code",
      "source": [
        "# Submission dataframe\n",
        "submit = app_test[['SK_ID_CURR']]\n",
        "submit['TARGET'] = log_reg_pred\n",
        "\n",
        "submit.head()"
      ],
      "execution_count": 0,
      "outputs": [
        {
          "output_type": "execute_result",
          "data": {
            "text/html": [
              "<div>\n",
              "<style scoped>\n",
              "    .dataframe tbody tr th:only-of-type {\n",
              "        vertical-align: middle;\n",
              "    }\n",
              "\n",
              "    .dataframe tbody tr th {\n",
              "        vertical-align: top;\n",
              "    }\n",
              "\n",
              "    .dataframe thead th {\n",
              "        text-align: right;\n",
              "    }\n",
              "</style>\n",
              "<table border=\"1\" class=\"dataframe\">\n",
              "  <thead>\n",
              "    <tr style=\"text-align: right;\">\n",
              "      <th></th>\n",
              "      <th>SK_ID_CURR</th>\n",
              "      <th>TARGET</th>\n",
              "    </tr>\n",
              "  </thead>\n",
              "  <tbody>\n",
              "    <tr>\n",
              "      <th>0</th>\n",
              "      <td>100001</td>\n",
              "      <td>0.058211</td>\n",
              "    </tr>\n",
              "    <tr>\n",
              "      <th>1</th>\n",
              "      <td>100005</td>\n",
              "      <td>0.240177</td>\n",
              "    </tr>\n",
              "    <tr>\n",
              "      <th>2</th>\n",
              "      <td>100013</td>\n",
              "      <td>0.048866</td>\n",
              "    </tr>\n",
              "    <tr>\n",
              "      <th>3</th>\n",
              "      <td>100028</td>\n",
              "      <td>0.033816</td>\n",
              "    </tr>\n",
              "    <tr>\n",
              "      <th>4</th>\n",
              "      <td>100038</td>\n",
              "      <td>0.125784</td>\n",
              "    </tr>\n",
              "  </tbody>\n",
              "</table>\n",
              "</div>"
            ],
            "text/plain": [
              "   SK_ID_CURR    TARGET\n",
              "0      100001  0.058211\n",
              "1      100005  0.240177\n",
              "2      100013  0.048866\n",
              "3      100028  0.033816\n",
              "4      100038  0.125784"
            ]
          },
          "metadata": {
            "tags": []
          },
          "execution_count": 69
        }
      ]
    },
    {
      "metadata": {
        "id": "aJTAPv4Tc0TJ",
        "colab_type": "text"
      },
      "cell_type": "markdown",
      "source": [
        "Some of the material in this notebook has been adopted from [here](https://www.kaggle.com/willkoehrsen/start-here-a-gentle-introduction/notebook)\n"
      ]
    }
  ]
}