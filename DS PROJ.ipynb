{
  "nbformat": 4,
  "nbformat_minor": 0,
  "metadata": {
    "colab": {
      "name": "DS PROJ.ipynb",
      "version": "0.3.2",
      "provenance": [],
      "toc_visible": true,
      "include_colab_link": true
    },
    "kernelspec": {
      "name": "python3",
      "display_name": "Python 3"
    },
    "accelerator": "GPU"
  },
  "cells": [
    {
      "cell_type": "markdown",
      "metadata": {
        "id": "view-in-github",
        "colab_type": "text"
      },
      "source": [
        "<a href=\"https://colab.research.google.com/github/nchaudh03/AML-HCDR/blob/master/DS%20PROJ.ipynb\" target=\"_parent\"><img src=\"https://colab.research.google.com/assets/colab-badge.svg\" alt=\"Open In Colab\"/></a>"
      ]
    },
    {
      "metadata": {
        "ExecuteTime": {
          "end_time": "2019-04-03T21:30:55.658692Z",
          "start_time": "2019-04-03T21:30:49.483581Z"
        },
        "id": "E9WKlA7z0IxJ",
        "colab_type": "code",
        "colab": {}
      },
      "cell_type": "code",
      "source": [
        "import pandas as pd\n",
        "import os\n",
        "from sklearn.compose import ColumnTransformer\n",
        "from sklearn.pipeline import Pipeline, FeatureUnion, _fit_transform_one, _transform_one\n",
        "from sklearn.preprocessing import OneHotEncoder, Imputer,StandardScaler\n",
        "from sklearn.linear_model import LogisticRegression\n",
        "from sklearn.decomposition import PCA\n",
        "from sklearn.impute import SimpleImputer\n",
        "from sklearn.base import TransformerMixin\n",
        "from sklearn.externals.joblib import Parallel, delayed\n",
        "from sklearn.model_selection import train_test_split\n",
        "from sklearn.ensemble import RandomForestClassifier\n",
        "from scipy import sparse\n",
        "import numpy as np\n",
        "\n",
        "#os.chdir(r'C:\\Users\\naimesh.chaudhari\\Downloads')\n",
        "#df  = pd.read_csv('previous_application.csv')"
      ],
      "execution_count": 0,
      "outputs": []
    },
    {
      "metadata": {
        "id": "GakPWTW00TCZ",
        "colab_type": "code",
        "outputId": "dbaaf0c2-1394-4c8a-bf75-0d106a51f688",
        "colab": {
          "base_uri": "https://localhost:8080/",
          "height": 122
        }
      },
      "cell_type": "code",
      "source": [
        "from google.colab import drive\n",
        "drive.mount('/content/drive')\n"
      ],
      "execution_count": 2,
      "outputs": [
        {
          "output_type": "stream",
          "text": [
            "Go to this URL in a browser: https://accounts.google.com/o/oauth2/auth?client_id=947318989803-6bn6qk8qdgf4n4g3pfee6491hc0brc4i.apps.googleusercontent.com&redirect_uri=urn%3Aietf%3Awg%3Aoauth%3A2.0%3Aoob&scope=email%20https%3A%2F%2Fwww.googleapis.com%2Fauth%2Fdocs.test%20https%3A%2F%2Fwww.googleapis.com%2Fauth%2Fdrive%20https%3A%2F%2Fwww.googleapis.com%2Fauth%2Fdrive.photos.readonly%20https%3A%2F%2Fwww.googleapis.com%2Fauth%2Fpeopleapi.readonly&response_type=code\n",
            "\n",
            "Enter your authorization code:\n",
            "··········\n",
            "Mounted at /content/drive\n"
          ],
          "name": "stdout"
        }
      ]
    },
    {
      "metadata": {
        "id": "oii2S8FS7Rmd",
        "colab_type": "code",
        "colab": {}
      },
      "cell_type": "code",
      "source": [
        "def Setupkaggle():\n",
        "  #Kaggle Setup for Google Drive\n",
        "  !mkdir .kaggle\n",
        "  with open(r'/content/drive/My Drive/kaggle.json') as file:\n",
        "    data = json.load(file)\n",
        "  with open('/content/.kaggle/kaggle.json', 'w') as file:\n",
        "      json.dump(data, file)\n",
        "  !chmod 600 /content/.kaggle/kaggle.json\n",
        "  !cp /content/.kaggle/kaggle.json ~/.kaggle/kaggle.json"
      ],
      "execution_count": 0,
      "outputs": []
    },
    {
      "metadata": {
        "ExecuteTime": {
          "end_time": "2019-04-03T22:21:06.877860Z",
          "start_time": "2019-04-03T22:21:06.854828Z"
        },
        "id": "Le1uclEI0IxM",
        "colab_type": "code",
        "colab": {}
      },
      "cell_type": "code",
      "source": [
        "class ColumnExtractor(TransformerMixin):\n",
        "    def __init__(self, typ = \"num\",group = \"\" ):\n",
        "        self.typ = typ\n",
        "        self.group = group\n",
        "    def fit(self, X, y=None):\n",
        "        return self\n",
        "    def transform (self,X):\n",
        "        cat  = []\n",
        "        num = []\n",
        "        Xs  = X\n",
        "        for col in X.columns:\n",
        "            if Xs[col].dtypes == 'object':\n",
        "                cat.append(col)\n",
        "            else:\n",
        "                num.append(col)\n",
        "        if self.group != \"\":\n",
        "            if self.group in num:\n",
        "                cat.append(self.group)\n",
        "            else:\n",
        "                num.append(self.group)\n",
        "        if self.typ == 'num':\n",
        "            final = Xs[num]\n",
        "        else:\n",
        "            final = Xs[cat]\n",
        "        return final\n",
        "    "
      ],
      "execution_count": 0,
      "outputs": []
    },
    {
      "metadata": {
        "ExecuteTime": {
          "end_time": "2019-04-03T21:31:00.488857Z",
          "start_time": "2019-04-03T21:31:00.475798Z"
        },
        "id": "SaV3gtNr0IxN",
        "colab_type": "code",
        "colab": {}
      },
      "cell_type": "code",
      "source": [
        "class NumericAggeregator(TransformerMixin):\n",
        "    def __init__(self,group=\"\",drop=\"\"):\n",
        "        self.group = group\n",
        "        self.drop = drop\n",
        "    def fit(self, X, y=None):\n",
        "        return self\n",
        "    def transform(self, X):\n",
        "        Xs = X\n",
        "        if self.drop in Xs.columns:\n",
        "            Xs = Xs.drop(self.drop,axis = 1)\n",
        "        Xs = Xs.groupby(self.group).agg([np.sum, np.mean,max,min])  \n",
        "        Xs.columns = Xs.columns.map('_'.join)\n",
        "        return Xs\n",
        "   "
      ],
      "execution_count": 0,
      "outputs": []
    },
    {
      "metadata": {
        "ExecuteTime": {
          "end_time": "2019-04-03T21:31:02.138071Z",
          "start_time": "2019-04-03T21:31:02.127041Z"
        },
        "id": "_3gixvKg0IxP",
        "colab_type": "code",
        "colab": {}
      },
      "cell_type": "code",
      "source": [
        "#might need an encoder class before an aggeregator class\n",
        "class CatAggeregator(TransformerMixin):\n",
        "    def __init__(self, group=\"\",drop=\"\"):\n",
        "        self.group = group\n",
        "        self.drop = drop\n",
        "    def fit(self, X, y=None):\n",
        "        return self\n",
        "    def transform(self, X):\n",
        "        Xs  = X\n",
        "        if self.drop in Xs.columns:\n",
        "            Xs.drop(self.drop,axis = 1, inplace= True)\n",
        "        Xs = Xs.groupby(self.group).agg([np.mean])  \n",
        "        Xs.columns = Xs.columns.map('_'.join)\n",
        "        return Xs"
      ],
      "execution_count": 0,
      "outputs": []
    },
    {
      "metadata": {
        "ExecuteTime": {
          "end_time": "2019-04-03T21:31:03.786160Z",
          "start_time": "2019-04-03T21:31:03.747886Z"
        },
        "id": "ZpxLwH-d0IxQ",
        "colab_type": "code",
        "colab": {}
      },
      "cell_type": "code",
      "source": [
        "\n",
        "class PandasFeatureUnion(FeatureUnion):\n",
        "    def fit_transform(self, X, y=None, **fit_params):\n",
        "        self._validate_transformers()\n",
        "        result = Parallel(n_jobs=self.n_jobs)(\n",
        "            delayed(_fit_transform_one)(\n",
        "                transformer=trans,\n",
        "                X=X,\n",
        "                y=y,\n",
        "                weight=weight,\n",
        "                **fit_params)\n",
        "            for name, trans, weight in self._iter())\n",
        "\n",
        "        if not result:\n",
        "            # All transformers are None\n",
        "            return np.zeros((X.shape[0], 0))\n",
        "        Xs, transformers = zip(*result)\n",
        "        self._update_transformer_list(transformers)\n",
        "        if any(sparse.issparse(f) for f in Xs):\n",
        "            Xs = sparse.hstack(Xs).tocsr()\n",
        "        else:\n",
        "            Xs = self.merge_dataframes_by_column(Xs)\n",
        "        return Xs\n",
        "\n",
        "    def merge_dataframes_by_column(self, Xs):\n",
        "        return pd.concat(Xs, axis=\"columns\", copy=False)\n",
        "\n",
        "    def transform(self, X):\n",
        "        Xs = Parallel(n_jobs=self.n_jobs)(\n",
        "            delayed(_transform_one)(\n",
        "                transformer=trans,\n",
        "                X=X,\n",
        "                y=None,\n",
        "                weight=weight)\n",
        "            for name, trans, weight in self._iter())\n",
        "        if not Xs:\n",
        "            # All transformers are None\n",
        "            return np.zeros((X.shape[0], 0))\n",
        "        if any(sparse.issparse(f) for f in Xs):\n",
        "            Xs = sparse.hstack(Xs).tocsr()\n",
        "        else:\n",
        "            Xs = self.merge_dataframes_by_column(Xs)\n",
        "        return Xs"
      ],
      "execution_count": 0,
      "outputs": []
    },
    {
      "metadata": {
        "ExecuteTime": {
          "end_time": "2019-04-03T21:31:05.392564Z",
          "start_time": "2019-04-03T21:31:05.376500Z"
        },
        "id": "xV62uqfd0IxS",
        "colab_type": "code",
        "colab": {}
      },
      "cell_type": "code",
      "source": [
        "class dfSimpleImputer(TransformerMixin):\n",
        "    def __init__(self, missing_values=np.nan,strategy='constant'):\n",
        "        self.missing_values = missing_values\n",
        "        self.strategy  = strategy\n",
        "    def fit(self, X):\n",
        "        self.imp = SimpleImputer(missing_values=np.nan, strategy='constant').fit(X)\n",
        "        return self\n",
        "    def transform(self , X):\n",
        "        dat = self.imp.transform(X)\n",
        "        final = pd.DataFrame(dat, columns = X.columns)\n",
        "        return final\n",
        "    def fit_transform(self, X, y= None):\n",
        "        self.imp = SimpleImputer(missing_values=np.nan, strategy='constant').fit(X)\n",
        "        dat = self.imp.transform(X)\n",
        "        final = pd.DataFrame(dat, columns = X.columns)\n",
        "        return final\n",
        "        "
      ],
      "execution_count": 0,
      "outputs": []
    },
    {
      "metadata": {
        "ExecuteTime": {
          "end_time": "2019-04-03T22:14:19.301717Z",
          "start_time": "2019-04-03T22:14:19.287672Z"
        },
        "id": "g--5q9HL0IxT",
        "colab_type": "code",
        "colab": {}
      },
      "cell_type": "code",
      "source": [
        "class dfOneHotEncoder(TransformerMixin):\n",
        "    def __init__(self, key = \"\", ind = \"\"):\n",
        "        self.key = key\n",
        "        self.ind = ind\n",
        "    def fit(self, X):\n",
        "        if self.key != \"\":\n",
        "          self.ind = X[self.key]\n",
        "          X.drop(self.key, inplace = True, axis = 1)\n",
        "        self.imp = OneHotEncoder(handle_unknown = 'ignore').fit(X)\n",
        "        return self\n",
        "    \n",
        "    def transform(self , X):\n",
        "        if self.key != \"\":\n",
        "          self.ind = X[self.key]\n",
        "          X.drop(self.key, inplace = True, axis = 1)\n",
        "        dat = self.imp.transform(X).toarray()\n",
        "        final = pd.DataFrame(dat, columns = self.imp.get_feature_names())\n",
        "        if self.key != \"\":\n",
        "          final[self.key] = self.ind\n",
        "        return final\n",
        "    \n",
        "    def fit_transform(self, X, y= None ):\n",
        "        if self.key != \"\":\n",
        "          self.ind = X[self.key]\n",
        "          X.drop(self.key, inplace = True, axis = 1)\n",
        "        self.imp = OneHotEncoder(handle_unknown = 'ignore').fit(X)\n",
        "        dat = self.imp.transform(X).toarray()\n",
        "        final = pd.DataFrame(dat, columns = self.imp.get_feature_names())\n",
        "        if self.key != \"\":\n",
        "          final[self.key] = self.ind\n",
        "        return final\n",
        "        "
      ],
      "execution_count": 0,
      "outputs": []
    },
    {
      "metadata": {
        "id": "p_rVzA70eI4Q",
        "colab_type": "code",
        "colab": {}
      },
      "cell_type": "code",
      "source": [
        "class dfStandardScaler(TransformerMixin):\n",
        "    def fit(self, X, y=None):\n",
        "        self.imp = StandardScaler().fit(X)\n",
        "        return self\n",
        "    def transform(self, X):\n",
        "        dat = self.imp.transform(X)\n",
        "        final = pd.DataFrame(dat, columns = X.columns)\n",
        "        return final\n",
        "    def fit_transform(self, X, y=None):\n",
        "        self.imp = StandardScaler().fit(X)\n",
        "        dat = self.imp.transform(X)\n",
        "        final = pd.DataFrame(dat, columns = X.columns, index = X.index)\n",
        "        return final"
      ],
      "execution_count": 0,
      "outputs": []
    },
    {
      "metadata": {
        "ExecuteTime": {
          "end_time": "2019-04-03T22:21:59.129001Z",
          "start_time": "2019-04-03T22:21:51.946726Z"
        },
        "id": "sCAwZxnt0Ixa",
        "colab_type": "code",
        "outputId": "c4851428-7663-4053-dd1d-650a91732091",
        "colab": {
          "base_uri": "https://localhost:8080/",
          "height": 335
        }
      },
      "cell_type": "code",
      "source": [
        "#Pipeline for previous Application\n",
        "prevapp = pd.read_csv(r'/content/drive/My Drive/HCDR Project/previous_application.csv')\n",
        "Npipe_prevapp = Pipeline([('cl,', ColumnExtractor(typ  = 'num',group ='SK_ID_CURR')),\n",
        "                          ('imp',dfSimpleImputer(missing_values=np.nan, strategy='constant')),\n",
        "                          ('agg', NumericAggeregator(group = 'SK_ID_CURR',drop = 'SK_ID_PREV')),\n",
        "                          ('scl',dfStandardScaler())])\n",
        "\n",
        "#Npipe_prevapp.fit_transform(prevapp)\n",
        "\n",
        "Cpipe_prevapp = Pipeline([('cl,', ColumnExtractor(typ  = 'cat', group ='SK_ID_CURR' )),\n",
        "                          ('imp',dfSimpleImputer(missing_values=np.nan, strategy='constant')),\n",
        "                          ('encode', dfOneHotEncoder(key ='SK_ID_CURR' )),\n",
        "                          ('agg', CatAggeregator(group = 'SK_ID_CURR', drop = 'SK_ID_PREV'))])\n",
        "\n",
        "\n",
        "#Cpipe_prevapp.fit_transform(prevapp)\n",
        "\n",
        "combined_features_prevapp = PandasFeatureUnion([(\"num\", Npipe_prevapp),\n",
        "                                               (\"cat\", Cpipe_prevapp)])\n",
        "agg_prev_app = combined_features_prevapp.fit_transform(prevapp)\n",
        "agg_prev_app['SK_ID_CURR'] = agg_prev_app.index\n",
        "agg_prev_app.head()"
      ],
      "execution_count": 10,
      "outputs": [
        {
          "output_type": "execute_result",
          "data": {
            "text/html": [
              "<div>\n",
              "<style scoped>\n",
              "    .dataframe tbody tr th:only-of-type {\n",
              "        vertical-align: middle;\n",
              "    }\n",
              "\n",
              "    .dataframe tbody tr th {\n",
              "        vertical-align: top;\n",
              "    }\n",
              "\n",
              "    .dataframe thead th {\n",
              "        text-align: right;\n",
              "    }\n",
              "</style>\n",
              "<table border=\"1\" class=\"dataframe\">\n",
              "  <thead>\n",
              "    <tr style=\"text-align: right;\">\n",
              "      <th></th>\n",
              "      <th>AMT_ANNUITY_sum</th>\n",
              "      <th>AMT_ANNUITY_mean</th>\n",
              "      <th>AMT_ANNUITY_max</th>\n",
              "      <th>AMT_ANNUITY_min</th>\n",
              "      <th>AMT_APPLICATION_sum</th>\n",
              "      <th>AMT_APPLICATION_mean</th>\n",
              "      <th>AMT_APPLICATION_max</th>\n",
              "      <th>AMT_APPLICATION_min</th>\n",
              "      <th>AMT_CREDIT_sum</th>\n",
              "      <th>AMT_CREDIT_mean</th>\n",
              "      <th>...</th>\n",
              "      <th>x15_POS household with interest_mean</th>\n",
              "      <th>x15_POS household without interest_mean</th>\n",
              "      <th>x15_POS industry with interest_mean</th>\n",
              "      <th>x15_POS industry without interest_mean</th>\n",
              "      <th>x15_POS mobile with interest_mean</th>\n",
              "      <th>x15_POS mobile without interest_mean</th>\n",
              "      <th>x15_POS other with interest_mean</th>\n",
              "      <th>x15_POS others without interest_mean</th>\n",
              "      <th>x15_missing_value_mean</th>\n",
              "      <th>SK_ID_CURR</th>\n",
              "    </tr>\n",
              "    <tr>\n",
              "      <th>SK_ID_CURR</th>\n",
              "      <th></th>\n",
              "      <th></th>\n",
              "      <th></th>\n",
              "      <th></th>\n",
              "      <th></th>\n",
              "      <th></th>\n",
              "      <th></th>\n",
              "      <th></th>\n",
              "      <th></th>\n",
              "      <th></th>\n",
              "      <th></th>\n",
              "      <th></th>\n",
              "      <th></th>\n",
              "      <th></th>\n",
              "      <th></th>\n",
              "      <th></th>\n",
              "      <th></th>\n",
              "      <th></th>\n",
              "      <th></th>\n",
              "      <th></th>\n",
              "      <th></th>\n",
              "    </tr>\n",
              "  </thead>\n",
              "  <tbody>\n",
              "    <tr>\n",
              "      <th>100001.0</th>\n",
              "      <td>-0.774842</td>\n",
              "      <td>-0.931944</td>\n",
              "      <td>-1.035698</td>\n",
              "      <td>-0.096550</td>\n",
              "      <td>-0.619605</td>\n",
              "      <td>-0.849415</td>\n",
              "      <td>-0.835933</td>\n",
              "      <td>-0.205543</td>\n",
              "      <td>-0.630504</td>\n",
              "      <td>-0.888254</td>\n",
              "      <td>...</td>\n",
              "      <td>0.000000</td>\n",
              "      <td>0.0</td>\n",
              "      <td>0.000000</td>\n",
              "      <td>0.0</td>\n",
              "      <td>1.0</td>\n",
              "      <td>0.0</td>\n",
              "      <td>0.0</td>\n",
              "      <td>0.0</td>\n",
              "      <td>0.0</td>\n",
              "      <td>100001.0</td>\n",
              "    </tr>\n",
              "    <tr>\n",
              "      <th>100002.0</th>\n",
              "      <td>-0.702992</td>\n",
              "      <td>-0.326793</td>\n",
              "      <td>-0.760639</td>\n",
              "      <td>0.621209</td>\n",
              "      <td>-0.505698</td>\n",
              "      <td>0.161104</td>\n",
              "      <td>-0.470430</td>\n",
              "      <td>1.443758</td>\n",
              "      <td>-0.526673</td>\n",
              "      <td>0.052874</td>\n",
              "      <td>...</td>\n",
              "      <td>0.000000</td>\n",
              "      <td>0.0</td>\n",
              "      <td>0.000000</td>\n",
              "      <td>0.0</td>\n",
              "      <td>0.0</td>\n",
              "      <td>0.0</td>\n",
              "      <td>1.0</td>\n",
              "      <td>0.0</td>\n",
              "      <td>0.0</td>\n",
              "      <td>100002.0</td>\n",
              "    </tr>\n",
              "    <tr>\n",
              "      <th>100003.0</th>\n",
              "      <td>1.471304</td>\n",
              "      <td>5.073358</td>\n",
              "      <td>3.863060</td>\n",
              "      <td>0.280735</td>\n",
              "      <td>0.326898</td>\n",
              "      <td>1.841035</td>\n",
              "      <td>1.238222</td>\n",
              "      <td>0.264737</td>\n",
              "      <td>0.324954</td>\n",
              "      <td>1.902399</td>\n",
              "      <td>...</td>\n",
              "      <td>0.333333</td>\n",
              "      <td>0.0</td>\n",
              "      <td>0.333333</td>\n",
              "      <td>0.0</td>\n",
              "      <td>0.0</td>\n",
              "      <td>0.0</td>\n",
              "      <td>0.0</td>\n",
              "      <td>0.0</td>\n",
              "      <td>0.0</td>\n",
              "      <td>100003.0</td>\n",
              "    </tr>\n",
              "    <tr>\n",
              "      <th>100004.0</th>\n",
              "      <td>-0.755781</td>\n",
              "      <td>-0.771403</td>\n",
              "      <td>-0.962727</td>\n",
              "      <td>0.093866</td>\n",
              "      <td>-0.620014</td>\n",
              "      <td>-0.853041</td>\n",
              "      <td>-0.837245</td>\n",
              "      <td>-0.211463</td>\n",
              "      <td>-0.632965</td>\n",
              "      <td>-0.910566</td>\n",
              "      <td>...</td>\n",
              "      <td>0.000000</td>\n",
              "      <td>0.0</td>\n",
              "      <td>0.000000</td>\n",
              "      <td>0.0</td>\n",
              "      <td>0.0</td>\n",
              "      <td>1.0</td>\n",
              "      <td>0.0</td>\n",
              "      <td>0.0</td>\n",
              "      <td>0.0</td>\n",
              "      <td>100004.0</td>\n",
              "    </tr>\n",
              "    <tr>\n",
              "      <th>100005.0</th>\n",
              "      <td>-0.763155</td>\n",
              "      <td>-1.108257</td>\n",
              "      <td>-0.990958</td>\n",
              "      <td>-0.631541</td>\n",
              "      <td>-0.604994</td>\n",
              "      <td>-0.865971</td>\n",
              "      <td>-0.789050</td>\n",
              "      <td>-0.471147</td>\n",
              "      <td>-0.619559</td>\n",
              "      <td>-0.910743</td>\n",
              "      <td>...</td>\n",
              "      <td>0.000000</td>\n",
              "      <td>0.0</td>\n",
              "      <td>0.000000</td>\n",
              "      <td>0.0</td>\n",
              "      <td>0.5</td>\n",
              "      <td>0.0</td>\n",
              "      <td>0.0</td>\n",
              "      <td>0.0</td>\n",
              "      <td>0.0</td>\n",
              "      <td>100005.0</td>\n",
              "    </tr>\n",
              "  </tbody>\n",
              "</table>\n",
              "<p>5 rows × 222 columns</p>\n",
              "</div>"
            ],
            "text/plain": [
              "            AMT_ANNUITY_sum  AMT_ANNUITY_mean  AMT_ANNUITY_max  \\\n",
              "SK_ID_CURR                                                       \n",
              "100001.0          -0.774842         -0.931944        -1.035698   \n",
              "100002.0          -0.702992         -0.326793        -0.760639   \n",
              "100003.0           1.471304          5.073358         3.863060   \n",
              "100004.0          -0.755781         -0.771403        -0.962727   \n",
              "100005.0          -0.763155         -1.108257        -0.990958   \n",
              "\n",
              "            AMT_ANNUITY_min  AMT_APPLICATION_sum  AMT_APPLICATION_mean  \\\n",
              "SK_ID_CURR                                                               \n",
              "100001.0          -0.096550            -0.619605             -0.849415   \n",
              "100002.0           0.621209            -0.505698              0.161104   \n",
              "100003.0           0.280735             0.326898              1.841035   \n",
              "100004.0           0.093866            -0.620014             -0.853041   \n",
              "100005.0          -0.631541            -0.604994             -0.865971   \n",
              "\n",
              "            AMT_APPLICATION_max  AMT_APPLICATION_min  AMT_CREDIT_sum  \\\n",
              "SK_ID_CURR                                                             \n",
              "100001.0              -0.835933            -0.205543       -0.630504   \n",
              "100002.0              -0.470430             1.443758       -0.526673   \n",
              "100003.0               1.238222             0.264737        0.324954   \n",
              "100004.0              -0.837245            -0.211463       -0.632965   \n",
              "100005.0              -0.789050            -0.471147       -0.619559   \n",
              "\n",
              "            AMT_CREDIT_mean     ...      x15_POS household with interest_mean  \\\n",
              "SK_ID_CURR                      ...                                             \n",
              "100001.0          -0.888254     ...                                  0.000000   \n",
              "100002.0           0.052874     ...                                  0.000000   \n",
              "100003.0           1.902399     ...                                  0.333333   \n",
              "100004.0          -0.910566     ...                                  0.000000   \n",
              "100005.0          -0.910743     ...                                  0.000000   \n",
              "\n",
              "            x15_POS household without interest_mean  \\\n",
              "SK_ID_CURR                                            \n",
              "100001.0                                        0.0   \n",
              "100002.0                                        0.0   \n",
              "100003.0                                        0.0   \n",
              "100004.0                                        0.0   \n",
              "100005.0                                        0.0   \n",
              "\n",
              "            x15_POS industry with interest_mean  \\\n",
              "SK_ID_CURR                                        \n",
              "100001.0                               0.000000   \n",
              "100002.0                               0.000000   \n",
              "100003.0                               0.333333   \n",
              "100004.0                               0.000000   \n",
              "100005.0                               0.000000   \n",
              "\n",
              "            x15_POS industry without interest_mean  \\\n",
              "SK_ID_CURR                                           \n",
              "100001.0                                       0.0   \n",
              "100002.0                                       0.0   \n",
              "100003.0                                       0.0   \n",
              "100004.0                                       0.0   \n",
              "100005.0                                       0.0   \n",
              "\n",
              "            x15_POS mobile with interest_mean  \\\n",
              "SK_ID_CURR                                      \n",
              "100001.0                                  1.0   \n",
              "100002.0                                  0.0   \n",
              "100003.0                                  0.0   \n",
              "100004.0                                  0.0   \n",
              "100005.0                                  0.5   \n",
              "\n",
              "            x15_POS mobile without interest_mean  \\\n",
              "SK_ID_CURR                                         \n",
              "100001.0                                     0.0   \n",
              "100002.0                                     0.0   \n",
              "100003.0                                     0.0   \n",
              "100004.0                                     1.0   \n",
              "100005.0                                     0.0   \n",
              "\n",
              "            x15_POS other with interest_mean  \\\n",
              "SK_ID_CURR                                     \n",
              "100001.0                                 0.0   \n",
              "100002.0                                 1.0   \n",
              "100003.0                                 0.0   \n",
              "100004.0                                 0.0   \n",
              "100005.0                                 0.0   \n",
              "\n",
              "            x15_POS others without interest_mean  x15_missing_value_mean  \\\n",
              "SK_ID_CURR                                                                 \n",
              "100001.0                                     0.0                     0.0   \n",
              "100002.0                                     0.0                     0.0   \n",
              "100003.0                                     0.0                     0.0   \n",
              "100004.0                                     0.0                     0.0   \n",
              "100005.0                                     0.0                     0.0   \n",
              "\n",
              "            SK_ID_CURR  \n",
              "SK_ID_CURR              \n",
              "100001.0      100001.0  \n",
              "100002.0      100002.0  \n",
              "100003.0      100003.0  \n",
              "100004.0      100004.0  \n",
              "100005.0      100005.0  \n",
              "\n",
              "[5 rows x 222 columns]"
            ]
          },
          "metadata": {
            "tags": []
          },
          "execution_count": 10
        }
      ]
    },
    {
      "metadata": {
        "id": "kafJ38cUVzt8",
        "colab_type": "code",
        "outputId": "e14a59c7-aba1-4558-99d3-ed6898e024a4",
        "colab": {
          "base_uri": "https://localhost:8080/",
          "height": 51
        }
      },
      "cell_type": "code",
      "source": [
        "\n",
        "train = pd.read_csv(r'/content/drive/My Drive/HCDR Project/application_train.csv')\n",
        "test = pd.read_csv(r'/content/drive/My Drive/HCDR Project/application_test.csv')\n",
        "\n",
        "\n",
        "\n",
        "\n",
        "Y = train['TARGET']\n",
        "train_ids = train['SK_ID_CURR']\n",
        "test_ids = test['SK_ID_CURR']\n",
        "test.drop(['SK_ID_CURR'], inplace = True, axis = 1)\n",
        "\n",
        "\n",
        "train.drop(['TARGET','SK_ID_CURR'], inplace = True, axis = 1)\n",
        "Npipe_prevapp = Pipeline([('cl,', ColumnExtractor(typ  = 'num',group ='')),\n",
        "                          ('imp',dfSimpleImputer(missing_values=np.nan, strategy='constant')),\n",
        "                          ('scl',dfStandardScaler())])\n",
        "\n",
        "\n",
        "\n",
        "Cpipe_prevapp = Pipeline([('cl,', ColumnExtractor(typ  = 'cat', group ='' )),\n",
        "                          ('imp',dfSimpleImputer(missing_values=np.nan, strategy='constant')),\n",
        "                          ('encode', dfOneHotEncoder())])\n",
        "\n",
        "#tst = Npipe_prevapp.fit_transform(train)\n",
        "#Cpipe_prevapp.fit_transform(train)\n",
        "\n",
        "combined_features = PandasFeatureUnion([(\"num\", Npipe_prevapp),\n",
        "                                                (\"cat\", Cpipe_prevapp)])\n",
        "\n",
        "\n",
        "trn = combined_features.fit_transform(train)\n",
        "\n",
        "tst = combined_features.transform(test)\n",
        "\n",
        "\n",
        "\n",
        "\n",
        "print(len(trn.columns))\n",
        "print(len(tst.columns))"
      ],
      "execution_count": 11,
      "outputs": [
        {
          "output_type": "stream",
          "text": [
            "250\n",
            "250\n"
          ],
          "name": "stdout"
        }
      ]
    },
    {
      "metadata": {
        "id": "Y5djg18L1PRh",
        "colab_type": "code",
        "outputId": "bc18921e-fcc6-4811-b29f-aa1e1721a424",
        "colab": {
          "base_uri": "https://localhost:8080/",
          "height": 51
        }
      },
      "cell_type": "code",
      "source": [
        "trn['SK_ID_CURR'] = train_ids\n",
        "trn = trn.merge(agg_prev_app, how  = 'left', on = 'SK_ID_CURR')\n",
        "tst['SK_ID_CURR'] = test_ids\n",
        "tst = tst.merge(agg_prev_app, how  = 'left', on = 'SK_ID_CURR')\n",
        "\n",
        "\n",
        "\n",
        "\n",
        "tst.drop(['SK_ID_CURR'], axis = 1, inplace = True)\n",
        "trn.drop(['SK_ID_CURR'], axis = 1, inplace = True)\n",
        "\n",
        "trn.fillna(0, inplace = True)\n",
        "tst.fillna(0, inplace = True)\n",
        "\n",
        "print(len(trn.columns))\n",
        "print(len(tst.columns))\n",
        "\n"
      ],
      "execution_count": 12,
      "outputs": [
        {
          "output_type": "stream",
          "text": [
            "471\n",
            "471\n"
          ],
          "name": "stdout"
        }
      ]
    },
    {
      "metadata": {
        "id": "ZaeuMNL70OHX",
        "colab_type": "code",
        "outputId": "3a719fd9-0b70-4a4e-c653-b100944eaa09",
        "colab": {
          "base_uri": "https://localhost:8080/",
          "height": 51
        }
      },
      "cell_type": "code",
      "source": [
        "model  = LogisticRegression()\n",
        "model.fit(trn,Y)\n",
        "\n",
        "\n",
        "\n",
        "pred = model.predict_proba(tst)[:,1]\n",
        "sub = pd.DataFrame(test_ids)\n",
        "sub['TARGET'] = pred\n",
        "sub.columns = ['SK_ID_CURR','TARGET']\n",
        "\n",
        "sub\n",
        "sub.to_csv('submission.csv', index = False)\n",
        "\n"
      ],
      "execution_count": 0,
      "outputs": [
        {
          "output_type": "stream",
          "text": [
            "/usr/local/lib/python3.6/dist-packages/sklearn/linear_model/logistic.py:433: FutureWarning: Default solver will be changed to 'lbfgs' in 0.22. Specify a solver to silence this warning.\n",
            "  FutureWarning)\n"
          ],
          "name": "stderr"
        }
      ]
    },
    {
      "metadata": {
        "id": "0xIl2k-SYai_",
        "colab_type": "code",
        "colab": {
          "base_uri": "https://localhost:8080/",
          "height": 153
        },
        "outputId": "e7a9b74a-73f3-49f4-d213-674cd884234a"
      },
      "cell_type": "code",
      "source": [
        "#loss  = categorical_crossentropy,binary_crossentropy\n",
        "#optimizer = rmsprop, sgd, adam, \n",
        "#activation = softmax, relu , sigmoid\n",
        "import tensorflow as tf\n",
        "from keras.callbacks import EarlyStopping\n",
        "model = tf.keras.models.Sequential([\n",
        "    tf.keras.layers.Dense(64,  activation='relu')\n",
        "    ,tf.keras.layers.Dropout(.50)\n",
        "    ,tf.keras.layers.Dense(32,  activation='relu')\n",
        "    ,tf.keras.layers.Dropout(.20)\n",
        "    ,tf.keras.layers.Dense(16,  activation='relu')\n",
        "    ,tf.keras.layers.Dropout(.20)\n",
        "    ,tf.keras.layers.Dense(1,  activation='sigmoid')\n",
        "])\n",
        "\n",
        "model.compile(optimizer='adam',\n",
        "loss='binary_crossentropy',\n",
        "metrics=['accuracy'])\n",
        "\n",
        "X_train, X_val, Y_train, Y_val = train_test_split(trn, Y, test_size=0.33, random_state=42,stratify=Y)\n",
        "es = EarlyStopping(monitor='val_loss', mode='min', verbose=1, patience=50)\n",
        "model.fit(np.array(X_train) ,np.array(Y_train), batch_size=1000, epochs=3,validation_data=(np.array(X_val), np.array(Y_val)))\n",
        "\n",
        "pred= model.predict(tst)\n",
        "sub = pd.DataFrame(test_ids)\n",
        "sub['TARGET'] = pred\n",
        "sub.columns = ['SK_ID_CURR','TARGET']\n",
        "sub.to_csv('submission.csv', index = False)\n",
        "\n",
        "\n"
      ],
      "execution_count": 73,
      "outputs": [
        {
          "output_type": "stream",
          "text": [
            "Train on 206032 samples, validate on 101479 samples\n",
            "Epoch 1/3\n",
            "206032/206032 [==============================] - 7s 35us/sample - loss: 0.3222 - acc: 0.8994 - val_loss: 0.2606 - val_acc: 0.9193\n",
            "Epoch 2/3\n",
            "206032/206032 [==============================] - 7s 33us/sample - loss: 0.2740 - acc: 0.9192 - val_loss: 0.2574 - val_acc: 0.9193\n",
            "Epoch 3/3\n",
            "206032/206032 [==============================] - 7s 33us/sample - loss: 0.2673 - acc: 0.9192 - val_loss: 0.2545 - val_acc: 0.9193\n"
          ],
          "name": "stdout"
        },
        {
          "output_type": "execute_result",
          "data": {
            "text/plain": [
              "<tensorflow.python.keras.callbacks.History at 0x7f81d43b2f98>"
            ]
          },
          "metadata": {
            "tags": []
          },
          "execution_count": 73
        }
      ]
    },
    {
      "metadata": {
        "id": "jpF7a2GFaexx",
        "colab_type": "code",
        "colab": {}
      },
      "cell_type": "code",
      "source": [
        "#Kaggle Setup (make sure kaggle.json is in your google drive home dir)\n",
        "#!pip install kaggle\n",
        "#Setupkaggle():\n",
        "#!kaggle competitions submit -c home-credit-default-risk -f submission.csv -m \"Message\"\n",
        "#!kaggle competitions files home-credit-default-risk"
      ],
      "execution_count": 0,
      "outputs": []
    },
    {
      "metadata": {
        "id": "z9NWLL1m5xJP",
        "colab_type": "code",
        "colab": {}
      },
      "cell_type": "code",
      "source": [
        ""
      ],
      "execution_count": 0,
      "outputs": []
    }
  ]
}