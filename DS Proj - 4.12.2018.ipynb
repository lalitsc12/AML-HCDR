{
 "cells": [
  {
   "cell_type": "markdown",
   "metadata": {
    "ExecuteTime": {
     "end_time": "2019-04-16T02:21:59.327206Z",
     "start_time": "2019-04-16T02:21:59.324208Z"
    }
   },
   "source": [
    "# Loading Libraries and Setting Up Describe Function"
   ]
  },
  {
   "cell_type": "code",
   "execution_count": 69,
   "metadata": {
    "ExecuteTime": {
     "end_time": "2019-04-16T04:20:06.986437Z",
     "start_time": "2019-04-16T04:20:06.978405Z"
    }
   },
   "outputs": [],
   "source": [
    "import pandas as pd\n",
    "import os\n",
    "from sklearn.compose import ColumnTransformer\n",
    "from sklearn.pipeline import Pipeline, FeatureUnion, _fit_transform_one, _transform_one\n",
    "from sklearn.compose import ColumnTransformer\n",
    "from sklearn.preprocessing import OneHotEncoder, Imputer, MinMaxScaler\n",
    "from sklearn.model_selection import train_test_split,StratifiedKFold,cross_val_score\n",
    "from sklearn.impute import SimpleImputer\n",
    "from sklearn.base import TransformerMixin\n",
    "from sklearn.externals.joblib import Parallel, delayed\n",
    "from sklearn.metrics import  roc_auc_score\n",
    "from scipy import sparse\n",
    "from matplotlib import pyplot as plt\n",
    "import numpy as np\n",
    "import xgboost\n",
    "import gc\n",
    "from hyperopt import fmin, tpe, hp,STATUS_OK\n",
    "from IPython.core.display import display, HTML\n",
    "\n",
    "#display(HTML(\"<style>.container { width:85% !important; }</style>\"))\n",
    "pd.options.display.float_format = '{:.2f}'.format\n",
    "\n",
    "#os.chdir(r'C:\\Users\\naimesh.chaudhari\\Downloads')\n",
    "\n",
    "\n",
    "\n",
    "def describe(df):\n",
    "    ds = df.describe(include = 'all').transpose().sort_values(by = 'mean', ascending = False)\n",
    "    totalUniques = pd.DataFrame(df.nunique(), columns = ['Uniques'])\n",
    "    totalUniques['dtypes'] = df.dtypes\n",
    "    totalUniques['Nans'] =  df.isna().sum()\n",
    "    ds = ds.merge(totalUniques,left_index = True,right_index=True)\n",
    "    ds.drop('unique', inplace = True, axis = 1)\n",
    "    ds['NanPercent'] = ds['Nans']/ds['count']\n",
    "    return ds\n",
    "\n",
    "\n",
    "#ds = describe(df)"
   ]
  },
  {
   "cell_type": "markdown",
   "metadata": {},
   "source": [
    "#  Train Datset"
   ]
  },
  {
   "cell_type": "markdown",
   "metadata": {
    "ExecuteTime": {
     "end_time": "2019-04-16T03:20:25.946041Z",
     "start_time": "2019-04-16T03:20:25.943043Z"
    }
   },
   "source": [
    "## Loading Train Dataset"
   ]
  },
  {
   "cell_type": "code",
   "execution_count": 70,
   "metadata": {
    "ExecuteTime": {
     "end_time": "2019-04-16T04:20:11.496122Z",
     "start_time": "2019-04-16T04:20:08.438151Z"
    }
   },
   "outputs": [],
   "source": [
    "train = pd.read_csv('application_train.csv')\n",
    "Y = train['TARGET']\n",
    "train.drop('TARGET', inplace  = True, axis = 1)"
   ]
  },
  {
   "cell_type": "markdown",
   "metadata": {},
   "source": [
    "## Train Feature Engineering & Split into [train, valid, test]"
   ]
  },
  {
   "cell_type": "code",
   "execution_count": 72,
   "metadata": {
    "ExecuteTime": {
     "end_time": "2019-04-16T04:20:28.734257Z",
     "start_time": "2019-04-16T04:20:27.774285Z"
    }
   },
   "outputs": [],
   "source": [
    "train[train.columns[train.columns.str.contains('DAYS')]] = abs(train[train.columns[train.columns.str.contains('DAYS')]]).replace(365243, np.nan)/365 \n",
    "\n",
    "train['DAYS_EMPLOYED_PERC'] = (train.DAYS_EMPLOYED / train.DAYS_BIRTH).replace(np.inf, 0)\n",
    "train['INCOME_CREDIT_PERC'] = (train['AMT_INCOME_TOTAL'] / train['AMT_CREDIT']).replace(np.inf, 0)\n",
    "train['INCOME_PER_PERSON'] = (train['AMT_INCOME_TOTAL'] / train['CNT_FAM_MEMBERS']).replace(np.inf, 0)\n",
    "train['ANNUITY_INCOME_PERC'] =( train['AMT_ANNUITY'] / train['AMT_INCOME_TOTAL']).replace(np.inf, 0)\n",
    "\n",
    "X_train,X_valid,y_train,y_valid = train_test_split(train,Y, test_size = .10, stratify = Y )\n",
    "X_train,X_test,y_train,y_test = train_test_split(X_train,y_train, test_size = .10, stratify = y_train )"
   ]
  },
  {
   "cell_type": "markdown",
   "metadata": {
    "ExecuteTime": {
     "end_time": "2019-04-16T03:20:26.013078Z",
     "start_time": "2019-04-16T03:20:25.947043Z"
    }
   },
   "source": [
    "## Transforming Train Data On Selected Features"
   ]
  },
  {
   "cell_type": "code",
   "execution_count": 73,
   "metadata": {
    "ExecuteTime": {
     "end_time": "2019-04-16T04:20:51.142981Z",
     "start_time": "2019-04-16T04:20:50.412982Z"
    }
   },
   "outputs": [],
   "source": [
    "num_attribs = [\n",
    "     'SK_ID_CURR' \n",
    "    ,'AMT_INCOME_TOTAL'\n",
    "    ,'AMT_CREDIT'\n",
    "    ,'DAYS_EMPLOYED'\n",
    "    ,'DAYS_BIRTH'\n",
    "    ,'EXT_SOURCE_1'\n",
    "    ,'EXT_SOURCE_2'\n",
    "    ,'EXT_SOURCE_3'\n",
    "    ,'AMT_ANNUITY'\n",
    "    ,'DAYS_EMPLOYED_PERC'\n",
    "    ,'INCOME_CREDIT_PERC'\n",
    "    ,'INCOME_PER_PERSON'\n",
    "    ,'ANNUITY_INCOME_PERC'\n",
    "]\n",
    "\n",
    "cat_attribs = [\n",
    "    'CODE_GENDER'\n",
    "    ,'FLAG_OWN_REALTY'\n",
    "    ,'FLAG_OWN_CAR'\n",
    "    ,'NAME_CONTRACT_TYPE' \n",
    "    ,'NAME_EDUCATION_TYPE'\n",
    "    ,'OCCUPATION_TYPE'\n",
    "    ,'NAME_INCOME_TYPE'\n",
    "\n",
    "]\n",
    "\n",
    "\n",
    "                    \n",
    "num_pipeline = Pipeline([\n",
    "        ('imputer', SimpleImputer(strategy='mean'))\n",
    "    ])\n",
    "\n",
    "cat_pipeline = Pipeline([\n",
    "        ('imputer', SimpleImputer(strategy='constant')),\n",
    "        ('ohe', OneHotEncoder(sparse=False, handle_unknown=\"ignore\"))\n",
    "    ])\n",
    "\n",
    "full_pipeline = ColumnTransformer([\n",
    "    ('num', num_pipeline, num_attribs),\n",
    "    ('cat',cat_pipeline,cat_attribs),\n",
    "   ])\n",
    "\n",
    "#Fitting and Tranforming Train\n",
    "X_train = pd.DataFrame(full_pipeline.fit_transform(X_train))\n",
    "allcols = num_attribs + list(full_pipeline.named_transformers_['cat'].named_steps['ohe'].get_feature_names(cat_attribs))\n",
    "X_train.columns  = allcols\n",
    "\n",
    "#Transforming Valid\n",
    "X_valid = pd.DataFrame(full_pipeline.transform(X_valid))\n",
    "X_valid.columns  = allcols\n",
    "\n",
    "#Transforming test\n",
    "X_test = pd.DataFrame(full_pipeline.transform(X_test))\n",
    "X_test.columns  = allcols\n",
    "\n",
    "#Setting Indexes and dropping COlumns\n",
    "X_train.index = X_train['SK_ID_CURR']\n",
    "X_train.drop('SK_ID_CURR', inplace = True, axis = 1)\n",
    "X_valid.index = X_valid['SK_ID_CURR']\n",
    "X_valid.drop('SK_ID_CURR', inplace = True, axis = 1)\n",
    "X_test.index = X_test['SK_ID_CURR']\n",
    "X_test.drop('SK_ID_CURR', inplace = True, axis = 1)"
   ]
  },
  {
   "cell_type": "markdown",
   "metadata": {},
   "source": [
    "# Testing Train Datset With XGBOOST"
   ]
  },
  {
   "cell_type": "code",
   "execution_count": 74,
   "metadata": {
    "ExecuteTime": {
     "end_time": "2019-04-16T04:21:14.066885Z",
     "start_time": "2019-04-16T04:20:53.689292Z"
    }
   },
   "outputs": [
    {
     "name": "stdout",
     "output_type": "stream",
     "text": [
      "[0]\tvalidation_0-auc:0.698322\tvalidation_0-logloss:0.624856\n",
      "Multiple eval metrics have been passed: 'validation_0-logloss' will be used for early stopping.\n",
      "\n",
      "Will train until validation_0-logloss hasn't improved in 100 rounds.\n",
      "[1]\tvalidation_0-auc:0.704947\tvalidation_0-logloss:0.569148\n",
      "[2]\tvalidation_0-auc:0.714345\tvalidation_0-logloss:0.523176\n",
      "[3]\tvalidation_0-auc:0.715268\tvalidation_0-logloss:0.484759\n",
      "[4]\tvalidation_0-auc:0.716008\tvalidation_0-logloss:0.452389\n",
      "[5]\tvalidation_0-auc:0.718621\tvalidation_0-logloss:0.424553\n",
      "[6]\tvalidation_0-auc:0.721809\tvalidation_0-logloss:0.4011\n",
      "[7]\tvalidation_0-auc:0.721554\tvalidation_0-logloss:0.380819\n",
      "[8]\tvalidation_0-auc:0.722537\tvalidation_0-logloss:0.363669\n",
      "[9]\tvalidation_0-auc:0.721785\tvalidation_0-logloss:0.348953\n",
      "[10]\tvalidation_0-auc:0.72439\tvalidation_0-logloss:0.336559\n",
      "[11]\tvalidation_0-auc:0.725087\tvalidation_0-logloss:0.325333\n",
      "[12]\tvalidation_0-auc:0.726006\tvalidation_0-logloss:0.315819\n",
      "[13]\tvalidation_0-auc:0.726654\tvalidation_0-logloss:0.307662\n",
      "[14]\tvalidation_0-auc:0.727151\tvalidation_0-logloss:0.300378\n",
      "[15]\tvalidation_0-auc:0.727169\tvalidation_0-logloss:0.294019\n",
      "[16]\tvalidation_0-auc:0.727612\tvalidation_0-logloss:0.288543\n",
      "[17]\tvalidation_0-auc:0.727484\tvalidation_0-logloss:0.28382\n",
      "[18]\tvalidation_0-auc:0.727307\tvalidation_0-logloss:0.279751\n",
      "[19]\tvalidation_0-auc:0.726669\tvalidation_0-logloss:0.27626\n",
      "[20]\tvalidation_0-auc:0.727544\tvalidation_0-logloss:0.273331\n",
      "[21]\tvalidation_0-auc:0.728398\tvalidation_0-logloss:0.270754\n",
      "[22]\tvalidation_0-auc:0.72883\tvalidation_0-logloss:0.268578\n",
      "[23]\tvalidation_0-auc:0.728992\tvalidation_0-logloss:0.266576\n",
      "[24]\tvalidation_0-auc:0.728876\tvalidation_0-logloss:0.264837\n",
      "[25]\tvalidation_0-auc:0.729268\tvalidation_0-logloss:0.263334\n",
      "[26]\tvalidation_0-auc:0.730043\tvalidation_0-logloss:0.261979\n",
      "[27]\tvalidation_0-auc:0.730099\tvalidation_0-logloss:0.26085\n",
      "[28]\tvalidation_0-auc:0.730647\tvalidation_0-logloss:0.259901\n",
      "[29]\tvalidation_0-auc:0.731254\tvalidation_0-logloss:0.259135\n",
      "[30]\tvalidation_0-auc:0.731555\tvalidation_0-logloss:0.258351\n",
      "[31]\tvalidation_0-auc:0.732919\tvalidation_0-logloss:0.257658\n",
      "[32]\tvalidation_0-auc:0.733312\tvalidation_0-logloss:0.25709\n",
      "[33]\tvalidation_0-auc:0.733517\tvalidation_0-logloss:0.256539\n",
      "[34]\tvalidation_0-auc:0.734031\tvalidation_0-logloss:0.256044\n",
      "[35]\tvalidation_0-auc:0.734586\tvalidation_0-logloss:0.255559\n",
      "[36]\tvalidation_0-auc:0.734977\tvalidation_0-logloss:0.255139\n",
      "[37]\tvalidation_0-auc:0.7352\tvalidation_0-logloss:0.254826\n",
      "[38]\tvalidation_0-auc:0.735956\tvalidation_0-logloss:0.254453\n",
      "[39]\tvalidation_0-auc:0.736249\tvalidation_0-logloss:0.254162\n",
      "[40]\tvalidation_0-auc:0.736579\tvalidation_0-logloss:0.253923\n",
      "[41]\tvalidation_0-auc:0.736595\tvalidation_0-logloss:0.253746\n",
      "[42]\tvalidation_0-auc:0.736846\tvalidation_0-logloss:0.253564\n",
      "[43]\tvalidation_0-auc:0.737354\tvalidation_0-logloss:0.253342\n",
      "[44]\tvalidation_0-auc:0.738001\tvalidation_0-logloss:0.253118\n",
      "[45]\tvalidation_0-auc:0.738376\tvalidation_0-logloss:0.252963\n",
      "[46]\tvalidation_0-auc:0.738997\tvalidation_0-logloss:0.252745\n",
      "[47]\tvalidation_0-auc:0.739219\tvalidation_0-logloss:0.252622\n",
      "[48]\tvalidation_0-auc:0.739231\tvalidation_0-logloss:0.252493\n",
      "[49]\tvalidation_0-auc:0.739215\tvalidation_0-logloss:0.252388\n",
      "[50]\tvalidation_0-auc:0.73956\tvalidation_0-logloss:0.25224\n",
      "[51]\tvalidation_0-auc:0.740011\tvalidation_0-logloss:0.252072\n",
      "[52]\tvalidation_0-auc:0.740248\tvalidation_0-logloss:0.25198\n",
      "[53]\tvalidation_0-auc:0.740293\tvalidation_0-logloss:0.251883\n",
      "[54]\tvalidation_0-auc:0.740506\tvalidation_0-logloss:0.251785\n",
      "[55]\tvalidation_0-auc:0.740602\tvalidation_0-logloss:0.251704\n",
      "[56]\tvalidation_0-auc:0.740848\tvalidation_0-logloss:0.251611\n",
      "[57]\tvalidation_0-auc:0.740992\tvalidation_0-logloss:0.251545\n",
      "[58]\tvalidation_0-auc:0.741254\tvalidation_0-logloss:0.25146\n",
      "[59]\tvalidation_0-auc:0.741511\tvalidation_0-logloss:0.251354\n",
      "[60]\tvalidation_0-auc:0.741602\tvalidation_0-logloss:0.251291\n",
      "[61]\tvalidation_0-auc:0.74168\tvalidation_0-logloss:0.251239\n",
      "[62]\tvalidation_0-auc:0.741787\tvalidation_0-logloss:0.25118\n",
      "[63]\tvalidation_0-auc:0.7419\tvalidation_0-logloss:0.251128\n",
      "[64]\tvalidation_0-auc:0.741956\tvalidation_0-logloss:0.251091\n",
      "[65]\tvalidation_0-auc:0.74212\tvalidation_0-logloss:0.251006\n",
      "[66]\tvalidation_0-auc:0.742397\tvalidation_0-logloss:0.250923\n",
      "[67]\tvalidation_0-auc:0.742533\tvalidation_0-logloss:0.250839\n",
      "[68]\tvalidation_0-auc:0.742726\tvalidation_0-logloss:0.250791\n",
      "[69]\tvalidation_0-auc:0.742753\tvalidation_0-logloss:0.25075\n",
      "[70]\tvalidation_0-auc:0.742814\tvalidation_0-logloss:0.250721\n",
      "[71]\tvalidation_0-auc:0.742876\tvalidation_0-logloss:0.250677\n",
      "[72]\tvalidation_0-auc:0.742965\tvalidation_0-logloss:0.25063\n",
      "[73]\tvalidation_0-auc:0.743093\tvalidation_0-logloss:0.250591\n",
      "[74]\tvalidation_0-auc:0.74316\tvalidation_0-logloss:0.250557\n",
      "[75]\tvalidation_0-auc:0.743216\tvalidation_0-logloss:0.250534\n",
      "[76]\tvalidation_0-auc:0.743406\tvalidation_0-logloss:0.250487\n",
      "[77]\tvalidation_0-auc:0.743445\tvalidation_0-logloss:0.250459\n",
      "[78]\tvalidation_0-auc:0.743509\tvalidation_0-logloss:0.250429\n",
      "[79]\tvalidation_0-auc:0.743741\tvalidation_0-logloss:0.250364\n",
      "[80]\tvalidation_0-auc:0.743717\tvalidation_0-logloss:0.250354\n",
      "[81]\tvalidation_0-auc:0.743826\tvalidation_0-logloss:0.250325\n",
      "[82]\tvalidation_0-auc:0.743849\tvalidation_0-logloss:0.250298\n",
      "[83]\tvalidation_0-auc:0.743979\tvalidation_0-logloss:0.250253\n",
      "[84]\tvalidation_0-auc:0.744134\tvalidation_0-logloss:0.250203\n",
      "[85]\tvalidation_0-auc:0.744277\tvalidation_0-logloss:0.250157\n",
      "[86]\tvalidation_0-auc:0.74458\tvalidation_0-logloss:0.250075\n",
      "[87]\tvalidation_0-auc:0.744612\tvalidation_0-logloss:0.250067\n",
      "[88]\tvalidation_0-auc:0.744728\tvalidation_0-logloss:0.250019\n",
      "[89]\tvalidation_0-auc:0.74493\tvalidation_0-logloss:0.249962\n",
      "[90]\tvalidation_0-auc:0.744934\tvalidation_0-logloss:0.249943\n",
      "[91]\tvalidation_0-auc:0.744913\tvalidation_0-logloss:0.249937\n",
      "[92]\tvalidation_0-auc:0.745052\tvalidation_0-logloss:0.2499\n",
      "[93]\tvalidation_0-auc:0.745084\tvalidation_0-logloss:0.249875\n",
      "[94]\tvalidation_0-auc:0.745209\tvalidation_0-logloss:0.249845\n",
      "[95]\tvalidation_0-auc:0.745127\tvalidation_0-logloss:0.249859\n",
      "[96]\tvalidation_0-auc:0.745134\tvalidation_0-logloss:0.24985\n",
      "[97]\tvalidation_0-auc:0.745222\tvalidation_0-logloss:0.249821\n",
      "[98]\tvalidation_0-auc:0.745267\tvalidation_0-logloss:0.249807\n",
      "[99]\tvalidation_0-auc:0.745327\tvalidation_0-logloss:0.249779\n",
      "[100]\tvalidation_0-auc:0.745253\tvalidation_0-logloss:0.249783\n",
      "[101]\tvalidation_0-auc:0.745398\tvalidation_0-logloss:0.249761\n",
      "[102]\tvalidation_0-auc:0.745368\tvalidation_0-logloss:0.249767\n",
      "[103]\tvalidation_0-auc:0.745414\tvalidation_0-logloss:0.249749\n",
      "[104]\tvalidation_0-auc:0.745486\tvalidation_0-logloss:0.249721\n",
      "[105]\tvalidation_0-auc:0.745614\tvalidation_0-logloss:0.249694\n",
      "[106]\tvalidation_0-auc:0.745761\tvalidation_0-logloss:0.249657\n",
      "[107]\tvalidation_0-auc:0.745851\tvalidation_0-logloss:0.249633\n",
      "[108]\tvalidation_0-auc:0.745888\tvalidation_0-logloss:0.249615\n",
      "[109]\tvalidation_0-auc:0.74592\tvalidation_0-logloss:0.249605\n",
      "[110]\tvalidation_0-auc:0.746125\tvalidation_0-logloss:0.249563\n",
      "[111]\tvalidation_0-auc:0.746232\tvalidation_0-logloss:0.24953\n",
      "[112]\tvalidation_0-auc:0.746281\tvalidation_0-logloss:0.249518\n",
      "[113]\tvalidation_0-auc:0.746282\tvalidation_0-logloss:0.24951\n",
      "[114]\tvalidation_0-auc:0.746372\tvalidation_0-logloss:0.249487\n",
      "[115]\tvalidation_0-auc:0.746378\tvalidation_0-logloss:0.249475\n",
      "[116]\tvalidation_0-auc:0.746492\tvalidation_0-logloss:0.249449\n",
      "[117]\tvalidation_0-auc:0.746834\tvalidation_0-logloss:0.249337\n",
      "[118]\tvalidation_0-auc:0.746927\tvalidation_0-logloss:0.249315\n",
      "[119]\tvalidation_0-auc:0.746931\tvalidation_0-logloss:0.249304\n",
      "[120]\tvalidation_0-auc:0.746973\tvalidation_0-logloss:0.249291\n",
      "[121]\tvalidation_0-auc:0.746997\tvalidation_0-logloss:0.249279\n",
      "[122]\tvalidation_0-auc:0.746983\tvalidation_0-logloss:0.249279\n",
      "[123]\tvalidation_0-auc:0.747021\tvalidation_0-logloss:0.249262\n",
      "[124]\tvalidation_0-auc:0.746993\tvalidation_0-logloss:0.249277\n",
      "[125]\tvalidation_0-auc:0.747129\tvalidation_0-logloss:0.249229\n",
      "[126]\tvalidation_0-auc:0.747188\tvalidation_0-logloss:0.249221\n",
      "[127]\tvalidation_0-auc:0.747191\tvalidation_0-logloss:0.249216\n",
      "[128]\tvalidation_0-auc:0.747252\tvalidation_0-logloss:0.249202\n",
      "[129]\tvalidation_0-auc:0.7473\tvalidation_0-logloss:0.249179\n",
      "[130]\tvalidation_0-auc:0.747285\tvalidation_0-logloss:0.249186\n",
      "[131]\tvalidation_0-auc:0.747243\tvalidation_0-logloss:0.249191\n"
     ]
    },
    {
     "name": "stdout",
     "output_type": "stream",
     "text": [
      "[132]\tvalidation_0-auc:0.74726\tvalidation_0-logloss:0.249185\n",
      "[133]\tvalidation_0-auc:0.747288\tvalidation_0-logloss:0.249177\n",
      "[134]\tvalidation_0-auc:0.747358\tvalidation_0-logloss:0.249152\n",
      "[135]\tvalidation_0-auc:0.747414\tvalidation_0-logloss:0.249136\n",
      "[136]\tvalidation_0-auc:0.74766\tvalidation_0-logloss:0.249059\n",
      "[137]\tvalidation_0-auc:0.747636\tvalidation_0-logloss:0.249066\n",
      "[138]\tvalidation_0-auc:0.747712\tvalidation_0-logloss:0.249047\n",
      "[139]\tvalidation_0-auc:0.747705\tvalidation_0-logloss:0.249044\n",
      "[140]\tvalidation_0-auc:0.747826\tvalidation_0-logloss:0.249016\n",
      "[141]\tvalidation_0-auc:0.747842\tvalidation_0-logloss:0.249011\n",
      "[142]\tvalidation_0-auc:0.747916\tvalidation_0-logloss:0.248994\n",
      "[143]\tvalidation_0-auc:0.747986\tvalidation_0-logloss:0.248975\n",
      "[144]\tvalidation_0-auc:0.747984\tvalidation_0-logloss:0.248977\n",
      "[145]\tvalidation_0-auc:0.74801\tvalidation_0-logloss:0.248955\n",
      "[146]\tvalidation_0-auc:0.748116\tvalidation_0-logloss:0.248927\n",
      "[147]\tvalidation_0-auc:0.748182\tvalidation_0-logloss:0.248909\n",
      "[148]\tvalidation_0-auc:0.748152\tvalidation_0-logloss:0.248924\n",
      "[149]\tvalidation_0-auc:0.748136\tvalidation_0-logloss:0.248928\n",
      "[150]\tvalidation_0-auc:0.748174\tvalidation_0-logloss:0.248907\n",
      "[151]\tvalidation_0-auc:0.748166\tvalidation_0-logloss:0.248907\n",
      "[152]\tvalidation_0-auc:0.748095\tvalidation_0-logloss:0.248919\n",
      "[153]\tvalidation_0-auc:0.748135\tvalidation_0-logloss:0.2489\n",
      "[154]\tvalidation_0-auc:0.748292\tvalidation_0-logloss:0.248856\n",
      "[155]\tvalidation_0-auc:0.748333\tvalidation_0-logloss:0.248835\n",
      "[156]\tvalidation_0-auc:0.748335\tvalidation_0-logloss:0.248827\n",
      "[157]\tvalidation_0-auc:0.748403\tvalidation_0-logloss:0.248804\n",
      "[158]\tvalidation_0-auc:0.748365\tvalidation_0-logloss:0.248818\n",
      "[159]\tvalidation_0-auc:0.748325\tvalidation_0-logloss:0.248833\n",
      "[160]\tvalidation_0-auc:0.748376\tvalidation_0-logloss:0.248823\n",
      "[161]\tvalidation_0-auc:0.748384\tvalidation_0-logloss:0.248819\n",
      "[162]\tvalidation_0-auc:0.748338\tvalidation_0-logloss:0.248827\n",
      "[163]\tvalidation_0-auc:0.748326\tvalidation_0-logloss:0.248822\n",
      "[164]\tvalidation_0-auc:0.748351\tvalidation_0-logloss:0.248817\n",
      "[165]\tvalidation_0-auc:0.7483\tvalidation_0-logloss:0.248827\n",
      "[166]\tvalidation_0-auc:0.74845\tvalidation_0-logloss:0.248776\n",
      "[167]\tvalidation_0-auc:0.748443\tvalidation_0-logloss:0.248783\n",
      "[168]\tvalidation_0-auc:0.748481\tvalidation_0-logloss:0.248763\n",
      "[169]\tvalidation_0-auc:0.748495\tvalidation_0-logloss:0.248755\n",
      "[170]\tvalidation_0-auc:0.748465\tvalidation_0-logloss:0.248761\n",
      "[171]\tvalidation_0-auc:0.748459\tvalidation_0-logloss:0.248763\n",
      "[172]\tvalidation_0-auc:0.74842\tvalidation_0-logloss:0.248775\n",
      "[173]\tvalidation_0-auc:0.748512\tvalidation_0-logloss:0.248747\n",
      "[174]\tvalidation_0-auc:0.748637\tvalidation_0-logloss:0.248712\n",
      "[175]\tvalidation_0-auc:0.748631\tvalidation_0-logloss:0.248707\n",
      "[176]\tvalidation_0-auc:0.748606\tvalidation_0-logloss:0.248719\n",
      "[177]\tvalidation_0-auc:0.748586\tvalidation_0-logloss:0.248726\n",
      "[178]\tvalidation_0-auc:0.74852\tvalidation_0-logloss:0.248738\n",
      "[179]\tvalidation_0-auc:0.7485\tvalidation_0-logloss:0.24874\n",
      "[180]\tvalidation_0-auc:0.748481\tvalidation_0-logloss:0.248747\n",
      "[181]\tvalidation_0-auc:0.748608\tvalidation_0-logloss:0.248716\n",
      "[182]\tvalidation_0-auc:0.748519\tvalidation_0-logloss:0.24873\n",
      "[183]\tvalidation_0-auc:0.74852\tvalidation_0-logloss:0.248737\n",
      "[184]\tvalidation_0-auc:0.748673\tvalidation_0-logloss:0.248695\n",
      "[185]\tvalidation_0-auc:0.748757\tvalidation_0-logloss:0.248678\n",
      "[186]\tvalidation_0-auc:0.748851\tvalidation_0-logloss:0.248655\n",
      "[187]\tvalidation_0-auc:0.748892\tvalidation_0-logloss:0.248646\n",
      "[188]\tvalidation_0-auc:0.748846\tvalidation_0-logloss:0.248655\n",
      "[189]\tvalidation_0-auc:0.748912\tvalidation_0-logloss:0.248636\n",
      "[190]\tvalidation_0-auc:0.748886\tvalidation_0-logloss:0.248638\n",
      "[191]\tvalidation_0-auc:0.748822\tvalidation_0-logloss:0.248653\n",
      "[192]\tvalidation_0-auc:0.748779\tvalidation_0-logloss:0.248657\n",
      "[193]\tvalidation_0-auc:0.748805\tvalidation_0-logloss:0.248652\n",
      "[194]\tvalidation_0-auc:0.748779\tvalidation_0-logloss:0.248658\n",
      "[195]\tvalidation_0-auc:0.748845\tvalidation_0-logloss:0.248641\n",
      "[196]\tvalidation_0-auc:0.74894\tvalidation_0-logloss:0.248616\n",
      "[197]\tvalidation_0-auc:0.749029\tvalidation_0-logloss:0.248599\n",
      "[198]\tvalidation_0-auc:0.748992\tvalidation_0-logloss:0.248613\n",
      "[199]\tvalidation_0-auc:0.749065\tvalidation_0-logloss:0.248595\n",
      "[200]\tvalidation_0-auc:0.749104\tvalidation_0-logloss:0.248587\n",
      "[201]\tvalidation_0-auc:0.74903\tvalidation_0-logloss:0.248607\n",
      "[202]\tvalidation_0-auc:0.74898\tvalidation_0-logloss:0.248623\n",
      "[203]\tvalidation_0-auc:0.748956\tvalidation_0-logloss:0.248623\n",
      "[204]\tvalidation_0-auc:0.749011\tvalidation_0-logloss:0.248618\n",
      "[205]\tvalidation_0-auc:0.748982\tvalidation_0-logloss:0.248629\n",
      "[206]\tvalidation_0-auc:0.748991\tvalidation_0-logloss:0.248631\n",
      "[207]\tvalidation_0-auc:0.749094\tvalidation_0-logloss:0.248607\n",
      "[208]\tvalidation_0-auc:0.749116\tvalidation_0-logloss:0.248602\n",
      "[209]\tvalidation_0-auc:0.749105\tvalidation_0-logloss:0.248594\n",
      "[210]\tvalidation_0-auc:0.749219\tvalidation_0-logloss:0.248571\n",
      "[211]\tvalidation_0-auc:0.749235\tvalidation_0-logloss:0.248564\n",
      "[212]\tvalidation_0-auc:0.749217\tvalidation_0-logloss:0.248575\n",
      "[213]\tvalidation_0-auc:0.74924\tvalidation_0-logloss:0.24857\n",
      "[214]\tvalidation_0-auc:0.749261\tvalidation_0-logloss:0.248568\n",
      "[215]\tvalidation_0-auc:0.749283\tvalidation_0-logloss:0.248567\n",
      "[216]\tvalidation_0-auc:0.749363\tvalidation_0-logloss:0.248552\n",
      "[217]\tvalidation_0-auc:0.749356\tvalidation_0-logloss:0.248555\n",
      "[218]\tvalidation_0-auc:0.74928\tvalidation_0-logloss:0.248579\n",
      "[219]\tvalidation_0-auc:0.749289\tvalidation_0-logloss:0.248574\n",
      "[220]\tvalidation_0-auc:0.749319\tvalidation_0-logloss:0.248568\n",
      "[221]\tvalidation_0-auc:0.749273\tvalidation_0-logloss:0.248576\n",
      "[222]\tvalidation_0-auc:0.749291\tvalidation_0-logloss:0.248574\n",
      "[223]\tvalidation_0-auc:0.749246\tvalidation_0-logloss:0.248586\n",
      "[224]\tvalidation_0-auc:0.749274\tvalidation_0-logloss:0.248574\n",
      "[225]\tvalidation_0-auc:0.749343\tvalidation_0-logloss:0.24855\n",
      "[226]\tvalidation_0-auc:0.749325\tvalidation_0-logloss:0.248549\n",
      "[227]\tvalidation_0-auc:0.749374\tvalidation_0-logloss:0.248534\n",
      "[228]\tvalidation_0-auc:0.749454\tvalidation_0-logloss:0.248514\n",
      "[229]\tvalidation_0-auc:0.749395\tvalidation_0-logloss:0.248532\n",
      "[230]\tvalidation_0-auc:0.749396\tvalidation_0-logloss:0.248529\n",
      "[231]\tvalidation_0-auc:0.749364\tvalidation_0-logloss:0.248535\n",
      "[232]\tvalidation_0-auc:0.749373\tvalidation_0-logloss:0.248534\n",
      "[233]\tvalidation_0-auc:0.74933\tvalidation_0-logloss:0.24855\n",
      "[234]\tvalidation_0-auc:0.749257\tvalidation_0-logloss:0.248567\n",
      "[235]\tvalidation_0-auc:0.749225\tvalidation_0-logloss:0.248575\n",
      "[236]\tvalidation_0-auc:0.749223\tvalidation_0-logloss:0.24857\n",
      "[237]\tvalidation_0-auc:0.749172\tvalidation_0-logloss:0.248578\n",
      "[238]\tvalidation_0-auc:0.749188\tvalidation_0-logloss:0.248579\n",
      "[239]\tvalidation_0-auc:0.749173\tvalidation_0-logloss:0.248587\n",
      "[240]\tvalidation_0-auc:0.749232\tvalidation_0-logloss:0.248578\n",
      "[241]\tvalidation_0-auc:0.749206\tvalidation_0-logloss:0.248585\n",
      "[242]\tvalidation_0-auc:0.749176\tvalidation_0-logloss:0.248591\n",
      "[243]\tvalidation_0-auc:0.749177\tvalidation_0-logloss:0.248591\n",
      "[244]\tvalidation_0-auc:0.749182\tvalidation_0-logloss:0.248592\n",
      "[245]\tvalidation_0-auc:0.749156\tvalidation_0-logloss:0.248603\n",
      "[246]\tvalidation_0-auc:0.749141\tvalidation_0-logloss:0.248606\n",
      "[247]\tvalidation_0-auc:0.749136\tvalidation_0-logloss:0.248614\n",
      "[248]\tvalidation_0-auc:0.749136\tvalidation_0-logloss:0.248621\n",
      "[249]\tvalidation_0-auc:0.749133\tvalidation_0-logloss:0.248621\n",
      "[250]\tvalidation_0-auc:0.749298\tvalidation_0-logloss:0.248572\n",
      "[251]\tvalidation_0-auc:0.749334\tvalidation_0-logloss:0.248569\n",
      "[252]\tvalidation_0-auc:0.749338\tvalidation_0-logloss:0.248567\n",
      "[253]\tvalidation_0-auc:0.749338\tvalidation_0-logloss:0.248566\n",
      "[254]\tvalidation_0-auc:0.749411\tvalidation_0-logloss:0.248551\n",
      "[255]\tvalidation_0-auc:0.749459\tvalidation_0-logloss:0.248538\n",
      "[256]\tvalidation_0-auc:0.749539\tvalidation_0-logloss:0.248529\n",
      "[257]\tvalidation_0-auc:0.749551\tvalidation_0-logloss:0.248529\n",
      "[258]\tvalidation_0-auc:0.74959\tvalidation_0-logloss:0.248516\n",
      "[259]\tvalidation_0-auc:0.749545\tvalidation_0-logloss:0.248528\n",
      "[260]\tvalidation_0-auc:0.749513\tvalidation_0-logloss:0.248543\n",
      "[261]\tvalidation_0-auc:0.749544\tvalidation_0-logloss:0.24854\n",
      "[262]\tvalidation_0-auc:0.74959\tvalidation_0-logloss:0.24853\n",
      "[263]\tvalidation_0-auc:0.749562\tvalidation_0-logloss:0.248538\n",
      "[264]\tvalidation_0-auc:0.74955\tvalidation_0-logloss:0.248542\n"
     ]
    },
    {
     "name": "stdout",
     "output_type": "stream",
     "text": [
      "[265]\tvalidation_0-auc:0.749584\tvalidation_0-logloss:0.248533\n",
      "[266]\tvalidation_0-auc:0.749644\tvalidation_0-logloss:0.248522\n",
      "[267]\tvalidation_0-auc:0.74959\tvalidation_0-logloss:0.248531\n",
      "[268]\tvalidation_0-auc:0.749544\tvalidation_0-logloss:0.248541\n",
      "[269]\tvalidation_0-auc:0.749541\tvalidation_0-logloss:0.248529\n",
      "[270]\tvalidation_0-auc:0.74956\tvalidation_0-logloss:0.248522\n",
      "[271]\tvalidation_0-auc:0.74961\tvalidation_0-logloss:0.24851\n",
      "[272]\tvalidation_0-auc:0.749683\tvalidation_0-logloss:0.248489\n",
      "[273]\tvalidation_0-auc:0.749663\tvalidation_0-logloss:0.248496\n",
      "[274]\tvalidation_0-auc:0.749673\tvalidation_0-logloss:0.248497\n",
      "[275]\tvalidation_0-auc:0.749718\tvalidation_0-logloss:0.248481\n",
      "[276]\tvalidation_0-auc:0.749735\tvalidation_0-logloss:0.248474\n",
      "[277]\tvalidation_0-auc:0.749668\tvalidation_0-logloss:0.248484\n",
      "[278]\tvalidation_0-auc:0.749718\tvalidation_0-logloss:0.248466\n",
      "[279]\tvalidation_0-auc:0.749671\tvalidation_0-logloss:0.248479\n",
      "[280]\tvalidation_0-auc:0.749622\tvalidation_0-logloss:0.248487\n",
      "[281]\tvalidation_0-auc:0.749739\tvalidation_0-logloss:0.248457\n",
      "[282]\tvalidation_0-auc:0.749782\tvalidation_0-logloss:0.248447\n",
      "[283]\tvalidation_0-auc:0.749751\tvalidation_0-logloss:0.248457\n",
      "[284]\tvalidation_0-auc:0.749732\tvalidation_0-logloss:0.24846\n",
      "[285]\tvalidation_0-auc:0.749705\tvalidation_0-logloss:0.248464\n",
      "[286]\tvalidation_0-auc:0.749705\tvalidation_0-logloss:0.24848\n",
      "[287]\tvalidation_0-auc:0.749717\tvalidation_0-logloss:0.24848\n",
      "[288]\tvalidation_0-auc:0.749708\tvalidation_0-logloss:0.248481\n",
      "[289]\tvalidation_0-auc:0.749719\tvalidation_0-logloss:0.248484\n",
      "[290]\tvalidation_0-auc:0.749731\tvalidation_0-logloss:0.248476\n",
      "[291]\tvalidation_0-auc:0.74975\tvalidation_0-logloss:0.248474\n",
      "[292]\tvalidation_0-auc:0.749711\tvalidation_0-logloss:0.248486\n",
      "[293]\tvalidation_0-auc:0.749687\tvalidation_0-logloss:0.248493\n",
      "[294]\tvalidation_0-auc:0.74968\tvalidation_0-logloss:0.248501\n",
      "[295]\tvalidation_0-auc:0.749649\tvalidation_0-logloss:0.248511\n",
      "[296]\tvalidation_0-auc:0.749652\tvalidation_0-logloss:0.248507\n",
      "[297]\tvalidation_0-auc:0.74965\tvalidation_0-logloss:0.248511\n",
      "[298]\tvalidation_0-auc:0.749687\tvalidation_0-logloss:0.248509\n",
      "[299]\tvalidation_0-auc:0.749619\tvalidation_0-logloss:0.248519\n",
      "[300]\tvalidation_0-auc:0.749642\tvalidation_0-logloss:0.248506\n",
      "[301]\tvalidation_0-auc:0.749598\tvalidation_0-logloss:0.24852\n",
      "[302]\tvalidation_0-auc:0.749596\tvalidation_0-logloss:0.248524\n",
      "[303]\tvalidation_0-auc:0.74956\tvalidation_0-logloss:0.248538\n",
      "[304]\tvalidation_0-auc:0.749558\tvalidation_0-logloss:0.248553\n",
      "[305]\tvalidation_0-auc:0.749561\tvalidation_0-logloss:0.24856\n",
      "[306]\tvalidation_0-auc:0.749515\tvalidation_0-logloss:0.248573\n",
      "[307]\tvalidation_0-auc:0.749565\tvalidation_0-logloss:0.248553\n",
      "[308]\tvalidation_0-auc:0.74959\tvalidation_0-logloss:0.248552\n",
      "[309]\tvalidation_0-auc:0.749532\tvalidation_0-logloss:0.248557\n",
      "[310]\tvalidation_0-auc:0.749573\tvalidation_0-logloss:0.248546\n",
      "[311]\tvalidation_0-auc:0.74947\tvalidation_0-logloss:0.248575\n",
      "[312]\tvalidation_0-auc:0.749528\tvalidation_0-logloss:0.24856\n",
      "[313]\tvalidation_0-auc:0.749533\tvalidation_0-logloss:0.248562\n",
      "[314]\tvalidation_0-auc:0.749506\tvalidation_0-logloss:0.248568\n",
      "[315]\tvalidation_0-auc:0.749405\tvalidation_0-logloss:0.248583\n",
      "[316]\tvalidation_0-auc:0.749359\tvalidation_0-logloss:0.248598\n",
      "[317]\tvalidation_0-auc:0.749467\tvalidation_0-logloss:0.248577\n",
      "[318]\tvalidation_0-auc:0.749483\tvalidation_0-logloss:0.248568\n",
      "[319]\tvalidation_0-auc:0.749492\tvalidation_0-logloss:0.24857\n",
      "[320]\tvalidation_0-auc:0.74956\tvalidation_0-logloss:0.248567\n",
      "[321]\tvalidation_0-auc:0.749521\tvalidation_0-logloss:0.248577\n",
      "[322]\tvalidation_0-auc:0.749567\tvalidation_0-logloss:0.248561\n",
      "[323]\tvalidation_0-auc:0.749528\tvalidation_0-logloss:0.248571\n",
      "[324]\tvalidation_0-auc:0.749507\tvalidation_0-logloss:0.248581\n",
      "[325]\tvalidation_0-auc:0.749497\tvalidation_0-logloss:0.24857\n",
      "[326]\tvalidation_0-auc:0.749526\tvalidation_0-logloss:0.248568\n",
      "[327]\tvalidation_0-auc:0.749515\tvalidation_0-logloss:0.248573\n",
      "[328]\tvalidation_0-auc:0.749452\tvalidation_0-logloss:0.2486\n",
      "[329]\tvalidation_0-auc:0.749392\tvalidation_0-logloss:0.248617\n",
      "[330]\tvalidation_0-auc:0.749427\tvalidation_0-logloss:0.248613\n",
      "[331]\tvalidation_0-auc:0.749335\tvalidation_0-logloss:0.248643\n",
      "[332]\tvalidation_0-auc:0.749415\tvalidation_0-logloss:0.248624\n",
      "[333]\tvalidation_0-auc:0.749313\tvalidation_0-logloss:0.248652\n",
      "[334]\tvalidation_0-auc:0.749282\tvalidation_0-logloss:0.248659\n",
      "[335]\tvalidation_0-auc:0.749315\tvalidation_0-logloss:0.248651\n",
      "[336]\tvalidation_0-auc:0.749404\tvalidation_0-logloss:0.248629\n",
      "[337]\tvalidation_0-auc:0.749326\tvalidation_0-logloss:0.248653\n",
      "[338]\tvalidation_0-auc:0.749302\tvalidation_0-logloss:0.248657\n",
      "[339]\tvalidation_0-auc:0.749315\tvalidation_0-logloss:0.248652\n",
      "[340]\tvalidation_0-auc:0.749279\tvalidation_0-logloss:0.248658\n",
      "[341]\tvalidation_0-auc:0.749215\tvalidation_0-logloss:0.248675\n",
      "[342]\tvalidation_0-auc:0.749213\tvalidation_0-logloss:0.248673\n",
      "[343]\tvalidation_0-auc:0.749154\tvalidation_0-logloss:0.248683\n",
      "[344]\tvalidation_0-auc:0.749198\tvalidation_0-logloss:0.248668\n",
      "[345]\tvalidation_0-auc:0.749149\tvalidation_0-logloss:0.248683\n",
      "[346]\tvalidation_0-auc:0.749125\tvalidation_0-logloss:0.2487\n",
      "[347]\tvalidation_0-auc:0.74916\tvalidation_0-logloss:0.248693\n",
      "[348]\tvalidation_0-auc:0.749163\tvalidation_0-logloss:0.248691\n",
      "[349]\tvalidation_0-auc:0.749179\tvalidation_0-logloss:0.248689\n",
      "[350]\tvalidation_0-auc:0.749181\tvalidation_0-logloss:0.248689\n",
      "[351]\tvalidation_0-auc:0.749152\tvalidation_0-logloss:0.248693\n",
      "[352]\tvalidation_0-auc:0.749199\tvalidation_0-logloss:0.24869\n",
      "[353]\tvalidation_0-auc:0.749116\tvalidation_0-logloss:0.248716\n",
      "[354]\tvalidation_0-auc:0.749131\tvalidation_0-logloss:0.248711\n",
      "[355]\tvalidation_0-auc:0.749205\tvalidation_0-logloss:0.248691\n",
      "[356]\tvalidation_0-auc:0.749197\tvalidation_0-logloss:0.248692\n",
      "[357]\tvalidation_0-auc:0.749186\tvalidation_0-logloss:0.248693\n",
      "[358]\tvalidation_0-auc:0.749135\tvalidation_0-logloss:0.248707\n",
      "[359]\tvalidation_0-auc:0.749148\tvalidation_0-logloss:0.248703\n",
      "[360]\tvalidation_0-auc:0.749129\tvalidation_0-logloss:0.248707\n",
      "[361]\tvalidation_0-auc:0.749162\tvalidation_0-logloss:0.248698\n",
      "[362]\tvalidation_0-auc:0.749122\tvalidation_0-logloss:0.248711\n",
      "[363]\tvalidation_0-auc:0.749131\tvalidation_0-logloss:0.248712\n",
      "[364]\tvalidation_0-auc:0.749106\tvalidation_0-logloss:0.248709\n",
      "[365]\tvalidation_0-auc:0.749118\tvalidation_0-logloss:0.248711\n",
      "[366]\tvalidation_0-auc:0.749154\tvalidation_0-logloss:0.248704\n",
      "[367]\tvalidation_0-auc:0.749223\tvalidation_0-logloss:0.248684\n",
      "[368]\tvalidation_0-auc:0.749257\tvalidation_0-logloss:0.248678\n",
      "[369]\tvalidation_0-auc:0.749298\tvalidation_0-logloss:0.24867\n",
      "[370]\tvalidation_0-auc:0.749365\tvalidation_0-logloss:0.248657\n",
      "[371]\tvalidation_0-auc:0.74938\tvalidation_0-logloss:0.248653\n",
      "[372]\tvalidation_0-auc:0.749379\tvalidation_0-logloss:0.248658\n",
      "[373]\tvalidation_0-auc:0.749352\tvalidation_0-logloss:0.248662\n",
      "[374]\tvalidation_0-auc:0.749425\tvalidation_0-logloss:0.248651\n",
      "[375]\tvalidation_0-auc:0.74934\tvalidation_0-logloss:0.248663\n",
      "[376]\tvalidation_0-auc:0.749237\tvalidation_0-logloss:0.248693\n",
      "[377]\tvalidation_0-auc:0.749201\tvalidation_0-logloss:0.248697\n",
      "[378]\tvalidation_0-auc:0.749173\tvalidation_0-logloss:0.248697\n",
      "[379]\tvalidation_0-auc:0.74915\tvalidation_0-logloss:0.248697\n",
      "[380]\tvalidation_0-auc:0.74912\tvalidation_0-logloss:0.248705\n",
      "[381]\tvalidation_0-auc:0.749102\tvalidation_0-logloss:0.248706\n",
      "[382]\tvalidation_0-auc:0.749134\tvalidation_0-logloss:0.248699\n",
      "Stopping. Best iteration:\n",
      "[282]\tvalidation_0-auc:0.749782\tvalidation_0-logloss:0.248447\n",
      "\n"
     ]
    },
    {
     "data": {
      "text/plain": [
       "XGBClassifier(base_score=0.5, booster='gbtree', booter='gbtree',\n",
       "       colsample_bylevel=1, colsample_bytree=0.8, gamma=0.33,\n",
       "       learning_rate=0.1, max_delta_step=0, max_depth=4,\n",
       "       min_child_weight=1, missing=None, n_estimators=5000, n_jobs=-1,\n",
       "       nthread=None, objective='binary:logistic', random_state=0,\n",
       "       reg_alpha=0.04, reg_lambda=0.08, scale_pos_weight=1, seed=None,\n",
       "       silent=True, subsample=0.8, tree_method='hist')"
      ]
     },
     "execution_count": 74,
     "metadata": {},
     "output_type": "execute_result"
    }
   ],
   "source": [
    "params = {\n",
    "    'n_estimators'  : 5000,\n",
    "    'booter' : 'gbtree',\n",
    "    'objective' : 'binary:logistic',\n",
    "    'tree_method' : 'hist',\n",
    "    'learning_rate' : 0.1,\n",
    "    'max_depth': 4,\n",
    "    'colsample_bytree' : 0.8,\n",
    "    'subsample' :0.8,\n",
    "    'n_jobs': -1,\n",
    "    'gamma' : 0.33,\n",
    "    'reg_alpha' : 0.04,\n",
    "    'reg_lambda' : 0.08\n",
    "    }\n",
    "\n",
    "mdl = xgboost.XGBClassifier(**params)\n",
    "mdl.fit(X_train,y_train,\n",
    "        eval_set = [(X_valid,y_valid)],\n",
    "        eval_metric=['auc','logloss']\n",
    "        ,early_stopping_rounds=100\n",
    "        ,verbose = True)\n"
   ]
  },
  {
   "cell_type": "code",
   "execution_count": 89,
   "metadata": {
    "ExecuteTime": {
     "end_time": "2019-04-16T04:24:46.119896Z",
     "start_time": "2019-04-16T04:24:45.842894Z"
    }
   },
   "outputs": [
    {
     "data": {
      "text/plain": [
       "0.7474452309840622"
      ]
     },
     "execution_count": 89,
     "metadata": {},
     "output_type": "execute_result"
    }
   ],
   "source": [
    "scores = mdl.predict_proba(X_test)[:,1]\n",
    "roc_auc_score(y_test, scores)"
   ]
  },
  {
   "cell_type": "markdown",
   "metadata": {},
   "source": [
    "## Checking to Find Important Features"
   ]
  },
  {
   "cell_type": "code",
   "execution_count": 90,
   "metadata": {
    "ExecuteTime": {
     "end_time": "2019-04-16T04:25:05.924454Z",
     "start_time": "2019-04-16T04:25:05.239110Z"
    }
   },
   "outputs": [
    {
     "data": {
      "text/plain": [
       "<matplotlib.axes._subplots.AxesSubplot at 0x2df2ba9e470>"
      ]
     },
     "execution_count": 90,
     "metadata": {},
     "output_type": "execute_result"
    },
    {
     "data": {
      "image/png": "[encoded data removed]",
      "text/plain": [
       "<Figure size 1440x1440 with 1 Axes>"
      ]
     },
     "metadata": {
      "needs_background": "light"
     },
     "output_type": "display_data"
    }
   ],
   "source": [
    "fitted_models = {}\n",
    "fitted_models['train'] = mdl\n",
    "\n",
    "imp = pd.DataFrame(fitted_models['train'].feature_importances_, columns = ['Importance'])\n",
    "imp['Feature'] = X_train.columns\n",
    "imp[imp.Importance > 0.005].sort_values(by = 'Importance', ascending = True).plot(kind = 'barh', x = 'Feature', figsize = (20,20))"
   ]
  },
  {
   "cell_type": "markdown",
   "metadata": {
    "ExecuteTime": {
     "end_time": "2019-04-16T02:24:35.230916Z",
     "start_time": "2019-04-16T02:24:35.227884Z"
    }
   },
   "source": [
    "# Adding Previous Application File To the Dataset"
   ]
  },
  {
   "cell_type": "markdown",
   "metadata": {},
   "source": [
    "## Function To Load and aggeregate previous application"
   ]
  },
  {
   "cell_type": "code",
   "execution_count": 91,
   "metadata": {
    "ExecuteTime": {
     "end_time": "2019-04-16T04:25:09.046918Z",
     "start_time": "2019-04-16T04:25:09.037886Z"
    }
   },
   "outputs": [],
   "source": [
    "def pa():\n",
    "    df  = pd.read_csv('previous_application.csv')\n",
    "\n",
    "    df[df.columns[df.columns.str.contains('DAYS')]] = abs(df[df.columns[df.columns.str.contains('DAYS')]]).replace(365243, np.nan)/365  #converting days to years and removing outliers\n",
    "    df['AppToCredit'] =  (df.AMT_APPLICATION/df.AMT_CREDIT).replace(np.inf, 0)\n",
    "    df['DownToCredit'] = (df.AMT_DOWN_PAYMENT/df.AMT_CREDIT).replace(np.inf, 0)\n",
    "\n",
    "\n",
    "    catattri = [\n",
    "        'NAME_CLIENT_TYPE'\n",
    "        ,'NAME_CONTRACT_STATUS'\n",
    "        ,'NAME_YIELD_GROUP'\n",
    "        ,'WEEKDAY_APPR_PROCESS_START'\n",
    "        ,'NFLAG_INSURED_ON_APPROVAL'\n",
    "        ,'CHANNEL_TYPE'\n",
    "        ,'PRODUCT_COMBINATION'\n",
    "    ]\n",
    "\n",
    "    numattri = [\n",
    "        'SK_ID_CURR'\n",
    "        ,'SK_ID_PREV'\n",
    "        ,'DAYS_FIRST_DRAWING'\n",
    "        ,'DAYS_DECISION'\n",
    "        ,'DAYS_LAST_DUE'\n",
    "        ,'DAYS_FIRST_DUE'\n",
    "        ,'CNT_PAYMENT'\n",
    "        ,'HOUR_APPR_PROCESS_START'\n",
    "        ,'AMT_ANNUITY'\n",
    "        ,'AMT_APPLICATION'\n",
    "        ,'AMT_DOWN_PAYMENT'\n",
    "        ,'AppToCredit'\n",
    "        ,'SELLERPLACE_AREA'\n",
    "    ]\n",
    "\n",
    "\n",
    "    df[catattri] = df[catattri].astype('str')\n",
    "    df[numattri] = df[numattri].astype('float32')\n",
    "\n",
    "    npipe  = Pipeline([\n",
    "        ('imuter', SimpleImputer(strategy = 'mean'))\n",
    "                     ])\n",
    "    \n",
    "    cpipe = Pipeline ([\n",
    "        ('imputer', SimpleImputer(strategy = 'constant')),\n",
    "        ('encode', OneHotEncoder())\n",
    "                    ])\n",
    "\n",
    "\n",
    "\n",
    "    ct = ColumnTransformer([\n",
    "        (\"num\", npipe, numattri),\n",
    "        (\"norm2\", cpipe, catattri)\n",
    "    ])\n",
    "\n",
    "\n",
    "\n",
    "    df = pd.DataFrame(ct.fit_transform(df))\n",
    "    allcols = numattri + list(ct.named_transformers_['norm2'].named_steps['encode'].get_feature_names(catattri))\n",
    "    df.columns = allcols\n",
    "    df.drop('SK_ID_PREV', inplace  = True, axis  = 1)\n",
    "    df = df.groupby('SK_ID_CURR').agg([np.mean,'count',sum])\n",
    "    df.columns =  ['_'.join(col).strip() for col in df.columns.values]\n",
    "    pa_app = df.add_prefix('PA_')\n",
    "\n",
    "\n",
    "    del df, allcols,npipe,cpipe,ct,numattri,catattri,\n",
    "    gc.collect()\n",
    "\n",
    "    return pa_app\n"
   ]
  },
  {
   "cell_type": "markdown",
   "metadata": {},
   "source": [
    "## Loading Previous Application File and Merging it with Train "
   ]
  },
  {
   "cell_type": "code",
   "execution_count": 92,
   "metadata": {
    "ExecuteTime": {
     "end_time": "2019-04-16T04:26:09.762107Z",
     "start_time": "2019-04-16T04:25:15.468034Z"
    }
   },
   "outputs": [],
   "source": [
    "pa_app = pa()\n",
    "\n",
    "X_train_pa = X_train.merge(pa_app, on = 'SK_ID_CURR', how = 'left')\n",
    "X_valid_pa = X_valid.merge(pa_app, on = 'SK_ID_CURR', how = 'left')\n",
    "X_test_pa = X_test.merge(pa_app, on = 'SK_ID_CURR', how = 'left')\n",
    "\n",
    "X_train_pa.fillna(0, inplace= True)\n",
    "X_valid_pa.fillna(0, inplace= True)\n",
    "X_test_pa.fillna(0, inplace= True)"
   ]
  },
  {
   "cell_type": "markdown",
   "metadata": {},
   "source": [
    "## Finding Optimal Parameters"
   ]
  },
  {
   "cell_type": "code",
   "execution_count": 128,
   "metadata": {
    "ExecuteTime": {
     "end_time": "2019-04-16T08:55:13.415250Z",
     "start_time": "2019-04-16T05:19:11.904300Z"
    }
   },
   "outputs": [
    {
     "name": "stdout",
     "output_type": "stream",
     "text": [
      "\tScore 0.7586459337410697                            \n",
      "\n",
      "\n",
      "\tScore 0.7600861563467264                                                       \n",
      "\n",
      "\n",
      "\tScore 0.7614377362798432                                                        \n",
      "\n",
      "\n",
      "\tScore 0.760046636132386                                                         \n",
      "\n",
      "\n",
      "\tScore 0.7607544881906434                                                        \n",
      "\n",
      "\n",
      "\tScore 0.7597202951843735                                                         \n",
      "\n",
      "\n",
      "\tScore 0.7591304054097276                                                         \n",
      "\n",
      "\n",
      "\tScore 0.7605180507439266                                                         \n",
      "\n",
      "\n",
      "\tScore 0.7606308628626195                                                         \n",
      "\n",
      "\n",
      "\tScore 0.7594844560970665                                                         \n",
      "\n",
      "\n",
      "\tScore 0.7583090217768205                                                         \n",
      "\n",
      "\n",
      "\tScore 0.7597226601287068                                                         \n",
      "\n",
      "\n",
      "\tScore 0.7599594893583703                                                          \n",
      "\n",
      "\n",
      "\tScore 0.76023985635841                                                            \n",
      "\n",
      "\n",
      "\tScore 0.7601886111489715                                                          \n",
      "\n",
      "\n",
      "\tScore 0.7556839905535007                                                          \n",
      "\n",
      "\n",
      "\tScore 0.7583816797051318                                                          \n",
      "\n",
      "\n",
      "\tScore 0.760225445869295                                                          \n",
      "\n",
      "\n",
      "\tScore 0.7599450931159077                                                         \n",
      "\n",
      "\n",
      "\tScore 0.7579834857646806                                                         \n",
      "\n",
      "\n",
      "\tScore 0.7606526175011551                                                         \n",
      "\n",
      "\n",
      "\tScore 0.7605832149329651                                                          \n",
      "\n",
      "\n",
      "\tScore 0.7611265537702078                                                          \n",
      "\n",
      "\n",
      "\tScore 0.7607582208136272                                                          \n",
      "\n",
      "\n",
      "\tScore 0.76103833137392                                                            \n",
      "\n",
      "\n",
      "\tScore 0.7595919328443569                                                          \n",
      "\n",
      "\n",
      "\tScore 0.759946147368201                                                           \n",
      "\n",
      "\n",
      "\tScore 0.761220111537898                                                           \n",
      "\n",
      "\n",
      "\tScore 0.7586439605796833                                                          \n",
      "\n",
      "\n",
      "\tScore 0.75972679878129                                                            \n",
      "\n",
      "\n",
      "\tScore 0.7595868040494173                                                          \n",
      "\n",
      "\n",
      "\tScore 0.7563979829190329                                                            \n",
      "\n",
      "\n",
      "\tScore 0.7586059006472354                                                            \n",
      "\n",
      "\n",
      "\tScore 0.7607273981807053                                                            \n",
      "\n",
      "\n",
      "\tScore 0.7578210454316205                                                            \n",
      "\n",
      "\n",
      "\tScore 0.7592231083782612                                                            \n",
      "\n",
      "\n",
      "\tScore 0.758216133601803                                                             \n",
      "\n",
      "\n",
      "\tScore 0.7587962572960849                                                            \n",
      "\n",
      "\n",
      "\tScore 0.7577120086758694                                                            \n",
      "\n",
      "\n",
      "\tScore 0.7608334930026924                                                           \n",
      "\n",
      "\n",
      "\tScore 0.7595690598435914                                                           \n",
      "\n",
      "\n",
      "\tScore 0.7586675815297107                                                            \n",
      "\n",
      "\n",
      "\tScore 0.7618572218426201                                                            \n",
      "\n",
      "\n",
      "\tScore 0.7579378964763284                                                            \n",
      "\n",
      "\n",
      "\tScore 0.7585288476265939                                                            \n",
      "\n",
      "\n",
      "\tScore 0.7595766746794116                                                            \n",
      "\n",
      "\n",
      "\tScore 0.7560877406884697                                                            \n",
      "\n",
      "\n",
      "\tScore 0.7588663437036                                                               \n",
      "\n",
      "\n",
      "\tScore 0.760477070247694                                                             \n",
      "\n",
      "\n",
      "\tScore 0.7599353341588698                                                            \n",
      "\n",
      "\n",
      "\tScore 0.7572383145999111                                                            \n",
      "\n",
      "\n",
      "\tScore 0.7602268491645771                                                            \n",
      "\n",
      "\n",
      "\tScore 0.7600651639041055                                                            \n",
      "\n",
      "\n",
      "\tScore 0.7601168293897957                                                            \n",
      "\n",
      "\n",
      "\tScore 0.7602094896183715                                                            \n",
      "\n",
      "\n",
      "\tScore 0.7603988418782122                                                            \n",
      "\n",
      "\n",
      "\tScore 0.7590655902636779                                                            \n",
      "\n",
      "\n",
      "\tScore 0.759702957008147                                                             \n",
      "\n",
      "\n",
      "\tScore 0.7602081433096999                                                            \n",
      "\n",
      "\n",
      "\tScore 0.760516120322498                                                             \n",
      "\n",
      "\n",
      "\tScore 0.7604966950116643                                                            \n",
      "\n",
      "\n",
      "\tScore 0.7557980777476019                                                            \n",
      "\n",
      "\n",
      "\tScore 0.7587665886420243                                                            \n",
      "\n",
      "\n",
      "\tScore 0.7607435325147862                                                            \n",
      "\n",
      "\n",
      "\tScore 0.7602067970010282                                                            \n",
      "\n",
      "\n",
      "\tScore 0.7605835568526278                                                            \n",
      "\n",
      "\n",
      "\tScore 0.7603466207730698                                                            \n",
      "\n",
      "\n",
      "\tScore 0.7598278075482954                                                            \n",
      "\n",
      "\n",
      "\tScore 0.7605913568949317                                                            \n",
      "\n",
      "\n",
      "\tScore 0.7604246211961101                                                            \n",
      "\n",
      "\n",
      "\tScore 0.7598954221615827                                                            \n",
      "\n",
      "\n",
      "\tScore 0.760054528777932                                                             \n",
      "\n",
      "\n",
      "\tScore 0.7598639797992723                                                            \n",
      "\n",
      "\n",
      "\tScore 0.7610352327269774                                                            \n",
      "\n",
      "\n",
      "\tScore 0.7574557398887196                                                            \n",
      "\n",
      "\n",
      "\tScore 0.7607080369798083                                                            \n",
      "\n",
      "\n",
      "\tScore 0.7604375500333536                                                            \n",
      "\n",
      "\n",
      "\tScore 0.7603358075637388                                                            \n",
      "\n",
      "\n",
      "\tScore 0.761376781976651                                                             \n",
      "\n",
      "\n",
      "\tScore 0.7600936785793045                                                            \n",
      "\n",
      "\n",
      "\tScore 0.7592365572183252                                                            \n",
      "\n",
      "\n",
      "\tScore 0.7603695365137932                                                            \n",
      "\n",
      "\n",
      "\tScore 0.759145713437957                                                           \n",
      "\n",
      "\n",
      "\tScore 0.7603680976018794                                                          \n",
      "\n",
      "\n",
      "\tScore 0.7600825376969633                                                          \n",
      "\n",
      "\n",
      "\tScore 0.7601878275830781                                                          \n",
      "\n",
      "\n",
      "\tScore 0.7603880714088388                                                          \n",
      "\n",
      "\n",
      "\tScore 0.7597724735495578                                                          \n",
      "\n",
      "\n",
      "\tScore 0.7543952668516993                                                          \n",
      "\n",
      "\n",
      "\tScore 0.7574149089823393                                                          \n",
      "\n",
      "\n",
      "\tScore 0.7596302990798357                                                          \n",
      "\n",
      "\n",
      "\tScore 0.7586365950602837                                                          \n",
      "\n",
      "\n",
      "\tScore 0.7612184375562165                                                          \n",
      "\n",
      "\n",
      "\tScore 0.7576290361710686                                                          \n",
      "\n",
      "\n"
     ]
    },
    {
     "name": "stdout",
     "output_type": "stream",
     "text": [
      "\tScore 0.7616278151189666                                                          \n",
      "\n",
      "\n",
      "\tScore 0.7583780040687587                                                          \n",
      "\n",
      "\n",
      "\tScore 0.7603688740444469                                                          \n",
      "\n",
      "\n",
      "\tScore 0.7617156386089814                                                          \n",
      "\n",
      "\n",
      "\tScore 0.7605319554768741                                                          \n",
      "\n",
      "\n",
      "\tScore 0.7604545320432649                                                          \n",
      "\n",
      "\n",
      "100%|██████████| 100/100 [3:36:01<00:00, 166.84s/it, best loss: 0.23814277815737994]\n",
      "{'colsample_bytree': 0.8, 'gamma': 0.1, 'learning_rate': 0.025, 'max_depth': 8.0, 'min_child_weight': 4.0, 'reg_alpha': 0.4, 'reg_lambda': 0.9, 'subsample': 0.55}\n"
     ]
    }
   ],
   "source": [
    "def objective(params):\n",
    "    params = {\n",
    "        'max_depth': int(params['max_depth']),\n",
    "        'gamma': \"{:.3f}\".format(params['gamma']),\n",
    "        'reg_alpha': \"{:.3f}\".format(params['reg_alpha']),\n",
    "        'reg_lambda': \"{:.3f}\".format(params['reg_lambda']),\n",
    "        'colsample_bytree': '{:.3f}'.format(params['colsample_bytree']),\n",
    "        'learning_rate' : '{:.3f}'.format(params['learning_rate']),\n",
    "        'min_child_weight' : int(params['min_child_weight']),\n",
    "        'subsample' : '{:.3f}'.format(params['subsample']),\n",
    "        'objective': 'binary:logistic',\n",
    "        'booster': 'gbtree'      \n",
    "           }\n",
    "    \n",
    "\n",
    "    \n",
    "    clf = xgboost.XGBClassifier(\n",
    "        n_estimators=500,\n",
    "        n_jobs=-1,\n",
    "        **params\n",
    "    )\n",
    "    \n",
    "    gbm_model = clf.fit(X_train_pa , y_train\n",
    "                ,eval_set=[(X_valid_pa, y_valid)]\n",
    "                ,eval_metric=['logloss','auc']\n",
    "                ,early_stopping_rounds = 30\n",
    "                ,verbose=False)\n",
    "    \n",
    "    predictions = gbm_model.predict_proba(X_valid_pa)[:, 1]\n",
    "    score = roc_auc_score(y_valid, predictions)\n",
    "    \n",
    "    print(\"\\tScore {0}\\n\\n\".format(score))\n",
    "    return {'loss': 1-score, 'status': STATUS_OK}\n",
    "\n",
    "space = {\n",
    "    'max_depth': hp.quniform('max_depth', 2, 8, 1),\n",
    "    'colsample_bytree': hp.quniform('colsample_bytree', 0.3, 1.0,0.1),\n",
    "    'learning_rate': hp.quniform('learning_rate', 0.025, 0.1, 0.025),\n",
    "     'min_child_weight': hp.quniform('min_child_weight', 1, 6, 1),\n",
    "    'subsample': hp.quniform('subsample', 0.5, 1, 0.05),\n",
    "    'gamma': hp.quniform('gamma', 0.0, 1, 0.1),\n",
    "    'reg_alpha': hp.quniform('reg_alpha', 0.0, 1, 0.1),\n",
    "    'reg_lambda': hp.quniform('reg_lambda', 0.0, 1, 0.1),\n",
    "    \n",
    "}\n",
    "\n",
    "best = fmin(fn=objective,\n",
    "            space=space,\n",
    "            algo=tpe.suggest,\n",
    "            max_evals=100)\n",
    "print(best)"
   ]
  },
  {
   "cell_type": "markdown",
   "metadata": {},
   "source": [
    "## Training Model on Optimal Parameters"
   ]
  },
  {
   "cell_type": "code",
   "execution_count": 129,
   "metadata": {
    "ExecuteTime": {
     "end_time": "2019-04-16T13:04:43.013515Z",
     "start_time": "2019-04-16T13:04:43.009513Z"
    }
   },
   "outputs": [],
   "source": [
    "params = {\n",
    "    'n_estimators'  : 5000,\n",
    "    'booter' : 'gbtree',\n",
    "    'objective' : 'binary:logistic',\n",
    "    'tree_method' : 'hist',\n",
    "    'learning_rate' : 0.025,\n",
    "    'max_depth': 8,\n",
    "    'min_child_weight' :  4.0,\n",
    "    'colsample_bytree' : 0.8, #o,30?\n",
    "    'subsample' :0.55,\n",
    "    'n_jobs': -1,\n",
    "    'gamma' : 0.1,\n",
    "    'reg_alpha' : 0.4,\n",
    "    'reg_lambda' : 0.9\n",
    "    }\n",
    "\n",
    "mdl = xgboost.XGBClassifier(**params)\n",
    "mdl.fit(X_train_pa,y_train,\n",
    "        eval_set = [(X_valid_pa,y_valid)],\n",
    "        eval_metric=['logloss','auc']\n",
    "        ,early_stopping_rounds=200\n",
    "        ,verbose = True)\n"
   ]
  },
  {
   "cell_type": "code",
   "execution_count": 95,
   "metadata": {
    "ExecuteTime": {
     "end_time": "2019-04-16T04:28:39.118542Z",
     "start_time": "2019-04-16T04:28:38.788575Z"
    }
   },
   "outputs": [
    {
     "data": {
      "text/plain": [
       "0.7616771205762511"
      ]
     },
     "execution_count": 95,
     "metadata": {},
     "output_type": "execute_result"
    }
   ],
   "source": [
    "scores_pa = mdl.predict_proba(X_test_pa)[:,1]\n",
    "roc_auc_score(y_test, scores_pa)"
   ]
  },
  {
   "cell_type": "markdown",
   "metadata": {
    "ExecuteTime": {
     "start_time": "2019-04-16T02:45:42.254Z"
    }
   },
   "source": [
    "## Checking Feature Importance"
   ]
  },
  {
   "cell_type": "code",
   "execution_count": 96,
   "metadata": {
    "ExecuteTime": {
     "end_time": "2019-04-16T04:28:48.538277Z",
     "start_time": "2019-04-16T04:28:47.413271Z"
    }
   },
   "outputs": [
    {
     "data": {
      "text/plain": [
       "<matplotlib.axes._subplots.AxesSubplot at 0x2df13fae940>"
      ]
     },
     "execution_count": 96,
     "metadata": {},
     "output_type": "execute_result"
    },
    {
     "data": {
      "image/png": "[encoded data removed]",
      "text/plain": [
       "<Figure size 1440x1440 with 1 Axes>"
      ]
     },
     "metadata": {
      "needs_background": "light"
     },
     "output_type": "display_data"
    }
   ],
   "source": [
    "fitted_models['train_w_pvapp'] = mdl\n",
    "imp_pa = pd.DataFrame(mdl.feature_importances_, columns = ['Importance'])\n",
    "imp_pa['Feature'] = X_train_pa.columns\n",
    "imp_pa[imp_pa.Importance > 0.005].sort_values(by = 'Importance', ascending = True).plot(kind = 'barh', x = 'Feature', figsize=(20,20))"
   ]
  },
  {
   "cell_type": "markdown",
   "metadata": {},
   "source": [
    "## Selecting Optimal Number of features to take forwad"
   ]
  },
  {
   "cell_type": "markdown",
   "metadata": {
    "ExecuteTime": {
     "end_time": "2019-04-16T04:48:15.766993Z",
     "start_time": "2019-04-16T04:48:15.762993Z"
    }
   },
   "source": [
    "### Best set of Scores came with 100 features "
   ]
  },
  {
   "cell_type": "code",
   "execution_count": 130,
   "metadata": {
    "ExecuteTime": {
     "end_time": "2019-04-16T13:34:39.756327Z",
     "start_time": "2019-04-16T13:05:07.799285Z"
    }
   },
   "outputs": [
    {
     "name": "stdout",
     "output_type": "stream",
     "text": [
      "Best score for valid is 0.7345 on top 10 features by importance\n",
      "Best score for train is 0.7308 on top 10 features by importance\n",
      "\n",
      "Best score for valid is 0.7441 on top 20 features by importance\n",
      "Best score for train is 0.7384 on top 20 features by importance\n",
      "\n",
      "Best score for valid is 0.7536 on top 30 features by importance\n",
      "Best score for train is 0.7527 on top 30 features by importance\n",
      "\n",
      "Best score for valid is 0.7591 on top 40 features by importance\n",
      "Best score for train is 0.7576 on top 40 features by importance\n",
      "\n",
      "Best score for valid is 0.7603 on top 50 features by importance\n",
      "Best score for train is 0.7617 on top 50 features by importance\n",
      "\n",
      "Best score for valid is 0.7607 on top 60 features by importance\n",
      "Best score for train is 0.7622 on top 60 features by importance\n",
      "\n",
      "Best score for valid is 0.7611 on top 70 features by importance\n",
      "Best score for train is 0.7603 on top 70 features by importance\n",
      "\n",
      "Best score for valid is 0.7599 on top 80 features by importance\n",
      "Best score for train is 0.7609 on top 80 features by importance\n",
      "\n",
      "Best score for valid is 0.7613 on top 90 features by importance\n",
      "Best score for train is 0.7607 on top 90 features by importance\n",
      "\n",
      "Best score for valid is 0.7614 on top 100 features by importance\n",
      "Best score for train is 0.762 on top 100 features by importance\n",
      "\n",
      "Best score for valid is 0.7594 on top 110 features by importance\n",
      "Best score for train is 0.761 on top 110 features by importance\n",
      "\n",
      "Best score for valid is 0.7609 on top 120 features by importance\n",
      "Best score for train is 0.7603 on top 120 features by importance\n",
      "\n",
      "Best score for valid is 0.7596 on top 130 features by importance\n",
      "Best score for train is 0.7614 on top 130 features by importance\n",
      "\n",
      "Best score for valid is 0.7601 on top 140 features by importance\n",
      "Best score for train is 0.7607 on top 140 features by importance\n",
      "\n",
      "Best score for valid is 0.7596 on top 150 features by importance\n",
      "Best score for train is 0.7622 on top 150 features by importance\n",
      "\n",
      "Best score for valid is 0.7603 on top 160 features by importance\n",
      "Best score for train is 0.7612 on top 160 features by importance\n",
      "\n",
      "Best score for valid is 0.7614 on top 170 features by importance\n",
      "Best score for train is 0.7618 on top 170 features by importance\n",
      "\n",
      "Best score for valid is 0.7603 on top 180 features by importance\n",
      "Best score for train is 0.762 on top 180 features by importance\n",
      "\n",
      "Best score for valid is 0.7608 on top 190 features by importance\n",
      "Best score for train is 0.7618 on top 190 features by importance\n",
      "\n",
      "Best score for valid is 0.7605 on top 200 features by importance\n",
      "Best score for train is 0.7633 on top 200 features by importance\n",
      "\n",
      "Best score for valid is 0.7607 on top 210 features by importance\n",
      "Best score for train is 0.7622 on top 210 features by importance\n",
      "\n",
      "Best score for valid is 0.7603 on top 220 features by importance\n",
      "Best score for train is 0.7614 on top 220 features by importance\n",
      "\n",
      "Best score for valid is 0.7596 on top 230 features by importance\n",
      "Best score for train is 0.7622 on top 230 features by importance\n",
      "\n",
      "Best score for valid is 0.759 on top 240 features by importance\n",
      "Best score for train is 0.7613 on top 240 features by importance\n",
      "\n"
     ]
    }
   ],
   "source": [
    "# imp_pa = imp_pa.sort_values(by = 'Importance', ascending = False)\n",
    "scores = []\n",
    "numfeatures = []\n",
    "for x  in range(1,25):\n",
    "    x  = x * 10\n",
    "    features = imp_pa['Feature'][0:x].values\n",
    "    train  = X_train_pa[features]\n",
    "    valid = X_valid_pa[features]\n",
    "    test = X_test_pa[features]\n",
    "    mdl.fit(train,y_train,\n",
    "        eval_set = [(valid,y_valid)],\n",
    "        eval_metric=['logloss','auc']\n",
    "        ,early_stopping_rounds=150\n",
    "        ,verbose = False)\n",
    "    scores.append(mdl.best_score)\n",
    "    iteration.append(x)\n",
    "    scores_pa = mdl.predict_proba(test)[:,1]\n",
    "    roc = roc_auc_score(y_test, scores_pa)\n",
    "    print('Best score for valid is ' + str(round(mdl.best_score,4)) + ' on top ' + str(x) + ' features by importance')\n",
    "    print('Best score for test is ' + str(round(roc,4)) + ' on top ' + str(x) + ' features by importance\\n')\n",
    "    "
   ]
  },
  {
   "cell_type": "markdown",
   "metadata": {},
   "source": [
    "## Testing Optimal Set of Parameters BY PCA"
   ]
  },
  {
   "cell_type": "markdown",
   "metadata": {},
   "source": [
    "### PCA performerd poorly vs using the importance from xgboost models at 100 features"
   ]
  },
  {
   "cell_type": "code",
   "execution_count": 131,
   "metadata": {
    "ExecuteTime": {
     "end_time": "2019-04-16T13:58:56.627859Z",
     "start_time": "2019-04-16T13:34:39.759327Z"
    }
   },
   "outputs": [
    {
     "name": "stdout",
     "output_type": "stream",
     "text": [
      "Best score for valid is 0.6109 on top 10 features by importance\n",
      "Best score for train is 0.6122 on top 10 features by importance\n",
      "\n",
      "Best score for valid is 0.659 on top 20 features by importance\n",
      "Best score for train is 0.6623 on top 20 features by importance\n",
      "\n",
      "Best score for valid is 0.6754 on top 30 features by importance\n",
      "Best score for train is 0.68 on top 30 features by importance\n",
      "\n",
      "Best score for valid is 0.6781 on top 40 features by importance\n",
      "Best score for train is 0.6862 on top 40 features by importance\n",
      "\n",
      "Best score for valid is 0.6949 on top 50 features by importance\n",
      "Best score for train is 0.7034 on top 50 features by importance\n",
      "\n",
      "Best score for valid is 0.7049 on top 60 features by importance\n",
      "Best score for train is 0.7055 on top 60 features by importance\n",
      "\n",
      "Best score for valid is 0.7062 on top 70 features by importance\n",
      "Best score for train is 0.7048 on top 70 features by importance\n",
      "\n",
      "Best score for valid is 0.7118 on top 80 features by importance\n",
      "Best score for train is 0.7075 on top 80 features by importance\n",
      "\n",
      "Best score for valid is 0.7415 on top 90 features by importance\n",
      "Best score for train is 0.7417 on top 90 features by importance\n",
      "\n",
      "Best score for valid is 0.7521 on top 100 features by importance\n",
      "Best score for train is 0.7505 on top 100 features by importance\n",
      "\n",
      "Best score for valid is 0.7544 on top 110 features by importance\n",
      "Best score for train is 0.7572 on top 110 features by importance\n",
      "\n",
      "Best score for valid is 0.7542 on top 120 features by importance\n",
      "Best score for train is 0.7541 on top 120 features by importance\n",
      "\n",
      "Best score for valid is 0.7528 on top 130 features by importance\n",
      "Best score for train is 0.7531 on top 130 features by importance\n",
      "\n",
      "Best score for valid is 0.7548 on top 140 features by importance\n",
      "Best score for train is 0.7528 on top 140 features by importance\n",
      "\n",
      "Best score for valid is 0.7526 on top 150 features by importance\n",
      "Best score for train is 0.7533 on top 150 features by importance\n",
      "\n",
      "Best score for valid is 0.7537 on top 160 features by importance\n",
      "Best score for train is 0.7559 on top 160 features by importance\n",
      "\n",
      "Best score for valid is 0.7507 on top 170 features by importance\n",
      "Best score for train is 0.7539 on top 170 features by importance\n",
      "\n"
     ]
    }
   ],
   "source": [
    "from sklearn.decomposition import PCA\n",
    "for x  in range(1,18):\n",
    "    x  = x * 10\n",
    "    pc  = PCA(n_components  = x)\n",
    "    X_train_pa_pc = pc.fit_transform(X_train_pa)\n",
    "    X_valid_pa_pc = pc.transform(X_valid_pa)\n",
    "    X_test_pa_pc = pc.transform(X_test_pa)\n",
    "\n",
    "    mdl.fit(X_train_pa_pc,y_train,\n",
    "        eval_set = [(X_valid_pa_pc,y_valid)],\n",
    "        eval_metric=['logloss','auc']\n",
    "        ,early_stopping_rounds=100\n",
    "        ,verbose = False)\n",
    "\n",
    "    scores_pc = mdl.predict_proba(X_test_pa_pc)[:,1]\n",
    "    roc = roc_auc_score(y_test, scores_pc)\n",
    "\n",
    "    print('Best score for valid is ' + str(round(mdl.best_score,4)) + ' on top ' + str(x) + ' features by importance')\n",
    "    print('Best score for train is ' + str(round(roc,4)) + ' on top ' + str(x) + ' features by importance\\n')\n",
    "    \n"
   ]
  },
  {
   "cell_type": "code",
   "execution_count": 115,
   "metadata": {
    "ExecuteTime": {
     "end_time": "2019-04-16T05:12:21.463475Z",
     "start_time": "2019-04-16T05:11:44.012910Z"
    }
   },
   "outputs": [],
   "source": [
    "fitted_models = {}\n",
    "features = imp_pa['Feature'][0:100].values\n",
    "train  = X_train_pa[features]\n",
    "valid = X_valid_pa[features]\n",
    "test = X_test_pa[features]\n",
    "mdl.fit(train,y_train,\n",
    "    eval_set = [(valid,y_valid)],\n",
    "    eval_metric=['logloss','auc']\n",
    "    ,early_stopping_rounds=100\n",
    "    ,verbose = False)\n",
    "\n",
    "fitted_models['final'] = mdl"
   ]
  },
  {
   "cell_type": "markdown",
   "metadata": {
    "ExecuteTime": {
     "end_time": "2019-04-16T04:47:52.585843Z",
     "start_time": "2019-04-16T04:47:52.583789Z"
    }
   },
   "source": [
    "# Submitting test File"
   ]
  },
  {
   "cell_type": "code",
   "execution_count": 123,
   "metadata": {
    "ExecuteTime": {
     "end_time": "2019-04-16T05:16:42.390018Z",
     "start_time": "2019-04-16T05:16:42.381018Z"
    }
   },
   "outputs": [],
   "source": [
    "def test_sub(full_pipeline,df_pv_app,fitted_models,features,key=\"\"):\n",
    "    df_test = pd.read_csv('application_test.csv')\n",
    "    df_test.index = df_test['SK_ID_CURR']\n",
    "    df_test[df_test.columns[df_test.columns.str.contains('DAYS')]] = abs(df_test[df_test.columns[df_test.columns.str.contains('DAYS')]]).replace(365243, np.nan)/365 \n",
    "    df_test['DAYS_EMPLOYED_PERC'] = (df_test.DAYS_EMPLOYED / df_test.DAYS_BIRTH).replace(np.inf, 0)\n",
    "    df_test['INCOME_CREDIT_PERC'] = (df_test['AMT_INCOME_TOTAL'] / df_test['AMT_CREDIT']).replace(np.inf, 0)\n",
    "    df_test['INCOME_PER_PERSON'] = (df_test['AMT_INCOME_TOTAL'] / df_test['CNT_FAM_MEMBERS']).replace(np.inf, 0)\n",
    "    df_test['ANNUITY_INCOME_PERC'] =( df_test['AMT_ANNUITY'] / df_test['AMT_INCOME_TOTAL']).replace(np.inf, 0)\n",
    "    \n",
    "    num_attribs = [\n",
    "         'SK_ID_CURR' \n",
    "        ,'AMT_INCOME_TOTAL'\n",
    "        ,'AMT_CREDIT'\n",
    "        ,'DAYS_EMPLOYED'\n",
    "        ,'DAYS_BIRTH'\n",
    "        ,'EXT_SOURCE_1'\n",
    "        ,'EXT_SOURCE_2'\n",
    "        ,'EXT_SOURCE_3'\n",
    "        ,'AMT_ANNUITY'\n",
    "        ,'DAYS_EMPLOYED_PERC'\n",
    "        ,'INCOME_CREDIT_PERC'\n",
    "        ,'INCOME_PER_PERSON'\n",
    "        ,'ANNUITY_INCOME_PERC'\n",
    "    ]\n",
    "\n",
    "    cat_attribs = [\n",
    "        'CODE_GENDER'\n",
    "        ,'FLAG_OWN_REALTY'\n",
    "        ,'FLAG_OWN_CAR'\n",
    "        ,'NAME_CONTRACT_TYPE' \n",
    "        ,'NAME_EDUCATION_TYPE'\n",
    "        ,'OCCUPATION_TYPE'\n",
    "        ,'NAME_INCOME_TYPE'\n",
    "\n",
    "    ]\n",
    "\n",
    "    \n",
    "    \n",
    "    tst_ind = df_test['SK_ID_CURR']\n",
    "    test = pd.DataFrame(full_pipeline.transform(df_test), index = tst_ind)\n",
    "    allcols = num_attribs + list(full_pipeline.named_transformers_['cat'].named_steps['ohe'].get_feature_names(cat_attribs))\n",
    "    test.columns  = allcols\n",
    "    test.drop('SK_ID_CURR', inplace = True, axis = 1)\n",
    "\n",
    "    \n",
    "    test = test.merge(df_pv_app, how = 'left', on = 'SK_ID_CURR')    \n",
    "    test.fillna(0,inplace = True)\n",
    "    \n",
    "    test  = test[features]\n",
    "    pred = fitted_models[key].predict_proba(test)[:,1]\n",
    "    sub = pd.DataFrame(tst_ind)\n",
    "    sub['TARGET'] = pred\n",
    "    sub.to_csv('submission.csv', index = False)\n"
   ]
  },
  {
   "cell_type": "code",
   "execution_count": 124,
   "metadata": {
    "ExecuteTime": {
     "end_time": "2019-04-16T05:16:48.380194Z",
     "start_time": "2019-04-16T05:16:43.620257Z"
    }
   },
   "outputs": [],
   "source": [
    "test_sub(full_pipeline,pa_app,fitted_models,features,key  = \"final\" )"
   ]
  },
  {
   "cell_type": "code",
   "execution_count": 125,
   "metadata": {
    "ExecuteTime": {
     "end_time": "2019-04-16T05:17:12.778992Z",
     "start_time": "2019-04-16T05:17:07.531105Z"
    }
   },
   "outputs": [
    {
     "name": "stdout",
     "output_type": "stream",
     "text": [
      "Successfully submitted to Home Credit Default Risk\n"
     ]
    },
    {
     "name": "stderr",
     "output_type": "stream",
     "text": [
      "\n",
      "  0%|          | 0.00/925k [00:00<?, ?B/s]\n",
      "  1%|          | 8.00k/925k [00:00<00:13, 71.3kB/s]\n",
      " 95%|#########5| 880k/925k [00:00<00:00, 101kB/s]  \n",
      "100%|##########| 925k/925k [00:03<00:00, 245kB/s]\n"
     ]
    }
   ],
   "source": [
    "!kaggle competitions submit -c home-credit-default-risk -f submission.csv -m \"XGBoost - Hist - TunedHP - 100 Important features with previous app\"\n"
   ]
  },
  {
   "cell_type": "code",
   "execution_count": 126,
   "metadata": {
    "ExecuteTime": {
     "end_time": "2019-04-16T05:17:17.564021Z",
     "start_time": "2019-04-16T05:17:16.847644Z"
    }
   },
   "outputs": [
    {
     "name": "stdout",
     "output_type": "stream",
     "text": [
      "fileName           date                 description                                                                    status    publicScore  privateScore  \n",
      "-----------------  -------------------  -----------------------------------------------------------------------------  --------  -----------  ------------  \n",
      "submission.csv     2019-04-16 05:17:15  XGBoost - Hist - TunedHP - 100 Important features with previous app            complete  0.75034      0.75570       \n",
      "submission.csv     2019-04-13 15:15:13  XGBoost - Hist - TunedHP                                                       complete  0.74813      0.75039       \n",
      "submission.csv     2019-04-07 19:47:17  XGBoost - Hist - TunedHP                                                       complete  0.75162      0.75435       \n",
      "submission.csv     2019-04-07 06:05:35  LightGBM - TunedHP                                                             complete  0.74094      0.74544       \n",
      "submission.csv     2019-04-07 05:30:19  XGBoost - Hist - TunedHP                                                       complete  0.75011      0.75439       \n",
      "submission.csv     2019-04-06 22:05:28  XGBoost - Hist                                                                 complete  0.74886      0.75185       \n",
      "submission.csv     2019-04-06 08:47:56  LogR - With Previous APP Data(actual2)                                         complete  0.74340      0.74151       \n",
      "submission.csv     2019-04-06 08:47:22  LogR - With Previous APP Data(actual)                                          complete  0.60422      0.61406       \n",
      "submission.csv     2019-04-06 08:47:12  LogR - With Previous APP Data                                                  complete  0.60422      0.61406       \n",
      "submission.csv     2019-04-06 08:46:56  RF - With Previous APP Data                                                    complete  0.60422      0.61406       \n",
      "submission.csv     2019-04-06 08:45:15  GBC - With Previous APP Data                                                   complete  0.74351      0.74146       \n",
      "submissions_n.csv  2019-04-06 01:05:17  Logistic Weighted                                                              complete  0.76774      0.77153       \n",
      "submission.csv     2019-04-05 21:48:09  GBM                                                                            complete  0.73539      0.73204       \n",
      "submission.csv     2019-04-05 21:30:37  Logistic with feature selection Weighted                                       complete  0.70774      0.70672       \n",
      "submission.csv     2019-04-05 19:04:35  Weighted                                                                       complete  0.70506      0.71345       \n",
      "submission.csv     2019-04-05 16:24:30  Loigistic Weighted w/ app_pre, CC, & PI                                        complete  0.74781      0.74642       \n",
      "submission.csv     2019-04-05 16:00:52  DL w/ app_pre, CC, & PI Actual Start = 64, optimizer = sgd, last  = 1,softmax  complete  0.72814      0.72506       \n",
      "submission.csv     2019-04-05 15:44:03  DL w/ app_pre, CC, & PI Actual Start = 64                                      complete  0.73867      0.73843       \n",
      "submission.csv     2019-04-05 15:40:08  DL w/ app_pre, CC, & PI Actual Start = 500                                     complete  0.71452      0.72080       \n",
      "submission.csv     2019-04-05 15:31:11  DL w/ app_pre, CC, & PI                                                        complete  0.69752      0.71244       \n"
     ]
    }
   ],
   "source": [
    "!kaggle competitions submissions home-credit-default-risk"
   ]
  },
  {
   "cell_type": "code",
   "execution_count": null,
   "metadata": {},
   "outputs": [],
   "source": []
  }
 ],
 "metadata": {
  "kernelspec": {
   "display_name": "Python 3",
   "language": "python",
   "name": "python3"
  },
  "language_info": {
   "codemirror_mode": {
    "name": "ipython",
    "version": 3
   },
   "file_extension": ".py",
   "mimetype": "text/x-python",
   "name": "python",
   "nbconvert_exporter": "python",
   "pygments_lexer": "ipython3",
   "version": "3.6.7"
  },
  "toc": {
   "base_numbering": 1,
   "nav_menu": {},
   "number_sections": true,
   "sideBar": true,
   "skip_h1_title": false,
   "title_cell": "Table of Contents",
   "title_sidebar": "Contents",
   "toc_cell": false,
   "toc_position": {},
   "toc_section_display": true,
   "toc_window_display": false
  },
  "varInspector": {
   "cols": {
    "lenName": 16,
    "lenType": 16,
    "lenVar": 40
   },
   "kernels_config": {
    "python": {
     "delete_cmd_postfix": "",
     "delete_cmd_prefix": "del ",
     "library": "var_list.py",
     "varRefreshCmd": "print(var_dic_list())"
    },
    "r": {
     "delete_cmd_postfix": ") ",
     "delete_cmd_prefix": "rm(",
     "library": "var_list.r",
     "varRefreshCmd": "cat(var_dic_list()) "
    }
   },
   "types_to_exclude": [
    "module",
    "function",
    "builtin_function_or_method",
    "instance",
    "_Feature"
   ],
   "window_display": false
  }
 },
 "nbformat": 4,
 "nbformat_minor": 2
}
