{
 "cells": [
  {
   "cell_type": "code",
   "execution_count": 47,
   "metadata": {
    "ExecuteTime": {
     "end_time": "2019-04-06T22:45:44.811986Z",
     "start_time": "2019-04-06T22:45:44.807066Z"
    }
   },
   "outputs": [],
   "source": [
    "import pandas as pd\n",
    "import numpy as np\n",
    "import os\n",
    "\n",
    "from scipy import stats\n",
    "\n",
    "from sklearn.pipeline import Pipeline, FeatureUnion\n",
    "from sklearn.preprocessing import OneHotEncoder, Imputer,StandardScaler\n",
    "from sklearn.linear_model import LogisticRegression\n",
    "from sklearn.base import TransformerMixin, BaseEstimator\n",
    "from sklearn.model_selection import train_test_split, ShuffleSplit, cross_val_score\n",
    "from sklearn.ensemble import RandomForestClassifier\n",
    "from sklearn.metrics import roc_curve,roc_auc_score,accuracy_score\n",
    "\n",
    "import matplotlib.pyplot as plt\n",
    "\n",
    "import xgboost\n",
    "\n",
    "\n",
    "\n",
    "#from sklearn.decomposition import PCA\n",
    "#import lightgbm"
   ]
  },
  {
   "cell_type": "code",
   "execution_count": 48,
   "metadata": {
    "ExecuteTime": {
     "end_time": "2019-04-06T22:45:45.276891Z",
     "start_time": "2019-04-06T22:45:45.272262Z"
    }
   },
   "outputs": [],
   "source": [
    "class DataFrameSelector(BaseEstimator, TransformerMixin):\n",
    "    def __init__(self, attribute_names):\n",
    "        self.attribute_names = attribute_names\n",
    "    def fit(self, X, y=None):\n",
    "        return self\n",
    "    def transform(self, X):\n",
    "        return X[self.attribute_names].values"
   ]
  },
  {
   "cell_type": "code",
   "execution_count": 49,
   "metadata": {
    "ExecuteTime": {
     "end_time": "2019-04-06T22:45:45.644899Z",
     "start_time": "2019-04-06T22:45:45.637919Z"
    }
   },
   "outputs": [],
   "source": [
    "def previous_app():\n",
    "    df_pa = pd.read_csv('previous_application.csv')\n",
    "    df_pa.drop('SK_ID_PREV', axis = 1, inplace = True)\n",
    "    \n",
    "\n",
    "    \n",
    "    numcols = df_pa.select_dtypes(exclude= 'object').columns\n",
    "    catcols = df_pa.select_dtypes(include= 'object').columns\n",
    "\n",
    "    num = df_pa[numcols]\n",
    "    cat = df_pa[catcols]\n",
    "    \n",
    "    num.index = num['SK_ID_CURR']\n",
    "    cat.index = num['SK_ID_CURR']\n",
    "    \n",
    "    catind = cat.index\n",
    "\n",
    "\n",
    "    num.drop('SK_ID_CURR', inplace= True, axis = 1)\n",
    "    num = num.groupby('SK_ID_CURR').agg([np.sum, np.mean,max,min])  \n",
    "    num.columns = num.columns.map('_'.join)\n",
    "    mdl = StandardScaler().fit(num)\n",
    "    num = pd.DataFrame(mdl.transform(num),index = num.index, columns = num.columns)\n",
    "\n",
    "\n",
    "    cat = SimpleImputer(strategy='constant').fit_transform(cat)\n",
    "    mdl = OneHotEncoder().fit(cat)\n",
    "\n",
    "    cat = pd.DataFrame(mdl.transform(cat).toarray(), index = catind, columns = mdl.get_feature_names())\n",
    "    cat = cat.groupby('SK_ID_CURR').agg(np.mean)\n",
    "    final = num.merge(cat, how = 'left', on = 'SK_ID_CURR')\n",
    "    return final\n"
   ]
  },
  {
   "cell_type": "code",
   "execution_count": 50,
   "metadata": {
    "ExecuteTime": {
     "end_time": "2019-04-06T22:45:46.064797Z",
     "start_time": "2019-04-06T22:45:46.057816Z"
    }
   },
   "outputs": [],
   "source": [
    "def load_train():\n",
    "    df_train = pd.read_csv('application_train.csv')\n",
    "    #df_train = df_train.iloc[0:10000,]\n",
    "    selected_features = ['SK_ID_CURR','AMT_INCOME_TOTAL',  'AMT_CREDIT','DAYS_EMPLOYED','DAYS_BIRTH','EXT_SOURCE_1',\n",
    "                    'EXT_SOURCE_2','EXT_SOURCE_3','CODE_GENDER', 'FLAG_OWN_REALTY','FLAG_OWN_CAR',\n",
    "                     'NAME_CONTRACT_TYPE','NAME_EDUCATION_TYPE','OCCUPATION_TYPE','NAME_INCOME_TYPE']\n",
    "\n",
    "    df_train['DAYS_EMPLOYED'].plot.hist(title = 'Days Employment Histogram');\n",
    "    plt.xlabel('Days Employment');\n",
    "    \n",
    "    df_train['DAYS_EMPLOYED'].replace({365243: np.nan}, inplace = True)    \n",
    "    df_train['DAYS_BIRTH'] = df_train['DAYS_BIRTH']/-365\n",
    "\n",
    "    \n",
    "    X_train= df_train[selected_features]\n",
    "    y_train = df_train['TARGET']\n",
    "\n",
    "\n",
    "    X_train, X_valid, y_train, y_valid = train_test_split(X_train, y_train, test_size=0.15, random_state=42, stratify  = y_train)\n",
    "\n",
    "    X_val_ind = X_valid['SK_ID_CURR']\n",
    "\n",
    "\n",
    "\n",
    "    X_train, X_test, y_train, y_test = train_test_split(X_train, y_train, test_size=0.15, random_state=42,stratify  = y_train)\n",
    "\n",
    "    X_train_ind = X_train['SK_ID_CURR']\n",
    "    X_test_ind = X_test['SK_ID_CURR']\n",
    "\n",
    "\n",
    "    X_valid.drop('SK_ID_CURR', inplace = True , axis = 1)\n",
    "    X_train.drop('SK_ID_CURR', inplace = True , axis = 1)\n",
    "    X_test.drop('SK_ID_CURR', inplace = True , axis = 1)\n",
    "    \n",
    "    return X_train, y_train, X_valid, y_valid, X_test, y_test, X_train_ind, X_val_ind, X_test_ind"
   ]
  },
  {
   "cell_type": "code",
   "execution_count": 51,
   "metadata": {
    "ExecuteTime": {
     "end_time": "2019-04-06T22:45:46.365279Z",
     "start_time": "2019-04-06T22:45:46.359295Z"
    }
   },
   "outputs": [],
   "source": [
    "def transform_train(X_train, X_valid, X_test, X_train_ind, X_val_ind, X_test_ind):\n",
    "    num_attribs = ['AMT_INCOME_TOTAL',  'AMT_CREDIT','DAYS_EMPLOYED','DAYS_BIRTH','EXT_SOURCE_1',\n",
    "                   'EXT_SOURCE_2','EXT_SOURCE_3']\n",
    "\n",
    "    cat_attribs = ['CODE_GENDER', 'FLAG_OWN_REALTY','FLAG_OWN_CAR','NAME_CONTRACT_TYPE', \n",
    "                   'NAME_EDUCATION_TYPE','OCCUPATION_TYPE','NAME_INCOME_TYPE']\n",
    "\n",
    "\n",
    "    num_pipeline = Pipeline([\n",
    "                            ('selector', DataFrameSelector(num_attribs)),\n",
    "                            ('imputer', SimpleImputer(strategy='mean')),\n",
    "                            ('std_scaler', StandardScaler()),\n",
    "                           ])\n",
    "\n",
    "    cat_pipeline = Pipeline([\n",
    "                            ('selector', DataFrameSelector(cat_attribs)),\n",
    "                            ('imputer', SimpleImputer(strategy='constant')),\n",
    "                            ('ohe', OneHotEncoder(sparse=False, handle_unknown=\"ignore\"))\n",
    "                            ])\n",
    "\n",
    "    data_prep_pipeline = FeatureUnion(transformer_list=[\n",
    "                                                        (\"num_pipeline\", num_pipeline),\n",
    "                                                        (\"cat_pipeline\", cat_pipeline),\n",
    "                                                       ])\n",
    "\n",
    "    full_pipeline = Pipeline([(\"preparation\", data_prep_pipeline)])\n",
    "\n",
    "    X_train = pd.DataFrame(full_pipeline.fit_transform(X_train), index  = X_train_ind)\n",
    "    X_valid = pd.DataFrame(full_pipeline.transform(X_valid), index = X_val_ind)\n",
    "    X_test = pd.DataFrame(full_pipeline.transform(X_test), index= X_test_ind)\n",
    "    \n",
    "    return full_pipeline, X_train, X_valid, X_test"
   ]
  },
  {
   "cell_type": "code",
   "execution_count": 52,
   "metadata": {
    "ExecuteTime": {
     "end_time": "2019-04-06T22:45:46.634172Z",
     "start_time": "2019-04-06T22:45:46.626194Z"
    }
   },
   "outputs": [],
   "source": [
    "def BaselineApproach(fitted_models,expLog, X_train,X_valid, X_test,y_train,y_test,y_valid):\n",
    "    models = [LogisticRegression(n_jobs = -1, solver = 'lbfgs')\n",
    "          ,RandomForestClassifier(n_jobs = -1,n_estimators = 100)]\n",
    "    \n",
    "    models_name = ['Logistic','RandomForest']\n",
    "    ctr = 0\n",
    "    p_value = 0\n",
    "    for model in models:\n",
    "        cv = ShuffleSplit(n_splits=30, test_size=0.3, random_state=0)\n",
    "        np.random.seed(42)\n",
    "        model.fit(X_train, y_train)\n",
    "        exp_name = f\"Model_{models_name[ctr]}_features_{X_train.shape[1]}\"\n",
    "        fitted_models.append(model)\n",
    "        if ctr   == 0:\n",
    "            logit_scores = cross_val_score(model, X_train, y_train, cv=cv)\n",
    "        else:\n",
    "            best_train_scores = cross_val_score(model, X_train, y_train, cv=cv)\n",
    "            (t_stat, p_value) = stats.ttest_rel(logit_scores, best_train_scores)\n",
    "\n",
    "        expLog.loc[len(expLog)] = [f\"{exp_name}\"] + list(np.round(\n",
    "                   [accuracy_score(y_train, model.predict(X_train)), \n",
    "                    accuracy_score(y_valid, model.predict(X_valid)),\n",
    "                    accuracy_score(y_test, model.predict(X_test)),\n",
    "                    roc_auc_score(y_train, model.predict_proba(X_train)[:, 1]),\n",
    "                    roc_auc_score(y_valid, model.predict_proba(X_valid)[:, 1]),\n",
    "                    roc_auc_score(y_test, model.predict_proba(X_test)[:, 1]),p_value],\n",
    "                    4)) \n",
    "        ctr += 1\n",
    "    return logit_scores"
   ]
  },
  {
   "cell_type": "code",
   "execution_count": 53,
   "metadata": {
    "ExecuteTime": {
     "end_time": "2019-04-06T22:45:47.842783Z",
     "start_time": "2019-04-06T22:45:47.839788Z"
    }
   },
   "outputs": [],
   "source": [
    "def merge_df(X_train, X_valid, X_test, df_pv_app):\n",
    "    X_train = X_train.merge(df_pv_app, how = 'left', on = 'SK_ID_CURR')\n",
    "    X_valid = X_valid.merge(df_pv_app, how = 'left', on = 'SK_ID_CURR')\n",
    "    X_test =  X_test.merge(df_pv_app, how = 'left', on = 'SK_ID_CURR')\n",
    "\n",
    "\n",
    "    X_train.fillna(0, inplace = True)\n",
    "    X_valid.fillna(0, inplace = True)\n",
    "    X_test.fillna(0, inplace = True)\n",
    "    \n",
    "    return X_train, X_valid, X_test"
   ]
  },
  {
   "cell_type": "code",
   "execution_count": 54,
   "metadata": {
    "ExecuteTime": {
     "end_time": "2019-04-06T22:45:48.110416Z",
     "start_time": "2019-04-06T22:45:48.104400Z"
    }
   },
   "outputs": [],
   "source": [
    "def BaselinPlusPvApp(logit_scores,fitted_models,expLog, X_train,X_valid, X_test,y_train,y_test,y_valid):\n",
    "    models = [LogisticRegression(n_jobs = -1, solver = 'lbfgs' )\n",
    "              ,RandomForestClassifier(n_jobs = -1,n_estimators = 100)]\n",
    "    models_name = ['Logistic_Prev_app','RandomForest_prev_app']\n",
    "    ctr = 0\n",
    "    p_value = 0\n",
    "    for model in models:\n",
    "        cv = ShuffleSplit(n_splits=30, test_size=0.3, random_state=0)\n",
    "        np.random.seed(42)\n",
    "        model.fit(X_train, y_train)\n",
    "        exp_name = f\"Model_{models_name[ctr]}_features_{X_train.shape[1]}\"\n",
    "        fitted_models.append(model)\n",
    "        best_train_scores = cross_val_score(model, X_train, y_train, cv=cv)\n",
    "        (t_stat, p_value) = stats.ttest_rel(logit_scores, best_train_scores)\n",
    "\n",
    "        expLog.loc[len(expLog)] = [f\"{exp_name}\"] + list(np.round(\n",
    "                   [accuracy_score(y_train, model.predict(X_train)), \n",
    "                    accuracy_score(y_valid, model.predict(X_valid)),\n",
    "                    accuracy_score(y_test, model.predict(X_test)),\n",
    "                    roc_auc_score(y_train, model.predict_proba(X_train)[:, 1]),\n",
    "                    roc_auc_score(y_valid, model.predict_proba(X_valid)[:, 1]),\n",
    "                    roc_auc_score(y_test, model.predict_proba(X_test)[:, 1]),p_value],\n",
    "                    4)) \n",
    "        ctr += 1"
   ]
  },
  {
   "cell_type": "code",
   "execution_count": 55,
   "metadata": {
    "ExecuteTime": {
     "end_time": "2019-04-06T22:52:45.686187Z",
     "start_time": "2019-04-06T22:45:50.138295Z"
    }
   },
   "outputs": [
    {
     "data": {
      "text/html": [
       "<div>\n",
       "<style scoped>\n",
       "    .dataframe tbody tr th:only-of-type {\n",
       "        vertical-align: middle;\n",
       "    }\n",
       "\n",
       "    .dataframe tbody tr th {\n",
       "        vertical-align: top;\n",
       "    }\n",
       "\n",
       "    .dataframe thead th {\n",
       "        text-align: right;\n",
       "    }\n",
       "</style>\n",
       "<table border=\"1\" class=\"dataframe\">\n",
       "  <thead>\n",
       "    <tr style=\"text-align: right;\">\n",
       "      <th></th>\n",
       "      <th>exp_name</th>\n",
       "      <th>Train Acc</th>\n",
       "      <th>Valid Acc</th>\n",
       "      <th>Test  Acc</th>\n",
       "      <th>Train AUC</th>\n",
       "      <th>Valid AUC</th>\n",
       "      <th>Test  AUC</th>\n",
       "      <th>P_Value</th>\n",
       "    </tr>\n",
       "  </thead>\n",
       "  <tbody>\n",
       "    <tr>\n",
       "      <th>0</th>\n",
       "      <td>Model_Logistic_features_48</td>\n",
       "      <td>0.9191</td>\n",
       "      <td>0.9192</td>\n",
       "      <td>0.9196</td>\n",
       "      <td>0.7357</td>\n",
       "      <td>0.7407</td>\n",
       "      <td>0.7450</td>\n",
       "      <td>0.0000</td>\n",
       "    </tr>\n",
       "    <tr>\n",
       "      <th>1</th>\n",
       "      <td>Model_RandomForest_features_48</td>\n",
       "      <td>0.9999</td>\n",
       "      <td>0.9194</td>\n",
       "      <td>0.9194</td>\n",
       "      <td>1.0000</td>\n",
       "      <td>0.7100</td>\n",
       "      <td>0.7169</td>\n",
       "      <td>0.1024</td>\n",
       "    </tr>\n",
       "  </tbody>\n",
       "</table>\n",
       "</div>"
      ],
      "text/plain": [
       "                         exp_name  Train Acc  Valid Acc  Test  Acc  Train AUC  \\\n",
       "0      Model_Logistic_features_48     0.9191     0.9192     0.9196     0.7357   \n",
       "1  Model_RandomForest_features_48     0.9999     0.9194     0.9194     1.0000   \n",
       "\n",
       "   Valid AUC  Test  AUC  P_Value  \n",
       "0     0.7407     0.7450   0.0000  \n",
       "1     0.7100     0.7169   0.1024  "
      ]
     },
     "execution_count": 55,
     "metadata": {},
     "output_type": "execute_result"
    },
    {
     "data": {
      "image/png": "[encoded data removed]",
      "text/plain": [
       "<Figure size 432x288 with 1 Axes>"
      ]
     },
     "metadata": {
      "needs_background": "light"
     },
     "output_type": "display_data"
    }
   ],
   "source": [
    "fitted_models = []\n",
    "expLog = pd.DataFrame(columns=[\"exp_name\", \n",
    "                               \"Train Acc\", \n",
    "                               \"Valid Acc\",\n",
    "                               \"Test  Acc\",\n",
    "                               \"Train AUC\", \n",
    "                               \"Valid AUC\",\n",
    "                               \"Test  AUC\",\n",
    "                               \"P_Value\"\n",
    "                              ])\n",
    "\n",
    "#Loading & Transforming Train\n",
    "X_train, y_train, X_valid, y_valid, X_test, y_test, X_train_ind, X_val_ind, X_test_ind = load_train()\n",
    "\n",
    "full_pipeline, X_train, X_valid, X_test = transform_train(X_train, X_valid, X_test, X_train_ind, X_val_ind, X_test_ind)\n",
    "\n",
    "#BaselIne Model\n",
    "logit_scores_baseline = BaselineApproach(fitted_models,expLog, X_train,X_valid, X_test,y_train,y_test,y_valid)\n",
    "expLog\n",
    "\n"
   ]
  },
  {
   "cell_type": "code",
   "execution_count": 56,
   "metadata": {
    "ExecuteTime": {
     "end_time": "2019-04-06T23:09:42.655948Z",
     "start_time": "2019-04-06T22:54:33.853242Z"
    }
   },
   "outputs": [
    {
     "name": "stderr",
     "output_type": "stream",
     "text": [
      "C:\\Anaconda3\\lib\\site-packages\\pandas\\core\\frame.py:3940: SettingWithCopyWarning: \n",
      "A value is trying to be set on a copy of a slice from a DataFrame\n",
      "\n",
      "See the caveats in the documentation: http://pandas.pydata.org/pandas-docs/stable/indexing.html#indexing-view-versus-copy\n",
      "  errors=errors)\n",
      "C:\\Anaconda3\\lib\\site-packages\\sklearn\\preprocessing\\data.py:645: DataConversionWarning: Data with input dtype int64, float64 were all converted to float64 by StandardScaler.\n",
      "  return self.partial_fit(X, y)\n",
      "C:\\Anaconda3\\lib\\site-packages\\ipykernel_launcher.py:23: DataConversionWarning: Data with input dtype int64, float64 were all converted to float64 by StandardScaler.\n"
     ]
    },
    {
     "data": {
      "text/html": [
       "<div>\n",
       "<style scoped>\n",
       "    .dataframe tbody tr th:only-of-type {\n",
       "        vertical-align: middle;\n",
       "    }\n",
       "\n",
       "    .dataframe tbody tr th {\n",
       "        vertical-align: top;\n",
       "    }\n",
       "\n",
       "    .dataframe thead th {\n",
       "        text-align: right;\n",
       "    }\n",
       "</style>\n",
       "<table border=\"1\" class=\"dataframe\">\n",
       "  <thead>\n",
       "    <tr style=\"text-align: right;\">\n",
       "      <th></th>\n",
       "      <th>exp_name</th>\n",
       "      <th>Train Acc</th>\n",
       "      <th>Valid Acc</th>\n",
       "      <th>Test  Acc</th>\n",
       "      <th>Train AUC</th>\n",
       "      <th>Valid AUC</th>\n",
       "      <th>Test  AUC</th>\n",
       "      <th>P_Value</th>\n",
       "    </tr>\n",
       "  </thead>\n",
       "  <tbody>\n",
       "    <tr>\n",
       "      <th>0</th>\n",
       "      <td>Model_Logistic_features_48</td>\n",
       "      <td>0.9191</td>\n",
       "      <td>0.9192</td>\n",
       "      <td>0.9196</td>\n",
       "      <td>0.7357</td>\n",
       "      <td>0.7407</td>\n",
       "      <td>0.7450</td>\n",
       "      <td>0.0000</td>\n",
       "    </tr>\n",
       "    <tr>\n",
       "      <th>1</th>\n",
       "      <td>Model_RandomForest_features_48</td>\n",
       "      <td>0.9999</td>\n",
       "      <td>0.9194</td>\n",
       "      <td>0.9194</td>\n",
       "      <td>1.0000</td>\n",
       "      <td>0.7100</td>\n",
       "      <td>0.7169</td>\n",
       "      <td>0.1024</td>\n",
       "    </tr>\n",
       "    <tr>\n",
       "      <th>2</th>\n",
       "      <td>Model_Logistic_Prev_app_features_269</td>\n",
       "      <td>0.9193</td>\n",
       "      <td>0.9194</td>\n",
       "      <td>0.9196</td>\n",
       "      <td>0.7567</td>\n",
       "      <td>0.7584</td>\n",
       "      <td>0.7601</td>\n",
       "      <td>0.0068</td>\n",
       "    </tr>\n",
       "    <tr>\n",
       "      <th>3</th>\n",
       "      <td>Model_RandomForest_prev_app_features_269</td>\n",
       "      <td>1.0000</td>\n",
       "      <td>0.9194</td>\n",
       "      <td>0.9195</td>\n",
       "      <td>1.0000</td>\n",
       "      <td>0.7168</td>\n",
       "      <td>0.7197</td>\n",
       "      <td>0.0000</td>\n",
       "    </tr>\n",
       "  </tbody>\n",
       "</table>\n",
       "</div>"
      ],
      "text/plain": [
       "                                   exp_name  Train Acc  Valid Acc  Test  Acc  \\\n",
       "0                Model_Logistic_features_48     0.9191     0.9192     0.9196   \n",
       "1            Model_RandomForest_features_48     0.9999     0.9194     0.9194   \n",
       "2      Model_Logistic_Prev_app_features_269     0.9193     0.9194     0.9196   \n",
       "3  Model_RandomForest_prev_app_features_269     1.0000     0.9194     0.9195   \n",
       "\n",
       "   Train AUC  Valid AUC  Test  AUC  P_Value  \n",
       "0     0.7357     0.7407     0.7450   0.0000  \n",
       "1     1.0000     0.7100     0.7169   0.1024  \n",
       "2     0.7567     0.7584     0.7601   0.0068  \n",
       "3     1.0000     0.7168     0.7197   0.0000  "
      ]
     },
     "execution_count": 56,
     "metadata": {},
     "output_type": "execute_result"
    }
   ],
   "source": [
    "#adding Previous application to Data\n",
    "df_pv_app = previous_app()\n",
    "X_train, X_valid, X_test = merge_df(X_train, X_valid, X_test, df_pv_app)\n",
    "BaselinPlusPvApp(logit_scores_baseline,fitted_models,expLog, X_train,X_valid, X_test,y_train,y_test,y_valid)\n",
    "expLog"
   ]
  },
  {
   "cell_type": "code",
   "execution_count": 57,
   "metadata": {
    "ExecuteTime": {
     "end_time": "2019-04-06T23:12:02.566543Z",
     "start_time": "2019-04-06T23:12:02.563525Z"
    }
   },
   "outputs": [],
   "source": [
    "xgb_model =xgboost.XGBClassifier(tree_method = 'hist'  #used to increase training time\n",
    "                                 ,objective ='binary:logistic'\n",
    "                                 , booster='gbtree'\n",
    "                                 , n_jobs=-1\n",
    "                                 , n_estimators = 1000 \n",
    "                                 , learning_rate=0.05\n",
    "                                 , reg_alpha = 0.01\n",
    "                                 , gamma=3\n",
    "                                , max_depth= 6)"
   ]
  },
  {
   "cell_type": "code",
   "execution_count": 58,
   "metadata": {
    "ExecuteTime": {
     "end_time": "2019-04-06T23:13:56.239836Z",
     "start_time": "2019-04-06T23:12:05.521889Z"
    }
   },
   "outputs": [
    {
     "name": "stdout",
     "output_type": "stream",
     "text": [
      "[0]\tvalidation_0-logloss:0.657983\tvalidation_0-auc:0.719135\tvalidation_1-logloss:0.658033\tvalidation_1-auc:0.719438\tvalidation_2-logloss:0.658002\tvalidation_2-auc:0.720298\n",
      "Multiple eval metrics have been passed: 'validation_2-auc' will be used for early stopping.\n",
      "\n",
      "Will train until validation_2-auc hasn't improved in 100 rounds.\n",
      "[1]\tvalidation_0-logloss:0.626173\tvalidation_0-auc:0.722468\tvalidation_1-logloss:0.626279\tvalidation_1-auc:0.721651\tvalidation_2-logloss:0.626198\tvalidation_2-auc:0.722534\n",
      "[2]\tvalidation_0-logloss:0.597293\tvalidation_0-auc:0.726136\tvalidation_1-logloss:0.597462\tvalidation_1-auc:0.725059\tvalidation_2-logloss:0.59736\tvalidation_2-auc:0.72444\n",
      "[3]\tvalidation_0-logloss:0.570994\tvalidation_0-auc:0.728568\tvalidation_1-logloss:0.57121\tvalidation_1-auc:0.726499\tvalidation_2-logloss:0.571114\tvalidation_2-auc:0.726243\n",
      "[4]\tvalidation_0-logloss:0.546961\tvalidation_0-auc:0.729911\tvalidation_1-logloss:0.547206\tvalidation_1-auc:0.728847\tvalidation_2-logloss:0.547141\tvalidation_2-auc:0.727219\n",
      "[5]\tvalidation_0-logloss:0.524963\tvalidation_0-auc:0.730284\tvalidation_1-logloss:0.525253\tvalidation_1-auc:0.728923\tvalidation_2-logloss:0.52518\tvalidation_2-auc:0.72723\n",
      "[6]\tvalidation_0-logloss:0.504782\tvalidation_0-auc:0.730686\tvalidation_1-logloss:0.505112\tvalidation_1-auc:0.728686\tvalidation_2-logloss:0.505015\tvalidation_2-auc:0.727557\n",
      "[7]\tvalidation_0-logloss:0.486222\tvalidation_0-auc:0.732815\tvalidation_1-logloss:0.486587\tvalidation_1-auc:0.730501\tvalidation_2-logloss:0.486501\tvalidation_2-auc:0.728748\n",
      "[8]\tvalidation_0-logloss:0.469126\tvalidation_0-auc:0.734108\tvalidation_1-logloss:0.469559\tvalidation_1-auc:0.730945\tvalidation_2-logloss:0.469489\tvalidation_2-auc:0.728942\n",
      "[9]\tvalidation_0-logloss:0.453365\tvalidation_0-auc:0.735578\tvalidation_1-logloss:0.453842\tvalidation_1-auc:0.732029\tvalidation_2-logloss:0.453779\tvalidation_2-auc:0.729734\n",
      "[10]\tvalidation_0-logloss:0.43882\tvalidation_0-auc:0.736022\tvalidation_1-logloss:0.439344\tvalidation_1-auc:0.7319\tvalidation_2-logloss:0.439281\tvalidation_2-auc:0.73019\n",
      "[11]\tvalidation_0-logloss:0.42537\tvalidation_0-auc:0.736839\tvalidation_1-logloss:0.42592\tvalidation_1-auc:0.732908\tvalidation_2-logloss:0.425892\tvalidation_2-auc:0.730864\n",
      "[12]\tvalidation_0-logloss:0.412922\tvalidation_0-auc:0.737828\tvalidation_1-logloss:0.413526\tvalidation_1-auc:0.733312\tvalidation_2-logloss:0.413508\tvalidation_2-auc:0.730994\n",
      "[13]\tvalidation_0-logloss:0.401391\tvalidation_0-auc:0.738613\tvalidation_1-logloss:0.402023\tvalidation_1-auc:0.734023\tvalidation_2-logloss:0.402025\tvalidation_2-auc:0.731448\n",
      "[14]\tvalidation_0-logloss:0.390708\tvalidation_0-auc:0.739154\tvalidation_1-logloss:0.391363\tvalidation_1-auc:0.734485\tvalidation_2-logloss:0.391416\tvalidation_2-auc:0.731215\n",
      "[15]\tvalidation_0-logloss:0.380791\tvalidation_0-auc:0.739651\tvalidation_1-logloss:0.381497\tvalidation_1-auc:0.734929\tvalidation_2-logloss:0.381548\tvalidation_2-auc:0.73172\n",
      "[16]\tvalidation_0-logloss:0.37159\tvalidation_0-auc:0.73991\tvalidation_1-logloss:0.372342\tvalidation_1-auc:0.734771\tvalidation_2-logloss:0.372392\tvalidation_2-auc:0.731997\n",
      "[17]\tvalidation_0-logloss:0.363047\tvalidation_0-auc:0.740277\tvalidation_1-logloss:0.363841\tvalidation_1-auc:0.735119\tvalidation_2-logloss:0.36392\tvalidation_2-auc:0.731956\n",
      "[18]\tvalidation_0-logloss:0.355102\tvalidation_0-auc:0.74072\tvalidation_1-logloss:0.355936\tvalidation_1-auc:0.735354\tvalidation_2-logloss:0.356042\tvalidation_2-auc:0.732026\n",
      "[19]\tvalidation_0-logloss:0.347709\tvalidation_0-auc:0.741539\tvalidation_1-logloss:0.348599\tvalidation_1-auc:0.735627\tvalidation_2-logloss:0.348715\tvalidation_2-auc:0.732452\n",
      "[20]\tvalidation_0-logloss:0.340842\tvalidation_0-auc:0.742176\tvalidation_1-logloss:0.341784\tvalidation_1-auc:0.73564\tvalidation_2-logloss:0.341917\tvalidation_2-auc:0.732288\n",
      "[21]\tvalidation_0-logloss:0.334448\tvalidation_0-auc:0.74292\tvalidation_1-logloss:0.335425\tvalidation_1-auc:0.736073\tvalidation_2-logloss:0.335573\tvalidation_2-auc:0.732787\n",
      "[22]\tvalidation_0-logloss:0.32851\tvalidation_0-auc:0.74333\tvalidation_1-logloss:0.329534\tvalidation_1-auc:0.736176\tvalidation_2-logloss:0.329699\tvalidation_2-auc:0.732841\n",
      "[23]\tvalidation_0-logloss:0.322962\tvalidation_0-auc:0.743937\tvalidation_1-logloss:0.324042\tvalidation_1-auc:0.736406\tvalidation_2-logloss:0.324196\tvalidation_2-auc:0.733378\n",
      "[24]\tvalidation_0-logloss:0.317783\tvalidation_0-auc:0.744755\tvalidation_1-logloss:0.31892\tvalidation_1-auc:0.736897\tvalidation_2-logloss:0.319078\tvalidation_2-auc:0.73402\n",
      "[25]\tvalidation_0-logloss:0.312952\tvalidation_0-auc:0.745335\tvalidation_1-logloss:0.314171\tvalidation_1-auc:0.737201\tvalidation_2-logloss:0.314311\tvalidation_2-auc:0.73456\n",
      "[26]\tvalidation_0-logloss:0.308479\tvalidation_0-auc:0.745809\tvalidation_1-logloss:0.309754\tvalidation_1-auc:0.737372\tvalidation_2-logloss:0.309898\tvalidation_2-auc:0.734726\n",
      "[27]\tvalidation_0-logloss:0.304309\tvalidation_0-auc:0.746445\tvalidation_1-logloss:0.30565\tvalidation_1-auc:0.737471\tvalidation_2-logloss:0.305791\tvalidation_2-auc:0.73503\n",
      "[28]\tvalidation_0-logloss:0.300418\tvalidation_0-auc:0.746922\tvalidation_1-logloss:0.3018\tvalidation_1-auc:0.737661\tvalidation_2-logloss:0.301975\tvalidation_2-auc:0.735276\n",
      "[29]\tvalidation_0-logloss:0.296796\tvalidation_0-auc:0.747313\tvalidation_1-logloss:0.298211\tvalidation_1-auc:0.737796\tvalidation_2-logloss:0.298401\tvalidation_2-auc:0.735499\n",
      "[30]\tvalidation_0-logloss:0.293418\tvalidation_0-auc:0.747587\tvalidation_1-logloss:0.294879\tvalidation_1-auc:0.737867\tvalidation_2-logloss:0.295089\tvalidation_2-auc:0.735565\n",
      "[31]\tvalidation_0-logloss:0.290256\tvalidation_0-auc:0.748268\tvalidation_1-logloss:0.291777\tvalidation_1-auc:0.738041\tvalidation_2-logloss:0.291979\tvalidation_2-auc:0.735915\n",
      "[32]\tvalidation_0-logloss:0.287296\tvalidation_0-auc:0.748783\tvalidation_1-logloss:0.288901\tvalidation_1-auc:0.738146\tvalidation_2-logloss:0.289108\tvalidation_2-auc:0.73613\n",
      "[33]\tvalidation_0-logloss:0.284542\tvalidation_0-auc:0.749602\tvalidation_1-logloss:0.286196\tvalidation_1-auc:0.738785\tvalidation_2-logloss:0.286407\tvalidation_2-auc:0.736742\n",
      "[34]\tvalidation_0-logloss:0.281952\tvalidation_0-auc:0.750156\tvalidation_1-logloss:0.283653\tvalidation_1-auc:0.739197\tvalidation_2-logloss:0.283888\tvalidation_2-auc:0.737139\n",
      "[35]\tvalidation_0-logloss:0.279544\tvalidation_0-auc:0.750676\tvalidation_1-logloss:0.28131\tvalidation_1-auc:0.739658\tvalidation_2-logloss:0.281569\tvalidation_2-auc:0.737452\n",
      "[36]\tvalidation_0-logloss:0.277292\tvalidation_0-auc:0.751364\tvalidation_1-logloss:0.279109\tvalidation_1-auc:0.740141\tvalidation_2-logloss:0.279368\tvalidation_2-auc:0.737957\n",
      "[37]\tvalidation_0-logloss:0.275195\tvalidation_0-auc:0.752171\tvalidation_1-logloss:0.27708\tvalidation_1-auc:0.7405\tvalidation_2-logloss:0.277336\tvalidation_2-auc:0.738373\n",
      "[38]\tvalidation_0-logloss:0.273233\tvalidation_0-auc:0.75261\tvalidation_1-logloss:0.275177\tvalidation_1-auc:0.740571\tvalidation_2-logloss:0.275454\tvalidation_2-auc:0.738541\n",
      "[39]\tvalidation_0-logloss:0.271395\tvalidation_0-auc:0.753249\tvalidation_1-logloss:0.273408\tvalidation_1-auc:0.740777\tvalidation_2-logloss:0.273701\tvalidation_2-auc:0.738812\n",
      "[40]\tvalidation_0-logloss:0.269664\tvalidation_0-auc:0.754127\tvalidation_1-logloss:0.27177\tvalidation_1-auc:0.741062\tvalidation_2-logloss:0.272052\tvalidation_2-auc:0.739262\n",
      "[41]\tvalidation_0-logloss:0.268052\tvalidation_0-auc:0.754742\tvalidation_1-logloss:0.270208\tvalidation_1-auc:0.741521\tvalidation_2-logloss:0.270517\tvalidation_2-auc:0.739617\n",
      "[42]\tvalidation_0-logloss:0.266524\tvalidation_0-auc:0.755621\tvalidation_1-logloss:0.26877\tvalidation_1-auc:0.741836\tvalidation_2-logloss:0.269063\tvalidation_2-auc:0.740171\n",
      "[43]\tvalidation_0-logloss:0.265111\tvalidation_0-auc:0.756128\tvalidation_1-logloss:0.267429\tvalidation_1-auc:0.74211\tvalidation_2-logloss:0.267725\tvalidation_2-auc:0.740499\n",
      "[44]\tvalidation_0-logloss:0.263784\tvalidation_0-auc:0.756702\tvalidation_1-logloss:0.266197\tvalidation_1-auc:0.742341\tvalidation_2-logloss:0.266495\tvalidation_2-auc:0.740717\n",
      "[45]\tvalidation_0-logloss:0.262543\tvalidation_0-auc:0.75746\tvalidation_1-logloss:0.265049\tvalidation_1-auc:0.74249\tvalidation_2-logloss:0.265323\tvalidation_2-auc:0.741193\n",
      "[46]\tvalidation_0-logloss:0.261374\tvalidation_0-auc:0.757951\tvalidation_1-logloss:0.263949\tvalidation_1-auc:0.742756\tvalidation_2-logloss:0.26427\tvalidation_2-auc:0.741282\n"
     ]
    },
    {
     "name": "stdout",
     "output_type": "stream",
     "text": [
      "[47]\tvalidation_0-logloss:0.260244\tvalidation_0-auc:0.758679\tvalidation_1-logloss:0.262914\tvalidation_1-auc:0.743137\tvalidation_2-logloss:0.263247\tvalidation_2-auc:0.741787\n",
      "[48]\tvalidation_0-logloss:0.259219\tvalidation_0-auc:0.759252\tvalidation_1-logloss:0.261999\tvalidation_1-auc:0.743255\tvalidation_2-logloss:0.262323\tvalidation_2-auc:0.741953\n",
      "[49]\tvalidation_0-logloss:0.258245\tvalidation_0-auc:0.75994\tvalidation_1-logloss:0.261142\tvalidation_1-auc:0.743332\tvalidation_2-logloss:0.261435\tvalidation_2-auc:0.742321\n",
      "[50]\tvalidation_0-logloss:0.25732\tvalidation_0-auc:0.760586\tvalidation_1-logloss:0.260335\tvalidation_1-auc:0.74364\tvalidation_2-logloss:0.260609\tvalidation_2-auc:0.742715\n",
      "[51]\tvalidation_0-logloss:0.256475\tvalidation_0-auc:0.761053\tvalidation_1-logloss:0.259577\tvalidation_1-auc:0.743876\tvalidation_2-logloss:0.25987\tvalidation_2-auc:0.742912\n",
      "[52]\tvalidation_0-logloss:0.255631\tvalidation_0-auc:0.761839\tvalidation_1-logloss:0.258849\tvalidation_1-auc:0.744206\tvalidation_2-logloss:0.259127\tvalidation_2-auc:0.74345\n",
      "[53]\tvalidation_0-logloss:0.254855\tvalidation_0-auc:0.762693\tvalidation_1-logloss:0.258147\tvalidation_1-auc:0.744746\tvalidation_2-logloss:0.25845\tvalidation_2-auc:0.743806\n",
      "[54]\tvalidation_0-logloss:0.254105\tvalidation_0-auc:0.763383\tvalidation_1-logloss:0.257461\tvalidation_1-auc:0.745338\tvalidation_2-logloss:0.257774\tvalidation_2-auc:0.744328\n",
      "[55]\tvalidation_0-logloss:0.253398\tvalidation_0-auc:0.764284\tvalidation_1-logloss:0.256824\tvalidation_1-auc:0.745945\tvalidation_2-logloss:0.257181\tvalidation_2-auc:0.744783\n",
      "[56]\tvalidation_0-logloss:0.252734\tvalidation_0-auc:0.765048\tvalidation_1-logloss:0.256247\tvalidation_1-auc:0.746348\tvalidation_2-logloss:0.256637\tvalidation_2-auc:0.745077\n",
      "[57]\tvalidation_0-logloss:0.252093\tvalidation_0-auc:0.765782\tvalidation_1-logloss:0.255718\tvalidation_1-auc:0.746697\tvalidation_2-logloss:0.25607\tvalidation_2-auc:0.745675\n",
      "[58]\tvalidation_0-logloss:0.251484\tvalidation_0-auc:0.766438\tvalidation_1-logloss:0.255221\tvalidation_1-auc:0.747045\tvalidation_2-logloss:0.255574\tvalidation_2-auc:0.746102\n",
      "[59]\tvalidation_0-logloss:0.250919\tvalidation_0-auc:0.767255\tvalidation_1-logloss:0.254779\tvalidation_1-auc:0.747336\tvalidation_2-logloss:0.255115\tvalidation_2-auc:0.746416\n",
      "[60]\tvalidation_0-logloss:0.250366\tvalidation_0-auc:0.767808\tvalidation_1-logloss:0.254301\tvalidation_1-auc:0.747757\tvalidation_2-logloss:0.254673\tvalidation_2-auc:0.746698\n",
      "[61]\tvalidation_0-logloss:0.24982\tvalidation_0-auc:0.768615\tvalidation_1-logloss:0.253847\tvalidation_1-auc:0.748245\tvalidation_2-logloss:0.254242\tvalidation_2-auc:0.7471\n",
      "[62]\tvalidation_0-logloss:0.249327\tvalidation_0-auc:0.769243\tvalidation_1-logloss:0.253458\tvalidation_1-auc:0.748582\tvalidation_2-logloss:0.253854\tvalidation_2-auc:0.747513\n",
      "[63]\tvalidation_0-logloss:0.248855\tvalidation_0-auc:0.769733\tvalidation_1-logloss:0.253044\tvalidation_1-auc:0.749105\tvalidation_2-logloss:0.253461\tvalidation_2-auc:0.747969\n",
      "[64]\tvalidation_0-logloss:0.248393\tvalidation_0-auc:0.770502\tvalidation_1-logloss:0.252651\tvalidation_1-auc:0.749685\tvalidation_2-logloss:0.25311\tvalidation_2-auc:0.748444\n",
      "[65]\tvalidation_0-logloss:0.247984\tvalidation_0-auc:0.771264\tvalidation_1-logloss:0.252365\tvalidation_1-auc:0.7499\tvalidation_2-logloss:0.252786\tvalidation_2-auc:0.7489\n",
      "[66]\tvalidation_0-logloss:0.247547\tvalidation_0-auc:0.771846\tvalidation_1-logloss:0.252024\tvalidation_1-auc:0.750305\tvalidation_2-logloss:0.252445\tvalidation_2-auc:0.749314\n",
      "[67]\tvalidation_0-logloss:0.247112\tvalidation_0-auc:0.772842\tvalidation_1-logloss:0.251717\tvalidation_1-auc:0.750776\tvalidation_2-logloss:0.25211\tvalidation_2-auc:0.750011\n",
      "[68]\tvalidation_0-logloss:0.246741\tvalidation_0-auc:0.773508\tvalidation_1-logloss:0.251444\tvalidation_1-auc:0.75103\tvalidation_2-logloss:0.251834\tvalidation_2-auc:0.750324\n",
      "[69]\tvalidation_0-logloss:0.246397\tvalidation_0-auc:0.77417\tvalidation_1-logloss:0.251201\tvalidation_1-auc:0.751271\tvalidation_2-logloss:0.251601\tvalidation_2-auc:0.750551\n",
      "[70]\tvalidation_0-logloss:0.246042\tvalidation_0-auc:0.774838\tvalidation_1-logloss:0.25091\tvalidation_1-auc:0.751808\tvalidation_2-logloss:0.25134\tvalidation_2-auc:0.750994\n",
      "[71]\tvalidation_0-logloss:0.245684\tvalidation_0-auc:0.775274\tvalidation_1-logloss:0.250647\tvalidation_1-auc:0.75211\tvalidation_2-logloss:0.25109\tvalidation_2-auc:0.751355\n",
      "[72]\tvalidation_0-logloss:0.245323\tvalidation_0-auc:0.776059\tvalidation_1-logloss:0.250404\tvalidation_1-auc:0.752496\tvalidation_2-logloss:0.250846\tvalidation_2-auc:0.751828\n",
      "[73]\tvalidation_0-logloss:0.245013\tvalidation_0-auc:0.77669\tvalidation_1-logloss:0.250163\tvalidation_1-auc:0.752897\tvalidation_2-logloss:0.250648\tvalidation_2-auc:0.752094\n",
      "[74]\tvalidation_0-logloss:0.244698\tvalidation_0-auc:0.777093\tvalidation_1-logloss:0.249949\tvalidation_1-auc:0.753133\tvalidation_2-logloss:0.250433\tvalidation_2-auc:0.752372\n",
      "[75]\tvalidation_0-logloss:0.244409\tvalidation_0-auc:0.777739\tvalidation_1-logloss:0.249736\tvalidation_1-auc:0.753519\tvalidation_2-logloss:0.250257\tvalidation_2-auc:0.752612\n",
      "[76]\tvalidation_0-logloss:0.244067\tvalidation_0-auc:0.778488\tvalidation_1-logloss:0.249472\tvalidation_1-auc:0.754048\tvalidation_2-logloss:0.250031\tvalidation_2-auc:0.753008\n",
      "[77]\tvalidation_0-logloss:0.243751\tvalidation_0-auc:0.779122\tvalidation_1-logloss:0.249282\tvalidation_1-auc:0.754335\tvalidation_2-logloss:0.249852\tvalidation_2-auc:0.753341\n",
      "[78]\tvalidation_0-logloss:0.243462\tvalidation_0-auc:0.779785\tvalidation_1-logloss:0.249127\tvalidation_1-auc:0.754494\tvalidation_2-logloss:0.249674\tvalidation_2-auc:0.75367\n",
      "[79]\tvalidation_0-logloss:0.243147\tvalidation_0-auc:0.780459\tvalidation_1-logloss:0.248908\tvalidation_1-auc:0.754937\tvalidation_2-logloss:0.249493\tvalidation_2-auc:0.753996\n",
      "[80]\tvalidation_0-logloss:0.242872\tvalidation_0-auc:0.78121\tvalidation_1-logloss:0.248714\tvalidation_1-auc:0.755461\tvalidation_2-logloss:0.249328\tvalidation_2-auc:0.754425\n",
      "[81]\tvalidation_0-logloss:0.242576\tvalidation_0-auc:0.781748\tvalidation_1-logloss:0.248563\tvalidation_1-auc:0.755783\tvalidation_2-logloss:0.249194\tvalidation_2-auc:0.754673\n",
      "[82]\tvalidation_0-logloss:0.242341\tvalidation_0-auc:0.782294\tvalidation_1-logloss:0.248427\tvalidation_1-auc:0.755998\tvalidation_2-logloss:0.249054\tvalidation_2-auc:0.754944\n",
      "[83]\tvalidation_0-logloss:0.242112\tvalidation_0-auc:0.782839\tvalidation_1-logloss:0.2483\tvalidation_1-auc:0.756174\tvalidation_2-logloss:0.248937\tvalidation_2-auc:0.755065\n",
      "[84]\tvalidation_0-logloss:0.241874\tvalidation_0-auc:0.78325\tvalidation_1-logloss:0.248133\tvalidation_1-auc:0.756452\tvalidation_2-logloss:0.248792\tvalidation_2-auc:0.755299\n",
      "[85]\tvalidation_0-logloss:0.241597\tvalidation_0-auc:0.783867\tvalidation_1-logloss:0.247969\tvalidation_1-auc:0.75673\tvalidation_2-logloss:0.248622\tvalidation_2-auc:0.755612\n",
      "[86]\tvalidation_0-logloss:0.241357\tvalidation_0-auc:0.784161\tvalidation_1-logloss:0.247836\tvalidation_1-auc:0.756933\tvalidation_2-logloss:0.248469\tvalidation_2-auc:0.755899\n",
      "[87]\tvalidation_0-logloss:0.241141\tvalidation_0-auc:0.784594\tvalidation_1-logloss:0.247708\tvalidation_1-auc:0.757169\tvalidation_2-logloss:0.248353\tvalidation_2-auc:0.756126\n",
      "[88]\tvalidation_0-logloss:0.24093\tvalidation_0-auc:0.785125\tvalidation_1-logloss:0.247587\tvalidation_1-auc:0.757448\tvalidation_2-logloss:0.248264\tvalidation_2-auc:0.75632\n",
      "[89]\tvalidation_0-logloss:0.240724\tvalidation_0-auc:0.785635\tvalidation_1-logloss:0.24746\tvalidation_1-auc:0.757772\tvalidation_2-logloss:0.248196\tvalidation_2-auc:0.756448\n",
      "[90]\tvalidation_0-logloss:0.240492\tvalidation_0-auc:0.786146\tvalidation_1-logloss:0.247355\tvalidation_1-auc:0.757956\tvalidation_2-logloss:0.248074\tvalidation_2-auc:0.756715\n",
      "[91]\tvalidation_0-logloss:0.240275\tvalidation_0-auc:0.786667\tvalidation_1-logloss:0.247234\tvalidation_1-auc:0.758223\tvalidation_2-logloss:0.247972\tvalidation_2-auc:0.756878\n",
      "[92]\tvalidation_0-logloss:0.240044\tvalidation_0-auc:0.787358\tvalidation_1-logloss:0.247118\tvalidation_1-auc:0.758488\tvalidation_2-logloss:0.247855\tvalidation_2-auc:0.757156\n",
      "[93]\tvalidation_0-logloss:0.239841\tvalidation_0-auc:0.787927\tvalidation_1-logloss:0.247002\tvalidation_1-auc:0.75875\tvalidation_2-logloss:0.247746\tvalidation_2-auc:0.75741\n",
      "[94]\tvalidation_0-logloss:0.239653\tvalidation_0-auc:0.788471\tvalidation_1-logloss:0.246931\tvalidation_1-auc:0.758839\tvalidation_2-logloss:0.247675\tvalidation_2-auc:0.757538\n"
     ]
    },
    {
     "name": "stdout",
     "output_type": "stream",
     "text": [
      "[95]\tvalidation_0-logloss:0.239412\tvalidation_0-auc:0.789033\tvalidation_1-logloss:0.246829\tvalidation_1-auc:0.759095\tvalidation_2-logloss:0.24758\tvalidation_2-auc:0.757798\n",
      "[96]\tvalidation_0-logloss:0.239212\tvalidation_0-auc:0.789522\tvalidation_1-logloss:0.246733\tvalidation_1-auc:0.759243\tvalidation_2-logloss:0.247512\tvalidation_2-auc:0.757886\n",
      "[97]\tvalidation_0-logloss:0.239049\tvalidation_0-auc:0.789905\tvalidation_1-logloss:0.246647\tvalidation_1-auc:0.759401\tvalidation_2-logloss:0.247434\tvalidation_2-auc:0.758012\n",
      "[98]\tvalidation_0-logloss:0.238877\tvalidation_0-auc:0.79025\tvalidation_1-logloss:0.246572\tvalidation_1-auc:0.759512\tvalidation_2-logloss:0.247368\tvalidation_2-auc:0.758117\n",
      "[99]\tvalidation_0-logloss:0.238708\tvalidation_0-auc:0.790645\tvalidation_1-logloss:0.246514\tvalidation_1-auc:0.759589\tvalidation_2-logloss:0.247289\tvalidation_2-auc:0.75831\n",
      "[100]\tvalidation_0-logloss:0.238509\tvalidation_0-auc:0.791132\tvalidation_1-logloss:0.246414\tvalidation_1-auc:0.759786\tvalidation_2-logloss:0.247213\tvalidation_2-auc:0.758404\n",
      "[101]\tvalidation_0-logloss:0.23833\tvalidation_0-auc:0.791667\tvalidation_1-logloss:0.246342\tvalidation_1-auc:0.759938\tvalidation_2-logloss:0.247148\tvalidation_2-auc:0.758615\n",
      "[102]\tvalidation_0-logloss:0.238123\tvalidation_0-auc:0.792067\tvalidation_1-logloss:0.246272\tvalidation_1-auc:0.760017\tvalidation_2-logloss:0.247047\tvalidation_2-auc:0.758776\n",
      "[103]\tvalidation_0-logloss:0.237948\tvalidation_0-auc:0.792453\tvalidation_1-logloss:0.246186\tvalidation_1-auc:0.760254\tvalidation_2-logloss:0.246986\tvalidation_2-auc:0.758922\n",
      "[104]\tvalidation_0-logloss:0.23773\tvalidation_0-auc:0.793051\tvalidation_1-logloss:0.246084\tvalidation_1-auc:0.760491\tvalidation_2-logloss:0.246897\tvalidation_2-auc:0.759156\n",
      "[105]\tvalidation_0-logloss:0.237582\tvalidation_0-auc:0.793368\tvalidation_1-logloss:0.24602\tvalidation_1-auc:0.760614\tvalidation_2-logloss:0.246846\tvalidation_2-auc:0.759251\n",
      "[106]\tvalidation_0-logloss:0.237416\tvalidation_0-auc:0.793832\tvalidation_1-logloss:0.245935\tvalidation_1-auc:0.760827\tvalidation_2-logloss:0.246786\tvalidation_2-auc:0.759385\n",
      "[107]\tvalidation_0-logloss:0.237225\tvalidation_0-auc:0.794299\tvalidation_1-logloss:0.245873\tvalidation_1-auc:0.760992\tvalidation_2-logloss:0.246694\tvalidation_2-auc:0.759624\n",
      "[108]\tvalidation_0-logloss:0.23706\tvalidation_0-auc:0.79468\tvalidation_1-logloss:0.24581\tvalidation_1-auc:0.761199\tvalidation_2-logloss:0.246652\tvalidation_2-auc:0.759698\n",
      "[109]\tvalidation_0-logloss:0.23689\tvalidation_0-auc:0.795138\tvalidation_1-logloss:0.245733\tvalidation_1-auc:0.761351\tvalidation_2-logloss:0.246576\tvalidation_2-auc:0.759856\n",
      "[110]\tvalidation_0-logloss:0.236735\tvalidation_0-auc:0.795478\tvalidation_1-logloss:0.245693\tvalidation_1-auc:0.761452\tvalidation_2-logloss:0.246528\tvalidation_2-auc:0.759955\n",
      "[111]\tvalidation_0-logloss:0.236599\tvalidation_0-auc:0.795776\tvalidation_1-logloss:0.245644\tvalidation_1-auc:0.761508\tvalidation_2-logloss:0.246488\tvalidation_2-auc:0.76\n",
      "[112]\tvalidation_0-logloss:0.23646\tvalidation_0-auc:0.796092\tvalidation_1-logloss:0.245603\tvalidation_1-auc:0.761588\tvalidation_2-logloss:0.246437\tvalidation_2-auc:0.7601\n",
      "[113]\tvalidation_0-logloss:0.236306\tvalidation_0-auc:0.796473\tvalidation_1-logloss:0.245538\tvalidation_1-auc:0.761743\tvalidation_2-logloss:0.246395\tvalidation_2-auc:0.760209\n",
      "[114]\tvalidation_0-logloss:0.236153\tvalidation_0-auc:0.796872\tvalidation_1-logloss:0.245476\tvalidation_1-auc:0.761881\tvalidation_2-logloss:0.246342\tvalidation_2-auc:0.760318\n",
      "[115]\tvalidation_0-logloss:0.236008\tvalidation_0-auc:0.797206\tvalidation_1-logloss:0.245434\tvalidation_1-auc:0.761953\tvalidation_2-logloss:0.24629\tvalidation_2-auc:0.760417\n",
      "[116]\tvalidation_0-logloss:0.235833\tvalidation_0-auc:0.797632\tvalidation_1-logloss:0.245367\tvalidation_1-auc:0.762122\tvalidation_2-logloss:0.24622\tvalidation_2-auc:0.760635\n",
      "[117]\tvalidation_0-logloss:0.235712\tvalidation_0-auc:0.797953\tvalidation_1-logloss:0.245327\tvalidation_1-auc:0.762172\tvalidation_2-logloss:0.246181\tvalidation_2-auc:0.760719\n",
      "[118]\tvalidation_0-logloss:0.235577\tvalidation_0-auc:0.79828\tvalidation_1-logloss:0.24527\tvalidation_1-auc:0.762286\tvalidation_2-logloss:0.246141\tvalidation_2-auc:0.760793\n",
      "[119]\tvalidation_0-logloss:0.235458\tvalidation_0-auc:0.798612\tvalidation_1-logloss:0.245225\tvalidation_1-auc:0.762443\tvalidation_2-logloss:0.246092\tvalidation_2-auc:0.760963\n",
      "[120]\tvalidation_0-logloss:0.235294\tvalidation_0-auc:0.799051\tvalidation_1-logloss:0.245166\tvalidation_1-auc:0.762565\tvalidation_2-logloss:0.246048\tvalidation_2-auc:0.76105\n",
      "[121]\tvalidation_0-logloss:0.23514\tvalidation_0-auc:0.799441\tvalidation_1-logloss:0.245109\tvalidation_1-auc:0.762708\tvalidation_2-logloss:0.246001\tvalidation_2-auc:0.761185\n",
      "[122]\tvalidation_0-logloss:0.234974\tvalidation_0-auc:0.799882\tvalidation_1-logloss:0.245067\tvalidation_1-auc:0.762774\tvalidation_2-logloss:0.245944\tvalidation_2-auc:0.761351\n",
      "[123]\tvalidation_0-logloss:0.234889\tvalidation_0-auc:0.800045\tvalidation_1-logloss:0.245037\tvalidation_1-auc:0.76285\tvalidation_2-logloss:0.245916\tvalidation_2-auc:0.761374\n",
      "[124]\tvalidation_0-logloss:0.234748\tvalidation_0-auc:0.800304\tvalidation_1-logloss:0.244968\tvalidation_1-auc:0.763031\tvalidation_2-logloss:0.245887\tvalidation_2-auc:0.761399\n",
      "[125]\tvalidation_0-logloss:0.234608\tvalidation_0-auc:0.800642\tvalidation_1-logloss:0.244926\tvalidation_1-auc:0.763132\tvalidation_2-logloss:0.245848\tvalidation_2-auc:0.761506\n",
      "[126]\tvalidation_0-logloss:0.23451\tvalidation_0-auc:0.800902\tvalidation_1-logloss:0.244902\tvalidation_1-auc:0.763194\tvalidation_2-logloss:0.245821\tvalidation_2-auc:0.761602\n",
      "[127]\tvalidation_0-logloss:0.234359\tvalidation_0-auc:0.801221\tvalidation_1-logloss:0.244858\tvalidation_1-auc:0.763255\tvalidation_2-logloss:0.245757\tvalidation_2-auc:0.761762\n",
      "[128]\tvalidation_0-logloss:0.234201\tvalidation_0-auc:0.801652\tvalidation_1-logloss:0.244818\tvalidation_1-auc:0.76331\tvalidation_2-logloss:0.24572\tvalidation_2-auc:0.761806\n",
      "[129]\tvalidation_0-logloss:0.23406\tvalidation_0-auc:0.802001\tvalidation_1-logloss:0.244783\tvalidation_1-auc:0.763395\tvalidation_2-logloss:0.245694\tvalidation_2-auc:0.761879\n",
      "[130]\tvalidation_0-logloss:0.233909\tvalidation_0-auc:0.802395\tvalidation_1-logloss:0.244734\tvalidation_1-auc:0.763525\tvalidation_2-logloss:0.245656\tvalidation_2-auc:0.762024\n",
      "[131]\tvalidation_0-logloss:0.233777\tvalidation_0-auc:0.802767\tvalidation_1-logloss:0.244706\tvalidation_1-auc:0.763604\tvalidation_2-logloss:0.245629\tvalidation_2-auc:0.762093\n",
      "[132]\tvalidation_0-logloss:0.233682\tvalidation_0-auc:0.802996\tvalidation_1-logloss:0.244686\tvalidation_1-auc:0.763667\tvalidation_2-logloss:0.245588\tvalidation_2-auc:0.762231\n",
      "[133]\tvalidation_0-logloss:0.233576\tvalidation_0-auc:0.803237\tvalidation_1-logloss:0.24465\tvalidation_1-auc:0.763749\tvalidation_2-logloss:0.245554\tvalidation_2-auc:0.762319\n",
      "[134]\tvalidation_0-logloss:0.233433\tvalidation_0-auc:0.803594\tvalidation_1-logloss:0.244589\tvalidation_1-auc:0.763889\tvalidation_2-logloss:0.245518\tvalidation_2-auc:0.762397\n",
      "[135]\tvalidation_0-logloss:0.233299\tvalidation_0-auc:0.803807\tvalidation_1-logloss:0.244531\tvalidation_1-auc:0.764063\tvalidation_2-logloss:0.245472\tvalidation_2-auc:0.762554\n",
      "[136]\tvalidation_0-logloss:0.233194\tvalidation_0-auc:0.804025\tvalidation_1-logloss:0.244487\tvalidation_1-auc:0.764163\tvalidation_2-logloss:0.245446\tvalidation_2-auc:0.762614\n",
      "[137]\tvalidation_0-logloss:0.233063\tvalidation_0-auc:0.804358\tvalidation_1-logloss:0.244461\tvalidation_1-auc:0.76421\tvalidation_2-logloss:0.245411\tvalidation_2-auc:0.762732\n",
      "[138]\tvalidation_0-logloss:0.232934\tvalidation_0-auc:0.804648\tvalidation_1-logloss:0.244439\tvalidation_1-auc:0.764243\tvalidation_2-logloss:0.245383\tvalidation_2-auc:0.762787\n",
      "[139]\tvalidation_0-logloss:0.232838\tvalidation_0-auc:0.804875\tvalidation_1-logloss:0.244408\tvalidation_1-auc:0.764336\tvalidation_2-logloss:0.245358\tvalidation_2-auc:0.762825\n",
      "[140]\tvalidation_0-logloss:0.232731\tvalidation_0-auc:0.805211\tvalidation_1-logloss:0.244394\tvalidation_1-auc:0.764318\tvalidation_2-logloss:0.24534\tvalidation_2-auc:0.762872\n",
      "[141]\tvalidation_0-logloss:0.232636\tvalidation_0-auc:0.805468\tvalidation_1-logloss:0.244372\tvalidation_1-auc:0.764362\tvalidation_2-logloss:0.245305\tvalidation_2-auc:0.762949\n",
      "[142]\tvalidation_0-logloss:0.232525\tvalidation_0-auc:0.805707\tvalidation_1-logloss:0.244347\tvalidation_1-auc:0.76439\tvalidation_2-logloss:0.245284\tvalidation_2-auc:0.762961\n"
     ]
    },
    {
     "name": "stdout",
     "output_type": "stream",
     "text": [
      "[143]\tvalidation_0-logloss:0.23244\tvalidation_0-auc:0.805884\tvalidation_1-logloss:0.2443\tvalidation_1-auc:0.764498\tvalidation_2-logloss:0.245261\tvalidation_2-auc:0.762999\n",
      "[144]\tvalidation_0-logloss:0.232343\tvalidation_0-auc:0.806165\tvalidation_1-logloss:0.244286\tvalidation_1-auc:0.764541\tvalidation_2-logloss:0.245233\tvalidation_2-auc:0.763057\n",
      "[145]\tvalidation_0-logloss:0.232171\tvalidation_0-auc:0.806597\tvalidation_1-logloss:0.24422\tvalidation_1-auc:0.764681\tvalidation_2-logloss:0.245172\tvalidation_2-auc:0.76324\n",
      "[146]\tvalidation_0-logloss:0.232038\tvalidation_0-auc:0.806944\tvalidation_1-logloss:0.24419\tvalidation_1-auc:0.764717\tvalidation_2-logloss:0.245123\tvalidation_2-auc:0.763387\n",
      "[147]\tvalidation_0-logloss:0.231938\tvalidation_0-auc:0.807245\tvalidation_1-logloss:0.244192\tvalidation_1-auc:0.764671\tvalidation_2-logloss:0.245094\tvalidation_2-auc:0.763476\n",
      "[148]\tvalidation_0-logloss:0.231807\tvalidation_0-auc:0.807591\tvalidation_1-logloss:0.244172\tvalidation_1-auc:0.76471\tvalidation_2-logloss:0.245082\tvalidation_2-auc:0.763477\n",
      "[149]\tvalidation_0-logloss:0.231709\tvalidation_0-auc:0.807796\tvalidation_1-logloss:0.244167\tvalidation_1-auc:0.764738\tvalidation_2-logloss:0.245066\tvalidation_2-auc:0.763528\n",
      "[150]\tvalidation_0-logloss:0.231602\tvalidation_0-auc:0.808045\tvalidation_1-logloss:0.244166\tvalidation_1-auc:0.764707\tvalidation_2-logloss:0.245041\tvalidation_2-auc:0.763604\n",
      "[151]\tvalidation_0-logloss:0.231511\tvalidation_0-auc:0.808266\tvalidation_1-logloss:0.244143\tvalidation_1-auc:0.764776\tvalidation_2-logloss:0.245017\tvalidation_2-auc:0.763672\n",
      "[152]\tvalidation_0-logloss:0.231404\tvalidation_0-auc:0.808505\tvalidation_1-logloss:0.244132\tvalidation_1-auc:0.764794\tvalidation_2-logloss:0.245004\tvalidation_2-auc:0.763695\n",
      "[153]\tvalidation_0-logloss:0.231291\tvalidation_0-auc:0.808723\tvalidation_1-logloss:0.244122\tvalidation_1-auc:0.764764\tvalidation_2-logloss:0.244978\tvalidation_2-auc:0.763754\n",
      "[154]\tvalidation_0-logloss:0.231168\tvalidation_0-auc:0.809045\tvalidation_1-logloss:0.244094\tvalidation_1-auc:0.764825\tvalidation_2-logloss:0.244959\tvalidation_2-auc:0.763778\n",
      "[155]\tvalidation_0-logloss:0.231068\tvalidation_0-auc:0.809286\tvalidation_1-logloss:0.24408\tvalidation_1-auc:0.764813\tvalidation_2-logloss:0.24495\tvalidation_2-auc:0.763771\n",
      "[156]\tvalidation_0-logloss:0.230972\tvalidation_0-auc:0.809483\tvalidation_1-logloss:0.244056\tvalidation_1-auc:0.764883\tvalidation_2-logloss:0.244956\tvalidation_2-auc:0.763729\n",
      "[157]\tvalidation_0-logloss:0.230837\tvalidation_0-auc:0.809864\tvalidation_1-logloss:0.244035\tvalidation_1-auc:0.764917\tvalidation_2-logloss:0.244942\tvalidation_2-auc:0.763776\n",
      "[158]\tvalidation_0-logloss:0.230744\tvalidation_0-auc:0.810055\tvalidation_1-logloss:0.243995\tvalidation_1-auc:0.765006\tvalidation_2-logloss:0.244913\tvalidation_2-auc:0.763827\n",
      "[159]\tvalidation_0-logloss:0.230644\tvalidation_0-auc:0.810326\tvalidation_1-logloss:0.243991\tvalidation_1-auc:0.764984\tvalidation_2-logloss:0.244881\tvalidation_2-auc:0.763918\n",
      "[160]\tvalidation_0-logloss:0.230546\tvalidation_0-auc:0.81055\tvalidation_1-logloss:0.243996\tvalidation_1-auc:0.764937\tvalidation_2-logloss:0.244877\tvalidation_2-auc:0.763941\n",
      "[161]\tvalidation_0-logloss:0.230469\tvalidation_0-auc:0.810683\tvalidation_1-logloss:0.243968\tvalidation_1-auc:0.765008\tvalidation_2-logloss:0.24488\tvalidation_2-auc:0.763914\n",
      "[162]\tvalidation_0-logloss:0.230367\tvalidation_0-auc:0.810936\tvalidation_1-logloss:0.243943\tvalidation_1-auc:0.765043\tvalidation_2-logloss:0.244865\tvalidation_2-auc:0.763933\n",
      "[163]\tvalidation_0-logloss:0.23024\tvalidation_0-auc:0.811234\tvalidation_1-logloss:0.243924\tvalidation_1-auc:0.765078\tvalidation_2-logloss:0.244833\tvalidation_2-auc:0.764024\n",
      "[164]\tvalidation_0-logloss:0.230152\tvalidation_0-auc:0.81149\tvalidation_1-logloss:0.243888\tvalidation_1-auc:0.765197\tvalidation_2-logloss:0.244824\tvalidation_2-auc:0.764038\n",
      "[165]\tvalidation_0-logloss:0.230075\tvalidation_0-auc:0.811691\tvalidation_1-logloss:0.243869\tvalidation_1-auc:0.765238\tvalidation_2-logloss:0.24481\tvalidation_2-auc:0.764063\n",
      "[166]\tvalidation_0-logloss:0.229972\tvalidation_0-auc:0.811925\tvalidation_1-logloss:0.24386\tvalidation_1-auc:0.765272\tvalidation_2-logloss:0.244802\tvalidation_2-auc:0.764053\n",
      "[167]\tvalidation_0-logloss:0.229883\tvalidation_0-auc:0.812214\tvalidation_1-logloss:0.243861\tvalidation_1-auc:0.765238\tvalidation_2-logloss:0.24479\tvalidation_2-auc:0.764109\n",
      "[168]\tvalidation_0-logloss:0.229774\tvalidation_0-auc:0.812518\tvalidation_1-logloss:0.243839\tvalidation_1-auc:0.765296\tvalidation_2-logloss:0.244779\tvalidation_2-auc:0.764111\n",
      "[169]\tvalidation_0-logloss:0.229604\tvalidation_0-auc:0.812977\tvalidation_1-logloss:0.243783\tvalidation_1-auc:0.765408\tvalidation_2-logloss:0.244724\tvalidation_2-auc:0.764282\n",
      "[170]\tvalidation_0-logloss:0.229515\tvalidation_0-auc:0.813226\tvalidation_1-logloss:0.243754\tvalidation_1-auc:0.765486\tvalidation_2-logloss:0.244709\tvalidation_2-auc:0.764325\n",
      "[171]\tvalidation_0-logloss:0.229378\tvalidation_0-auc:0.813507\tvalidation_1-logloss:0.243722\tvalidation_1-auc:0.765532\tvalidation_2-logloss:0.244687\tvalidation_2-auc:0.764375\n",
      "[172]\tvalidation_0-logloss:0.229307\tvalidation_0-auc:0.813654\tvalidation_1-logloss:0.24371\tvalidation_1-auc:0.765557\tvalidation_2-logloss:0.24468\tvalidation_2-auc:0.764375\n",
      "[173]\tvalidation_0-logloss:0.229209\tvalidation_0-auc:0.813952\tvalidation_1-logloss:0.243701\tvalidation_1-auc:0.765576\tvalidation_2-logloss:0.244662\tvalidation_2-auc:0.764405\n",
      "[174]\tvalidation_0-logloss:0.229094\tvalidation_0-auc:0.814235\tvalidation_1-logloss:0.243703\tvalidation_1-auc:0.765546\tvalidation_2-logloss:0.244644\tvalidation_2-auc:0.764484\n",
      "[175]\tvalidation_0-logloss:0.228965\tvalidation_0-auc:0.814588\tvalidation_1-logloss:0.243681\tvalidation_1-auc:0.765606\tvalidation_2-logloss:0.244633\tvalidation_2-auc:0.764514\n",
      "[176]\tvalidation_0-logloss:0.228892\tvalidation_0-auc:0.814789\tvalidation_1-logloss:0.243651\tvalidation_1-auc:0.765682\tvalidation_2-logloss:0.244597\tvalidation_2-auc:0.76464\n",
      "[177]\tvalidation_0-logloss:0.228786\tvalidation_0-auc:0.815097\tvalidation_1-logloss:0.243656\tvalidation_1-auc:0.765616\tvalidation_2-logloss:0.244589\tvalidation_2-auc:0.764625\n",
      "[178]\tvalidation_0-logloss:0.228691\tvalidation_0-auc:0.815404\tvalidation_1-logloss:0.243655\tvalidation_1-auc:0.765604\tvalidation_2-logloss:0.24459\tvalidation_2-auc:0.764603\n",
      "[179]\tvalidation_0-logloss:0.228598\tvalidation_0-auc:0.815637\tvalidation_1-logloss:0.243649\tvalidation_1-auc:0.765626\tvalidation_2-logloss:0.24458\tvalidation_2-auc:0.764634\n",
      "[180]\tvalidation_0-logloss:0.22849\tvalidation_0-auc:0.815956\tvalidation_1-logloss:0.243639\tvalidation_1-auc:0.765627\tvalidation_2-logloss:0.244574\tvalidation_2-auc:0.764645\n",
      "[181]\tvalidation_0-logloss:0.228429\tvalidation_0-auc:0.81608\tvalidation_1-logloss:0.243629\tvalidation_1-auc:0.765628\tvalidation_2-logloss:0.244569\tvalidation_2-auc:0.764691\n",
      "[182]\tvalidation_0-logloss:0.22836\tvalidation_0-auc:0.816268\tvalidation_1-logloss:0.243602\tvalidation_1-auc:0.765691\tvalidation_2-logloss:0.244566\tvalidation_2-auc:0.764707\n",
      "[183]\tvalidation_0-logloss:0.228234\tvalidation_0-auc:0.816598\tvalidation_1-logloss:0.243599\tvalidation_1-auc:0.765649\tvalidation_2-logloss:0.24454\tvalidation_2-auc:0.764764\n",
      "[184]\tvalidation_0-logloss:0.228103\tvalidation_0-auc:0.816938\tvalidation_1-logloss:0.243568\tvalidation_1-auc:0.765732\tvalidation_2-logloss:0.244528\tvalidation_2-auc:0.764814\n",
      "[185]\tvalidation_0-logloss:0.228022\tvalidation_0-auc:0.817166\tvalidation_1-logloss:0.243566\tvalidation_1-auc:0.765713\tvalidation_2-logloss:0.244517\tvalidation_2-auc:0.764823\n",
      "[186]\tvalidation_0-logloss:0.227915\tvalidation_0-auc:0.817437\tvalidation_1-logloss:0.243549\tvalidation_1-auc:0.765776\tvalidation_2-logloss:0.244507\tvalidation_2-auc:0.76484\n",
      "[187]\tvalidation_0-logloss:0.227835\tvalidation_0-auc:0.817625\tvalidation_1-logloss:0.243534\tvalidation_1-auc:0.765816\tvalidation_2-logloss:0.244503\tvalidation_2-auc:0.764846\n",
      "[188]\tvalidation_0-logloss:0.22769\tvalidation_0-auc:0.818008\tvalidation_1-logloss:0.243479\tvalidation_1-auc:0.765961\tvalidation_2-logloss:0.244479\tvalidation_2-auc:0.764923\n",
      "[189]\tvalidation_0-logloss:0.227578\tvalidation_0-auc:0.818289\tvalidation_1-logloss:0.243462\tvalidation_1-auc:0.766021\tvalidation_2-logloss:0.244483\tvalidation_2-auc:0.764893\n",
      "[190]\tvalidation_0-logloss:0.227509\tvalidation_0-auc:0.81848\tvalidation_1-logloss:0.24345\tvalidation_1-auc:0.766056\tvalidation_2-logloss:0.244479\tvalidation_2-auc:0.764893\n"
     ]
    },
    {
     "name": "stdout",
     "output_type": "stream",
     "text": [
      "[191]\tvalidation_0-logloss:0.227463\tvalidation_0-auc:0.81854\tvalidation_1-logloss:0.243435\tvalidation_1-auc:0.766092\tvalidation_2-logloss:0.24447\tvalidation_2-auc:0.764908\n",
      "[192]\tvalidation_0-logloss:0.22737\tvalidation_0-auc:0.818796\tvalidation_1-logloss:0.243427\tvalidation_1-auc:0.766098\tvalidation_2-logloss:0.24448\tvalidation_2-auc:0.764851\n",
      "[193]\tvalidation_0-logloss:0.227254\tvalidation_0-auc:0.819084\tvalidation_1-logloss:0.243414\tvalidation_1-auc:0.766098\tvalidation_2-logloss:0.244452\tvalidation_2-auc:0.76494\n",
      "[194]\tvalidation_0-logloss:0.227164\tvalidation_0-auc:0.8193\tvalidation_1-logloss:0.243413\tvalidation_1-auc:0.766104\tvalidation_2-logloss:0.244441\tvalidation_2-auc:0.76497\n",
      "[195]\tvalidation_0-logloss:0.227072\tvalidation_0-auc:0.819557\tvalidation_1-logloss:0.243392\tvalidation_1-auc:0.766156\tvalidation_2-logloss:0.24443\tvalidation_2-auc:0.765001\n",
      "[196]\tvalidation_0-logloss:0.226953\tvalidation_0-auc:0.819803\tvalidation_1-logloss:0.243361\tvalidation_1-auc:0.76624\tvalidation_2-logloss:0.244422\tvalidation_2-auc:0.764987\n",
      "[197]\tvalidation_0-logloss:0.226864\tvalidation_0-auc:0.82005\tvalidation_1-logloss:0.243336\tvalidation_1-auc:0.766304\tvalidation_2-logloss:0.244423\tvalidation_2-auc:0.764987\n",
      "[198]\tvalidation_0-logloss:0.226755\tvalidation_0-auc:0.82032\tvalidation_1-logloss:0.243332\tvalidation_1-auc:0.766313\tvalidation_2-logloss:0.244405\tvalidation_2-auc:0.765033\n",
      "[199]\tvalidation_0-logloss:0.226708\tvalidation_0-auc:0.820414\tvalidation_1-logloss:0.243326\tvalidation_1-auc:0.766325\tvalidation_2-logloss:0.244396\tvalidation_2-auc:0.765063\n",
      "[200]\tvalidation_0-logloss:0.226611\tvalidation_0-auc:0.820699\tvalidation_1-logloss:0.243323\tvalidation_1-auc:0.766359\tvalidation_2-logloss:0.244396\tvalidation_2-auc:0.76503\n",
      "[201]\tvalidation_0-logloss:0.226554\tvalidation_0-auc:0.820883\tvalidation_1-logloss:0.24331\tvalidation_1-auc:0.766392\tvalidation_2-logloss:0.24439\tvalidation_2-auc:0.765058\n",
      "[202]\tvalidation_0-logloss:0.226495\tvalidation_0-auc:0.821025\tvalidation_1-logloss:0.243276\tvalidation_1-auc:0.766497\tvalidation_2-logloss:0.244372\tvalidation_2-auc:0.765128\n",
      "[203]\tvalidation_0-logloss:0.226428\tvalidation_0-auc:0.821167\tvalidation_1-logloss:0.243276\tvalidation_1-auc:0.766494\tvalidation_2-logloss:0.244372\tvalidation_2-auc:0.765106\n",
      "[204]\tvalidation_0-logloss:0.226319\tvalidation_0-auc:0.821476\tvalidation_1-logloss:0.243264\tvalidation_1-auc:0.766525\tvalidation_2-logloss:0.244359\tvalidation_2-auc:0.765135\n",
      "[205]\tvalidation_0-logloss:0.226256\tvalidation_0-auc:0.821624\tvalidation_1-logloss:0.243256\tvalidation_1-auc:0.766516\tvalidation_2-logloss:0.244343\tvalidation_2-auc:0.765181\n",
      "[206]\tvalidation_0-logloss:0.226179\tvalidation_0-auc:0.821814\tvalidation_1-logloss:0.243249\tvalidation_1-auc:0.76652\tvalidation_2-logloss:0.244333\tvalidation_2-auc:0.765208\n",
      "[207]\tvalidation_0-logloss:0.226103\tvalidation_0-auc:0.821995\tvalidation_1-logloss:0.243229\tvalidation_1-auc:0.766556\tvalidation_2-logloss:0.244325\tvalidation_2-auc:0.765259\n",
      "[208]\tvalidation_0-logloss:0.226013\tvalidation_0-auc:0.822253\tvalidation_1-logloss:0.243225\tvalidation_1-auc:0.766561\tvalidation_2-logloss:0.244311\tvalidation_2-auc:0.7653\n",
      "[209]\tvalidation_0-logloss:0.225942\tvalidation_0-auc:0.822491\tvalidation_1-logloss:0.243232\tvalidation_1-auc:0.766527\tvalidation_2-logloss:0.244311\tvalidation_2-auc:0.765274\n",
      "[210]\tvalidation_0-logloss:0.225832\tvalidation_0-auc:0.822793\tvalidation_1-logloss:0.243218\tvalidation_1-auc:0.766546\tvalidation_2-logloss:0.244311\tvalidation_2-auc:0.765258\n",
      "[211]\tvalidation_0-logloss:0.22573\tvalidation_0-auc:0.823015\tvalidation_1-logloss:0.24318\tvalidation_1-auc:0.76665\tvalidation_2-logloss:0.244279\tvalidation_2-auc:0.765349\n",
      "[212]\tvalidation_0-logloss:0.225598\tvalidation_0-auc:0.82336\tvalidation_1-logloss:0.243149\tvalidation_1-auc:0.766745\tvalidation_2-logloss:0.244253\tvalidation_2-auc:0.765433\n",
      "[213]\tvalidation_0-logloss:0.225492\tvalidation_0-auc:0.823608\tvalidation_1-logloss:0.243135\tvalidation_1-auc:0.766752\tvalidation_2-logloss:0.244259\tvalidation_2-auc:0.765409\n",
      "[214]\tvalidation_0-logloss:0.225429\tvalidation_0-auc:0.823779\tvalidation_1-logloss:0.24313\tvalidation_1-auc:0.76676\tvalidation_2-logloss:0.244238\tvalidation_2-auc:0.765482\n",
      "[215]\tvalidation_0-logloss:0.225319\tvalidation_0-auc:0.824053\tvalidation_1-logloss:0.243118\tvalidation_1-auc:0.766787\tvalidation_2-logloss:0.244226\tvalidation_2-auc:0.765547\n",
      "[216]\tvalidation_0-logloss:0.225194\tvalidation_0-auc:0.824386\tvalidation_1-logloss:0.24312\tvalidation_1-auc:0.766801\tvalidation_2-logloss:0.244229\tvalidation_2-auc:0.765528\n",
      "[217]\tvalidation_0-logloss:0.22514\tvalidation_0-auc:0.824528\tvalidation_1-logloss:0.243121\tvalidation_1-auc:0.766811\tvalidation_2-logloss:0.244232\tvalidation_2-auc:0.765509\n",
      "[218]\tvalidation_0-logloss:0.225071\tvalidation_0-auc:0.824675\tvalidation_1-logloss:0.243107\tvalidation_1-auc:0.766826\tvalidation_2-logloss:0.244214\tvalidation_2-auc:0.765567\n",
      "[219]\tvalidation_0-logloss:0.22497\tvalidation_0-auc:0.824913\tvalidation_1-logloss:0.243086\tvalidation_1-auc:0.766881\tvalidation_2-logloss:0.244199\tvalidation_2-auc:0.765608\n",
      "[220]\tvalidation_0-logloss:0.224915\tvalidation_0-auc:0.825062\tvalidation_1-logloss:0.243075\tvalidation_1-auc:0.766931\tvalidation_2-logloss:0.244198\tvalidation_2-auc:0.765616\n",
      "[221]\tvalidation_0-logloss:0.224839\tvalidation_0-auc:0.825261\tvalidation_1-logloss:0.243077\tvalidation_1-auc:0.76691\tvalidation_2-logloss:0.244195\tvalidation_2-auc:0.765636\n",
      "[222]\tvalidation_0-logloss:0.224768\tvalidation_0-auc:0.825438\tvalidation_1-logloss:0.24309\tvalidation_1-auc:0.766833\tvalidation_2-logloss:0.244193\tvalidation_2-auc:0.765647\n",
      "[223]\tvalidation_0-logloss:0.224692\tvalidation_0-auc:0.825626\tvalidation_1-logloss:0.243092\tvalidation_1-auc:0.766807\tvalidation_2-logloss:0.244185\tvalidation_2-auc:0.765665\n",
      "[224]\tvalidation_0-logloss:0.224571\tvalidation_0-auc:0.825926\tvalidation_1-logloss:0.243077\tvalidation_1-auc:0.766797\tvalidation_2-logloss:0.244187\tvalidation_2-auc:0.765665\n",
      "[225]\tvalidation_0-logloss:0.224486\tvalidation_0-auc:0.826182\tvalidation_1-logloss:0.243068\tvalidation_1-auc:0.766849\tvalidation_2-logloss:0.244194\tvalidation_2-auc:0.765684\n",
      "[226]\tvalidation_0-logloss:0.22441\tvalidation_0-auc:0.826349\tvalidation_1-logloss:0.24304\tvalidation_1-auc:0.766972\tvalidation_2-logloss:0.244175\tvalidation_2-auc:0.765782\n",
      "[227]\tvalidation_0-logloss:0.224283\tvalidation_0-auc:0.82669\tvalidation_1-logloss:0.243022\tvalidation_1-auc:0.767023\tvalidation_2-logloss:0.24416\tvalidation_2-auc:0.765844\n",
      "[228]\tvalidation_0-logloss:0.224225\tvalidation_0-auc:0.826813\tvalidation_1-logloss:0.243018\tvalidation_1-auc:0.767044\tvalidation_2-logloss:0.244156\tvalidation_2-auc:0.765845\n",
      "[229]\tvalidation_0-logloss:0.224131\tvalidation_0-auc:0.827101\tvalidation_1-logloss:0.243018\tvalidation_1-auc:0.767055\tvalidation_2-logloss:0.244159\tvalidation_2-auc:0.765832\n",
      "[230]\tvalidation_0-logloss:0.224064\tvalidation_0-auc:0.82728\tvalidation_1-logloss:0.243008\tvalidation_1-auc:0.767089\tvalidation_2-logloss:0.244144\tvalidation_2-auc:0.765871\n",
      "[231]\tvalidation_0-logloss:0.223945\tvalidation_0-auc:0.827609\tvalidation_1-logloss:0.243015\tvalidation_1-auc:0.767091\tvalidation_2-logloss:0.244148\tvalidation_2-auc:0.765868\n",
      "[232]\tvalidation_0-logloss:0.223869\tvalidation_0-auc:0.827824\tvalidation_1-logloss:0.243021\tvalidation_1-auc:0.767064\tvalidation_2-logloss:0.244145\tvalidation_2-auc:0.765874\n",
      "[233]\tvalidation_0-logloss:0.2238\tvalidation_0-auc:0.827998\tvalidation_1-logloss:0.243021\tvalidation_1-auc:0.767061\tvalidation_2-logloss:0.244144\tvalidation_2-auc:0.76588\n",
      "[234]\tvalidation_0-logloss:0.223739\tvalidation_0-auc:0.828087\tvalidation_1-logloss:0.243013\tvalidation_1-auc:0.767105\tvalidation_2-logloss:0.244143\tvalidation_2-auc:0.765871\n",
      "[235]\tvalidation_0-logloss:0.223673\tvalidation_0-auc:0.828236\tvalidation_1-logloss:0.24301\tvalidation_1-auc:0.767121\tvalidation_2-logloss:0.244143\tvalidation_2-auc:0.765866\n",
      "[236]\tvalidation_0-logloss:0.223589\tvalidation_0-auc:0.82846\tvalidation_1-logloss:0.243013\tvalidation_1-auc:0.76711\tvalidation_2-logloss:0.244147\tvalidation_2-auc:0.76584\n",
      "[237]\tvalidation_0-logloss:0.223508\tvalidation_0-auc:0.828676\tvalidation_1-logloss:0.243009\tvalidation_1-auc:0.767115\tvalidation_2-logloss:0.244144\tvalidation_2-auc:0.765865\n",
      "[238]\tvalidation_0-logloss:0.223454\tvalidation_0-auc:0.828808\tvalidation_1-logloss:0.242992\tvalidation_1-auc:0.767181\tvalidation_2-logloss:0.244148\tvalidation_2-auc:0.765853\n"
     ]
    },
    {
     "name": "stdout",
     "output_type": "stream",
     "text": [
      "[239]\tvalidation_0-logloss:0.223377\tvalidation_0-auc:0.829015\tvalidation_1-logloss:0.242988\tvalidation_1-auc:0.767187\tvalidation_2-logloss:0.244157\tvalidation_2-auc:0.765845\n",
      "[240]\tvalidation_0-logloss:0.223317\tvalidation_0-auc:0.829223\tvalidation_1-logloss:0.242988\tvalidation_1-auc:0.767188\tvalidation_2-logloss:0.244157\tvalidation_2-auc:0.765866\n",
      "[241]\tvalidation_0-logloss:0.223246\tvalidation_0-auc:0.829437\tvalidation_1-logloss:0.242991\tvalidation_1-auc:0.767148\tvalidation_2-logloss:0.244143\tvalidation_2-auc:0.765887\n",
      "[242]\tvalidation_0-logloss:0.223208\tvalidation_0-auc:0.829548\tvalidation_1-logloss:0.242995\tvalidation_1-auc:0.767114\tvalidation_2-logloss:0.244139\tvalidation_2-auc:0.765903\n",
      "[243]\tvalidation_0-logloss:0.223162\tvalidation_0-auc:0.829643\tvalidation_1-logloss:0.243003\tvalidation_1-auc:0.767099\tvalidation_2-logloss:0.244134\tvalidation_2-auc:0.765909\n",
      "[244]\tvalidation_0-logloss:0.223076\tvalidation_0-auc:0.829888\tvalidation_1-logloss:0.242977\tvalidation_1-auc:0.767194\tvalidation_2-logloss:0.24413\tvalidation_2-auc:0.765935\n",
      "[245]\tvalidation_0-logloss:0.222976\tvalidation_0-auc:0.830135\tvalidation_1-logloss:0.24297\tvalidation_1-auc:0.767263\tvalidation_2-logloss:0.24414\tvalidation_2-auc:0.76588\n",
      "[246]\tvalidation_0-logloss:0.222907\tvalidation_0-auc:0.830315\tvalidation_1-logloss:0.242966\tvalidation_1-auc:0.767268\tvalidation_2-logloss:0.244149\tvalidation_2-auc:0.765849\n",
      "[247]\tvalidation_0-logloss:0.222807\tvalidation_0-auc:0.830611\tvalidation_1-logloss:0.242966\tvalidation_1-auc:0.767237\tvalidation_2-logloss:0.244148\tvalidation_2-auc:0.765841\n",
      "[248]\tvalidation_0-logloss:0.22276\tvalidation_0-auc:0.830729\tvalidation_1-logloss:0.242956\tvalidation_1-auc:0.767261\tvalidation_2-logloss:0.244143\tvalidation_2-auc:0.76587\n",
      "[249]\tvalidation_0-logloss:0.222682\tvalidation_0-auc:0.830962\tvalidation_1-logloss:0.242954\tvalidation_1-auc:0.767263\tvalidation_2-logloss:0.244153\tvalidation_2-auc:0.76583\n",
      "[250]\tvalidation_0-logloss:0.222635\tvalidation_0-auc:0.831102\tvalidation_1-logloss:0.242966\tvalidation_1-auc:0.76722\tvalidation_2-logloss:0.244155\tvalidation_2-auc:0.765825\n",
      "[251]\tvalidation_0-logloss:0.222569\tvalidation_0-auc:0.831259\tvalidation_1-logloss:0.242968\tvalidation_1-auc:0.767205\tvalidation_2-logloss:0.244146\tvalidation_2-auc:0.765838\n",
      "[252]\tvalidation_0-logloss:0.222529\tvalidation_0-auc:0.831347\tvalidation_1-logloss:0.242958\tvalidation_1-auc:0.767264\tvalidation_2-logloss:0.244143\tvalidation_2-auc:0.765844\n",
      "[253]\tvalidation_0-logloss:0.222443\tvalidation_0-auc:0.831562\tvalidation_1-logloss:0.242946\tvalidation_1-auc:0.767311\tvalidation_2-logloss:0.244125\tvalidation_2-auc:0.765894\n",
      "[254]\tvalidation_0-logloss:0.222318\tvalidation_0-auc:0.831852\tvalidation_1-logloss:0.242918\tvalidation_1-auc:0.767385\tvalidation_2-logloss:0.244101\tvalidation_2-auc:0.765964\n",
      "[255]\tvalidation_0-logloss:0.222211\tvalidation_0-auc:0.83213\tvalidation_1-logloss:0.242918\tvalidation_1-auc:0.767368\tvalidation_2-logloss:0.244103\tvalidation_2-auc:0.765952\n",
      "[256]\tvalidation_0-logloss:0.222098\tvalidation_0-auc:0.832471\tvalidation_1-logloss:0.242911\tvalidation_1-auc:0.767358\tvalidation_2-logloss:0.244111\tvalidation_2-auc:0.765937\n",
      "[257]\tvalidation_0-logloss:0.222062\tvalidation_0-auc:0.832566\tvalidation_1-logloss:0.242916\tvalidation_1-auc:0.767358\tvalidation_2-logloss:0.244116\tvalidation_2-auc:0.765917\n",
      "[258]\tvalidation_0-logloss:0.222026\tvalidation_0-auc:0.832678\tvalidation_1-logloss:0.242918\tvalidation_1-auc:0.767354\tvalidation_2-logloss:0.244111\tvalidation_2-auc:0.765943\n",
      "[259]\tvalidation_0-logloss:0.221915\tvalidation_0-auc:0.832964\tvalidation_1-logloss:0.24292\tvalidation_1-auc:0.76735\tvalidation_2-logloss:0.244105\tvalidation_2-auc:0.765973\n",
      "[260]\tvalidation_0-logloss:0.221854\tvalidation_0-auc:0.833086\tvalidation_1-logloss:0.242918\tvalidation_1-auc:0.767361\tvalidation_2-logloss:0.244093\tvalidation_2-auc:0.766009\n",
      "[261]\tvalidation_0-logloss:0.221786\tvalidation_0-auc:0.833268\tvalidation_1-logloss:0.242918\tvalidation_1-auc:0.767341\tvalidation_2-logloss:0.244073\tvalidation_2-auc:0.766044\n",
      "[262]\tvalidation_0-logloss:0.221713\tvalidation_0-auc:0.83349\tvalidation_1-logloss:0.24292\tvalidation_1-auc:0.767362\tvalidation_2-logloss:0.244064\tvalidation_2-auc:0.766094\n",
      "[263]\tvalidation_0-logloss:0.221659\tvalidation_0-auc:0.833628\tvalidation_1-logloss:0.242935\tvalidation_1-auc:0.767316\tvalidation_2-logloss:0.244065\tvalidation_2-auc:0.766087\n",
      "[264]\tvalidation_0-logloss:0.221559\tvalidation_0-auc:0.833927\tvalidation_1-logloss:0.242935\tvalidation_1-auc:0.767292\tvalidation_2-logloss:0.244085\tvalidation_2-auc:0.766012\n",
      "[265]\tvalidation_0-logloss:0.221493\tvalidation_0-auc:0.834121\tvalidation_1-logloss:0.242935\tvalidation_1-auc:0.767288\tvalidation_2-logloss:0.244097\tvalidation_2-auc:0.765979\n",
      "[266]\tvalidation_0-logloss:0.221387\tvalidation_0-auc:0.834355\tvalidation_1-logloss:0.242907\tvalidation_1-auc:0.767386\tvalidation_2-logloss:0.244092\tvalidation_2-auc:0.766013\n",
      "[267]\tvalidation_0-logloss:0.22134\tvalidation_0-auc:0.834468\tvalidation_1-logloss:0.242897\tvalidation_1-auc:0.767401\tvalidation_2-logloss:0.244085\tvalidation_2-auc:0.766037\n",
      "[268]\tvalidation_0-logloss:0.221282\tvalidation_0-auc:0.834635\tvalidation_1-logloss:0.242884\tvalidation_1-auc:0.767446\tvalidation_2-logloss:0.244068\tvalidation_2-auc:0.766076\n",
      "[269]\tvalidation_0-logloss:0.221235\tvalidation_0-auc:0.834729\tvalidation_1-logloss:0.242873\tvalidation_1-auc:0.767472\tvalidation_2-logloss:0.244073\tvalidation_2-auc:0.766064\n",
      "[270]\tvalidation_0-logloss:0.221195\tvalidation_0-auc:0.834825\tvalidation_1-logloss:0.242868\tvalidation_1-auc:0.767488\tvalidation_2-logloss:0.244079\tvalidation_2-auc:0.76603\n",
      "[271]\tvalidation_0-logloss:0.221129\tvalidation_0-auc:0.834977\tvalidation_1-logloss:0.242871\tvalidation_1-auc:0.767469\tvalidation_2-logloss:0.24409\tvalidation_2-auc:0.766015\n",
      "[272]\tvalidation_0-logloss:0.221038\tvalidation_0-auc:0.83518\tvalidation_1-logloss:0.242858\tvalidation_1-auc:0.767502\tvalidation_2-logloss:0.244095\tvalidation_2-auc:0.76601\n",
      "[273]\tvalidation_0-logloss:0.220987\tvalidation_0-auc:0.835316\tvalidation_1-logloss:0.242866\tvalidation_1-auc:0.767487\tvalidation_2-logloss:0.244093\tvalidation_2-auc:0.766012\n",
      "[274]\tvalidation_0-logloss:0.220907\tvalidation_0-auc:0.835546\tvalidation_1-logloss:0.24285\tvalidation_1-auc:0.767486\tvalidation_2-logloss:0.244087\tvalidation_2-auc:0.766031\n",
      "[275]\tvalidation_0-logloss:0.220817\tvalidation_0-auc:0.835772\tvalidation_1-logloss:0.242849\tvalidation_1-auc:0.76748\tvalidation_2-logloss:0.244088\tvalidation_2-auc:0.766026\n",
      "[276]\tvalidation_0-logloss:0.220784\tvalidation_0-auc:0.835846\tvalidation_1-logloss:0.242844\tvalidation_1-auc:0.767493\tvalidation_2-logloss:0.244083\tvalidation_2-auc:0.766042\n",
      "[277]\tvalidation_0-logloss:0.220702\tvalidation_0-auc:0.836059\tvalidation_1-logloss:0.24286\tvalidation_1-auc:0.767426\tvalidation_2-logloss:0.24408\tvalidation_2-auc:0.766025\n",
      "[278]\tvalidation_0-logloss:0.220635\tvalidation_0-auc:0.836229\tvalidation_1-logloss:0.242846\tvalidation_1-auc:0.767463\tvalidation_2-logloss:0.244081\tvalidation_2-auc:0.766019\n",
      "[279]\tvalidation_0-logloss:0.220585\tvalidation_0-auc:0.836356\tvalidation_1-logloss:0.242846\tvalidation_1-auc:0.767469\tvalidation_2-logloss:0.244084\tvalidation_2-auc:0.766008\n",
      "[280]\tvalidation_0-logloss:0.22055\tvalidation_0-auc:0.836447\tvalidation_1-logloss:0.242849\tvalidation_1-auc:0.76747\tvalidation_2-logloss:0.244088\tvalidation_2-auc:0.766004\n",
      "[281]\tvalidation_0-logloss:0.220509\tvalidation_0-auc:0.836541\tvalidation_1-logloss:0.24285\tvalidation_1-auc:0.767473\tvalidation_2-logloss:0.244085\tvalidation_2-auc:0.766004\n",
      "[282]\tvalidation_0-logloss:0.22047\tvalidation_0-auc:0.836636\tvalidation_1-logloss:0.242848\tvalidation_1-auc:0.767485\tvalidation_2-logloss:0.244085\tvalidation_2-auc:0.766006\n",
      "[283]\tvalidation_0-logloss:0.220404\tvalidation_0-auc:0.836824\tvalidation_1-logloss:0.24285\tvalidation_1-auc:0.767449\tvalidation_2-logloss:0.244072\tvalidation_2-auc:0.766046\n",
      "[284]\tvalidation_0-logloss:0.220375\tvalidation_0-auc:0.836893\tvalidation_1-logloss:0.242841\tvalidation_1-auc:0.767475\tvalidation_2-logloss:0.244065\tvalidation_2-auc:0.766073\n",
      "[285]\tvalidation_0-logloss:0.220311\tvalidation_0-auc:0.83702\tvalidation_1-logloss:0.242844\tvalidation_1-auc:0.767417\tvalidation_2-logloss:0.24405\tvalidation_2-auc:0.766105\n",
      "[286]\tvalidation_0-logloss:0.220288\tvalidation_0-auc:0.837081\tvalidation_1-logloss:0.242856\tvalidation_1-auc:0.767385\tvalidation_2-logloss:0.244054\tvalidation_2-auc:0.766082\n"
     ]
    },
    {
     "name": "stdout",
     "output_type": "stream",
     "text": [
      "[287]\tvalidation_0-logloss:0.220216\tvalidation_0-auc:0.837226\tvalidation_1-logloss:0.242843\tvalidation_1-auc:0.767409\tvalidation_2-logloss:0.24404\tvalidation_2-auc:0.766151\n",
      "[288]\tvalidation_0-logloss:0.220148\tvalidation_0-auc:0.837414\tvalidation_1-logloss:0.242848\tvalidation_1-auc:0.767397\tvalidation_2-logloss:0.244019\tvalidation_2-auc:0.766242\n",
      "[289]\tvalidation_0-logloss:0.220084\tvalidation_0-auc:0.837589\tvalidation_1-logloss:0.242846\tvalidation_1-auc:0.767409\tvalidation_2-logloss:0.244008\tvalidation_2-auc:0.766266\n",
      "[290]\tvalidation_0-logloss:0.219997\tvalidation_0-auc:0.837783\tvalidation_1-logloss:0.242823\tvalidation_1-auc:0.767456\tvalidation_2-logloss:0.243998\tvalidation_2-auc:0.766299\n",
      "[291]\tvalidation_0-logloss:0.219934\tvalidation_0-auc:0.837957\tvalidation_1-logloss:0.242829\tvalidation_1-auc:0.767444\tvalidation_2-logloss:0.244004\tvalidation_2-auc:0.766288\n",
      "[292]\tvalidation_0-logloss:0.21982\tvalidation_0-auc:0.838251\tvalidation_1-logloss:0.242822\tvalidation_1-auc:0.767464\tvalidation_2-logloss:0.244007\tvalidation_2-auc:0.766282\n",
      "[293]\tvalidation_0-logloss:0.21971\tvalidation_0-auc:0.838518\tvalidation_1-logloss:0.2428\tvalidation_1-auc:0.767475\tvalidation_2-logloss:0.243991\tvalidation_2-auc:0.766339\n",
      "[294]\tvalidation_0-logloss:0.219633\tvalidation_0-auc:0.838681\tvalidation_1-logloss:0.242785\tvalidation_1-auc:0.767507\tvalidation_2-logloss:0.243978\tvalidation_2-auc:0.766368\n",
      "[295]\tvalidation_0-logloss:0.219596\tvalidation_0-auc:0.838762\tvalidation_1-logloss:0.242778\tvalidation_1-auc:0.767537\tvalidation_2-logloss:0.243986\tvalidation_2-auc:0.76633\n",
      "[296]\tvalidation_0-logloss:0.219565\tvalidation_0-auc:0.838783\tvalidation_1-logloss:0.24276\tvalidation_1-auc:0.767579\tvalidation_2-logloss:0.243971\tvalidation_2-auc:0.766372\n",
      "[297]\tvalidation_0-logloss:0.219483\tvalidation_0-auc:0.838992\tvalidation_1-logloss:0.242762\tvalidation_1-auc:0.767594\tvalidation_2-logloss:0.243974\tvalidation_2-auc:0.766376\n",
      "[298]\tvalidation_0-logloss:0.219442\tvalidation_0-auc:0.8391\tvalidation_1-logloss:0.242747\tvalidation_1-auc:0.767674\tvalidation_2-logloss:0.243971\tvalidation_2-auc:0.766395\n",
      "[299]\tvalidation_0-logloss:0.219337\tvalidation_0-auc:0.83937\tvalidation_1-logloss:0.242729\tvalidation_1-auc:0.767724\tvalidation_2-logloss:0.243953\tvalidation_2-auc:0.76645\n",
      "[300]\tvalidation_0-logloss:0.21925\tvalidation_0-auc:0.839616\tvalidation_1-logloss:0.242745\tvalidation_1-auc:0.767664\tvalidation_2-logloss:0.243974\tvalidation_2-auc:0.766389\n",
      "[301]\tvalidation_0-logloss:0.219219\tvalidation_0-auc:0.839683\tvalidation_1-logloss:0.242743\tvalidation_1-auc:0.767668\tvalidation_2-logloss:0.243969\tvalidation_2-auc:0.766392\n",
      "[302]\tvalidation_0-logloss:0.219145\tvalidation_0-auc:0.839865\tvalidation_1-logloss:0.242737\tvalidation_1-auc:0.767685\tvalidation_2-logloss:0.24398\tvalidation_2-auc:0.766358\n",
      "[303]\tvalidation_0-logloss:0.21902\tvalidation_0-auc:0.840184\tvalidation_1-logloss:0.242726\tvalidation_1-auc:0.767709\tvalidation_2-logloss:0.243961\tvalidation_2-auc:0.766425\n",
      "[304]\tvalidation_0-logloss:0.218982\tvalidation_0-auc:0.840313\tvalidation_1-logloss:0.242725\tvalidation_1-auc:0.767713\tvalidation_2-logloss:0.243964\tvalidation_2-auc:0.766423\n",
      "[305]\tvalidation_0-logloss:0.218906\tvalidation_0-auc:0.840513\tvalidation_1-logloss:0.242721\tvalidation_1-auc:0.767729\tvalidation_2-logloss:0.243976\tvalidation_2-auc:0.766392\n",
      "[306]\tvalidation_0-logloss:0.218874\tvalidation_0-auc:0.840613\tvalidation_1-logloss:0.24271\tvalidation_1-auc:0.76777\tvalidation_2-logloss:0.243978\tvalidation_2-auc:0.766384\n",
      "[307]\tvalidation_0-logloss:0.218824\tvalidation_0-auc:0.840752\tvalidation_1-logloss:0.242701\tvalidation_1-auc:0.767764\tvalidation_2-logloss:0.243981\tvalidation_2-auc:0.766368\n",
      "[308]\tvalidation_0-logloss:0.218784\tvalidation_0-auc:0.840849\tvalidation_1-logloss:0.242707\tvalidation_1-auc:0.767739\tvalidation_2-logloss:0.24398\tvalidation_2-auc:0.766371\n",
      "[309]\tvalidation_0-logloss:0.218748\tvalidation_0-auc:0.84092\tvalidation_1-logloss:0.242717\tvalidation_1-auc:0.767712\tvalidation_2-logloss:0.24398\tvalidation_2-auc:0.766365\n",
      "[310]\tvalidation_0-logloss:0.218688\tvalidation_0-auc:0.841069\tvalidation_1-logloss:0.242712\tvalidation_1-auc:0.767753\tvalidation_2-logloss:0.24398\tvalidation_2-auc:0.766364\n",
      "[311]\tvalidation_0-logloss:0.218615\tvalidation_0-auc:0.841228\tvalidation_1-logloss:0.242702\tvalidation_1-auc:0.767765\tvalidation_2-logloss:0.24398\tvalidation_2-auc:0.766341\n",
      "[312]\tvalidation_0-logloss:0.218546\tvalidation_0-auc:0.84142\tvalidation_1-logloss:0.242688\tvalidation_1-auc:0.767801\tvalidation_2-logloss:0.243978\tvalidation_2-auc:0.766336\n",
      "[313]\tvalidation_0-logloss:0.21846\tvalidation_0-auc:0.841558\tvalidation_1-logloss:0.242678\tvalidation_1-auc:0.767809\tvalidation_2-logloss:0.24396\tvalidation_2-auc:0.766394\n",
      "[314]\tvalidation_0-logloss:0.218385\tvalidation_0-auc:0.841736\tvalidation_1-logloss:0.242671\tvalidation_1-auc:0.767822\tvalidation_2-logloss:0.243958\tvalidation_2-auc:0.766399\n",
      "[315]\tvalidation_0-logloss:0.21834\tvalidation_0-auc:0.84187\tvalidation_1-logloss:0.24268\tvalidation_1-auc:0.767787\tvalidation_2-logloss:0.24396\tvalidation_2-auc:0.766379\n",
      "[316]\tvalidation_0-logloss:0.218275\tvalidation_0-auc:0.842027\tvalidation_1-logloss:0.24266\tvalidation_1-auc:0.767857\tvalidation_2-logloss:0.243943\tvalidation_2-auc:0.766425\n",
      "[317]\tvalidation_0-logloss:0.218228\tvalidation_0-auc:0.84216\tvalidation_1-logloss:0.242652\tvalidation_1-auc:0.767898\tvalidation_2-logloss:0.243947\tvalidation_2-auc:0.766387\n",
      "[318]\tvalidation_0-logloss:0.218183\tvalidation_0-auc:0.842287\tvalidation_1-logloss:0.242654\tvalidation_1-auc:0.767872\tvalidation_2-logloss:0.243951\tvalidation_2-auc:0.766378\n",
      "[319]\tvalidation_0-logloss:0.218123\tvalidation_0-auc:0.842425\tvalidation_1-logloss:0.24265\tvalidation_1-auc:0.767893\tvalidation_2-logloss:0.243956\tvalidation_2-auc:0.766368\n",
      "[320]\tvalidation_0-logloss:0.218083\tvalidation_0-auc:0.84255\tvalidation_1-logloss:0.242656\tvalidation_1-auc:0.767891\tvalidation_2-logloss:0.243961\tvalidation_2-auc:0.76635\n",
      "[321]\tvalidation_0-logloss:0.21804\tvalidation_0-auc:0.842664\tvalidation_1-logloss:0.242656\tvalidation_1-auc:0.767871\tvalidation_2-logloss:0.243956\tvalidation_2-auc:0.766386\n",
      "[322]\tvalidation_0-logloss:0.217962\tvalidation_0-auc:0.842848\tvalidation_1-logloss:0.242654\tvalidation_1-auc:0.767845\tvalidation_2-logloss:0.243952\tvalidation_2-auc:0.766387\n",
      "[323]\tvalidation_0-logloss:0.217929\tvalidation_0-auc:0.842912\tvalidation_1-logloss:0.242653\tvalidation_1-auc:0.767841\tvalidation_2-logloss:0.243943\tvalidation_2-auc:0.766416\n",
      "[324]\tvalidation_0-logloss:0.217907\tvalidation_0-auc:0.842974\tvalidation_1-logloss:0.242649\tvalidation_1-auc:0.767841\tvalidation_2-logloss:0.243944\tvalidation_2-auc:0.766425\n",
      "[325]\tvalidation_0-logloss:0.217876\tvalidation_0-auc:0.843037\tvalidation_1-logloss:0.242647\tvalidation_1-auc:0.767852\tvalidation_2-logloss:0.243939\tvalidation_2-auc:0.766437\n",
      "[326]\tvalidation_0-logloss:0.217787\tvalidation_0-auc:0.843265\tvalidation_1-logloss:0.242652\tvalidation_1-auc:0.767813\tvalidation_2-logloss:0.243952\tvalidation_2-auc:0.766396\n",
      "[327]\tvalidation_0-logloss:0.21775\tvalidation_0-auc:0.843364\tvalidation_1-logloss:0.242653\tvalidation_1-auc:0.767799\tvalidation_2-logloss:0.243956\tvalidation_2-auc:0.766392\n",
      "[328]\tvalidation_0-logloss:0.217696\tvalidation_0-auc:0.843507\tvalidation_1-logloss:0.242646\tvalidation_1-auc:0.767813\tvalidation_2-logloss:0.243955\tvalidation_2-auc:0.7664\n",
      "[329]\tvalidation_0-logloss:0.217632\tvalidation_0-auc:0.843674\tvalidation_1-logloss:0.24264\tvalidation_1-auc:0.767828\tvalidation_2-logloss:0.243965\tvalidation_2-auc:0.766353\n",
      "[330]\tvalidation_0-logloss:0.217584\tvalidation_0-auc:0.843801\tvalidation_1-logloss:0.24265\tvalidation_1-auc:0.767793\tvalidation_2-logloss:0.243972\tvalidation_2-auc:0.766329\n",
      "[331]\tvalidation_0-logloss:0.217546\tvalidation_0-auc:0.843882\tvalidation_1-logloss:0.242653\tvalidation_1-auc:0.76779\tvalidation_2-logloss:0.243977\tvalidation_2-auc:0.766324\n",
      "[332]\tvalidation_0-logloss:0.217494\tvalidation_0-auc:0.843995\tvalidation_1-logloss:0.242655\tvalidation_1-auc:0.767795\tvalidation_2-logloss:0.243981\tvalidation_2-auc:0.766307\n",
      "[333]\tvalidation_0-logloss:0.217423\tvalidation_0-auc:0.844199\tvalidation_1-logloss:0.242659\tvalidation_1-auc:0.767799\tvalidation_2-logloss:0.243989\tvalidation_2-auc:0.766291\n",
      "[334]\tvalidation_0-logloss:0.21737\tvalidation_0-auc:0.844348\tvalidation_1-logloss:0.242661\tvalidation_1-auc:0.767795\tvalidation_2-logloss:0.243994\tvalidation_2-auc:0.76628\n"
     ]
    },
    {
     "name": "stdout",
     "output_type": "stream",
     "text": [
      "[335]\tvalidation_0-logloss:0.217255\tvalidation_0-auc:0.84463\tvalidation_1-logloss:0.242661\tvalidation_1-auc:0.76779\tvalidation_2-logloss:0.243983\tvalidation_2-auc:0.766316\n",
      "[336]\tvalidation_0-logloss:0.217165\tvalidation_0-auc:0.844853\tvalidation_1-logloss:0.242663\tvalidation_1-auc:0.767782\tvalidation_2-logloss:0.243994\tvalidation_2-auc:0.766304\n",
      "[337]\tvalidation_0-logloss:0.217113\tvalidation_0-auc:0.845014\tvalidation_1-logloss:0.24266\tvalidation_1-auc:0.767776\tvalidation_2-logloss:0.243996\tvalidation_2-auc:0.766299\n",
      "[338]\tvalidation_0-logloss:0.217013\tvalidation_0-auc:0.845293\tvalidation_1-logloss:0.24268\tvalidation_1-auc:0.767722\tvalidation_2-logloss:0.243978\tvalidation_2-auc:0.766346\n",
      "[339]\tvalidation_0-logloss:0.216971\tvalidation_0-auc:0.845402\tvalidation_1-logloss:0.242674\tvalidation_1-auc:0.767739\tvalidation_2-logloss:0.24397\tvalidation_2-auc:0.766381\n",
      "[340]\tvalidation_0-logloss:0.21694\tvalidation_0-auc:0.845462\tvalidation_1-logloss:0.242682\tvalidation_1-auc:0.767703\tvalidation_2-logloss:0.243976\tvalidation_2-auc:0.766358\n",
      "[341]\tvalidation_0-logloss:0.216909\tvalidation_0-auc:0.845535\tvalidation_1-logloss:0.242681\tvalidation_1-auc:0.767715\tvalidation_2-logloss:0.243977\tvalidation_2-auc:0.766362\n",
      "[342]\tvalidation_0-logloss:0.216833\tvalidation_0-auc:0.845738\tvalidation_1-logloss:0.242697\tvalidation_1-auc:0.767666\tvalidation_2-logloss:0.243978\tvalidation_2-auc:0.766331\n",
      "[343]\tvalidation_0-logloss:0.216799\tvalidation_0-auc:0.845821\tvalidation_1-logloss:0.242691\tvalidation_1-auc:0.767695\tvalidation_2-logloss:0.243977\tvalidation_2-auc:0.766345\n",
      "[344]\tvalidation_0-logloss:0.216756\tvalidation_0-auc:0.84592\tvalidation_1-logloss:0.242698\tvalidation_1-auc:0.767652\tvalidation_2-logloss:0.243982\tvalidation_2-auc:0.766344\n",
      "[345]\tvalidation_0-logloss:0.216661\tvalidation_0-auc:0.846107\tvalidation_1-logloss:0.242673\tvalidation_1-auc:0.767727\tvalidation_2-logloss:0.243969\tvalidation_2-auc:0.766371\n",
      "[346]\tvalidation_0-logloss:0.216575\tvalidation_0-auc:0.846304\tvalidation_1-logloss:0.242681\tvalidation_1-auc:0.767723\tvalidation_2-logloss:0.243978\tvalidation_2-auc:0.766357\n",
      "[347]\tvalidation_0-logloss:0.216555\tvalidation_0-auc:0.846342\tvalidation_1-logloss:0.242681\tvalidation_1-auc:0.767736\tvalidation_2-logloss:0.243975\tvalidation_2-auc:0.766378\n",
      "[348]\tvalidation_0-logloss:0.216536\tvalidation_0-auc:0.846392\tvalidation_1-logloss:0.24268\tvalidation_1-auc:0.767754\tvalidation_2-logloss:0.243979\tvalidation_2-auc:0.76637\n",
      "[349]\tvalidation_0-logloss:0.216438\tvalidation_0-auc:0.846636\tvalidation_1-logloss:0.242688\tvalidation_1-auc:0.767748\tvalidation_2-logloss:0.243992\tvalidation_2-auc:0.766321\n",
      "[350]\tvalidation_0-logloss:0.216351\tvalidation_0-auc:0.846838\tvalidation_1-logloss:0.242678\tvalidation_1-auc:0.767732\tvalidation_2-logloss:0.243987\tvalidation_2-auc:0.766336\n",
      "[351]\tvalidation_0-logloss:0.216325\tvalidation_0-auc:0.846898\tvalidation_1-logloss:0.242685\tvalidation_1-auc:0.767709\tvalidation_2-logloss:0.243996\tvalidation_2-auc:0.766301\n",
      "[352]\tvalidation_0-logloss:0.216227\tvalidation_0-auc:0.847087\tvalidation_1-logloss:0.242672\tvalidation_1-auc:0.767745\tvalidation_2-logloss:0.243979\tvalidation_2-auc:0.766355\n",
      "[353]\tvalidation_0-logloss:0.216152\tvalidation_0-auc:0.84722\tvalidation_1-logloss:0.242651\tvalidation_1-auc:0.76781\tvalidation_2-logloss:0.24397\tvalidation_2-auc:0.766387\n",
      "[354]\tvalidation_0-logloss:0.216107\tvalidation_0-auc:0.847349\tvalidation_1-logloss:0.242643\tvalidation_1-auc:0.7678\tvalidation_2-logloss:0.243975\tvalidation_2-auc:0.76637\n",
      "[355]\tvalidation_0-logloss:0.216074\tvalidation_0-auc:0.847408\tvalidation_1-logloss:0.242641\tvalidation_1-auc:0.767788\tvalidation_2-logloss:0.243965\tvalidation_2-auc:0.766376\n",
      "[356]\tvalidation_0-logloss:0.216053\tvalidation_0-auc:0.847469\tvalidation_1-logloss:0.242643\tvalidation_1-auc:0.767784\tvalidation_2-logloss:0.243973\tvalidation_2-auc:0.766354\n",
      "[357]\tvalidation_0-logloss:0.216018\tvalidation_0-auc:0.847546\tvalidation_1-logloss:0.242644\tvalidation_1-auc:0.767789\tvalidation_2-logloss:0.243975\tvalidation_2-auc:0.766359\n",
      "[358]\tvalidation_0-logloss:0.215953\tvalidation_0-auc:0.847706\tvalidation_1-logloss:0.242648\tvalidation_1-auc:0.767772\tvalidation_2-logloss:0.243957\tvalidation_2-auc:0.766432\n",
      "[359]\tvalidation_0-logloss:0.21589\tvalidation_0-auc:0.847882\tvalidation_1-logloss:0.242648\tvalidation_1-auc:0.767759\tvalidation_2-logloss:0.243954\tvalidation_2-auc:0.766441\n",
      "[360]\tvalidation_0-logloss:0.215823\tvalidation_0-auc:0.84806\tvalidation_1-logloss:0.242655\tvalidation_1-auc:0.767718\tvalidation_2-logloss:0.243966\tvalidation_2-auc:0.766414\n",
      "[361]\tvalidation_0-logloss:0.215742\tvalidation_0-auc:0.848279\tvalidation_1-logloss:0.242649\tvalidation_1-auc:0.76774\tvalidation_2-logloss:0.243965\tvalidation_2-auc:0.766459\n",
      "[362]\tvalidation_0-logloss:0.215683\tvalidation_0-auc:0.848423\tvalidation_1-logloss:0.242638\tvalidation_1-auc:0.767776\tvalidation_2-logloss:0.243963\tvalidation_2-auc:0.766473\n",
      "[363]\tvalidation_0-logloss:0.215662\tvalidation_0-auc:0.848484\tvalidation_1-logloss:0.242651\tvalidation_1-auc:0.767724\tvalidation_2-logloss:0.243959\tvalidation_2-auc:0.766498\n",
      "[364]\tvalidation_0-logloss:0.215642\tvalidation_0-auc:0.848527\tvalidation_1-logloss:0.242652\tvalidation_1-auc:0.767722\tvalidation_2-logloss:0.243967\tvalidation_2-auc:0.766474\n",
      "[365]\tvalidation_0-logloss:0.215598\tvalidation_0-auc:0.848654\tvalidation_1-logloss:0.242657\tvalidation_1-auc:0.767688\tvalidation_2-logloss:0.243967\tvalidation_2-auc:0.766467\n",
      "[366]\tvalidation_0-logloss:0.215526\tvalidation_0-auc:0.848845\tvalidation_1-logloss:0.24266\tvalidation_1-auc:0.767674\tvalidation_2-logloss:0.243966\tvalidation_2-auc:0.766476\n",
      "[367]\tvalidation_0-logloss:0.215462\tvalidation_0-auc:0.848989\tvalidation_1-logloss:0.242653\tvalidation_1-auc:0.767717\tvalidation_2-logloss:0.243959\tvalidation_2-auc:0.766514\n",
      "[368]\tvalidation_0-logloss:0.215397\tvalidation_0-auc:0.849155\tvalidation_1-logloss:0.242644\tvalidation_1-auc:0.767761\tvalidation_2-logloss:0.243951\tvalidation_2-auc:0.766553\n",
      "[369]\tvalidation_0-logloss:0.215374\tvalidation_0-auc:0.849209\tvalidation_1-logloss:0.242639\tvalidation_1-auc:0.767784\tvalidation_2-logloss:0.243946\tvalidation_2-auc:0.766556\n",
      "[370]\tvalidation_0-logloss:0.215325\tvalidation_0-auc:0.849339\tvalidation_1-logloss:0.242646\tvalidation_1-auc:0.767758\tvalidation_2-logloss:0.24395\tvalidation_2-auc:0.766547\n",
      "[371]\tvalidation_0-logloss:0.215239\tvalidation_0-auc:0.84959\tvalidation_1-logloss:0.242661\tvalidation_1-auc:0.767715\tvalidation_2-logloss:0.243965\tvalidation_2-auc:0.76648\n",
      "[372]\tvalidation_0-logloss:0.215202\tvalidation_0-auc:0.849693\tvalidation_1-logloss:0.242667\tvalidation_1-auc:0.767693\tvalidation_2-logloss:0.243968\tvalidation_2-auc:0.766453\n",
      "[373]\tvalidation_0-logloss:0.215186\tvalidation_0-auc:0.849722\tvalidation_1-logloss:0.242662\tvalidation_1-auc:0.7677\tvalidation_2-logloss:0.243974\tvalidation_2-auc:0.766433\n",
      "[374]\tvalidation_0-logloss:0.215153\tvalidation_0-auc:0.849784\tvalidation_1-logloss:0.242667\tvalidation_1-auc:0.767687\tvalidation_2-logloss:0.243969\tvalidation_2-auc:0.766437\n",
      "[375]\tvalidation_0-logloss:0.215123\tvalidation_0-auc:0.849835\tvalidation_1-logloss:0.242664\tvalidation_1-auc:0.767697\tvalidation_2-logloss:0.243977\tvalidation_2-auc:0.766413\n",
      "[376]\tvalidation_0-logloss:0.215092\tvalidation_0-auc:0.849911\tvalidation_1-logloss:0.242659\tvalidation_1-auc:0.767729\tvalidation_2-logloss:0.243985\tvalidation_2-auc:0.766388\n",
      "[377]\tvalidation_0-logloss:0.215048\tvalidation_0-auc:0.850015\tvalidation_1-logloss:0.242659\tvalidation_1-auc:0.767728\tvalidation_2-logloss:0.243993\tvalidation_2-auc:0.766352\n",
      "[378]\tvalidation_0-logloss:0.214948\tvalidation_0-auc:0.850284\tvalidation_1-logloss:0.242657\tvalidation_1-auc:0.767735\tvalidation_2-logloss:0.243996\tvalidation_2-auc:0.766351\n",
      "[379]\tvalidation_0-logloss:0.214929\tvalidation_0-auc:0.850327\tvalidation_1-logloss:0.242664\tvalidation_1-auc:0.767711\tvalidation_2-logloss:0.244003\tvalidation_2-auc:0.766328\n",
      "[380]\tvalidation_0-logloss:0.214849\tvalidation_0-auc:0.850472\tvalidation_1-logloss:0.242656\tvalidation_1-auc:0.767716\tvalidation_2-logloss:0.243989\tvalidation_2-auc:0.766371\n",
      "[381]\tvalidation_0-logloss:0.214756\tvalidation_0-auc:0.850669\tvalidation_1-logloss:0.242647\tvalidation_1-auc:0.767729\tvalidation_2-logloss:0.243991\tvalidation_2-auc:0.766362\n",
      "[382]\tvalidation_0-logloss:0.214655\tvalidation_0-auc:0.850904\tvalidation_1-logloss:0.242603\tvalidation_1-auc:0.767878\tvalidation_2-logloss:0.243966\tvalidation_2-auc:0.766418\n"
     ]
    },
    {
     "name": "stdout",
     "output_type": "stream",
     "text": [
      "[383]\tvalidation_0-logloss:0.214568\tvalidation_0-auc:0.851111\tvalidation_1-logloss:0.242599\tvalidation_1-auc:0.76786\tvalidation_2-logloss:0.243983\tvalidation_2-auc:0.76639\n",
      "[384]\tvalidation_0-logloss:0.214534\tvalidation_0-auc:0.851168\tvalidation_1-logloss:0.242599\tvalidation_1-auc:0.76785\tvalidation_2-logloss:0.24399\tvalidation_2-auc:0.766388\n",
      "[385]\tvalidation_0-logloss:0.214518\tvalidation_0-auc:0.851215\tvalidation_1-logloss:0.242594\tvalidation_1-auc:0.767866\tvalidation_2-logloss:0.243994\tvalidation_2-auc:0.766373\n",
      "[386]\tvalidation_0-logloss:0.214463\tvalidation_0-auc:0.851327\tvalidation_1-logloss:0.242597\tvalidation_1-auc:0.767848\tvalidation_2-logloss:0.24401\tvalidation_2-auc:0.766334\n",
      "[387]\tvalidation_0-logloss:0.214385\tvalidation_0-auc:0.85154\tvalidation_1-logloss:0.242595\tvalidation_1-auc:0.767883\tvalidation_2-logloss:0.243999\tvalidation_2-auc:0.766395\n",
      "[388]\tvalidation_0-logloss:0.214364\tvalidation_0-auc:0.8516\tvalidation_1-logloss:0.242593\tvalidation_1-auc:0.767886\tvalidation_2-logloss:0.244001\tvalidation_2-auc:0.766394\n",
      "[389]\tvalidation_0-logloss:0.214334\tvalidation_0-auc:0.851663\tvalidation_1-logloss:0.242587\tvalidation_1-auc:0.767883\tvalidation_2-logloss:0.244003\tvalidation_2-auc:0.766386\n",
      "[390]\tvalidation_0-logloss:0.214292\tvalidation_0-auc:0.851759\tvalidation_1-logloss:0.24259\tvalidation_1-auc:0.767855\tvalidation_2-logloss:0.243993\tvalidation_2-auc:0.766416\n",
      "[391]\tvalidation_0-logloss:0.214241\tvalidation_0-auc:0.851864\tvalidation_1-logloss:0.242587\tvalidation_1-auc:0.767861\tvalidation_2-logloss:0.243986\tvalidation_2-auc:0.766439\n",
      "[392]\tvalidation_0-logloss:0.214123\tvalidation_0-auc:0.852125\tvalidation_1-logloss:0.242554\tvalidation_1-auc:0.767981\tvalidation_2-logloss:0.243982\tvalidation_2-auc:0.766439\n",
      "[393]\tvalidation_0-logloss:0.21409\tvalidation_0-auc:0.85219\tvalidation_1-logloss:0.24255\tvalidation_1-auc:0.767974\tvalidation_2-logloss:0.243987\tvalidation_2-auc:0.766418\n",
      "[394]\tvalidation_0-logloss:0.214055\tvalidation_0-auc:0.852254\tvalidation_1-logloss:0.242551\tvalidation_1-auc:0.767983\tvalidation_2-logloss:0.243997\tvalidation_2-auc:0.766397\n",
      "[395]\tvalidation_0-logloss:0.213989\tvalidation_0-auc:0.852421\tvalidation_1-logloss:0.242559\tvalidation_1-auc:0.767976\tvalidation_2-logloss:0.243984\tvalidation_2-auc:0.766435\n",
      "[396]\tvalidation_0-logloss:0.213963\tvalidation_0-auc:0.852469\tvalidation_1-logloss:0.242558\tvalidation_1-auc:0.767981\tvalidation_2-logloss:0.243978\tvalidation_2-auc:0.766456\n",
      "[397]\tvalidation_0-logloss:0.213945\tvalidation_0-auc:0.852515\tvalidation_1-logloss:0.242557\tvalidation_1-auc:0.767983\tvalidation_2-logloss:0.243982\tvalidation_2-auc:0.766441\n",
      "[398]\tvalidation_0-logloss:0.213914\tvalidation_0-auc:0.852586\tvalidation_1-logloss:0.24256\tvalidation_1-auc:0.767979\tvalidation_2-logloss:0.243984\tvalidation_2-auc:0.766457\n",
      "[399]\tvalidation_0-logloss:0.213881\tvalidation_0-auc:0.852654\tvalidation_1-logloss:0.242566\tvalidation_1-auc:0.767967\tvalidation_2-logloss:0.243997\tvalidation_2-auc:0.766426\n",
      "[400]\tvalidation_0-logloss:0.213771\tvalidation_0-auc:0.852969\tvalidation_1-logloss:0.242554\tvalidation_1-auc:0.768021\tvalidation_2-logloss:0.243986\tvalidation_2-auc:0.766483\n",
      "[401]\tvalidation_0-logloss:0.213734\tvalidation_0-auc:0.853065\tvalidation_1-logloss:0.242562\tvalidation_1-auc:0.768\tvalidation_2-logloss:0.243984\tvalidation_2-auc:0.766493\n",
      "[402]\tvalidation_0-logloss:0.213665\tvalidation_0-auc:0.853227\tvalidation_1-logloss:0.242562\tvalidation_1-auc:0.768022\tvalidation_2-logloss:0.243979\tvalidation_2-auc:0.766507\n",
      "[403]\tvalidation_0-logloss:0.213612\tvalidation_0-auc:0.853393\tvalidation_1-logloss:0.242567\tvalidation_1-auc:0.767996\tvalidation_2-logloss:0.243984\tvalidation_2-auc:0.766505\n",
      "[404]\tvalidation_0-logloss:0.213535\tvalidation_0-auc:0.853551\tvalidation_1-logloss:0.242568\tvalidation_1-auc:0.767981\tvalidation_2-logloss:0.243986\tvalidation_2-auc:0.766478\n",
      "[405]\tvalidation_0-logloss:0.213521\tvalidation_0-auc:0.853581\tvalidation_1-logloss:0.242567\tvalidation_1-auc:0.767976\tvalidation_2-logloss:0.243989\tvalidation_2-auc:0.766466\n",
      "[406]\tvalidation_0-logloss:0.213402\tvalidation_0-auc:0.853931\tvalidation_1-logloss:0.242571\tvalidation_1-auc:0.767986\tvalidation_2-logloss:0.244014\tvalidation_2-auc:0.766364\n",
      "[407]\tvalidation_0-logloss:0.213379\tvalidation_0-auc:0.853982\tvalidation_1-logloss:0.242572\tvalidation_1-auc:0.767974\tvalidation_2-logloss:0.244021\tvalidation_2-auc:0.76635\n",
      "[408]\tvalidation_0-logloss:0.213317\tvalidation_0-auc:0.854137\tvalidation_1-logloss:0.242583\tvalidation_1-auc:0.767915\tvalidation_2-logloss:0.244028\tvalidation_2-auc:0.766319\n",
      "[409]\tvalidation_0-logloss:0.21329\tvalidation_0-auc:0.854192\tvalidation_1-logloss:0.24258\tvalidation_1-auc:0.767924\tvalidation_2-logloss:0.244028\tvalidation_2-auc:0.766302\n",
      "[410]\tvalidation_0-logloss:0.213263\tvalidation_0-auc:0.854244\tvalidation_1-logloss:0.242586\tvalidation_1-auc:0.767895\tvalidation_2-logloss:0.244031\tvalidation_2-auc:0.766294\n",
      "[411]\tvalidation_0-logloss:0.213216\tvalidation_0-auc:0.854325\tvalidation_1-logloss:0.242592\tvalidation_1-auc:0.767891\tvalidation_2-logloss:0.244038\tvalidation_2-auc:0.76629\n",
      "[412]\tvalidation_0-logloss:0.213112\tvalidation_0-auc:0.854614\tvalidation_1-logloss:0.242598\tvalidation_1-auc:0.767887\tvalidation_2-logloss:0.244039\tvalidation_2-auc:0.766301\n",
      "[413]\tvalidation_0-logloss:0.213055\tvalidation_0-auc:0.854752\tvalidation_1-logloss:0.242594\tvalidation_1-auc:0.767912\tvalidation_2-logloss:0.244045\tvalidation_2-auc:0.766284\n",
      "[414]\tvalidation_0-logloss:0.213005\tvalidation_0-auc:0.854856\tvalidation_1-logloss:0.242584\tvalidation_1-auc:0.767937\tvalidation_2-logloss:0.244039\tvalidation_2-auc:0.766311\n",
      "[415]\tvalidation_0-logloss:0.212927\tvalidation_0-auc:0.85508\tvalidation_1-logloss:0.24257\tvalidation_1-auc:0.767966\tvalidation_2-logloss:0.244022\tvalidation_2-auc:0.766363\n",
      "[416]\tvalidation_0-logloss:0.212912\tvalidation_0-auc:0.855118\tvalidation_1-logloss:0.242574\tvalidation_1-auc:0.767959\tvalidation_2-logloss:0.244024\tvalidation_2-auc:0.766364\n",
      "[417]\tvalidation_0-logloss:0.212842\tvalidation_0-auc:0.855283\tvalidation_1-logloss:0.24258\tvalidation_1-auc:0.767946\tvalidation_2-logloss:0.244009\tvalidation_2-auc:0.766427\n",
      "[418]\tvalidation_0-logloss:0.212816\tvalidation_0-auc:0.855342\tvalidation_1-logloss:0.242587\tvalidation_1-auc:0.767926\tvalidation_2-logloss:0.244009\tvalidation_2-auc:0.766431\n",
      "[419]\tvalidation_0-logloss:0.212773\tvalidation_0-auc:0.855437\tvalidation_1-logloss:0.242583\tvalidation_1-auc:0.767965\tvalidation_2-logloss:0.244006\tvalidation_2-auc:0.76644\n",
      "[420]\tvalidation_0-logloss:0.212715\tvalidation_0-auc:0.855611\tvalidation_1-logloss:0.242576\tvalidation_1-auc:0.768009\tvalidation_2-logloss:0.24401\tvalidation_2-auc:0.766428\n",
      "[421]\tvalidation_0-logloss:0.21264\tvalidation_0-auc:0.855774\tvalidation_1-logloss:0.24256\tvalidation_1-auc:0.768069\tvalidation_2-logloss:0.243983\tvalidation_2-auc:0.766505\n",
      "[422]\tvalidation_0-logloss:0.212567\tvalidation_0-auc:0.856005\tvalidation_1-logloss:0.242546\tvalidation_1-auc:0.768142\tvalidation_2-logloss:0.243978\tvalidation_2-auc:0.766524\n",
      "[423]\tvalidation_0-logloss:0.212522\tvalidation_0-auc:0.856102\tvalidation_1-logloss:0.242557\tvalidation_1-auc:0.76811\tvalidation_2-logloss:0.243979\tvalidation_2-auc:0.766532\n",
      "[424]\tvalidation_0-logloss:0.212489\tvalidation_0-auc:0.856179\tvalidation_1-logloss:0.24256\tvalidation_1-auc:0.768103\tvalidation_2-logloss:0.243984\tvalidation_2-auc:0.766509\n",
      "[425]\tvalidation_0-logloss:0.212472\tvalidation_0-auc:0.856215\tvalidation_1-logloss:0.242557\tvalidation_1-auc:0.768118\tvalidation_2-logloss:0.243983\tvalidation_2-auc:0.766508\n",
      "[426]\tvalidation_0-logloss:0.212451\tvalidation_0-auc:0.856254\tvalidation_1-logloss:0.242563\tvalidation_1-auc:0.768103\tvalidation_2-logloss:0.243987\tvalidation_2-auc:0.766493\n",
      "[427]\tvalidation_0-logloss:0.212399\tvalidation_0-auc:0.856381\tvalidation_1-logloss:0.242568\tvalidation_1-auc:0.768074\tvalidation_2-logloss:0.243979\tvalidation_2-auc:0.766513\n",
      "[428]\tvalidation_0-logloss:0.212324\tvalidation_0-auc:0.856567\tvalidation_1-logloss:0.242576\tvalidation_1-auc:0.768041\tvalidation_2-logloss:0.24398\tvalidation_2-auc:0.766512\n",
      "[429]\tvalidation_0-logloss:0.212315\tvalidation_0-auc:0.85659\tvalidation_1-logloss:0.242569\tvalidation_1-auc:0.768061\tvalidation_2-logloss:0.243982\tvalidation_2-auc:0.766501\n",
      "[430]\tvalidation_0-logloss:0.212236\tvalidation_0-auc:0.856811\tvalidation_1-logloss:0.242573\tvalidation_1-auc:0.768047\tvalidation_2-logloss:0.244002\tvalidation_2-auc:0.766445\n"
     ]
    },
    {
     "name": "stdout",
     "output_type": "stream",
     "text": [
      "[431]\tvalidation_0-logloss:0.212201\tvalidation_0-auc:0.856888\tvalidation_1-logloss:0.242581\tvalidation_1-auc:0.768032\tvalidation_2-logloss:0.244017\tvalidation_2-auc:0.766401\n",
      "[432]\tvalidation_0-logloss:0.212104\tvalidation_0-auc:0.857113\tvalidation_1-logloss:0.242576\tvalidation_1-auc:0.768032\tvalidation_2-logloss:0.244012\tvalidation_2-auc:0.766426\n",
      "[433]\tvalidation_0-logloss:0.212015\tvalidation_0-auc:0.857386\tvalidation_1-logloss:0.242575\tvalidation_1-auc:0.768026\tvalidation_2-logloss:0.244013\tvalidation_2-auc:0.766424\n",
      "[434]\tvalidation_0-logloss:0.211989\tvalidation_0-auc:0.857431\tvalidation_1-logloss:0.242583\tvalidation_1-auc:0.767998\tvalidation_2-logloss:0.244022\tvalidation_2-auc:0.766393\n",
      "[435]\tvalidation_0-logloss:0.211968\tvalidation_0-auc:0.857486\tvalidation_1-logloss:0.242586\tvalidation_1-auc:0.768\tvalidation_2-logloss:0.244022\tvalidation_2-auc:0.766387\n",
      "[436]\tvalidation_0-logloss:0.211882\tvalidation_0-auc:0.857718\tvalidation_1-logloss:0.242577\tvalidation_1-auc:0.768035\tvalidation_2-logloss:0.244014\tvalidation_2-auc:0.76641\n",
      "[437]\tvalidation_0-logloss:0.211838\tvalidation_0-auc:0.857815\tvalidation_1-logloss:0.242587\tvalidation_1-auc:0.76801\tvalidation_2-logloss:0.24401\tvalidation_2-auc:0.766412\n",
      "[438]\tvalidation_0-logloss:0.211821\tvalidation_0-auc:0.857845\tvalidation_1-logloss:0.242591\tvalidation_1-auc:0.767995\tvalidation_2-logloss:0.244018\tvalidation_2-auc:0.766391\n",
      "[439]\tvalidation_0-logloss:0.21175\tvalidation_0-auc:0.857997\tvalidation_1-logloss:0.242592\tvalidation_1-auc:0.767995\tvalidation_2-logloss:0.244016\tvalidation_2-auc:0.766387\n",
      "[440]\tvalidation_0-logloss:0.211682\tvalidation_0-auc:0.858189\tvalidation_1-logloss:0.242591\tvalidation_1-auc:0.767969\tvalidation_2-logloss:0.244029\tvalidation_2-auc:0.766352\n",
      "[441]\tvalidation_0-logloss:0.211648\tvalidation_0-auc:0.858275\tvalidation_1-logloss:0.242599\tvalidation_1-auc:0.767948\tvalidation_2-logloss:0.244036\tvalidation_2-auc:0.766341\n",
      "[442]\tvalidation_0-logloss:0.211565\tvalidation_0-auc:0.858463\tvalidation_1-logloss:0.242611\tvalidation_1-auc:0.767926\tvalidation_2-logloss:0.244022\tvalidation_2-auc:0.766412\n",
      "[443]\tvalidation_0-logloss:0.211511\tvalidation_0-auc:0.858622\tvalidation_1-logloss:0.24261\tvalidation_1-auc:0.767931\tvalidation_2-logloss:0.244021\tvalidation_2-auc:0.766396\n",
      "[444]\tvalidation_0-logloss:0.211494\tvalidation_0-auc:0.858662\tvalidation_1-logloss:0.242619\tvalidation_1-auc:0.7679\tvalidation_2-logloss:0.244026\tvalidation_2-auc:0.766379\n",
      "[445]\tvalidation_0-logloss:0.211454\tvalidation_0-auc:0.858752\tvalidation_1-logloss:0.242613\tvalidation_1-auc:0.76795\tvalidation_2-logloss:0.24403\tvalidation_2-auc:0.766355\n",
      "[446]\tvalidation_0-logloss:0.211386\tvalidation_0-auc:0.858908\tvalidation_1-logloss:0.242598\tvalidation_1-auc:0.767984\tvalidation_2-logloss:0.244039\tvalidation_2-auc:0.766334\n",
      "[447]\tvalidation_0-logloss:0.211307\tvalidation_0-auc:0.859061\tvalidation_1-logloss:0.242583\tvalidation_1-auc:0.768012\tvalidation_2-logloss:0.244047\tvalidation_2-auc:0.766301\n",
      "[448]\tvalidation_0-logloss:0.211253\tvalidation_0-auc:0.85917\tvalidation_1-logloss:0.242586\tvalidation_1-auc:0.767981\tvalidation_2-logloss:0.244043\tvalidation_2-auc:0.766307\n",
      "[449]\tvalidation_0-logloss:0.211227\tvalidation_0-auc:0.859232\tvalidation_1-logloss:0.24259\tvalidation_1-auc:0.76798\tvalidation_2-logloss:0.244042\tvalidation_2-auc:0.766304\n",
      "[450]\tvalidation_0-logloss:0.21117\tvalidation_0-auc:0.859368\tvalidation_1-logloss:0.242594\tvalidation_1-auc:0.767974\tvalidation_2-logloss:0.244049\tvalidation_2-auc:0.766285\n",
      "[451]\tvalidation_0-logloss:0.211079\tvalidation_0-auc:0.859563\tvalidation_1-logloss:0.242583\tvalidation_1-auc:0.76801\tvalidation_2-logloss:0.244037\tvalidation_2-auc:0.766316\n",
      "[452]\tvalidation_0-logloss:0.211006\tvalidation_0-auc:0.859745\tvalidation_1-logloss:0.2426\tvalidation_1-auc:0.767981\tvalidation_2-logloss:0.244035\tvalidation_2-auc:0.766342\n",
      "[453]\tvalidation_0-logloss:0.210996\tvalidation_0-auc:0.859766\tvalidation_1-logloss:0.242598\tvalidation_1-auc:0.767978\tvalidation_2-logloss:0.244039\tvalidation_2-auc:0.766325\n",
      "[454]\tvalidation_0-logloss:0.210935\tvalidation_0-auc:0.859911\tvalidation_1-logloss:0.242592\tvalidation_1-auc:0.768004\tvalidation_2-logloss:0.24405\tvalidation_2-auc:0.766293\n",
      "[455]\tvalidation_0-logloss:0.210923\tvalidation_0-auc:0.859937\tvalidation_1-logloss:0.242593\tvalidation_1-auc:0.768005\tvalidation_2-logloss:0.244049\tvalidation_2-auc:0.7663\n",
      "[456]\tvalidation_0-logloss:0.210877\tvalidation_0-auc:0.860071\tvalidation_1-logloss:0.242589\tvalidation_1-auc:0.76803\tvalidation_2-logloss:0.244042\tvalidation_2-auc:0.766319\n",
      "[457]\tvalidation_0-logloss:0.210851\tvalidation_0-auc:0.860113\tvalidation_1-logloss:0.242588\tvalidation_1-auc:0.768033\tvalidation_2-logloss:0.244045\tvalidation_2-auc:0.766319\n",
      "[458]\tvalidation_0-logloss:0.210813\tvalidation_0-auc:0.860188\tvalidation_1-logloss:0.242594\tvalidation_1-auc:0.768024\tvalidation_2-logloss:0.244045\tvalidation_2-auc:0.766328\n",
      "[459]\tvalidation_0-logloss:0.210779\tvalidation_0-auc:0.860242\tvalidation_1-logloss:0.242585\tvalidation_1-auc:0.768034\tvalidation_2-logloss:0.244047\tvalidation_2-auc:0.766317\n",
      "[460]\tvalidation_0-logloss:0.210683\tvalidation_0-auc:0.86049\tvalidation_1-logloss:0.24258\tvalidation_1-auc:0.768063\tvalidation_2-logloss:0.244051\tvalidation_2-auc:0.766326\n",
      "[461]\tvalidation_0-logloss:0.210604\tvalidation_0-auc:0.860714\tvalidation_1-logloss:0.242584\tvalidation_1-auc:0.768044\tvalidation_2-logloss:0.244055\tvalidation_2-auc:0.766323\n",
      "[462]\tvalidation_0-logloss:0.210577\tvalidation_0-auc:0.86077\tvalidation_1-logloss:0.242588\tvalidation_1-auc:0.76804\tvalidation_2-logloss:0.244061\tvalidation_2-auc:0.766309\n",
      "[463]\tvalidation_0-logloss:0.210544\tvalidation_0-auc:0.860833\tvalidation_1-logloss:0.24258\tvalidation_1-auc:0.76807\tvalidation_2-logloss:0.24406\tvalidation_2-auc:0.76632\n",
      "[464]\tvalidation_0-logloss:0.210464\tvalidation_0-auc:0.861031\tvalidation_1-logloss:0.242567\tvalidation_1-auc:0.76809\tvalidation_2-logloss:0.244055\tvalidation_2-auc:0.766328\n",
      "[465]\tvalidation_0-logloss:0.210422\tvalidation_0-auc:0.861146\tvalidation_1-logloss:0.242565\tvalidation_1-auc:0.768086\tvalidation_2-logloss:0.244063\tvalidation_2-auc:0.766297\n",
      "[466]\tvalidation_0-logloss:0.21033\tvalidation_0-auc:0.861366\tvalidation_1-logloss:0.242555\tvalidation_1-auc:0.76813\tvalidation_2-logloss:0.244076\tvalidation_2-auc:0.766258\n",
      "[467]\tvalidation_0-logloss:0.210293\tvalidation_0-auc:0.861459\tvalidation_1-logloss:0.242567\tvalidation_1-auc:0.768097\tvalidation_2-logloss:0.244076\tvalidation_2-auc:0.766251\n",
      "[468]\tvalidation_0-logloss:0.210275\tvalidation_0-auc:0.861483\tvalidation_1-logloss:0.242568\tvalidation_1-auc:0.768094\tvalidation_2-logloss:0.244075\tvalidation_2-auc:0.766261\n",
      "[469]\tvalidation_0-logloss:0.21025\tvalidation_0-auc:0.861549\tvalidation_1-logloss:0.242565\tvalidation_1-auc:0.768105\tvalidation_2-logloss:0.244082\tvalidation_2-auc:0.766246\n",
      "Stopping. Best iteration:\n",
      "[369]\tvalidation_0-logloss:0.215374\tvalidation_0-auc:0.849209\tvalidation_1-logloss:0.242639\tvalidation_1-auc:0.767784\tvalidation_2-logloss:0.243946\tvalidation_2-auc:0.766556\n",
      "\n"
     ]
    },
    {
     "data": {
      "text/plain": [
       "XGBClassifier(base_score=0.5, booster='gbtree', colsample_bylevel=1,\n",
       "       colsample_bytree=1, gamma=3, learning_rate=0.05, max_delta_step=0,\n",
       "       max_depth=6, min_child_weight=1, missing=None, n_estimators=1000,\n",
       "       n_jobs=-1, nthread=None, objective='binary:logistic',\n",
       "       random_state=0, reg_alpha=0.01, reg_lambda=1, scale_pos_weight=1,\n",
       "       seed=None, silent=True, subsample=1, tree_method='hist')"
      ]
     },
     "execution_count": 58,
     "metadata": {},
     "output_type": "execute_result"
    }
   ],
   "source": [
    "xgb_model.fit(X_train, y_train\n",
    "        ,eval_set=[(X_train, y_train),(X_test, y_test), (X_valid, y_valid)]\n",
    "        ,eval_metric=['logloss','auc']\n",
    "        ,early_stopping_rounds = 100   \n",
    "        ,verbose=True)\n"
   ]
  },
  {
   "cell_type": "code",
   "execution_count": 32,
   "metadata": {
    "ExecuteTime": {
     "end_time": "2019-04-06T21:57:47.277093Z",
     "start_time": "2019-04-06T21:57:47.105552Z"
    }
   },
   "outputs": [
    {
     "data": {
      "text/plain": [
       "<matplotlib.axes._subplots.AxesSubplot at 0x23980025ba8>"
      ]
     },
     "execution_count": 32,
     "metadata": {},
     "output_type": "execute_result"
    },
    {
     "data": {
      "image/png": "[encoded data removed]",
      "text/plain": [
       "<Figure size 432x288 with 1 Axes>"
      ]
     },
     "metadata": {
      "needs_background": "light"
     },
     "output_type": "display_data"
    }
   ],
   "source": [
    "evals_result = xgb_model.evals_result()\n",
    "evals = pd.DataFrame(evals_result['validation_0']['logloss'], columns  = ['TrainLogLoss'])\n",
    "evals['TestLogLoss'] = evals_result['validation_1']['logloss']\n",
    "evals['ValLogLoss'] = evals_result['validation_2']['logloss']\n",
    "evals.plot()"
   ]
  },
  {
   "cell_type": "code",
   "execution_count": 33,
   "metadata": {
    "ExecuteTime": {
     "end_time": "2019-04-06T21:57:52.650076Z",
     "start_time": "2019-04-06T21:57:52.532745Z"
    }
   },
   "outputs": [
    {
     "data": {
      "text/plain": [
       "<matplotlib.axes._subplots.AxesSubplot at 0x23980afc860>"
      ]
     },
     "execution_count": 33,
     "metadata": {},
     "output_type": "execute_result"
    },
    {
     "data": {
      "image/png": "[encoded data removed]",
      "text/plain": [
       "<Figure size 432x288 with 1 Axes>"
      ]
     },
     "metadata": {
      "needs_background": "light"
     },
     "output_type": "display_data"
    }
   ],
   "source": [
    "auc = pd.DataFrame(evals_result['validation_0']['auc'], columns  = ['Trainauc'])\n",
    "auc['Testauc'] = evals_result['validation_1']['auc']\n",
    "auc['Valauc'] = evals_result['validation_2']['auc']\n",
    "auc.plot()"
   ]
  },
  {
   "cell_type": "code",
   "execution_count": 36,
   "metadata": {
    "ExecuteTime": {
     "end_time": "2019-04-06T22:03:11.705736Z",
     "start_time": "2019-04-06T22:03:11.703724Z"
    }
   },
   "outputs": [],
   "source": [
    "fitted_models.append(xgb_model)"
   ]
  },
  {
   "cell_type": "code",
   "execution_count": 41,
   "metadata": {
    "ExecuteTime": {
     "end_time": "2019-04-06T22:04:04.061789Z",
     "start_time": "2019-04-06T22:04:04.057775Z"
    }
   },
   "outputs": [],
   "source": [
    "def test_sub(full_pipeline,df_pv_app,fitted_models):\n",
    "    df_test = pd.read_csv('application_test.csv')\n",
    "    df_test['DAYS_EMPLOYED'].replace({365243: np.nan}, inplace = True)    \n",
    "    df_test['DAYS_BIRTH'] = df_test['DAYS_BIRTH']/-365\n",
    "    \n",
    "    \n",
    "    tst_ind = df_test['SK_ID_CURR']\n",
    "    test = pd.DataFrame(full_pipeline.transform(df_test), index = tst_ind)\n",
    "    test = test.merge(df_pv_app, how = 'left', on = 'SK_ID_CURR')\n",
    "    test.fillna(0,inplace = True)\n",
    "    pred = fitted_models[5].predict_proba(test)[:,1]\n",
    "    sub = pd.DataFrame(tst_ind)\n",
    "    sub['TARGET'] = pred\n",
    "    sub.to_csv('submission.csv', index = False)\n"
   ]
  },
  {
   "cell_type": "code",
   "execution_count": 44,
   "metadata": {
    "ExecuteTime": {
     "end_time": "2019-04-06T22:05:34.504362Z",
     "start_time": "2019-04-06T22:05:33.945224Z"
    }
   },
   "outputs": [
    {
     "name": "stdout",
     "output_type": "stream",
     "text": [
      "fileName           date                 description                                                                    status    publicScore  privateScore  \n",
      "-----------------  -------------------  -----------------------------------------------------------------------------  --------  -----------  ------------  \n",
      "submission.csv     2019-04-06 22:05:28  XGBoost - Hist                                                                 complete  0.74886      0.75185       \n",
      "submission.csv     2019-04-06 08:47:56  LogR - With Previous APP Data(actual2)                                         complete  0.74340      0.74151       \n",
      "submission.csv     2019-04-06 08:47:22  LogR - With Previous APP Data(actual)                                          complete  0.60422      0.61406       \n",
      "submission.csv     2019-04-06 08:47:12  LogR - With Previous APP Data                                                  complete  0.60422      0.61406       \n",
      "submission.csv     2019-04-06 08:46:56  RF - With Previous APP Data                                                    complete  0.60422      0.61406       \n",
      "submission.csv     2019-04-06 08:45:15  GBC - With Previous APP Data                                                   complete  0.74351      0.74146       \n",
      "submissions_n.csv  2019-04-06 01:05:17  Logistic Weighted                                                              complete  0.76774      0.77153       \n",
      "submission.csv     2019-04-05 21:48:09  GBM                                                                            complete  0.73539      0.73204       \n",
      "submission.csv     2019-04-05 21:30:37  Logistic with feature selection Weighted                                       complete  0.70774      0.70672       \n",
      "submission.csv     2019-04-05 19:04:35  Weighted                                                                       complete  0.70506      0.71345       \n",
      "submission.csv     2019-04-05 16:24:30  Loigistic Weighted w/ app_pre, CC, & PI                                        complete  0.74781      0.74642       \n",
      "submission.csv     2019-04-05 16:00:52  DL w/ app_pre, CC, & PI Actual Start = 64, optimizer = sgd, last  = 1,softmax  complete  0.72814      0.72506       \n",
      "submission.csv     2019-04-05 15:44:03  DL w/ app_pre, CC, & PI Actual Start = 64                                      complete  0.73867      0.73843       \n",
      "submission.csv     2019-04-05 15:40:08  DL w/ app_pre, CC, & PI Actual Start = 500                                     complete  0.71452      0.72080       \n",
      "submission.csv     2019-04-05 15:31:11  DL w/ app_pre, CC, & PI                                                        complete  0.69752      0.71244       \n",
      "submission.csv     2019-04-04 22:53:15  Logistic Weighted                                                              complete  0.74388      0.74172       \n",
      "submission.csv     2019-04-04 22:33:19  Weighted                                                                       complete  0.73632      0.73594       \n",
      "submission.csv     2019-04-04 19:55:38  test                                                                           complete  0.73145      0.73017       \n",
      "submission.csv     2019-04-04 05:47:25  None                                                                           complete  0.74284      0.74172       \n",
      "submission.csv     2019-04-04 04:45:42  Logistic Personal                                                              complete  0.71604      0.71466       \n"
     ]
    }
   ],
   "source": [
    "#test_sub(full_pipeline,df_pv_app,fitted_models)\n",
    "#!kaggle competitions submit -c home-credit-default-risk -f submission.csv -m \"XGBoost - Hist\"\n",
    "!kaggle competitions submissions home-credit-default-risk"
   ]
  },
  {
   "cell_type": "code",
   "execution_count": null,
   "metadata": {},
   "outputs": [],
   "source": []
  }
 ],
 "metadata": {
  "kernelspec": {
   "display_name": "Python 3",
   "language": "python",
   "name": "python3"
  },
  "language_info": {
   "codemirror_mode": {
    "name": "ipython",
    "version": 3
   },
   "file_extension": ".py",
   "mimetype": "text/x-python",
   "name": "python",
   "nbconvert_exporter": "python",
   "pygments_lexer": "ipython3",
   "version": "3.6.7"
  },
  "toc": {
   "base_numbering": 1,
   "nav_menu": {},
   "number_sections": true,
   "sideBar": true,
   "skip_h1_title": false,
   "title_cell": "Table of Contents",
   "title_sidebar": "Contents",
   "toc_cell": false,
   "toc_position": {},
   "toc_section_display": true,
   "toc_window_display": false
  }
 },
 "nbformat": 4,
 "nbformat_minor": 2
}
